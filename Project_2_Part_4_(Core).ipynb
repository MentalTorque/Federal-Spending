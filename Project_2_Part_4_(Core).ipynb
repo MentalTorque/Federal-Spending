{
  "nbformat": 4,
  "nbformat_minor": 0,
  "metadata": {
    "colab": {
      "name": "Project 2 - Part  4 (Core)",
      "provenance": [],
      "collapsed_sections": [
        "XrW3l2wuNejO"
      ]
    },
    "kernelspec": {
      "name": "python3",
      "display_name": "Python 3"
    },
    "language_info": {
      "name": "python"
    }
  },
  "cells": [
    {
      "cell_type": "code",
      "source": [
        "# Nicholas M. Staich\n",
        "\n",
        "from google.colab import drive\n",
        "drive.mount('/content/drive')"
      ],
      "metadata": {
        "colab": {
          "base_uri": "https://localhost:8080/"
        },
        "id": "iUzHM_tLuX9t",
        "outputId": "26f24a84-de8f-49ee-911b-2f4e5f3a33f1"
      },
      "execution_count": 2,
      "outputs": [
        {
          "output_type": "stream",
          "name": "stdout",
          "text": [
            "Mounted at /content/drive\n"
          ]
        }
      ]
    },
    {
      "cell_type": "markdown",
      "source": [
        "2) Brief description of data\n",
        "\n",
        "Spending by federal agency by statre and office.\n",
        "\n",
        "3) What is the target?\n",
        "\n",
        "Send by org\n",
        "\n",
        "4) Is this a classification or regression problem?\n",
        "\n",
        "* Classification\n",
        "\n",
        "\n",
        "5) How many features?\n",
        "\n",
        "* 5\n",
        "\n",
        "6) How many rows of data.\n",
        "\n",
        "* 6,557\n",
        "\n",
        "7) What, if any, challenges do your foresee in cleaning, exploring, or modeling with this dataset?\n",
        "\n",
        "* Properly structuring the data on this one is my major concern.  I am interested to see what I can do with this data."
      ],
      "metadata": {
        "id": "-wI5VDs00pxD"
      }
    },
    {
      "cell_type": "markdown",
      "source": [
        "#Project 2 - Part 2 (Core)"
      ],
      "metadata": {
        "id": "jEM2EiXPVPEZ"
      }
    },
    {
      "cell_type": "markdown",
      "source": [
        "To meet the requirements for this week you must have:\n",
        "\n",
        "-deleted unnecessary columns\n",
        "\n",
        "-deleted duplicate rows\n",
        "\n",
        "-identified and addressed missing values \n",
        "\n",
        "-identified and corrected inconsistencies in data for categorical values (i.e. Cat, cat, cats)\n",
        "\n",
        "-produced univariate visuals for the target and all features\n",
        "\n",
        "-identified outliers\n",
        "\n",
        "-produce a correlation heatmap and identify any moderate or strong correlations between your target and your features and/or between one feature and another\n",
        "\n",
        "-clearly commented all of your cleaning steps and described any decisions you made  (Note: During the final stack of the program, you will be making a presentation for a technical audience that includes your decisions and process in the cleaning steps. The more notes you take now, the easier that presentation will be. To clarify, that presentation is NOT due now.)\n",
        "\n",
        "Note that you should start working on your in depth EDA and making multivariate visuals for the upcoming part 3 of this assignment once you have submitted all tasks and your belt exam for this stack.\n",
        "\n",
        "Commit your file to your Github repository and submit the link below.\n"
      ],
      "metadata": {
        "id": "jVJfQWF4qM--"
      }
    },
    {
      "cell_type": "code",
      "source": [
        "import pandas as pd\n",
        "import numpy as np\n",
        "\n",
        "import matplotlib.pyplot as plt\n",
        "import seaborn as sns\n",
        "from seaborn import heatmap\n",
        "\n",
        "from sklearn.metrics import mean_squared_error, classification_report, confusion_matrix\n",
        "from sklearn.preprocessing import StandardScaler\n",
        "from sklearn.model_selection import train_test_split\n",
        "from sklearn import metrics\n",
        "from sklearn.metrics import silhouette_score, classification_report, confusion_matrix\n",
        "from sklearn.cluster import AgglomerativeClustering\n",
        "from sklearn.decomposition import PCA\n",
        "from sklearn.cluster import KMeans\n",
        "import tensorflow.keras as keras\n",
        "from keras.models import Sequential\n",
        "from keras.layers import Dense, Dropout\n",
        "from sklearn.preprocessing import OneHotEncoder, StandardScaler\n",
        "from sklearn.compose import make_column_transformer, make_column_selector\n",
        "from sklearn.pipeline import make_pipeline\n",
        "from sklearn.impute import SimpleImputer\n",
        "from tensorflow.keras.callbacks import EarlyStopping\n"
      ],
      "metadata": {
        "id": "8i3tsQA04Oav"
      },
      "execution_count": 128,
      "outputs": []
    },
    {
      "cell_type": "markdown",
      "source": [
        "## Federal Spending Data Set\n",
        "\n"
      ],
      "metadata": {
        "id": "Qbdra91PyHMw"
      }
    },
    {
      "cell_type": "code",
      "source": [
        "#Grab the data\n",
        "data_source_2 = ('/content/drive/MyDrive/Coding Dojo/Data USA Cart.csv')\n",
        "\n",
        "df = pd.read_csv(data_source_2)\n",
        "df.head()"
      ],
      "metadata": {
        "id": "u3pIchpVuWZ7",
        "colab": {
          "base_uri": "https://localhost:8080/",
          "height": 206
        },
        "outputId": "3e0b8765-0913-466c-9869-f20b4fa2797a"
      },
      "execution_count": 51,
      "outputs": [
        {
          "output_type": "execute_result",
          "data": {
            "text/plain": [
              "  ID Geography             Geography ID Agency  \\\n",
              "0    04000US11  District of Columbia      1100   \n",
              "1    04000US17              Illinois      1100   \n",
              "2    04000US36              New York      1100   \n",
              "3    04000US51              Virginia      1100   \n",
              "4    04000US04               Arizona      1127   \n",
              "\n",
              "                                       Agency  Obligation Amount (2017)  \n",
              "0           Executive Office of the President               63125124.30  \n",
              "1           Executive Office of the President                 436400.70  \n",
              "2           Executive Office of the President                 -25400.44  \n",
              "3           Executive Office of the President                 114026.54  \n",
              "4  Office of the National Drug Control Policy                9700578.94  "
            ],
            "text/html": [
              "\n",
              "  <div id=\"df-ff1d3762-a6cf-4515-a738-1451b62d8549\">\n",
              "    <div class=\"colab-df-container\">\n",
              "      <div>\n",
              "<style scoped>\n",
              "    .dataframe tbody tr th:only-of-type {\n",
              "        vertical-align: middle;\n",
              "    }\n",
              "\n",
              "    .dataframe tbody tr th {\n",
              "        vertical-align: top;\n",
              "    }\n",
              "\n",
              "    .dataframe thead th {\n",
              "        text-align: right;\n",
              "    }\n",
              "</style>\n",
              "<table border=\"1\" class=\"dataframe\">\n",
              "  <thead>\n",
              "    <tr style=\"text-align: right;\">\n",
              "      <th></th>\n",
              "      <th>ID Geography</th>\n",
              "      <th>Geography</th>\n",
              "      <th>ID Agency</th>\n",
              "      <th>Agency</th>\n",
              "      <th>Obligation Amount (2017)</th>\n",
              "    </tr>\n",
              "  </thead>\n",
              "  <tbody>\n",
              "    <tr>\n",
              "      <th>0</th>\n",
              "      <td>04000US11</td>\n",
              "      <td>District of Columbia</td>\n",
              "      <td>1100</td>\n",
              "      <td>Executive Office of the President</td>\n",
              "      <td>63125124.30</td>\n",
              "    </tr>\n",
              "    <tr>\n",
              "      <th>1</th>\n",
              "      <td>04000US17</td>\n",
              "      <td>Illinois</td>\n",
              "      <td>1100</td>\n",
              "      <td>Executive Office of the President</td>\n",
              "      <td>436400.70</td>\n",
              "    </tr>\n",
              "    <tr>\n",
              "      <th>2</th>\n",
              "      <td>04000US36</td>\n",
              "      <td>New York</td>\n",
              "      <td>1100</td>\n",
              "      <td>Executive Office of the President</td>\n",
              "      <td>-25400.44</td>\n",
              "    </tr>\n",
              "    <tr>\n",
              "      <th>3</th>\n",
              "      <td>04000US51</td>\n",
              "      <td>Virginia</td>\n",
              "      <td>1100</td>\n",
              "      <td>Executive Office of the President</td>\n",
              "      <td>114026.54</td>\n",
              "    </tr>\n",
              "    <tr>\n",
              "      <th>4</th>\n",
              "      <td>04000US04</td>\n",
              "      <td>Arizona</td>\n",
              "      <td>1127</td>\n",
              "      <td>Office of the National Drug Control Policy</td>\n",
              "      <td>9700578.94</td>\n",
              "    </tr>\n",
              "  </tbody>\n",
              "</table>\n",
              "</div>\n",
              "      <button class=\"colab-df-convert\" onclick=\"convertToInteractive('df-ff1d3762-a6cf-4515-a738-1451b62d8549')\"\n",
              "              title=\"Convert this dataframe to an interactive table.\"\n",
              "              style=\"display:none;\">\n",
              "        \n",
              "  <svg xmlns=\"http://www.w3.org/2000/svg\" height=\"24px\"viewBox=\"0 0 24 24\"\n",
              "       width=\"24px\">\n",
              "    <path d=\"M0 0h24v24H0V0z\" fill=\"none\"/>\n",
              "    <path d=\"M18.56 5.44l.94 2.06.94-2.06 2.06-.94-2.06-.94-.94-2.06-.94 2.06-2.06.94zm-11 1L8.5 8.5l.94-2.06 2.06-.94-2.06-.94L8.5 2.5l-.94 2.06-2.06.94zm10 10l.94 2.06.94-2.06 2.06-.94-2.06-.94-.94-2.06-.94 2.06-2.06.94z\"/><path d=\"M17.41 7.96l-1.37-1.37c-.4-.4-.92-.59-1.43-.59-.52 0-1.04.2-1.43.59L10.3 9.45l-7.72 7.72c-.78.78-.78 2.05 0 2.83L4 21.41c.39.39.9.59 1.41.59.51 0 1.02-.2 1.41-.59l7.78-7.78 2.81-2.81c.8-.78.8-2.07 0-2.86zM5.41 20L4 18.59l7.72-7.72 1.47 1.35L5.41 20z\"/>\n",
              "  </svg>\n",
              "      </button>\n",
              "      \n",
              "  <style>\n",
              "    .colab-df-container {\n",
              "      display:flex;\n",
              "      flex-wrap:wrap;\n",
              "      gap: 12px;\n",
              "    }\n",
              "\n",
              "    .colab-df-convert {\n",
              "      background-color: #E8F0FE;\n",
              "      border: none;\n",
              "      border-radius: 50%;\n",
              "      cursor: pointer;\n",
              "      display: none;\n",
              "      fill: #1967D2;\n",
              "      height: 32px;\n",
              "      padding: 0 0 0 0;\n",
              "      width: 32px;\n",
              "    }\n",
              "\n",
              "    .colab-df-convert:hover {\n",
              "      background-color: #E2EBFA;\n",
              "      box-shadow: 0px 1px 2px rgba(60, 64, 67, 0.3), 0px 1px 3px 1px rgba(60, 64, 67, 0.15);\n",
              "      fill: #174EA6;\n",
              "    }\n",
              "\n",
              "    [theme=dark] .colab-df-convert {\n",
              "      background-color: #3B4455;\n",
              "      fill: #D2E3FC;\n",
              "    }\n",
              "\n",
              "    [theme=dark] .colab-df-convert:hover {\n",
              "      background-color: #434B5C;\n",
              "      box-shadow: 0px 1px 3px 1px rgba(0, 0, 0, 0.15);\n",
              "      filter: drop-shadow(0px 1px 2px rgba(0, 0, 0, 0.3));\n",
              "      fill: #FFFFFF;\n",
              "    }\n",
              "  </style>\n",
              "\n",
              "      <script>\n",
              "        const buttonEl =\n",
              "          document.querySelector('#df-ff1d3762-a6cf-4515-a738-1451b62d8549 button.colab-df-convert');\n",
              "        buttonEl.style.display =\n",
              "          google.colab.kernel.accessAllowed ? 'block' : 'none';\n",
              "\n",
              "        async function convertToInteractive(key) {\n",
              "          const element = document.querySelector('#df-ff1d3762-a6cf-4515-a738-1451b62d8549');\n",
              "          const dataTable =\n",
              "            await google.colab.kernel.invokeFunction('convertToInteractive',\n",
              "                                                     [key], {});\n",
              "          if (!dataTable) return;\n",
              "\n",
              "          const docLinkHtml = 'Like what you see? Visit the ' +\n",
              "            '<a target=\"_blank\" href=https://colab.research.google.com/notebooks/data_table.ipynb>data table notebook</a>'\n",
              "            + ' to learn more about interactive tables.';\n",
              "          element.innerHTML = '';\n",
              "          dataTable['output_type'] = 'display_data';\n",
              "          await google.colab.output.renderOutput(dataTable, element);\n",
              "          const docLink = document.createElement('div');\n",
              "          docLink.innerHTML = docLinkHtml;\n",
              "          element.appendChild(docLink);\n",
              "        }\n",
              "      </script>\n",
              "    </div>\n",
              "  </div>\n",
              "  "
            ]
          },
          "metadata": {},
          "execution_count": 51
        }
      ]
    },
    {
      "cell_type": "code",
      "source": [
        "df.shape"
      ],
      "metadata": {
        "colab": {
          "base_uri": "https://localhost:8080/"
        },
        "id": "bxHOhHATayGt",
        "outputId": "4f131430-d071-44cc-adf5-7e27c6d83f64"
      },
      "execution_count": 52,
      "outputs": [
        {
          "output_type": "execute_result",
          "data": {
            "text/plain": [
              "(6557, 5)"
            ]
          },
          "metadata": {},
          "execution_count": 52
        }
      ]
    },
    {
      "cell_type": "code",
      "source": [
        "df.dtypes"
      ],
      "metadata": {
        "colab": {
          "base_uri": "https://localhost:8080/"
        },
        "id": "IwWCd3WzdowI",
        "outputId": "21ebae9b-9531-42f2-9798-3404864d305a"
      },
      "execution_count": 53,
      "outputs": [
        {
          "output_type": "execute_result",
          "data": {
            "text/plain": [
              "ID Geography                 object\n",
              "Geography                    object\n",
              "ID Agency                    object\n",
              "Agency                       object\n",
              "Obligation Amount (2017)    float64\n",
              "dtype: object"
            ]
          },
          "metadata": {},
          "execution_count": 53
        }
      ]
    },
    {
      "cell_type": "code",
      "source": [
        "# Replace the US letters in the \n",
        "#df = df[~df['ID Agency'].str.contains(\"[a-zA-Z]\").fillna(False)]\n"
      ],
      "metadata": {
        "id": "0Koj1NocI_ze"
      },
      "execution_count": 54,
      "outputs": []
    },
    {
      "cell_type": "code",
      "source": [
        "df['ID Agency'].value_counts()"
      ],
      "metadata": {
        "colab": {
          "base_uri": "https://localhost:8080/"
        },
        "id": "4qPZQQ7lcIYz",
        "outputId": "7faf9c04-83b3-472d-8014-20317dac3837"
      },
      "execution_count": 55,
      "outputs": [
        {
          "output_type": "execute_result",
          "data": {
            "text/plain": [
              "4732    52\n",
              "1448    52\n",
              "7529    52\n",
              "7526    52\n",
              "7524    52\n",
              "        ..\n",
              "9504     1\n",
              "9511     1\n",
              "2004     1\n",
              "9502     1\n",
              "4700     1\n",
              "Name: ID Agency, Length: 209, dtype: int64"
            ]
          },
          "metadata": {},
          "execution_count": 55
        }
      ]
    },
    {
      "cell_type": "code",
      "source": [
        "df.shape"
      ],
      "metadata": {
        "colab": {
          "base_uri": "https://localhost:8080/"
        },
        "id": "dDpwb0Qud0qp",
        "outputId": "45c6954f-a72f-4439-ab44-8d8dc47ddfae"
      },
      "execution_count": 56,
      "outputs": [
        {
          "output_type": "execute_result",
          "data": {
            "text/plain": [
              "(6557, 5)"
            ]
          },
          "metadata": {},
          "execution_count": 56
        }
      ]
    },
    {
      "cell_type": "code",
      "source": [
        "#Replace the letters in the Agency IDs with numbers.  Only 2 values lost. Able to save \n",
        "def str_to_int_map(string, mapping):\n",
        "\n",
        "   return int(''.join([str(mapping.get(x, x)) for x in string]))\n",
        "mapping = {\"A\": 1, \"B\": 2, \"C\": 3, \"D\": 4, \"E\": 5, \"F\": 6, \"G\": 7, \"H\": 8, \"I\": 9, \"J\": 10, \"K\": 11, \"L\": 12, \"M\": 13, \"N\": 14, \"O\": 15, \"P\": 16, \"Q\":17,\"R\":18, \"S\": 19, \"T\": 20,\"U\": 21, \"V\": 22, \"W\": 23, \"X\": 24, \"Y\": 25, \"Z\":26}\n",
        "df['ID Agency'] = df['ID Agency'].apply(lambda x: str_to_int_map(x, mapping))"
      ],
      "metadata": {
        "id": "1FDFYgD2cBdT"
      },
      "execution_count": 57,
      "outputs": []
    },
    {
      "cell_type": "code",
      "source": [
        "df['ID Agency'].value_counts()"
      ],
      "metadata": {
        "colab": {
          "base_uri": "https://localhost:8080/"
        },
        "id": "NksgG0mNcRa4",
        "outputId": "efa2fbf2-9249-4bc6-85f7-8313c0cbc954"
      },
      "execution_count": 58,
      "outputs": [
        {
          "output_type": "execute_result",
          "data": {
            "text/plain": [
              "9761    66\n",
              "9748    52\n",
              "9100    52\n",
              "5920    52\n",
              "2100    52\n",
              "        ..\n",
              "9515     1\n",
              "8944     1\n",
              "4775     1\n",
              "9502     1\n",
              "9504     1\n",
              "Name: ID Agency, Length: 207, dtype: int64"
            ]
          },
          "metadata": {},
          "execution_count": 58
        }
      ]
    },
    {
      "cell_type": "code",
      "source": [
        "#Check for missing values \n",
        "df.value_counts().isna()"
      ],
      "metadata": {
        "colab": {
          "base_uri": "https://localhost:8080/"
        },
        "id": "53dFgOpyYPzc",
        "outputId": "95a6ffac-c4be-4761-a1c3-7e825e02eb5e"
      },
      "execution_count": 59,
      "outputs": [
        {
          "output_type": "execute_result",
          "data": {
            "text/plain": [
              "ID Geography  Geography       ID Agency  Agency                                                      Obligation Amount (2017)\n",
              "04000US01     Alabama         1145       Peace Corps                                                 3.819297e+04                False\n",
              "04000US37     North Carolina  7570       Office of the Assistant Secretary for Administration (ASA)  2.747554e+07                False\n",
              "                              8800       National Archives and Records Administration                1.257185e+04                False\n",
              "                              8653       Office of Lead Hazard Control and Healthy Homes             2.835379e+06                False\n",
              "                              8635       Assistant Secretary for Public and Indian Housing           3.616013e+08                False\n",
              "                                                                                                                                 ...  \n",
              "04000US20     Kansas          6000       Railroad Retirement Board                                   2.400048e+08                False\n",
              "                              5950       The Institue of Museum and Library Services                 3.552140e+05                False\n",
              "                              5940       National Endowment for the Humanities                       6.000000e+03                False\n",
              "                              5920       National Endowment for the Arts                             1.712386e+06                False\n",
              "04000US72     Puerto Rico     97126      Defense Commissary Agency (DECA)                            6.327743e+04                False\n",
              "Length: 6557, dtype: bool"
            ]
          },
          "metadata": {},
          "execution_count": 59
        }
      ]
    },
    {
      "cell_type": "code",
      "source": [
        "def str_to_int_map(string, mapping):\n",
        "\n",
        "   return int(''.join([str(mapping.get(x, x)) for x in string]))\n",
        "mapping = {\"U\": 1, \"S\": 2}\n",
        "df['ID Geography'] = df['ID Geography'].apply(lambda x: str_to_int_map(x, mapping))"
      ],
      "metadata": {
        "id": "CuFtf_x-J5FK"
      },
      "execution_count": 60,
      "outputs": []
    },
    {
      "cell_type": "code",
      "source": [
        "df.rename({'Obligation Amount (2017)':'Obligation'}, axis='columns', inplace=True)\n",
        "df.head()"
      ],
      "metadata": {
        "colab": {
          "base_uri": "https://localhost:8080/",
          "height": 206
        },
        "id": "v5DxHzDDvfll",
        "outputId": "62026362-f7f7-4bde-af33-8888c45d9159"
      },
      "execution_count": 61,
      "outputs": [
        {
          "output_type": "execute_result",
          "data": {
            "text/plain": [
              "   ID Geography             Geography  ID Agency  \\\n",
              "0      40001211  District of Columbia       1100   \n",
              "1      40001217              Illinois       1100   \n",
              "2      40001236              New York       1100   \n",
              "3      40001251              Virginia       1100   \n",
              "4      40001204               Arizona       1127   \n",
              "\n",
              "                                       Agency   Obligation  \n",
              "0           Executive Office of the President  63125124.30  \n",
              "1           Executive Office of the President    436400.70  \n",
              "2           Executive Office of the President    -25400.44  \n",
              "3           Executive Office of the President    114026.54  \n",
              "4  Office of the National Drug Control Policy   9700578.94  "
            ],
            "text/html": [
              "\n",
              "  <div id=\"df-547fae1b-4b8d-4d12-ae82-4253c5da4b5b\">\n",
              "    <div class=\"colab-df-container\">\n",
              "      <div>\n",
              "<style scoped>\n",
              "    .dataframe tbody tr th:only-of-type {\n",
              "        vertical-align: middle;\n",
              "    }\n",
              "\n",
              "    .dataframe tbody tr th {\n",
              "        vertical-align: top;\n",
              "    }\n",
              "\n",
              "    .dataframe thead th {\n",
              "        text-align: right;\n",
              "    }\n",
              "</style>\n",
              "<table border=\"1\" class=\"dataframe\">\n",
              "  <thead>\n",
              "    <tr style=\"text-align: right;\">\n",
              "      <th></th>\n",
              "      <th>ID Geography</th>\n",
              "      <th>Geography</th>\n",
              "      <th>ID Agency</th>\n",
              "      <th>Agency</th>\n",
              "      <th>Obligation</th>\n",
              "    </tr>\n",
              "  </thead>\n",
              "  <tbody>\n",
              "    <tr>\n",
              "      <th>0</th>\n",
              "      <td>40001211</td>\n",
              "      <td>District of Columbia</td>\n",
              "      <td>1100</td>\n",
              "      <td>Executive Office of the President</td>\n",
              "      <td>63125124.30</td>\n",
              "    </tr>\n",
              "    <tr>\n",
              "      <th>1</th>\n",
              "      <td>40001217</td>\n",
              "      <td>Illinois</td>\n",
              "      <td>1100</td>\n",
              "      <td>Executive Office of the President</td>\n",
              "      <td>436400.70</td>\n",
              "    </tr>\n",
              "    <tr>\n",
              "      <th>2</th>\n",
              "      <td>40001236</td>\n",
              "      <td>New York</td>\n",
              "      <td>1100</td>\n",
              "      <td>Executive Office of the President</td>\n",
              "      <td>-25400.44</td>\n",
              "    </tr>\n",
              "    <tr>\n",
              "      <th>3</th>\n",
              "      <td>40001251</td>\n",
              "      <td>Virginia</td>\n",
              "      <td>1100</td>\n",
              "      <td>Executive Office of the President</td>\n",
              "      <td>114026.54</td>\n",
              "    </tr>\n",
              "    <tr>\n",
              "      <th>4</th>\n",
              "      <td>40001204</td>\n",
              "      <td>Arizona</td>\n",
              "      <td>1127</td>\n",
              "      <td>Office of the National Drug Control Policy</td>\n",
              "      <td>9700578.94</td>\n",
              "    </tr>\n",
              "  </tbody>\n",
              "</table>\n",
              "</div>\n",
              "      <button class=\"colab-df-convert\" onclick=\"convertToInteractive('df-547fae1b-4b8d-4d12-ae82-4253c5da4b5b')\"\n",
              "              title=\"Convert this dataframe to an interactive table.\"\n",
              "              style=\"display:none;\">\n",
              "        \n",
              "  <svg xmlns=\"http://www.w3.org/2000/svg\" height=\"24px\"viewBox=\"0 0 24 24\"\n",
              "       width=\"24px\">\n",
              "    <path d=\"M0 0h24v24H0V0z\" fill=\"none\"/>\n",
              "    <path d=\"M18.56 5.44l.94 2.06.94-2.06 2.06-.94-2.06-.94-.94-2.06-.94 2.06-2.06.94zm-11 1L8.5 8.5l.94-2.06 2.06-.94-2.06-.94L8.5 2.5l-.94 2.06-2.06.94zm10 10l.94 2.06.94-2.06 2.06-.94-2.06-.94-.94-2.06-.94 2.06-2.06.94z\"/><path d=\"M17.41 7.96l-1.37-1.37c-.4-.4-.92-.59-1.43-.59-.52 0-1.04.2-1.43.59L10.3 9.45l-7.72 7.72c-.78.78-.78 2.05 0 2.83L4 21.41c.39.39.9.59 1.41.59.51 0 1.02-.2 1.41-.59l7.78-7.78 2.81-2.81c.8-.78.8-2.07 0-2.86zM5.41 20L4 18.59l7.72-7.72 1.47 1.35L5.41 20z\"/>\n",
              "  </svg>\n",
              "      </button>\n",
              "      \n",
              "  <style>\n",
              "    .colab-df-container {\n",
              "      display:flex;\n",
              "      flex-wrap:wrap;\n",
              "      gap: 12px;\n",
              "    }\n",
              "\n",
              "    .colab-df-convert {\n",
              "      background-color: #E8F0FE;\n",
              "      border: none;\n",
              "      border-radius: 50%;\n",
              "      cursor: pointer;\n",
              "      display: none;\n",
              "      fill: #1967D2;\n",
              "      height: 32px;\n",
              "      padding: 0 0 0 0;\n",
              "      width: 32px;\n",
              "    }\n",
              "\n",
              "    .colab-df-convert:hover {\n",
              "      background-color: #E2EBFA;\n",
              "      box-shadow: 0px 1px 2px rgba(60, 64, 67, 0.3), 0px 1px 3px 1px rgba(60, 64, 67, 0.15);\n",
              "      fill: #174EA6;\n",
              "    }\n",
              "\n",
              "    [theme=dark] .colab-df-convert {\n",
              "      background-color: #3B4455;\n",
              "      fill: #D2E3FC;\n",
              "    }\n",
              "\n",
              "    [theme=dark] .colab-df-convert:hover {\n",
              "      background-color: #434B5C;\n",
              "      box-shadow: 0px 1px 3px 1px rgba(0, 0, 0, 0.15);\n",
              "      filter: drop-shadow(0px 1px 2px rgba(0, 0, 0, 0.3));\n",
              "      fill: #FFFFFF;\n",
              "    }\n",
              "  </style>\n",
              "\n",
              "      <script>\n",
              "        const buttonEl =\n",
              "          document.querySelector('#df-547fae1b-4b8d-4d12-ae82-4253c5da4b5b button.colab-df-convert');\n",
              "        buttonEl.style.display =\n",
              "          google.colab.kernel.accessAllowed ? 'block' : 'none';\n",
              "\n",
              "        async function convertToInteractive(key) {\n",
              "          const element = document.querySelector('#df-547fae1b-4b8d-4d12-ae82-4253c5da4b5b');\n",
              "          const dataTable =\n",
              "            await google.colab.kernel.invokeFunction('convertToInteractive',\n",
              "                                                     [key], {});\n",
              "          if (!dataTable) return;\n",
              "\n",
              "          const docLinkHtml = 'Like what you see? Visit the ' +\n",
              "            '<a target=\"_blank\" href=https://colab.research.google.com/notebooks/data_table.ipynb>data table notebook</a>'\n",
              "            + ' to learn more about interactive tables.';\n",
              "          element.innerHTML = '';\n",
              "          dataTable['output_type'] = 'display_data';\n",
              "          await google.colab.output.renderOutput(dataTable, element);\n",
              "          const docLink = document.createElement('div');\n",
              "          docLink.innerHTML = docLinkHtml;\n",
              "          element.appendChild(docLink);\n",
              "        }\n",
              "      </script>\n",
              "    </div>\n",
              "  </div>\n",
              "  "
            ]
          },
          "metadata": {},
          "execution_count": 61
        }
      ]
    },
    {
      "cell_type": "markdown",
      "source": [
        "\n",
        "Using the approved dataset you proposed for project 2 part 1 last week, you will clean and explore the data set.  \n",
        "\n",
        "To meet the requirements for this week you must have:\n",
        "\n",
        "-deleted unnecessary columns\n",
        "\n",
        "-deleted duplicate rows\n",
        "\n",
        "-identified and addressed missing values \n",
        "\n",
        "-identified and corrected inconsistencies in data for categorical values (i.e. Cat, cat, cats)\n",
        "\n",
        "-produced univariate visuals for the target and all features\n",
        "\n",
        "-identified outliers\n",
        "\n",
        "-produce a correlation heatmap and identify any moderate or strong correlations between your target and your features and/or between one feature and another\n",
        "\n",
        "-clearly commented all of your cleaning steps and described any decisions you made  (Note: During the final stack of the program, you will be making a presentation for a technical audience that includes your decisions and process in the cleaning steps. The more notes you take now, the easier that presentation will be. To clarify, that presentation is NOT due now.)\n",
        "\n",
        "Note that you should start working on your in depth EDA and making multivariate visuals for the upcoming part 3 of this assignment once you have submitted all tasks and your belt exam for this stack.\n",
        "\n",
        "Commit your file to your Github repository and submit the link below."
      ],
      "metadata": {
        "id": "iKSnJqo6VL04"
      }
    },
    {
      "cell_type": "code",
      "source": [
        "df.columns"
      ],
      "metadata": {
        "colab": {
          "base_uri": "https://localhost:8080/"
        },
        "id": "rAAXYS2bX7SY",
        "outputId": "577490a8-6a23-4b4f-f930-1f946a3cb6b8"
      },
      "execution_count": 62,
      "outputs": [
        {
          "output_type": "execute_result",
          "data": {
            "text/plain": [
              "Index(['ID Geography', 'Geography', 'ID Agency', 'Agency', 'Obligation'], dtype='object')"
            ]
          },
          "metadata": {},
          "execution_count": 62
        }
      ]
    },
    {
      "cell_type": "code",
      "source": [
        "df.shape"
      ],
      "metadata": {
        "colab": {
          "base_uri": "https://localhost:8080/"
        },
        "id": "VZmhGm8KJG5v",
        "outputId": "a630da68-cae7-4428-aaf5-2bfc1140c061"
      },
      "execution_count": 63,
      "outputs": [
        {
          "output_type": "execute_result",
          "data": {
            "text/plain": [
              "(6557, 5)"
            ]
          },
          "metadata": {},
          "execution_count": 63
        }
      ]
    },
    {
      "cell_type": "code",
      "source": [
        "df_obj = df.select_dtypes(include = 'object')\n",
        "#df_obj.drop(columns = ['ID Geography', 'ID Agency'], inplace=True)\n",
        "df_obj_cols = list(df_obj)\n",
        "for col in df_obj_cols:\n",
        "  print(f\"col: {df_obj[col].unique()}\\n\")\n"
      ],
      "metadata": {
        "colab": {
          "base_uri": "https://localhost:8080/"
        },
        "id": "AgUzNksYrbWS",
        "outputId": "948b3b4c-4ac8-4152-fee6-ac9b61b24e4c"
      },
      "execution_count": 64,
      "outputs": [
        {
          "output_type": "stream",
          "name": "stdout",
          "text": [
            "col: ['District of Columbia' 'Illinois' 'New York' 'Virginia' 'Arizona'\n",
            " 'California' 'Colorado' 'Delaware' 'Florida' 'Hawaii' 'Indiana'\n",
            " 'Maryland' 'Minnesota' 'Missouri' 'Montana' 'Nebraska' 'New Jersey'\n",
            " 'New Mexico' 'Ohio' 'Pennsylvania' 'Tennessee' 'Texas' 'Utah'\n",
            " 'Washington' 'Wisconsin' 'Alabama' 'Georgia' 'Iowa' 'Kansas' 'Louisiana'\n",
            " 'Michigan' 'North Carolina' 'Oregon' 'Vermont' 'Connecticut' 'Idaho'\n",
            " 'Maine' 'Massachusetts' 'South Carolina' 'Alaska' 'Arkansas' 'Kentucky'\n",
            " 'Nevada' 'New Hampshire' 'Oklahoma' 'West Virginia' 'Wyoming'\n",
            " 'Mississippi' 'North Dakota' 'Rhode Island' 'South Dakota' 'Puerto Rico']\n",
            "\n",
            "col: ['Executive Office of the President'\n",
            " 'Office of the National Drug Control Policy' 'Peace Corps'\n",
            " 'United States Trade and Development Agency'\n",
            " 'Office of Inspector General' 'Office of the Chief Financial Officer'\n",
            " 'Forest Service' 'Natural Resources Conservation Service'\n",
            " 'Farm Service Agency' 'Foreign Agricultural Service'\n",
            " 'Risk Management Agency' 'Rural Utilities Service'\n",
            " 'Rural Housing Service' 'Rural Business Cooperative Service'\n",
            " 'Food and Nutrition Service' 'Food Safety and Inspection Service'\n",
            " 'Agricultural Research Service'\n",
            " 'National Institute of Food and Agriculture' 'Economic Research Service'\n",
            " 'National Agricultural Statistics Service'\n",
            " 'Agricultural Marketing Service'\n",
            " 'Animal and Plant Health Inspection Service' 'Office of the Secretary'\n",
            " 'U.S. Census Bureau' 'Economic Development Administration'\n",
            " 'National Oceanic and Atmospheric Administration'\n",
            " 'National Telecommunications and Information Administration'\n",
            " 'National Institute of Standards and Technology'\n",
            " 'U.S. Patent and Trademark Office' 'International Trade Administration'\n",
            " 'Minority Business Development Agency' 'Department of the Interior'\n",
            " 'Office of the Under Secretary of the Interior'\n",
            " 'Office of the Inspector General' 'Departmental Offices'\n",
            " 'Insular Affairs' 'Bureau of Land Management' 'Bureau of Reclamation'\n",
            " 'U.S. Geological Survey' 'Bureau of Ocean Energy Management'\n",
            " 'Bureau of Safety and Environmental Enforcement'\n",
            " 'Office of Surface Mining, Reclamation and Enforcement'\n",
            " 'National Park Service' 'National Biological Survey'\n",
            " 'U.S. Fish and Wildlife Service'\n",
            " 'Bureau of Indian Affairs and Bureau of Indian Education'\n",
            " 'Offices, Boards and Divisions' 'Drug Enforcement Administration'\n",
            " 'Federal Prison System / Bureau of Prisons'\n",
            " 'Federal Prison Industries / Unicor' 'U.S. Marshals Service'\n",
            " 'Federal Bureau of Investigation' 'Office of Justice Programs'\n",
            " 'ATF Acquisition and Property Management Division'\n",
            " 'Office of the Assistant Secretary for Administration and Management'\n",
            " 'Bureau of Labor Statistics' 'Employment and Training Administration'\n",
            " 'Mine Safety and Health Administration'\n",
            " 'Occupational Safety and Health Administration'\n",
            " 'Veterans Employment and Training Services'\n",
            " 'Pension Benefit Guaranty Corporation'\n",
            " \"President's Committee on Employment of the Handicapped\"\n",
            " 'Department of State'\n",
            " 'International Boundary and Water Commission: U.S.-Mexico'\n",
            " 'Inspector General' 'Bureau of the Fiscal Service'\n",
            " 'Bureau of Engraving and Printing' 'United States Mint'\n",
            " 'Office of the Comptroller of the Currency' 'Internal Revenue Service'\n",
            " 'Office of Personnel Management' 'National Credit Union Administration'\n",
            " 'Federal Communications Commission' 'Social Security Administration'\n",
            " 'Federal Trade Commission' 'Administrative Conference of the U.S.'\n",
            " 'Nuclear Regulatory Commission' 'Smithsonian Institution'\n",
            " 'National Gallery of Art' 'Commodity Futures Trading Commission'\n",
            " 'International Trade Commission'\n",
            " 'Defense Nuclear Facilities Safety Board'\n",
            " 'Department of Veterans Affairs'\n",
            " 'Assistant Secretary for Public and Intergovernmental Affairs'\n",
            " 'Under Secretary for Health/Veterans Health Administration'\n",
            " 'Directory/National Cemetery Administration'\n",
            " 'Under Secretary for Benefits/Veterans Benefits Administration'\n",
            " 'Federal Election Commission'\n",
            " 'Federal Mine Safety and Health Review Commission'\n",
            " 'Merit Systems Protection Board' 'National Capital Planning Commission'\n",
            " 'National Endowment for the Arts' 'National Endowment for the Humanities'\n",
            " 'National Labor Relations Board' 'National Transportation Safety Board'\n",
            " 'Occupational Safety and Health Review Commission'\n",
            " 'Equal Employment Opportunity Commission'\n",
            " 'General Services Administration' 'Office of the Administrator (ACMD)'\n",
            " 'Federal Acquisition Service' 'Public Buildings Service'\n",
            " 'Office of Administrative Services' 'Technology Transformation Service'\n",
            " 'Gulf Coast Ecosystem Restoration Council'\n",
            " 'The Institue of Museum and Library Services'\n",
            " 'Corporation for National and Community Service'\n",
            " 'National Science Foundation' 'Securities and Exchange Commission'\n",
            " 'United States Chemical Safety Board'\n",
            " 'Court Services and Offender Supervision Agency'\n",
            " 'Pretrial Services Agency' 'Denali Commission'\n",
            " 'Broadcasting Board of Governors' 'Delta Regional Authority'\n",
            " 'Millennium Challenge Corporation' 'Election Assistance Commission'\n",
            " 'Federal Housing Finance Agency' 'Federal Labor Relations Authority'\n",
            " 'The Council of the Inspectors General on Integrity and Efficiency'\n",
            " 'Consumer Financial Protection Bureau' 'Railroad Retirement Board'\n",
            " 'Consumer Product Safety Commission' 'Federal Maritime Commission'\n",
            " 'Environmental Protection Agency'\n",
            " 'Immediate Office of the Secretary of Transportation'\n",
            " 'Federal Aviation Administration' 'Federal Highway Administration'\n",
            " 'Federal Railroad Administration' 'Maritime Administration'\n",
            " 'National Highway Traffic Safety Administration'\n",
            " 'Saint Lawrence Seaway Development Corporation'\n",
            " 'Federal Motor Carrier Safety Administration'\n",
            " 'Federal Transit Administration'\n",
            " 'Pipeline and Hazardous Materials Safety Administration'\n",
            " 'Department of Homeland Security' 'Office of Procurement Operations'\n",
            " 'U.S. Citizenship and Immigration Services' 'U.S. Coast Guard'\n",
            " 'U.S. Secret Service' 'U.S. Immigration and Customs Enforcement'\n",
            " 'Transportation Security Administration'\n",
            " 'U.S. Customs and Border Protection'\n",
            " 'Federal Law Enforcement Training Center'\n",
            " 'Federal Emergency Management Agency'\n",
            " 'Immediate Office of the Under Secretary for Management'\n",
            " 'Overseas Private Investment Corporation'\n",
            " 'Agency for International Development' 'Small Business Administration'\n",
            " 'Office of Assistant Secretary for Preparedness and Response'\n",
            " 'Office of Assistant Secretary for Planning and Evaluation'\n",
            " 'Office of Assistant Secretary for Health'\n",
            " 'Substance Abuse and Mental Health Services Administration'\n",
            " 'Centers for Disease Control and Prevention'\n",
            " 'Food and Drug Administration'\n",
            " 'Health Resources and Services Administration' 'Indian Health Service'\n",
            " 'Agency for Healthcare Research and Quality'\n",
            " 'National Institutes of Health'\n",
            " 'Centers for Medicare and Medicaid Services' 'Administration on Aging'\n",
            " 'Office of the Assistant Secretary for Administration (ASA)'\n",
            " 'Office of the National Coordinator for Health Information Technology (ONC)'\n",
            " 'Administration for Children and Families'\n",
            " 'National Aeronautics and Space Administration'\n",
            " 'Export-Import Bank of the United States'\n",
            " 'Department of Housing and Urban Development'\n",
            " 'Assistant Secretary for Fair Housing and Equal Opportunity'\n",
            " 'Assistant Secretary for Community Planning and Development'\n",
            " 'Assistant Secretary for Housing--Federal Housing Commissioner'\n",
            " 'Assistant Secretary for Public and Indian Housing'\n",
            " 'Assistant Secretary for Policy Development and Research'\n",
            " 'Office of Lead Hazard Control and Healthy Homes'\n",
            " 'National Archives and Records Administration'\n",
            " 'National Historical Publications and Records Commission'\n",
            " 'Department of Energy'\n",
            " 'Assistant Secretary for Conservation and Renewable Energy'\n",
            " 'Assistant Secretary for Fossil Energy'\n",
            " 'Federal Energy Regulatory Commission' 'Selective Service System'\n",
            " 'Department of Education' 'Federal Mediation and Conciliation Service'\n",
            " 'Department of the Navy' 'Department of the Army'\n",
            " 'Department of the Air Force' 'Defense Human Resources Activity'\n",
            " 'Defense Threat Reduction Agency (DTRA)'\n",
            " 'Defense Contract Management Agency (DCMA)'\n",
            " 'Defense Microelectronics Activity (DMEA)' 'USTRANSCOM'\n",
            " 'Defense Advanced Research Projects Agency (DARPA)'\n",
            " 'Defense Information Systems Agency (DISA)' 'Defense Logistics Agency'\n",
            " 'Defense Security Cooperation Agency' 'Defense Security Service'\n",
            " 'Defense Commissary Agency (DECA)'\n",
            " 'Defense Finance and Accounting Service (DFAS)'\n",
            " 'Defense Health Agency (DHA)' 'Defense Intelligence Agency'\n",
            " 'Defense Media Activity (DMA)'\n",
            " 'Department of Defense Education Activity (DODEA)'\n",
            " 'Washington Headquarters Services (WHS)'\n",
            " 'Uniformed Services University of the Health Sciences (USUHS)'\n",
            " 'Missile Defense Agency (MDA)'\n",
            " 'U.S. Special Operations Command (USSOCOM)']\n",
            "\n"
          ]
        }
      ]
    },
    {
      "cell_type": "code",
      "source": [
        "df.drop(columns = ['Geography', 'Agency'], inplace=True)"
      ],
      "metadata": {
        "id": "VQgfI-Qj5FsG"
      },
      "execution_count": 65,
      "outputs": []
    },
    {
      "cell_type": "code",
      "source": [
        "#Check for missing data...it's never easy.\n",
        "print('Missing data:\\n', df.isna().sum())\n",
        "print('\\n')\n"
      ],
      "metadata": {
        "colab": {
          "base_uri": "https://localhost:8080/"
        },
        "id": "bZ8yDcRTQjwW",
        "outputId": "23d711a3-acca-48c2-d858-58a4332049bb"
      },
      "execution_count": 66,
      "outputs": [
        {
          "output_type": "stream",
          "name": "stdout",
          "text": [
            "Missing data:\n",
            " ID Geography    0\n",
            "ID Agency       0\n",
            "Obligation      0\n",
            "dtype: int64\n",
            "\n",
            "\n"
          ]
        }
      ]
    },
    {
      "cell_type": "code",
      "source": [
        "# Remove duplicates\n",
        "df = df.drop_duplicates()\n",
        "df.duplicated().sum()"
      ],
      "metadata": {
        "colab": {
          "base_uri": "https://localhost:8080/"
        },
        "id": "ahQHhexlphTp",
        "outputId": "a4b6e89a-9b2d-43b1-cbe6-af750154dae1"
      },
      "execution_count": 67,
      "outputs": [
        {
          "output_type": "execute_result",
          "data": {
            "text/plain": [
              "0"
            ]
          },
          "metadata": {},
          "execution_count": 67
        }
      ]
    },
    {
      "cell_type": "code",
      "source": [
        "df['Obligation'].value_counts()"
      ],
      "metadata": {
        "colab": {
          "base_uri": "https://localhost:8080/"
        },
        "id": "DWa2SdFmyPwi",
        "outputId": "ee9da758-a3ad-4da9-a830-2b4794f5d1c5"
      },
      "execution_count": 68,
      "outputs": [
        {
          "output_type": "execute_result",
          "data": {
            "text/plain": [
              "0.000000e+00    117\n",
              "2.500000e+05     14\n",
              "6.000000e+03      9\n",
              "1.500000e+04      8\n",
              "1.000000e+04      8\n",
              "               ... \n",
              "2.243315e+06      1\n",
              "1.048246e+08      1\n",
              "2.774887e+04      1\n",
              "8.454839e+05      1\n",
              "2.071022e+05      1\n",
              "Name: Obligation, Length: 6321, dtype: int64"
            ]
          },
          "metadata": {},
          "execution_count": 68
        }
      ]
    },
    {
      "cell_type": "code",
      "source": [
        "df.shape"
      ],
      "metadata": {
        "colab": {
          "base_uri": "https://localhost:8080/"
        },
        "id": "7t_rXjPxrP_n",
        "outputId": "d22ae9ff-6d85-484d-c0ec-f1585c227e1a"
      },
      "execution_count": 69,
      "outputs": [
        {
          "output_type": "execute_result",
          "data": {
            "text/plain": [
              "(6557, 3)"
            ]
          },
          "metadata": {},
          "execution_count": 69
        }
      ]
    },
    {
      "cell_type": "code",
      "source": [
        "df.dtypes"
      ],
      "metadata": {
        "colab": {
          "base_uri": "https://localhost:8080/"
        },
        "id": "lBCck2giB8vY",
        "outputId": "96662a54-e4cf-456b-b625-f9651f3d9442"
      },
      "execution_count": 70,
      "outputs": [
        {
          "output_type": "execute_result",
          "data": {
            "text/plain": [
              "ID Geography      int64\n",
              "ID Agency         int64\n",
              "Obligation      float64\n",
              "dtype: object"
            ]
          },
          "metadata": {},
          "execution_count": 70
        }
      ]
    },
    {
      "cell_type": "code",
      "source": [
        "df['ID Agency'] = pd.to_numeric(df['ID Agency'])"
      ],
      "metadata": {
        "id": "2Vif77ptM6Rg"
      },
      "execution_count": 71,
      "outputs": []
    },
    {
      "cell_type": "code",
      "source": [
        "# Change number of bins\n",
        "df['Obligation'].hist(bins = 30)\n",
        "plt.xlabel('Annual Funding', fontsize = 20);\n",
        "plt.xticks(rotation = 45)\n",
        "plt.ylabel('Agency Count', fontsize = 20);\n",
        "plt.ticklabel_format(useOffset=False, style='plain')"
      ],
      "metadata": {
        "colab": {
          "base_uri": "https://localhost:8080/",
          "height": 415
        },
        "id": "PQZshpDRxoRy",
        "outputId": "ca21297a-cc07-4675-9ceb-baa5e2c6464d"
      },
      "execution_count": 72,
      "outputs": [
        {
          "output_type": "display_data",
          "data": {
            "text/plain": [
              "<Figure size 576x396 with 1 Axes>"
            ],
            "image/png": "[encoded data removed]"
          },
          "metadata": {}
        }
      ]
    },
    {
      "cell_type": "code",
      "source": [
        "# Adding seaborn style \n",
        "plt.style.use('seaborn')\n",
        "fund_filter = df.loc[:, 'Obligation'] <= 300000000\n",
        "df.loc[fund_filter, 'Obligation'].hist(bins = 30,\n",
        "                                   edgecolor='black')\n",
        "plt.xlabel('Annual Funding', fontsize = 20);\n",
        "plt.xticks(rotation = 45)\n",
        "plt.ylabel('Agency Count', fontsize = 20);\n",
        "plt.ticklabel_format(useOffset=False, style='plain')"
      ],
      "metadata": {
        "colab": {
          "base_uri": "https://localhost:8080/",
          "height": 403
        },
        "id": "MV4ziQrZRTY4",
        "outputId": "7fada3f0-f288-4b12-9716-f1082382cdbc"
      },
      "execution_count": 73,
      "outputs": [
        {
          "output_type": "display_data",
          "data": {
            "text/plain": [
              "<Figure size 576x396 with 1 Axes>"
            ],
            "image/png": "[encoded data removed]"
          },
          "metadata": {}
        }
      ]
    },
    {
      "cell_type": "code",
      "source": [
        "# Adding seaborn style \n",
        "plt.style.use('seaborn')\n",
        "fund_filter = df.loc[:, 'Obligation'] <= 100000000\n",
        "df.loc[fund_filter, 'Obligation'].hist(bins = 30,\n",
        "                                   edgecolor='black')\n",
        "plt.xlabel('Annual Funding', fontsize = 20);\n",
        "plt.xticks(rotation = 45)\n",
        "plt.ylabel('Agency Count', fontsize = 20);\n",
        "plt.ticklabel_format(useOffset=False, style='plain')"
      ],
      "metadata": {
        "id": "dLtZ8LfjRTWv",
        "colab": {
          "base_uri": "https://localhost:8080/",
          "height": 403
        },
        "outputId": "71896b4a-fe29-4e14-decd-1fcd1b254dbb"
      },
      "execution_count": 74,
      "outputs": [
        {
          "output_type": "display_data",
          "data": {
            "text/plain": [
              "<Figure size 576x396 with 1 Axes>"
            ],
            "image/png": "[encoded data removed]"
          },
          "metadata": {}
        }
      ]
    },
    {
      "cell_type": "code",
      "source": [
        "# Adding seaborn style \n",
        "plt.style.use('seaborn')\n",
        "fund_filter = df.loc[:, 'Obligation'] >= 100000000\n",
        "df.loc[fund_filter, 'Obligation'].hist(bins = 30,\n",
        "                                   edgecolor='black')\n",
        "plt.xlabel('Annual Funding', fontsize = 20);\n",
        "plt.xticks(rotation = 45)\n",
        "plt.ylabel('Agency Count', fontsize = 20);\n",
        "plt.ticklabel_format(useOffset=False, style='plain')"
      ],
      "metadata": {
        "id": "V3O9IDroRTUW",
        "colab": {
          "base_uri": "https://localhost:8080/",
          "height": 415
        },
        "outputId": "6e71b438-7981-4954-e5b5-39fcc7038e5e"
      },
      "execution_count": 75,
      "outputs": [
        {
          "output_type": "display_data",
          "data": {
            "text/plain": [
              "<Figure size 576x396 with 1 Axes>"
            ],
            "image/png": "[encoded data removed]"
          },
          "metadata": {}
        }
      ]
    },
    {
      "cell_type": "code",
      "source": [
        "fundFilter = df['Obligation'] >= 0\n",
        "#numpy set_printoptions(suppress=True)\n",
        "top20Agency = df.loc[fundFilter, :].groupby(['ID Agency'])['Obligation'].mean().sort_values(ascending = False).head(20)\n",
        "\n",
        "print(top20Agency)"
      ],
      "metadata": {
        "colab": {
          "base_uri": "https://localhost:8080/"
        },
        "id": "k1ceXftK7DkV",
        "outputId": "cbca066b-a2bd-40e9-8558-1167e0950781"
      },
      "execution_count": 76,
      "outputs": [
        {
          "output_type": "stream",
          "name": "stdout",
          "text": [
            "ID Agency\n",
            "7530     1.432637e+10\n",
            "2800     1.166063e+10\n",
            "1700     1.812652e+09\n",
            "3640     1.488336e+09\n",
            "2100     1.205472e+09\n",
            "5700     1.014656e+09\n",
            "3620     9.708373e+08\n",
            "9100     7.603765e+08\n",
            "6925     7.150690e+08\n",
            "8900     5.502641e+08\n",
            "97119    5.240991e+08\n",
            "7529     5.114165e+08\n",
            "3600     4.762940e+08\n",
            "8635     4.167235e+08\n",
            "7022     2.615122e+08\n",
            "9748     2.386079e+08\n",
            "8620     2.377802e+08\n",
            "8000     2.305963e+08\n",
            "8630     1.821354e+08\n",
            "6000     1.798832e+08\n",
            "Name: Obligation, dtype: float64\n"
          ]
        }
      ]
    },
    {
      "cell_type": "code",
      "source": [
        "import seaborn as sns\n",
        "corr = df.corr()\n",
        "sns.heatmap(corr, cmap = 'Blues', annot = True)"
      ],
      "metadata": {
        "id": "hpzdn1KhRTQM",
        "colab": {
          "base_uri": "https://localhost:8080/",
          "height": 368
        },
        "outputId": "c73d63e9-80b4-4808-9c7a-0e6f090b6d90"
      },
      "execution_count": 77,
      "outputs": [
        {
          "output_type": "execute_result",
          "data": {
            "text/plain": [
              "<matplotlib.axes._subplots.AxesSubplot at 0x7f8ea24b1f50>"
            ]
          },
          "metadata": {},
          "execution_count": 77
        },
        {
          "output_type": "display_data",
          "data": {
            "text/plain": [
              "<Figure size 576x396 with 2 Axes>"
            ],
            "image/png": "[encoded data removed]"
          },
          "metadata": {}
        }
      ]
    },
    {
      "cell_type": "code",
      "source": [
        "df.hist(bins=15, color='steelblue', edgecolor='black', linewidth=1.0,\n",
        "           xlabelsize=8, ylabelsize=8, grid=False)    \n",
        "plt.tight_layout(rect=(0, 0, 1.2, 1.2))   "
      ],
      "metadata": {
        "id": "jYLrbD30RTIM",
        "colab": {
          "base_uri": "https://localhost:8080/",
          "height": 484
        },
        "outputId": "70de534e-6782-4293-f0db-9d6977297c05"
      },
      "execution_count": 78,
      "outputs": [
        {
          "output_type": "display_data",
          "data": {
            "text/plain": [
              "<Figure size 576x396 with 4 Axes>"
            ],
            "image/png": "[encoded data removed]"
          },
          "metadata": {}
        }
      ]
    },
    {
      "cell_type": "code",
      "source": [
        "\n",
        "# Scatter Plot with Hue for visualizing data in 3-D\n",
        "cols = ['ID Agency', 'ID Geography', 'Obligation']\n",
        "pp = sns.pairplot(df[cols], size=1.8, aspect=1.8, \n",
        "                  palette={\"red\": \"#FF9999\", \"white\": \"#FFE888\"},\n",
        "                  plot_kws=dict(edgecolor=\"black\", linewidth=0.5))\n",
        "fig = pp.fig \n",
        "fig.subplots_adjust(top=0.93, wspace=0.3)\n",
        "t = fig.suptitle('Federal Funding by Agency and Geography', fontsize=14)"
      ],
      "metadata": {
        "id": "yu8BvxpBRTK3",
        "colab": {
          "base_uri": "https://localhost:8080/",
          "height": 438
        },
        "outputId": "1cfd622f-4e28-41ff-a338-661d0c5f64c4"
      },
      "execution_count": 79,
      "outputs": [
        {
          "output_type": "stream",
          "name": "stderr",
          "text": [
            "/usr/local/lib/python3.7/dist-packages/seaborn/axisgrid.py:2076: UserWarning: The `size` parameter has been renamed to `height`; please update your code.\n",
            "  warnings.warn(msg, UserWarning)\n"
          ]
        },
        {
          "output_type": "display_data",
          "data": {
            "text/plain": [
              "<Figure size 699.84x388.8 with 12 Axes>"
            ],
            "image/png": "[encoded data removed]"
          },
          "metadata": {}
        }
      ]
    },
    {
      "cell_type": "markdown",
      "source": [
        "#Project 2 - Part 3 (Core)"
      ],
      "metadata": {
        "id": "XrW3l2wuNejO"
      }
    },
    {
      "cell_type": "markdown",
      "source": [
        "Link to Video"
      ],
      "metadata": {
        "id": "9qSeJibmyVvc"
      }
    },
    {
      "cell_type": "markdown",
      "source": [
        "Project 2 - Part 3 (Core)\n",
        "\n",
        "\n",
        "For this part of the project, create a 5-10  min video presentation with slide show that is designed for a TECHNICAL audience that addresses your data preparation and exploratory analysis for your selected data set. \n",
        "\n",
        "This is a chance for you to articulate what you have been working on, the decisions you have made, and the challenges you may have encountered.\n",
        "\n",
        "Keep in mind that the information you share with a technical audience or a non-technical audience will be quite different, so it is important to differentiate between the two.  \n",
        "\n",
        "Since this is a TECHNICAL audience, you may share code snippets and discuss the cleaning steps. For your final presentation, however, your audience will be non-technical and you will not include this type of information.  \n",
        "\n",
        "To include in your presentation:\n",
        "\n",
        "* Intro and background about your data set\n",
        "* Explanation of the cleaning steps required and a brief explanation of how you addressed them in your data set.\n",
        "* If there were null values, explain how you addressed them.\n",
        "At least two exploratory visuals you used to understand your data set and what you learned from each.\n",
        "* If relevant, any unique challenges you encountered while working with this data set and how you handled them.  \n",
        "\n",
        "Commit your slide deck and video to your GitHub repository. \n",
        "Update your readme with a paragraph describing your data, data source, and any important or creative steps you took to prepare it for modeling.\n",
        "\n",
        "Large files can be saved on Google Drive and the link can be added to GitHub. Ensure that the share settings allow anyone with the link to view the file.\n",
        "\n",
        "Please submit the link to your GitHub Repository."
      ],
      "metadata": {
        "id": "DnxhE-quNbKZ"
      }
    },
    {
      "cell_type": "markdown",
      "source": [
        "#Project 2- Part 4 (Core)"
      ],
      "metadata": {
        "id": "pjN5MnnCyTG0"
      }
    },
    {
      "cell_type": "markdown",
      "source": [
        "\n",
        "You are now entering into the model development phase of the project!\n",
        "\n",
        "* Ensure that you complete the appropriate pre-processing steps\n",
        "* Try multiple models and tune the hyperparameters of each model to optimize model performance (include all models and hyperparameters tested in addition to the final model)\n",
        "* Evaluate model performance with appropriate metrics for the model\n",
        "* Choose your \"production\" model and justify this decision\n",
        "* Go back through your code and ensure that you have provided clear comments (remember this is for your portfolio!)\n",
        "* Update your project readme and describe your final model, your final model evaluation metrics, and explain whether or not your model would be useful in production and if so, how it should be used.\n",
        "\n",
        "Commit your code to GitHub\n",
        "\n",
        "Submit the link to your GitHub repository."
      ],
      "metadata": {
        "id": "v4w02laNyQZ6"
      }
    },
    {
      "cell_type": "code",
      "source": [
        "pd.set_option('display.max_columns', None)\n",
        "df.head()"
      ],
      "metadata": {
        "colab": {
          "base_uri": "https://localhost:8080/",
          "height": 206
        },
        "id": "eohROPn3zjew",
        "outputId": "0ef26aa8-967d-47ab-c2cd-2f7aa1956637"
      },
      "execution_count": 40,
      "outputs": [
        {
          "output_type": "execute_result",
          "data": {
            "text/plain": [
              "   ID Geography  ID Agency   Obligation\n",
              "0      40001211       1100  63125124.30\n",
              "1      40001217       1100    436400.70\n",
              "2      40001236       1100    -25400.44\n",
              "3      40001251       1100    114026.54\n",
              "4      40001204       1127   9700578.94"
            ],
            "text/html": [
              "\n",
              "  <div id=\"df-dd880104-9340-4e52-a507-b88dc9b914d8\">\n",
              "    <div class=\"colab-df-container\">\n",
              "      <div>\n",
              "<style scoped>\n",
              "    .dataframe tbody tr th:only-of-type {\n",
              "        vertical-align: middle;\n",
              "    }\n",
              "\n",
              "    .dataframe tbody tr th {\n",
              "        vertical-align: top;\n",
              "    }\n",
              "\n",
              "    .dataframe thead th {\n",
              "        text-align: right;\n",
              "    }\n",
              "</style>\n",
              "<table border=\"1\" class=\"dataframe\">\n",
              "  <thead>\n",
              "    <tr style=\"text-align: right;\">\n",
              "      <th></th>\n",
              "      <th>ID Geography</th>\n",
              "      <th>ID Agency</th>\n",
              "      <th>Obligation</th>\n",
              "    </tr>\n",
              "  </thead>\n",
              "  <tbody>\n",
              "    <tr>\n",
              "      <th>0</th>\n",
              "      <td>40001211</td>\n",
              "      <td>1100</td>\n",
              "      <td>63125124.30</td>\n",
              "    </tr>\n",
              "    <tr>\n",
              "      <th>1</th>\n",
              "      <td>40001217</td>\n",
              "      <td>1100</td>\n",
              "      <td>436400.70</td>\n",
              "    </tr>\n",
              "    <tr>\n",
              "      <th>2</th>\n",
              "      <td>40001236</td>\n",
              "      <td>1100</td>\n",
              "      <td>-25400.44</td>\n",
              "    </tr>\n",
              "    <tr>\n",
              "      <th>3</th>\n",
              "      <td>40001251</td>\n",
              "      <td>1100</td>\n",
              "      <td>114026.54</td>\n",
              "    </tr>\n",
              "    <tr>\n",
              "      <th>4</th>\n",
              "      <td>40001204</td>\n",
              "      <td>1127</td>\n",
              "      <td>9700578.94</td>\n",
              "    </tr>\n",
              "  </tbody>\n",
              "</table>\n",
              "</div>\n",
              "      <button class=\"colab-df-convert\" onclick=\"convertToInteractive('df-dd880104-9340-4e52-a507-b88dc9b914d8')\"\n",
              "              title=\"Convert this dataframe to an interactive table.\"\n",
              "              style=\"display:none;\">\n",
              "        \n",
              "  <svg xmlns=\"http://www.w3.org/2000/svg\" height=\"24px\"viewBox=\"0 0 24 24\"\n",
              "       width=\"24px\">\n",
              "    <path d=\"M0 0h24v24H0V0z\" fill=\"none\"/>\n",
              "    <path d=\"M18.56 5.44l.94 2.06.94-2.06 2.06-.94-2.06-.94-.94-2.06-.94 2.06-2.06.94zm-11 1L8.5 8.5l.94-2.06 2.06-.94-2.06-.94L8.5 2.5l-.94 2.06-2.06.94zm10 10l.94 2.06.94-2.06 2.06-.94-2.06-.94-.94-2.06-.94 2.06-2.06.94z\"/><path d=\"M17.41 7.96l-1.37-1.37c-.4-.4-.92-.59-1.43-.59-.52 0-1.04.2-1.43.59L10.3 9.45l-7.72 7.72c-.78.78-.78 2.05 0 2.83L4 21.41c.39.39.9.59 1.41.59.51 0 1.02-.2 1.41-.59l7.78-7.78 2.81-2.81c.8-.78.8-2.07 0-2.86zM5.41 20L4 18.59l7.72-7.72 1.47 1.35L5.41 20z\"/>\n",
              "  </svg>\n",
              "      </button>\n",
              "      \n",
              "  <style>\n",
              "    .colab-df-container {\n",
              "      display:flex;\n",
              "      flex-wrap:wrap;\n",
              "      gap: 12px;\n",
              "    }\n",
              "\n",
              "    .colab-df-convert {\n",
              "      background-color: #E8F0FE;\n",
              "      border: none;\n",
              "      border-radius: 50%;\n",
              "      cursor: pointer;\n",
              "      display: none;\n",
              "      fill: #1967D2;\n",
              "      height: 32px;\n",
              "      padding: 0 0 0 0;\n",
              "      width: 32px;\n",
              "    }\n",
              "\n",
              "    .colab-df-convert:hover {\n",
              "      background-color: #E2EBFA;\n",
              "      box-shadow: 0px 1px 2px rgba(60, 64, 67, 0.3), 0px 1px 3px 1px rgba(60, 64, 67, 0.15);\n",
              "      fill: #174EA6;\n",
              "    }\n",
              "\n",
              "    [theme=dark] .colab-df-convert {\n",
              "      background-color: #3B4455;\n",
              "      fill: #D2E3FC;\n",
              "    }\n",
              "\n",
              "    [theme=dark] .colab-df-convert:hover {\n",
              "      background-color: #434B5C;\n",
              "      box-shadow: 0px 1px 3px 1px rgba(0, 0, 0, 0.15);\n",
              "      filter: drop-shadow(0px 1px 2px rgba(0, 0, 0, 0.3));\n",
              "      fill: #FFFFFF;\n",
              "    }\n",
              "  </style>\n",
              "\n",
              "      <script>\n",
              "        const buttonEl =\n",
              "          document.querySelector('#df-dd880104-9340-4e52-a507-b88dc9b914d8 button.colab-df-convert');\n",
              "        buttonEl.style.display =\n",
              "          google.colab.kernel.accessAllowed ? 'block' : 'none';\n",
              "\n",
              "        async function convertToInteractive(key) {\n",
              "          const element = document.querySelector('#df-dd880104-9340-4e52-a507-b88dc9b914d8');\n",
              "          const dataTable =\n",
              "            await google.colab.kernel.invokeFunction('convertToInteractive',\n",
              "                                                     [key], {});\n",
              "          if (!dataTable) return;\n",
              "\n",
              "          const docLinkHtml = 'Like what you see? Visit the ' +\n",
              "            '<a target=\"_blank\" href=https://colab.research.google.com/notebooks/data_table.ipynb>data table notebook</a>'\n",
              "            + ' to learn more about interactive tables.';\n",
              "          element.innerHTML = '';\n",
              "          dataTable['output_type'] = 'display_data';\n",
              "          await google.colab.output.renderOutput(dataTable, element);\n",
              "          const docLink = document.createElement('div');\n",
              "          docLink.innerHTML = docLinkHtml;\n",
              "          element.appendChild(docLink);\n",
              "        }\n",
              "      </script>\n",
              "    </div>\n",
              "  </div>\n",
              "  "
            ]
          },
          "metadata": {},
          "execution_count": 40
        }
      ]
    },
    {
      "cell_type": "code",
      "source": [
        "#Check for Duplicates\n",
        "df.duplicated().sum()"
      ],
      "metadata": {
        "colab": {
          "base_uri": "https://localhost:8080/"
        },
        "id": "zxXjp0Nw1HMk",
        "outputId": "864e7fd0-0ed5-4d90-9b6e-575cc0de3c93"
      },
      "execution_count": 41,
      "outputs": [
        {
          "output_type": "execute_result",
          "data": {
            "text/plain": [
              "0"
            ]
          },
          "metadata": {},
          "execution_count": 41
        }
      ]
    },
    {
      "cell_type": "code",
      "source": [
        "#Check for missing values\n",
        "df.isna().sum()"
      ],
      "metadata": {
        "colab": {
          "base_uri": "https://localhost:8080/"
        },
        "id": "Eb2ZCnWA1LR-",
        "outputId": "e1ba9fb5-8760-47d4-9a8d-1b575f63e1fa"
      },
      "execution_count": 42,
      "outputs": [
        {
          "output_type": "execute_result",
          "data": {
            "text/plain": [
              "ID Geography    0\n",
              "ID Agency       0\n",
              "Obligation      0\n",
              "dtype: int64"
            ]
          },
          "metadata": {},
          "execution_count": 42
        }
      ]
    },
    {
      "cell_type": "code",
      "source": [
        "#Ensure all feature values are equal\n",
        "df.info()"
      ],
      "metadata": {
        "colab": {
          "base_uri": "https://localhost:8080/"
        },
        "id": "ljTZFohz1RTA",
        "outputId": "05e09285-0e98-4b48-a2d3-fbc32e60c999"
      },
      "execution_count": 43,
      "outputs": [
        {
          "output_type": "stream",
          "name": "stdout",
          "text": [
            "<class 'pandas.core.frame.DataFrame'>\n",
            "Int64Index: 6557 entries, 0 to 6556\n",
            "Data columns (total 3 columns):\n",
            " #   Column        Non-Null Count  Dtype  \n",
            "---  ------        --------------  -----  \n",
            " 0   ID Geography  6557 non-null   int64  \n",
            " 1   ID Agency     6557 non-null   int64  \n",
            " 2   Obligation    6557 non-null   float64\n",
            "dtypes: float64(1), int64(2)\n",
            "memory usage: 462.9 KB\n"
          ]
        }
      ]
    },
    {
      "cell_type": "code",
      "source": [
        "df.describe()"
      ],
      "metadata": {
        "colab": {
          "base_uri": "https://localhost:8080/",
          "height": 300
        },
        "id": "_-wynABz1q3c",
        "outputId": "4de4578c-c7e1-42a2-9cb9-1d4fca548979"
      },
      "execution_count": 44,
      "outputs": [
        {
          "output_type": "execute_result",
          "data": {
            "text/plain": [
              "       ID Geography      ID Agency    Obligation\n",
              "count  6.557000e+03    6557.000000  6.557000e+03\n",
              "mean   4.000123e+07   15389.394235  3.111910e+08\n",
              "std    1.630089e+01   80891.875859  2.890525e+09\n",
              "min    4.000120e+07    1100.000000 -4.986557e+07\n",
              "25%    4.000122e+07    1550.000000  1.676523e+05\n",
              "50%    4.000123e+07    5950.000000  2.490202e+06\n",
              "75%    4.000124e+07    7545.000000  2.676413e+07\n",
              "max    4.000127e+07  972619.000000  9.858464e+10"
            ],
            "text/html": [
              "\n",
              "  <div id=\"df-fa73ade5-afcc-4759-9f64-8445bc8d9efb\">\n",
              "    <div class=\"colab-df-container\">\n",
              "      <div>\n",
              "<style scoped>\n",
              "    .dataframe tbody tr th:only-of-type {\n",
              "        vertical-align: middle;\n",
              "    }\n",
              "\n",
              "    .dataframe tbody tr th {\n",
              "        vertical-align: top;\n",
              "    }\n",
              "\n",
              "    .dataframe thead th {\n",
              "        text-align: right;\n",
              "    }\n",
              "</style>\n",
              "<table border=\"1\" class=\"dataframe\">\n",
              "  <thead>\n",
              "    <tr style=\"text-align: right;\">\n",
              "      <th></th>\n",
              "      <th>ID Geography</th>\n",
              "      <th>ID Agency</th>\n",
              "      <th>Obligation</th>\n",
              "    </tr>\n",
              "  </thead>\n",
              "  <tbody>\n",
              "    <tr>\n",
              "      <th>count</th>\n",
              "      <td>6.557000e+03</td>\n",
              "      <td>6557.000000</td>\n",
              "      <td>6.557000e+03</td>\n",
              "    </tr>\n",
              "    <tr>\n",
              "      <th>mean</th>\n",
              "      <td>4.000123e+07</td>\n",
              "      <td>15389.394235</td>\n",
              "      <td>3.111910e+08</td>\n",
              "    </tr>\n",
              "    <tr>\n",
              "      <th>std</th>\n",
              "      <td>1.630089e+01</td>\n",
              "      <td>80891.875859</td>\n",
              "      <td>2.890525e+09</td>\n",
              "    </tr>\n",
              "    <tr>\n",
              "      <th>min</th>\n",
              "      <td>4.000120e+07</td>\n",
              "      <td>1100.000000</td>\n",
              "      <td>-4.986557e+07</td>\n",
              "    </tr>\n",
              "    <tr>\n",
              "      <th>25%</th>\n",
              "      <td>4.000122e+07</td>\n",
              "      <td>1550.000000</td>\n",
              "      <td>1.676523e+05</td>\n",
              "    </tr>\n",
              "    <tr>\n",
              "      <th>50%</th>\n",
              "      <td>4.000123e+07</td>\n",
              "      <td>5950.000000</td>\n",
              "      <td>2.490202e+06</td>\n",
              "    </tr>\n",
              "    <tr>\n",
              "      <th>75%</th>\n",
              "      <td>4.000124e+07</td>\n",
              "      <td>7545.000000</td>\n",
              "      <td>2.676413e+07</td>\n",
              "    </tr>\n",
              "    <tr>\n",
              "      <th>max</th>\n",
              "      <td>4.000127e+07</td>\n",
              "      <td>972619.000000</td>\n",
              "      <td>9.858464e+10</td>\n",
              "    </tr>\n",
              "  </tbody>\n",
              "</table>\n",
              "</div>\n",
              "      <button class=\"colab-df-convert\" onclick=\"convertToInteractive('df-fa73ade5-afcc-4759-9f64-8445bc8d9efb')\"\n",
              "              title=\"Convert this dataframe to an interactive table.\"\n",
              "              style=\"display:none;\">\n",
              "        \n",
              "  <svg xmlns=\"http://www.w3.org/2000/svg\" height=\"24px\"viewBox=\"0 0 24 24\"\n",
              "       width=\"24px\">\n",
              "    <path d=\"M0 0h24v24H0V0z\" fill=\"none\"/>\n",
              "    <path d=\"M18.56 5.44l.94 2.06.94-2.06 2.06-.94-2.06-.94-.94-2.06-.94 2.06-2.06.94zm-11 1L8.5 8.5l.94-2.06 2.06-.94-2.06-.94L8.5 2.5l-.94 2.06-2.06.94zm10 10l.94 2.06.94-2.06 2.06-.94-2.06-.94-.94-2.06-.94 2.06-2.06.94z\"/><path d=\"M17.41 7.96l-1.37-1.37c-.4-.4-.92-.59-1.43-.59-.52 0-1.04.2-1.43.59L10.3 9.45l-7.72 7.72c-.78.78-.78 2.05 0 2.83L4 21.41c.39.39.9.59 1.41.59.51 0 1.02-.2 1.41-.59l7.78-7.78 2.81-2.81c.8-.78.8-2.07 0-2.86zM5.41 20L4 18.59l7.72-7.72 1.47 1.35L5.41 20z\"/>\n",
              "  </svg>\n",
              "      </button>\n",
              "      \n",
              "  <style>\n",
              "    .colab-df-container {\n",
              "      display:flex;\n",
              "      flex-wrap:wrap;\n",
              "      gap: 12px;\n",
              "    }\n",
              "\n",
              "    .colab-df-convert {\n",
              "      background-color: #E8F0FE;\n",
              "      border: none;\n",
              "      border-radius: 50%;\n",
              "      cursor: pointer;\n",
              "      display: none;\n",
              "      fill: #1967D2;\n",
              "      height: 32px;\n",
              "      padding: 0 0 0 0;\n",
              "      width: 32px;\n",
              "    }\n",
              "\n",
              "    .colab-df-convert:hover {\n",
              "      background-color: #E2EBFA;\n",
              "      box-shadow: 0px 1px 2px rgba(60, 64, 67, 0.3), 0px 1px 3px 1px rgba(60, 64, 67, 0.15);\n",
              "      fill: #174EA6;\n",
              "    }\n",
              "\n",
              "    [theme=dark] .colab-df-convert {\n",
              "      background-color: #3B4455;\n",
              "      fill: #D2E3FC;\n",
              "    }\n",
              "\n",
              "    [theme=dark] .colab-df-convert:hover {\n",
              "      background-color: #434B5C;\n",
              "      box-shadow: 0px 1px 3px 1px rgba(0, 0, 0, 0.15);\n",
              "      filter: drop-shadow(0px 1px 2px rgba(0, 0, 0, 0.3));\n",
              "      fill: #FFFFFF;\n",
              "    }\n",
              "  </style>\n",
              "\n",
              "      <script>\n",
              "        const buttonEl =\n",
              "          document.querySelector('#df-fa73ade5-afcc-4759-9f64-8445bc8d9efb button.colab-df-convert');\n",
              "        buttonEl.style.display =\n",
              "          google.colab.kernel.accessAllowed ? 'block' : 'none';\n",
              "\n",
              "        async function convertToInteractive(key) {\n",
              "          const element = document.querySelector('#df-fa73ade5-afcc-4759-9f64-8445bc8d9efb');\n",
              "          const dataTable =\n",
              "            await google.colab.kernel.invokeFunction('convertToInteractive',\n",
              "                                                     [key], {});\n",
              "          if (!dataTable) return;\n",
              "\n",
              "          const docLinkHtml = 'Like what you see? Visit the ' +\n",
              "            '<a target=\"_blank\" href=https://colab.research.google.com/notebooks/data_table.ipynb>data table notebook</a>'\n",
              "            + ' to learn more about interactive tables.';\n",
              "          element.innerHTML = '';\n",
              "          dataTable['output_type'] = 'display_data';\n",
              "          await google.colab.output.renderOutput(dataTable, element);\n",
              "          const docLink = document.createElement('div');\n",
              "          docLink.innerHTML = docLinkHtml;\n",
              "          element.appendChild(docLink);\n",
              "        }\n",
              "      </script>\n",
              "    </div>\n",
              "  </div>\n",
              "  "
            ]
          },
          "metadata": {},
          "execution_count": 44
        }
      ]
    },
    {
      "cell_type": "code",
      "source": [
        "#Scale the datasett in preparation for modeling\n",
        "df_scaled = StandardScaler().fit_transform(df)"
      ],
      "metadata": {
        "id": "QQ-8BisV1aCs"
      },
      "execution_count": 39,
      "outputs": []
    },
    {
      "cell_type": "code",
      "source": [
        "# Check that data set scaled\n",
        "df_scaled"
      ],
      "metadata": {
        "colab": {
          "base_uri": "https://localhost:8080/"
        },
        "id": "iiHxgD-_1vD-",
        "outputId": "ea2cb034-b5b0-4f51-ea8d-764c8dd95e8b"
      },
      "execution_count": 48,
      "outputs": [
        {
          "output_type": "execute_result",
          "data": {
            "text/plain": [
              "array([[-1.10510465, -0.17666155, -0.08582689],\n",
              "       [-0.73699842, -0.17666155, -0.1075162 ],\n",
              "       [ 0.42867132, -0.17666155, -0.10767598],\n",
              "       ...,\n",
              "       [ 1.47163898, 11.83434797, -0.10725314],\n",
              "       [ 1.53299001, 11.83434797, -0.10763771],\n",
              "       [ 1.59434105, 11.83434797, -0.10759554]])"
            ]
          },
          "metadata": {},
          "execution_count": 48
        }
      ]
    },
    {
      "cell_type": "code",
      "source": [
        "#Start with Kmeans to determine optimal clustering patterns\n",
        "k_range = range(2, 10)\n",
        "sil_scores = []\n",
        "inertias = []\n",
        "\n",
        "for k in k_range:\n",
        "  kmeans = KMeans(n_clusters = k)\n",
        "  kmeans.fit(df_scaled)\n",
        "\n",
        "  sil_scores.append(silhouette_score(df_scaled, kmeans.labels_))\n",
        "  inertias.append(kmeans.inertia_)\n",
        "\n",
        "plt.plot(k_range, sil_scores)\n",
        "plt.title('Silhouette Scores')\n",
        "plt.show()\n",
        "\n",
        "plt.plot(k_range, inertias)\n",
        "plt.title('Inertias')\n",
        "plt.show();"
      ],
      "metadata": {
        "colab": {
          "base_uri": "https://localhost:8080/",
          "height": 707
        },
        "id": "Bc7nGQ1f12ms",
        "outputId": "e5feb4fd-a154-43d6-a95d-3f3ed942fadc"
      },
      "execution_count": 82,
      "outputs": [
        {
          "output_type": "display_data",
          "data": {
            "text/plain": [
              "<Figure size 576x396 with 1 Axes>"
            ],
            "image/png": "[encoded data removed]"
          },
          "metadata": {}
        },
        {
          "output_type": "display_data",
          "data": {
            "text/plain": [
              "<Figure size 576x396 with 1 Axes>"
            ],
            "image/png": "[encoded data removed]"
          },
          "metadata": {}
        }
      ]
    },
    {
      "cell_type": "code",
      "source": [
        "kmeans_final = KMeans(n_clusters = 4)\n",
        "kmeans_final.fit(df_scaled)\n",
        "\n",
        "df['cluster'] = kmeans_final.labels_"
      ],
      "metadata": {
        "id": "8ElZVFtT3jL2"
      },
      "execution_count": 83,
      "outputs": []
    },
    {
      "cell_type": "code",
      "source": [
        "clusters_grouped = df.groupby('cluster').mean()\n",
        "clusters_grouped"
      ],
      "metadata": {
        "colab": {
          "base_uri": "https://localhost:8080/",
          "height": 206
        },
        "id": "ihd4qvou3pDy",
        "outputId": "e52c50a9-ab3c-449e-965d-26e0d9b964f6"
      },
      "execution_count": 84,
      "outputs": [
        {
          "output_type": "execute_result",
          "data": {
            "text/plain": [
              "         ID Geography      ID Agency    Obligation\n",
              "cluster                                           \n",
              "0        4.000122e+07    8940.123748  1.876579e+08\n",
              "1        4.000124e+07    8923.026452  1.680181e+08\n",
              "2        4.000123e+07    5729.473684  4.630222e+10\n",
              "3        4.000123e+07  972619.000000  6.749714e+07"
            ],
            "text/html": [
              "\n",
              "  <div id=\"df-f932a911-efbc-4438-bf01-f5a35183aec3\">\n",
              "    <div class=\"colab-df-container\">\n",
              "      <div>\n",
              "<style scoped>\n",
              "    .dataframe tbody tr th:only-of-type {\n",
              "        vertical-align: middle;\n",
              "    }\n",
              "\n",
              "    .dataframe tbody tr th {\n",
              "        vertical-align: top;\n",
              "    }\n",
              "\n",
              "    .dataframe thead th {\n",
              "        text-align: right;\n",
              "    }\n",
              "</style>\n",
              "<table border=\"1\" class=\"dataframe\">\n",
              "  <thead>\n",
              "    <tr style=\"text-align: right;\">\n",
              "      <th></th>\n",
              "      <th>ID Geography</th>\n",
              "      <th>ID Agency</th>\n",
              "      <th>Obligation</th>\n",
              "    </tr>\n",
              "    <tr>\n",
              "      <th>cluster</th>\n",
              "      <th></th>\n",
              "      <th></th>\n",
              "      <th></th>\n",
              "    </tr>\n",
              "  </thead>\n",
              "  <tbody>\n",
              "    <tr>\n",
              "      <th>0</th>\n",
              "      <td>4.000122e+07</td>\n",
              "      <td>8940.123748</td>\n",
              "      <td>1.876579e+08</td>\n",
              "    </tr>\n",
              "    <tr>\n",
              "      <th>1</th>\n",
              "      <td>4.000124e+07</td>\n",
              "      <td>8923.026452</td>\n",
              "      <td>1.680181e+08</td>\n",
              "    </tr>\n",
              "    <tr>\n",
              "      <th>2</th>\n",
              "      <td>4.000123e+07</td>\n",
              "      <td>5729.473684</td>\n",
              "      <td>4.630222e+10</td>\n",
              "    </tr>\n",
              "    <tr>\n",
              "      <th>3</th>\n",
              "      <td>4.000123e+07</td>\n",
              "      <td>972619.000000</td>\n",
              "      <td>6.749714e+07</td>\n",
              "    </tr>\n",
              "  </tbody>\n",
              "</table>\n",
              "</div>\n",
              "      <button class=\"colab-df-convert\" onclick=\"convertToInteractive('df-f932a911-efbc-4438-bf01-f5a35183aec3')\"\n",
              "              title=\"Convert this dataframe to an interactive table.\"\n",
              "              style=\"display:none;\">\n",
              "        \n",
              "  <svg xmlns=\"http://www.w3.org/2000/svg\" height=\"24px\"viewBox=\"0 0 24 24\"\n",
              "       width=\"24px\">\n",
              "    <path d=\"M0 0h24v24H0V0z\" fill=\"none\"/>\n",
              "    <path d=\"M18.56 5.44l.94 2.06.94-2.06 2.06-.94-2.06-.94-.94-2.06-.94 2.06-2.06.94zm-11 1L8.5 8.5l.94-2.06 2.06-.94-2.06-.94L8.5 2.5l-.94 2.06-2.06.94zm10 10l.94 2.06.94-2.06 2.06-.94-2.06-.94-.94-2.06-.94 2.06-2.06.94z\"/><path d=\"M17.41 7.96l-1.37-1.37c-.4-.4-.92-.59-1.43-.59-.52 0-1.04.2-1.43.59L10.3 9.45l-7.72 7.72c-.78.78-.78 2.05 0 2.83L4 21.41c.39.39.9.59 1.41.59.51 0 1.02-.2 1.41-.59l7.78-7.78 2.81-2.81c.8-.78.8-2.07 0-2.86zM5.41 20L4 18.59l7.72-7.72 1.47 1.35L5.41 20z\"/>\n",
              "  </svg>\n",
              "      </button>\n",
              "      \n",
              "  <style>\n",
              "    .colab-df-container {\n",
              "      display:flex;\n",
              "      flex-wrap:wrap;\n",
              "      gap: 12px;\n",
              "    }\n",
              "\n",
              "    .colab-df-convert {\n",
              "      background-color: #E8F0FE;\n",
              "      border: none;\n",
              "      border-radius: 50%;\n",
              "      cursor: pointer;\n",
              "      display: none;\n",
              "      fill: #1967D2;\n",
              "      height: 32px;\n",
              "      padding: 0 0 0 0;\n",
              "      width: 32px;\n",
              "    }\n",
              "\n",
              "    .colab-df-convert:hover {\n",
              "      background-color: #E2EBFA;\n",
              "      box-shadow: 0px 1px 2px rgba(60, 64, 67, 0.3), 0px 1px 3px 1px rgba(60, 64, 67, 0.15);\n",
              "      fill: #174EA6;\n",
              "    }\n",
              "\n",
              "    [theme=dark] .colab-df-convert {\n",
              "      background-color: #3B4455;\n",
              "      fill: #D2E3FC;\n",
              "    }\n",
              "\n",
              "    [theme=dark] .colab-df-convert:hover {\n",
              "      background-color: #434B5C;\n",
              "      box-shadow: 0px 1px 3px 1px rgba(0, 0, 0, 0.15);\n",
              "      filter: drop-shadow(0px 1px 2px rgba(0, 0, 0, 0.3));\n",
              "      fill: #FFFFFF;\n",
              "    }\n",
              "  </style>\n",
              "\n",
              "      <script>\n",
              "        const buttonEl =\n",
              "          document.querySelector('#df-f932a911-efbc-4438-bf01-f5a35183aec3 button.colab-df-convert');\n",
              "        buttonEl.style.display =\n",
              "          google.colab.kernel.accessAllowed ? 'block' : 'none';\n",
              "\n",
              "        async function convertToInteractive(key) {\n",
              "          const element = document.querySelector('#df-f932a911-efbc-4438-bf01-f5a35183aec3');\n",
              "          const dataTable =\n",
              "            await google.colab.kernel.invokeFunction('convertToInteractive',\n",
              "                                                     [key], {});\n",
              "          if (!dataTable) return;\n",
              "\n",
              "          const docLinkHtml = 'Like what you see? Visit the ' +\n",
              "            '<a target=\"_blank\" href=https://colab.research.google.com/notebooks/data_table.ipynb>data table notebook</a>'\n",
              "            + ' to learn more about interactive tables.';\n",
              "          element.innerHTML = '';\n",
              "          dataTable['output_type'] = 'display_data';\n",
              "          await google.colab.output.renderOutput(dataTable, element);\n",
              "          const docLink = document.createElement('div');\n",
              "          docLink.innerHTML = docLinkHtml;\n",
              "          element.appendChild(docLink);\n",
              "        }\n",
              "      </script>\n",
              "    </div>\n",
              "  </div>\n",
              "  "
            ]
          },
          "metadata": {},
          "execution_count": 84
        }
      ]
    },
    {
      "cell_type": "code",
      "source": [
        "plt.bar(clusters_grouped.index, clusters_grouped['Obligation'])\n",
        "plt.title('How are the Obligations Distributed by Cluster')\n",
        "plt.ylabel('Obligations')\n",
        "plt.xlabel('Cluster')\n",
        "plt.xticks(clusters_grouped.index);"
      ],
      "metadata": {
        "colab": {
          "base_uri": "https://localhost:8080/",
          "height": 376
        },
        "id": "T7gnPtGg30C6",
        "outputId": "0748f799-803c-4739-fc56-7244321adae7"
      },
      "execution_count": 90,
      "outputs": [
        {
          "output_type": "display_data",
          "data": {
            "text/plain": [
              "<Figure size 576x396 with 1 Axes>"
            ],
            "image/png": "[encoded data removed]"
          },
          "metadata": {}
        }
      ]
    },
    {
      "cell_type": "code",
      "source": [
        "plt.bar(clusters_grouped.index, clusters_grouped['ID Agency'])\n",
        "plt.title('How are the Agencies Distributed by Cluster')\n",
        "plt.ylabel('Agencies')\n",
        "plt.xlabel('Cluster')\n",
        "plt.xticks(clusters_grouped.index);"
      ],
      "metadata": {
        "colab": {
          "base_uri": "https://localhost:8080/",
          "height": 376
        },
        "id": "bcQD16mb4b01",
        "outputId": "444381f2-ce54-473f-e68b-ddbb8cceed3d"
      },
      "execution_count": 92,
      "outputs": [
        {
          "output_type": "display_data",
          "data": {
            "text/plain": [
              "<Figure size 576x396 with 1 Axes>"
            ],
            "image/png": "[encoded data removed]"
          },
          "metadata": {}
        }
      ]
    },
    {
      "cell_type": "code",
      "source": [
        "plt.bar(clusters_grouped.index, clusters_grouped['ID Geography'])\n",
        "plt.title('How are the Agencies Distributed by Cluster')\n",
        "plt.ylabel('Agencies')\n",
        "plt.xlabel('Cluster')\n",
        "plt.xticks(clusters_grouped.index);"
      ],
      "metadata": {
        "colab": {
          "base_uri": "https://localhost:8080/",
          "height": 376
        },
        "id": "-IiDmSM65TWK",
        "outputId": "1a99c6ca-642c-4b81-f280-06d656feee11"
      },
      "execution_count": 93,
      "outputs": [
        {
          "output_type": "display_data",
          "data": {
            "text/plain": [
              "<Figure size 576x396 with 1 Axes>"
            ],
            "image/png": "[encoded data removed]"
          },
          "metadata": {}
        }
      ]
    },
    {
      "cell_type": "code",
      "source": [
        "#Start your model\n",
        "\n",
        "X = df.drop(columns=['Obligation', 'cluster'])\n",
        "y = df['Obligation']\n",
        "\n",
        "X_train, X_test, y_train, y_test = train_test_split(X, y, random_state=42)"
      ],
      "metadata": {
        "id": "9NpwTPNf5eOp"
      },
      "execution_count": 94,
      "outputs": []
    },
    {
      "cell_type": "code",
      "source": [
        "#Run PCA for reducing features\n",
        "\n",
        "scaler = StandardScaler()\n",
        "X_train_scaled = scaler.fit_transform(X_train)\n",
        "X_test_scaled = scaler.transform(X_test)\n",
        "\n",
        "pca = PCA()\n",
        "pca.fit(X_train_scaled)\n",
        "\n",
        "plt.plot(range(1, 3), pca.explained_variance_ratio_[:3], marker = '.')\n",
        "plt.xticks(ticks = range(1, 3))\n",
        "plt.xlabel('Principal Component')\n",
        "plt.ylabel('Proportion of Explained Variance')"
      ],
      "metadata": {
        "colab": {
          "base_uri": "https://localhost:8080/",
          "height": 378
        },
        "id": "rdepwF0j5rzN",
        "outputId": "ec3a41f2-d5b2-4fbf-b720-512ded43da3d"
      },
      "execution_count": 98,
      "outputs": [
        {
          "output_type": "execute_result",
          "data": {
            "text/plain": [
              "Text(0, 0.5, 'Proportion of Explained Variance')"
            ]
          },
          "metadata": {},
          "execution_count": 98
        },
        {
          "output_type": "display_data",
          "data": {
            "text/plain": [
              "<Figure size 576x396 with 1 Axes>"
            ],
            "image/png": "[encoded data removed]"
          },
          "metadata": {}
        }
      ]
    },
    {
      "cell_type": "code",
      "source": [
        "exp_var_pca = pca.explained_variance_ratio_ "
      ],
      "metadata": {
        "id": "V3T2XhwM65Zk"
      },
      "execution_count": 99,
      "outputs": []
    },
    {
      "cell_type": "code",
      "source": [
        "exp_var_pca"
      ],
      "metadata": {
        "colab": {
          "base_uri": "https://localhost:8080/"
        },
        "id": "31AONl8N67d1",
        "outputId": "6c93b13b-ad40-4c4b-9df3-8396b21ed034"
      },
      "execution_count": 100,
      "outputs": [
        {
          "output_type": "execute_result",
          "data": {
            "text/plain": [
              "array([0.50640675, 0.49359325])"
            ]
          },
          "metadata": {},
          "execution_count": 100
        }
      ]
    },
    {
      "cell_type": "code",
      "source": [
        "pca2 = PCA(n_components=2)\n",
        "X_train_pca = pca2.fit_transform(X_train_scaled)\n",
        "X_test_pca = pca2.transform(X_test_scaled)\n"
      ],
      "metadata": {
        "id": "b07TW_aI7TzA"
      },
      "execution_count": 101,
      "outputs": []
    },
    {
      "cell_type": "code",
      "source": [
        "# Visualize the first 2 PCs\n",
        "plt.figure(figsize = (8, 4))\n",
        "plt.scatter(X_train_pca[:,0], X_train_pca[:,1])\n",
        "plt.title('Visualization of all of our data using the first two Principal Components')\n",
        "plt.xlabel('PC1')\n",
        "plt.ylabel('PC2');"
      ],
      "metadata": {
        "colab": {
          "base_uri": "https://localhost:8080/",
          "height": 294
        },
        "id": "vJp6ADQu82Bl",
        "outputId": "30d5f9cc-40f7-4b76-816b-dba16b97673e"
      },
      "execution_count": 113,
      "outputs": [
        {
          "output_type": "display_data",
          "data": {
            "text/plain": [
              "<Figure size 576x288 with 1 Axes>"
            ],
            "image/png": "[encoded data removed]"
          },
          "metadata": {}
        }
      ]
    },
    {
      "cell_type": "code",
      "source": [
        "difference = X_train.shape[1] - X_train_pca.shape[1]\n",
        "\n",
        "print(f'There are {difference} fewer columns after applying PCA')"
      ],
      "metadata": {
        "colab": {
          "base_uri": "https://localhost:8080/"
        },
        "id": "mmU2XVQ-7bQ4",
        "outputId": "f94f8641-15e0-459f-aa4d-2b7abe10f1e2"
      },
      "execution_count": 114,
      "outputs": [
        {
          "output_type": "stream",
          "name": "stdout",
          "text": [
            "There are 0 fewer columns after applying PCA\n"
          ]
        }
      ]
    },
    {
      "cell_type": "code",
      "source": [
        "variance = pca2.explained_variance_ratio_.sum()\n",
        "print(f'The pca explains {variance:.2f} percent of the variance of the original data')"
      ],
      "metadata": {
        "colab": {
          "base_uri": "https://localhost:8080/"
        },
        "id": "bO4zVYEG7cKM",
        "outputId": "680e8a2c-332b-4972-de4e-20a3d7cf834d"
      },
      "execution_count": 104,
      "outputs": [
        {
          "output_type": "stream",
          "name": "stdout",
          "text": [
            "The pca explains 1.00 percent of the variance of the original data\n"
          ]
        }
      ]
    },
    {
      "cell_type": "code",
      "source": [
        "# def plot_history(history, metrics=None):\n",
        "#   plt.plot(history.history['loss'], label='training')\n",
        "#   plt.plot(history.history['val_loss'], label='testing')\n",
        "#   plt.title('Loss')\n",
        "#   plt.legend()\n",
        "#   plt.show()\n",
        "#   if metrics:\n",
        "#     for metric in metrics:\n",
        "#       plt.plot(history.history[metric], label=f'training {metric}')\n",
        "#       plt.plot(history.history[f'val_{metric}'], label=f'testing {metric}')\n",
        "#       plt.legend()\n",
        "#       plt.title(metric)\n",
        "#       plt.show()\n",
        "\n",
        "\n",
        "# You can use this function to see how your model improves over time\n",
        "def plot_history(history, metric=None):\n",
        "  \"\"\"plot loss and passed metric.  metric is passed as string and must match 'metric'\n",
        "  argument in the compile step\"\"\"\n",
        "  fig, axes = plt.subplots(2,1, figsize = (5,10))\n",
        "  axes[0].plot(history.history['loss'], label = \"train\")\n",
        "  axes[0].plot(history.history['val_loss'], label='test')\n",
        "  axes[0].set_title('Loss')\n",
        "  axes[0].legend()\n",
        "  if metric:\n",
        "    axes[1].plot(history.history[metric], label = 'train')\n",
        "    axes[1].plot(history.history['val_' + metric], label = 'test')\n",
        "    axes[1].set_title(metric)\n",
        "    axes[1].legend()\n",
        "\n",
        "  plt.show()"
      ],
      "metadata": {
        "id": "RpYT2U0s7o9q"
      },
      "execution_count": 105,
      "outputs": []
    },
    {
      "cell_type": "markdown",
      "source": [
        "## Model 1"
      ],
      "metadata": {
        "id": "htjWA2WBBqYF"
      }
    },
    {
      "cell_type": "code",
      "source": [
        "model1 = Sequential()\n",
        "\n",
        "model1.add(Dense(2, input_dim = X_train_pca.shape[1],\n",
        "                activation = 'relu'))\n",
        "model1.add(Dense(1, activation = 'linear'))\n",
        "\n",
        "model1.compile(loss='mse', optimizer='adam', metrics=['acc', 'mse'])"
      ],
      "metadata": {
        "id": "4hyRaWnY7u0J"
      },
      "execution_count": 136,
      "outputs": []
    },
    {
      "cell_type": "code",
      "source": [
        "model1.summary()"
      ],
      "metadata": {
        "colab": {
          "base_uri": "https://localhost:8080/"
        },
        "id": "TbFDNjxL_8rm",
        "outputId": "2ff3cb6f-5bc4-44aa-e6cd-5cc69595d20a"
      },
      "execution_count": 137,
      "outputs": [
        {
          "output_type": "stream",
          "name": "stdout",
          "text": [
            "Model: \"sequential_1\"\n",
            "_________________________________________________________________\n",
            " Layer (type)                Output Shape              Param #   \n",
            "=================================================================\n",
            " dense_2 (Dense)             (None, 2)                 6         \n",
            "                                                                 \n",
            " dense_3 (Dense)             (None, 1)                 3         \n",
            "                                                                 \n",
            "=================================================================\n",
            "Total params: 9\n",
            "Trainable params: 9\n",
            "Non-trainable params: 0\n",
            "_________________________________________________________________\n"
          ]
        }
      ]
    },
    {
      "cell_type": "code",
      "source": [
        "history = model1.fit(X_train_pca, y_train,\n",
        "                    validation_data=(X_test_pca, y_test),\n",
        "                    epochs=30)"
      ],
      "metadata": {
        "colab": {
          "base_uri": "https://localhost:8080/"
        },
        "id": "6zL0LJXIAVFw",
        "outputId": "ff790850-499d-477f-b307-a4b12b2e81be"
      },
      "execution_count": 138,
      "outputs": [
        {
          "output_type": "stream",
          "name": "stdout",
          "text": [
            "Epoch 1/30\n",
            "154/154 [==============================] - 1s 3ms/step - loss: 8341591748924932096.0000 - acc: 0.0173 - mse: 8341591748924932096.0000 - val_loss: 8777832333093896192.0000 - val_acc: 0.0195 - val_mse: 8777832333093896192.0000\n",
            "Epoch 2/30\n",
            "154/154 [==============================] - 0s 3ms/step - loss: 8341592298680745984.0000 - acc: 0.0089 - mse: 8341592298680745984.0000 - val_loss: 8777832333093896192.0000 - val_acc: 0.0012 - val_mse: 8777832333093896192.0000\n",
            "Epoch 3/30\n",
            "154/154 [==============================] - 0s 2ms/step - loss: 8341594497704001536.0000 - acc: 8.1350e-04 - mse: 8341594497704001536.0000 - val_loss: 8777832333093896192.0000 - val_acc: 0.0012 - val_mse: 8777832333093896192.0000\n",
            "Epoch 4/30\n",
            "154/154 [==============================] - 0s 2ms/step - loss: 8341591748924932096.0000 - acc: 8.1350e-04 - mse: 8341591748924932096.0000 - val_loss: 8777832333093896192.0000 - val_acc: 0.0012 - val_mse: 8777832333093896192.0000\n",
            "Epoch 5/30\n",
            "154/154 [==============================] - 0s 2ms/step - loss: 8341592298680745984.0000 - acc: 6.1013e-04 - mse: 8341592298680745984.0000 - val_loss: 8777832333093896192.0000 - val_acc: 6.0976e-04 - val_mse: 8777832333093896192.0000\n",
            "Epoch 6/30\n",
            "154/154 [==============================] - 0s 2ms/step - loss: 8341591748924932096.0000 - acc: 2.0338e-04 - mse: 8341591748924932096.0000 - val_loss: 8777832333093896192.0000 - val_acc: 6.0976e-04 - val_mse: 8777832333093896192.0000\n",
            "Epoch 7/30\n",
            "154/154 [==============================] - 0s 2ms/step - loss: 8341591748924932096.0000 - acc: 0.0000e+00 - mse: 8341591748924932096.0000 - val_loss: 8777832333093896192.0000 - val_acc: 0.0000e+00 - val_mse: 8777832333093896192.0000\n",
            "Epoch 8/30\n",
            "154/154 [==============================] - 0s 3ms/step - loss: 8341593398192373760.0000 - acc: 0.0000e+00 - mse: 8341593398192373760.0000 - val_loss: 8777832333093896192.0000 - val_acc: 0.0000e+00 - val_mse: 8777832333093896192.0000\n",
            "Epoch 9/30\n",
            "154/154 [==============================] - 0s 3ms/step - loss: 8341590649413304320.0000 - acc: 0.0000e+00 - mse: 8341590649413304320.0000 - val_loss: 8777832333093896192.0000 - val_acc: 0.0000e+00 - val_mse: 8777832333093896192.0000\n",
            "Epoch 10/30\n",
            "154/154 [==============================] - 0s 3ms/step - loss: 8341595047459815424.0000 - acc: 0.0000e+00 - mse: 8341595047459815424.0000 - val_loss: 8777832333093896192.0000 - val_acc: 0.0000e+00 - val_mse: 8777832333093896192.0000\n",
            "Epoch 11/30\n",
            "154/154 [==============================] - 0s 2ms/step - loss: 8341592298680745984.0000 - acc: 0.0000e+00 - mse: 8341592298680745984.0000 - val_loss: 8777832333093896192.0000 - val_acc: 0.0000e+00 - val_mse: 8777832333093896192.0000\n",
            "Epoch 12/30\n",
            "154/154 [==============================] - 0s 2ms/step - loss: 8341593398192373760.0000 - acc: 0.0000e+00 - mse: 8341593398192373760.0000 - val_loss: 8777832333093896192.0000 - val_acc: 0.0000e+00 - val_mse: 8777832333093896192.0000\n",
            "Epoch 13/30\n",
            "154/154 [==============================] - 0s 2ms/step - loss: 8341593398192373760.0000 - acc: 0.0000e+00 - mse: 8341593398192373760.0000 - val_loss: 8777832333093896192.0000 - val_acc: 0.0000e+00 - val_mse: 8777832333093896192.0000\n",
            "Epoch 14/30\n",
            "154/154 [==============================] - 0s 2ms/step - loss: 8341594497704001536.0000 - acc: 0.0000e+00 - mse: 8341594497704001536.0000 - val_loss: 8777832333093896192.0000 - val_acc: 0.0000e+00 - val_mse: 8777832333093896192.0000\n",
            "Epoch 15/30\n",
            "154/154 [==============================] - 0s 2ms/step - loss: 8341592298680745984.0000 - acc: 0.0000e+00 - mse: 8341592298680745984.0000 - val_loss: 8777832333093896192.0000 - val_acc: 0.0000e+00 - val_mse: 8777832333093896192.0000\n",
            "Epoch 16/30\n",
            "154/154 [==============================] - 0s 3ms/step - loss: 8341596146971443200.0000 - acc: 0.0000e+00 - mse: 8341596146971443200.0000 - val_loss: 8777832333093896192.0000 - val_acc: 0.0000e+00 - val_mse: 8777832333093896192.0000\n",
            "Epoch 17/30\n",
            "154/154 [==============================] - 0s 2ms/step - loss: 8341590649413304320.0000 - acc: 0.0000e+00 - mse: 8341590649413304320.0000 - val_loss: 8777832333093896192.0000 - val_acc: 0.0000e+00 - val_mse: 8777832333093896192.0000\n",
            "Epoch 18/30\n",
            "154/154 [==============================] - 0s 2ms/step - loss: 8341592298680745984.0000 - acc: 0.0000e+00 - mse: 8341592298680745984.0000 - val_loss: 8777832333093896192.0000 - val_acc: 0.0000e+00 - val_mse: 8777832333093896192.0000\n",
            "Epoch 19/30\n",
            "154/154 [==============================] - 0s 2ms/step - loss: 8341592298680745984.0000 - acc: 0.0000e+00 - mse: 8341592298680745984.0000 - val_loss: 8777832333093896192.0000 - val_acc: 0.0000e+00 - val_mse: 8777832333093896192.0000\n",
            "Epoch 20/30\n",
            "154/154 [==============================] - 0s 2ms/step - loss: 8341592298680745984.0000 - acc: 0.0000e+00 - mse: 8341592298680745984.0000 - val_loss: 8777832333093896192.0000 - val_acc: 0.0000e+00 - val_mse: 8777832333093896192.0000\n",
            "Epoch 21/30\n",
            "154/154 [==============================] - 0s 2ms/step - loss: 8341589549901676544.0000 - acc: 0.0000e+00 - mse: 8341589549901676544.0000 - val_loss: 8777832333093896192.0000 - val_acc: 0.0000e+00 - val_mse: 8777832333093896192.0000\n",
            "Epoch 22/30\n",
            "154/154 [==============================] - 0s 2ms/step - loss: 8341593398192373760.0000 - acc: 0.0000e+00 - mse: 8341593398192373760.0000 - val_loss: 8777832333093896192.0000 - val_acc: 0.0000e+00 - val_mse: 8777832333093896192.0000\n",
            "Epoch 23/30\n",
            "154/154 [==============================] - 0s 2ms/step - loss: 8341589549901676544.0000 - acc: 0.0000e+00 - mse: 8341589549901676544.0000 - val_loss: 8777832333093896192.0000 - val_acc: 0.0000e+00 - val_mse: 8777832333093896192.0000\n",
            "Epoch 24/30\n",
            "154/154 [==============================] - 0s 2ms/step - loss: 8341591748924932096.0000 - acc: 0.0000e+00 - mse: 8341591748924932096.0000 - val_loss: 8777832333093896192.0000 - val_acc: 0.0000e+00 - val_mse: 8777832333093896192.0000\n",
            "Epoch 25/30\n",
            "154/154 [==============================] - 0s 2ms/step - loss: 8341590649413304320.0000 - acc: 0.0000e+00 - mse: 8341590649413304320.0000 - val_loss: 8777832333093896192.0000 - val_acc: 0.0000e+00 - val_mse: 8777832333093896192.0000\n",
            "Epoch 26/30\n",
            "154/154 [==============================] - 0s 2ms/step - loss: 8341590649413304320.0000 - acc: 0.0000e+00 - mse: 8341590649413304320.0000 - val_loss: 8777832333093896192.0000 - val_acc: 0.0000e+00 - val_mse: 8777832333093896192.0000\n",
            "Epoch 27/30\n",
            "154/154 [==============================] - 0s 2ms/step - loss: 8341592298680745984.0000 - acc: 0.0000e+00 - mse: 8341592298680745984.0000 - val_loss: 8777832333093896192.0000 - val_acc: 0.0000e+00 - val_mse: 8777832333093896192.0000\n",
            "Epoch 28/30\n",
            "154/154 [==============================] - 0s 2ms/step - loss: 8341591748924932096.0000 - acc: 0.0000e+00 - mse: 8341591748924932096.0000 - val_loss: 8777832333093896192.0000 - val_acc: 0.0000e+00 - val_mse: 8777832333093896192.0000\n",
            "Epoch 29/30\n",
            "154/154 [==============================] - 0s 2ms/step - loss: 8341590649413304320.0000 - acc: 0.0000e+00 - mse: 8341590649413304320.0000 - val_loss: 8777832333093896192.0000 - val_acc: 0.0000e+00 - val_mse: 8777832333093896192.0000\n",
            "Epoch 30/30\n",
            "154/154 [==============================] - 0s 2ms/step - loss: 8341592298680745984.0000 - acc: 0.0000e+00 - mse: 8341592298680745984.0000 - val_loss: 8777832333093896192.0000 - val_acc: 0.0000e+00 - val_mse: 8777832333093896192.0000\n"
          ]
        }
      ]
    },
    {
      "cell_type": "code",
      "source": [
        "plot_history(history, metric='acc')"
      ],
      "metadata": {
        "colab": {
          "base_uri": "https://localhost:8080/",
          "height": 606
        },
        "id": "QBH40WCCAgEP",
        "outputId": "010f950c-cf47-42b9-d2f3-bd7a5ad32ab8"
      },
      "execution_count": 139,
      "outputs": [
        {
          "output_type": "display_data",
          "data": {
            "text/plain": [
              "<Figure size 360x720 with 2 Axes>"
            ],
            "image/png": "[encoded data removed]"
          },
          "metadata": {}
        }
      ]
    },
    {
      "cell_type": "markdown",
      "source": [
        "## Model 2"
      ],
      "metadata": {
        "id": "NU1nlSpNbXSh"
      }
    },
    {
      "cell_type": "code",
      "source": [
        "model2 = Sequential()\n",
        "\n",
        "model2.add(Dense(2, input_dim = X_train_pca.shape[1],\n",
        "                activation = 'relu'))\n",
        "\n",
        "model2.add(Dense(10, input_dim = X_train_pca.shape[1],\n",
        "                activation = 'relu'))\n",
        "\n",
        "model2.add(Dense(1, activation = 'linear'))\n",
        "\n",
        "model2.compile(loss='mse', optimizer='adam', metrics=['acc', 'mse'])"
      ],
      "metadata": {
        "id": "P9GAsMGYE5VX"
      },
      "execution_count": 141,
      "outputs": []
    },
    {
      "cell_type": "code",
      "source": [
        "model2.summary()"
      ],
      "metadata": {
        "colab": {
          "base_uri": "https://localhost:8080/"
        },
        "id": "yfZz90T6bRnb",
        "outputId": "7316ed37-84fd-40f4-99bc-ae673182b2b7"
      },
      "execution_count": 142,
      "outputs": [
        {
          "output_type": "stream",
          "name": "stdout",
          "text": [
            "Model: \"sequential_3\"\n",
            "_________________________________________________________________\n",
            " Layer (type)                Output Shape              Param #   \n",
            "=================================================================\n",
            " dense_6 (Dense)             (None, 2)                 6         \n",
            "                                                                 \n",
            " dense_7 (Dense)             (None, 10)                30        \n",
            "                                                                 \n",
            " dense_8 (Dense)             (None, 1)                 11        \n",
            "                                                                 \n",
            "=================================================================\n",
            "Total params: 47\n",
            "Trainable params: 47\n",
            "Non-trainable params: 0\n",
            "_________________________________________________________________\n"
          ]
        }
      ]
    },
    {
      "cell_type": "code",
      "source": [
        "history = model2.fit(X_train_pca, y_train,\n",
        "                    validation_data=(X_test_pca, y_test),\n",
        "                    epochs=30)"
      ],
      "metadata": {
        "colab": {
          "base_uri": "https://localhost:8080/"
        },
        "id": "I5DS8EfYdgDc",
        "outputId": "2eec981e-b179-4ed4-b6e9-d8ee96c73d9f"
      },
      "execution_count": 143,
      "outputs": [
        {
          "output_type": "stream",
          "name": "stdout",
          "text": [
            "Epoch 1/30\n",
            "154/154 [==============================] - 1s 4ms/step - loss: 8341590649413304320.0000 - acc: 0.0132 - mse: 8341590649413304320.0000 - val_loss: 8777832333093896192.0000 - val_acc: 0.0091 - val_mse: 8777832333093896192.0000\n",
            "Epoch 2/30\n",
            "154/154 [==============================] - 0s 2ms/step - loss: 8341592298680745984.0000 - acc: 0.0098 - mse: 8341592298680745984.0000 - val_loss: 8777832333093896192.0000 - val_acc: 0.0000e+00 - val_mse: 8777832333093896192.0000\n",
            "Epoch 3/30\n",
            "154/154 [==============================] - 0s 2ms/step - loss: 8341591748924932096.0000 - acc: 0.0000e+00 - mse: 8341591748924932096.0000 - val_loss: 8777832333093896192.0000 - val_acc: 0.0000e+00 - val_mse: 8777832333093896192.0000\n",
            "Epoch 4/30\n",
            "154/154 [==============================] - 0s 2ms/step - loss: 8341589000145862656.0000 - acc: 0.0000e+00 - mse: 8341589000145862656.0000 - val_loss: 8777832333093896192.0000 - val_acc: 0.0000e+00 - val_mse: 8777832333093896192.0000\n",
            "Epoch 5/30\n",
            "154/154 [==============================] - 0s 2ms/step - loss: 8341590649413304320.0000 - acc: 0.0000e+00 - mse: 8341590649413304320.0000 - val_loss: 8777832333093896192.0000 - val_acc: 0.0000e+00 - val_mse: 8777832333093896192.0000\n",
            "Epoch 6/30\n",
            "154/154 [==============================] - 0s 2ms/step - loss: 8341591748924932096.0000 - acc: 0.0000e+00 - mse: 8341591748924932096.0000 - val_loss: 8777832333093896192.0000 - val_acc: 0.0000e+00 - val_mse: 8777832333093896192.0000\n",
            "Epoch 7/30\n",
            "154/154 [==============================] - 0s 2ms/step - loss: 8341590649413304320.0000 - acc: 0.0000e+00 - mse: 8341590649413304320.0000 - val_loss: 8777832333093896192.0000 - val_acc: 0.0000e+00 - val_mse: 8777832333093896192.0000\n",
            "Epoch 8/30\n",
            "154/154 [==============================] - 0s 2ms/step - loss: 8341589549901676544.0000 - acc: 0.0000e+00 - mse: 8341589549901676544.0000 - val_loss: 8777832333093896192.0000 - val_acc: 0.0000e+00 - val_mse: 8777832333093896192.0000\n",
            "Epoch 9/30\n",
            "154/154 [==============================] - 0s 2ms/step - loss: 8341594497704001536.0000 - acc: 0.0000e+00 - mse: 8341594497704001536.0000 - val_loss: 8777832333093896192.0000 - val_acc: 0.0000e+00 - val_mse: 8777832333093896192.0000\n",
            "Epoch 10/30\n",
            "154/154 [==============================] - 0s 2ms/step - loss: 8341591748924932096.0000 - acc: 0.0000e+00 - mse: 8341591748924932096.0000 - val_loss: 8777832333093896192.0000 - val_acc: 0.0000e+00 - val_mse: 8777832333093896192.0000\n",
            "Epoch 11/30\n",
            "154/154 [==============================] - 0s 2ms/step - loss: 8341592298680745984.0000 - acc: 0.0000e+00 - mse: 8341592298680745984.0000 - val_loss: 8777832333093896192.0000 - val_acc: 0.0000e+00 - val_mse: 8777832333093896192.0000\n",
            "Epoch 12/30\n",
            "154/154 [==============================] - 0s 2ms/step - loss: 8341596146971443200.0000 - acc: 0.0000e+00 - mse: 8341596146971443200.0000 - val_loss: 8777832333093896192.0000 - val_acc: 0.0000e+00 - val_mse: 8777832333093896192.0000\n",
            "Epoch 13/30\n",
            "154/154 [==============================] - 0s 2ms/step - loss: 8341586251366793216.0000 - acc: 0.0000e+00 - mse: 8341586251366793216.0000 - val_loss: 8777832333093896192.0000 - val_acc: 0.0000e+00 - val_mse: 8777832333093896192.0000\n",
            "Epoch 14/30\n",
            "154/154 [==============================] - 0s 2ms/step - loss: 8341589549901676544.0000 - acc: 0.0000e+00 - mse: 8341589549901676544.0000 - val_loss: 8777832333093896192.0000 - val_acc: 0.0000e+00 - val_mse: 8777832333093896192.0000\n",
            "Epoch 15/30\n",
            "154/154 [==============================] - 0s 2ms/step - loss: 8341592298680745984.0000 - acc: 0.0000e+00 - mse: 8341592298680745984.0000 - val_loss: 8777832333093896192.0000 - val_acc: 0.0000e+00 - val_mse: 8777832333093896192.0000\n",
            "Epoch 16/30\n",
            "154/154 [==============================] - 0s 2ms/step - loss: 8341590649413304320.0000 - acc: 0.0000e+00 - mse: 8341590649413304320.0000 - val_loss: 8777832333093896192.0000 - val_acc: 0.0000e+00 - val_mse: 8777832333093896192.0000\n",
            "Epoch 17/30\n",
            "154/154 [==============================] - 0s 2ms/step - loss: 8341591748924932096.0000 - acc: 0.0000e+00 - mse: 8341591748924932096.0000 - val_loss: 8777832333093896192.0000 - val_acc: 0.0000e+00 - val_mse: 8777832333093896192.0000\n",
            "Epoch 18/30\n",
            "154/154 [==============================] - 0s 2ms/step - loss: 8341589000145862656.0000 - acc: 0.0000e+00 - mse: 8341589000145862656.0000 - val_loss: 8777832333093896192.0000 - val_acc: 0.0000e+00 - val_mse: 8777832333093896192.0000\n",
            "Epoch 19/30\n",
            "154/154 [==============================] - 0s 3ms/step - loss: 8341592298680745984.0000 - acc: 0.0000e+00 - mse: 8341592298680745984.0000 - val_loss: 8777832333093896192.0000 - val_acc: 0.0000e+00 - val_mse: 8777832333093896192.0000\n",
            "Epoch 20/30\n",
            "154/154 [==============================] - 0s 2ms/step - loss: 8341594497704001536.0000 - acc: 0.0000e+00 - mse: 8341594497704001536.0000 - val_loss: 8777832333093896192.0000 - val_acc: 0.0000e+00 - val_mse: 8777832333093896192.0000\n",
            "Epoch 21/30\n",
            "154/154 [==============================] - 0s 2ms/step - loss: 8341586801122607104.0000 - acc: 0.0000e+00 - mse: 8341586801122607104.0000 - val_loss: 8777832333093896192.0000 - val_acc: 0.0000e+00 - val_mse: 8777832333093896192.0000\n",
            "Epoch 22/30\n",
            "154/154 [==============================] - 0s 2ms/step - loss: 8341590649413304320.0000 - acc: 0.0000e+00 - mse: 8341590649413304320.0000 - val_loss: 8777832333093896192.0000 - val_acc: 0.0000e+00 - val_mse: 8777832333093896192.0000\n",
            "Epoch 23/30\n",
            "154/154 [==============================] - 0s 2ms/step - loss: 8341592298680745984.0000 - acc: 0.0000e+00 - mse: 8341592298680745984.0000 - val_loss: 8777832333093896192.0000 - val_acc: 0.0000e+00 - val_mse: 8777832333093896192.0000\n",
            "Epoch 24/30\n",
            "154/154 [==============================] - 0s 2ms/step - loss: 8341591748924932096.0000 - acc: 0.0000e+00 - mse: 8341591748924932096.0000 - val_loss: 8777832333093896192.0000 - val_acc: 0.0000e+00 - val_mse: 8777832333093896192.0000\n",
            "Epoch 25/30\n",
            "154/154 [==============================] - 0s 2ms/step - loss: 8341589000145862656.0000 - acc: 0.0000e+00 - mse: 8341589000145862656.0000 - val_loss: 8777832333093896192.0000 - val_acc: 0.0000e+00 - val_mse: 8777832333093896192.0000\n",
            "Epoch 26/30\n",
            "154/154 [==============================] - 0s 2ms/step - loss: 8341593398192373760.0000 - acc: 0.0000e+00 - mse: 8341593398192373760.0000 - val_loss: 8777832333093896192.0000 - val_acc: 0.0000e+00 - val_mse: 8777832333093896192.0000\n",
            "Epoch 27/30\n",
            "154/154 [==============================] - 0s 2ms/step - loss: 8341592298680745984.0000 - acc: 0.0000e+00 - mse: 8341592298680745984.0000 - val_loss: 8777832333093896192.0000 - val_acc: 0.0000e+00 - val_mse: 8777832333093896192.0000\n",
            "Epoch 28/30\n",
            "154/154 [==============================] - 0s 2ms/step - loss: 8341590649413304320.0000 - acc: 0.0000e+00 - mse: 8341590649413304320.0000 - val_loss: 8777832333093896192.0000 - val_acc: 0.0000e+00 - val_mse: 8777832333093896192.0000\n",
            "Epoch 29/30\n",
            "154/154 [==============================] - 0s 2ms/step - loss: 8341591748924932096.0000 - acc: 0.0000e+00 - mse: 8341591748924932096.0000 - val_loss: 8777832333093896192.0000 - val_acc: 0.0000e+00 - val_mse: 8777832333093896192.0000\n",
            "Epoch 30/30\n",
            "154/154 [==============================] - 0s 2ms/step - loss: 8341592298680745984.0000 - acc: 0.0000e+00 - mse: 8341592298680745984.0000 - val_loss: 8777832333093896192.0000 - val_acc: 0.0000e+00 - val_mse: 8777832333093896192.0000\n"
          ]
        }
      ]
    },
    {
      "cell_type": "code",
      "source": [
        "plot_history(history, metric='acc')"
      ],
      "metadata": {
        "colab": {
          "base_uri": "https://localhost:8080/",
          "height": 606
        },
        "id": "NeKjUzdhdv0X",
        "outputId": "2812d528-2aa0-4d47-9fbc-f690c8c2f7a0"
      },
      "execution_count": 144,
      "outputs": [
        {
          "output_type": "display_data",
          "data": {
            "text/plain": [
              "<Figure size 360x720 with 2 Axes>"
            ],
            "image/png": "[encoded data removed]"
          },
          "metadata": {}
        }
      ]
    },
    {
      "cell_type": "markdown",
      "source": [
        "I'm going to keep working on this model.  I believe I will need to go back and change focus.  All of the features will have to encoded and run through that way.\n",
        "\n",
        "My hypothesis is as follows:  If I OHE the Geography feature, it'll create far more features to analyze across the model which we need considering how drastically underfit this model presently is.  This should improve the nuance of the model, allow for improved PCA, provide better clustering, and ultimately give improved acuracy to the model.\n",
        "\n",
        "As I've been coding for 36 hours straight now, in order to have everything in to unlock the exam, I am having difficulty maintaining the rate.  I will try and get the revamped model in ASAP, but I am getting concerned that the relentless pursuit of perfection required with the submission of all of these assignments it is also going to adversely impact my performance on the incredibly rigorous exams, which the class just learned is you miss just half a point it demotes you to some form of second class belt.  This setup is not very conducive to success in my opinion."
      ],
      "metadata": {
        "id": "GOdC7ObueDHz"
      }
    }
  ]
}