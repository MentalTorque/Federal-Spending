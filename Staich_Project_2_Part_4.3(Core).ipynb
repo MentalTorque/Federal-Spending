{
  "nbformat": 4,
  "nbformat_minor": 0,
  "metadata": {
    "colab": {
      "name": "Staich - Project 2 - Part  4 .2 (Core)",
      "provenance": [],
      "collapsed_sections": [
        "jEM2EiXPVPEZ",
        "XrW3l2wuNejO",
        "pjN5MnnCyTG0"
      ],
      "machine_shape": "hm",
      "authorship_tag": "ABX9TyMBY6K2rB0JmeXx0gwvzTRf",
      "include_colab_link": true
    },
    "kernelspec": {
      "name": "python3",
      "display_name": "Python 3"
    },
    "language_info": {
      "name": "python"
    },
    "accelerator": "GPU"
  },
  "cells": [
    {
      "cell_type": "markdown",
      "metadata": {
        "id": "view-in-github",
        "colab_type": "text"
      },
      "source": [
        "<a href=\"https://colab.research.google.com/github/MentalTorque/Federal-Spending/blob/main/Staich_Project_2_Part_4.3(Core).ipynb\" target=\"_parent\"><img src=\"https://colab.research.google.com/assets/colab-badge.svg\" alt=\"Open In Colab\"/></a>"
      ]
    },
    {
      "cell_type": "code",
      "source": [
        "# Nicholas M. Staich\n",
        "\n",
        "from google.colab import drive\n",
        "drive.mount('/content/drive')"
      ],
      "metadata": {
        "colab": {
          "base_uri": "https://localhost:8080/"
        },
        "id": "iUzHM_tLuX9t",
        "outputId": "5453e81f-54c0-4fbc-8532-4fc775e9e2b6"
      },
      "execution_count": 1,
      "outputs": [
        {
          "output_type": "stream",
          "name": "stdout",
          "text": [
            "Mounted at /content/drive\n"
          ]
        }
      ]
    },
    {
      "cell_type": "markdown",
      "source": [
        "2) Brief description of data\n",
        "\n",
        "Spending by federal agency by statre and office.\n",
        "\n",
        "3) What is the target?\n",
        "\n",
        "Send by org\n",
        "\n",
        "4) Is this a classification or regression problem?\n",
        "\n",
        "* Classification\n",
        "\n",
        "\n",
        "5) How many features?\n",
        "\n",
        "* 5\n",
        "\n",
        "6) How many rows of data.\n",
        "\n",
        "* 6,557\n",
        "\n",
        "7) What, if any, challenges do your foresee in cleaning, exploring, or modeling with this dataset?\n",
        "\n",
        "* Properly structuring the data on this one is my major concern.  I am interested to see what I can do with this data."
      ],
      "metadata": {
        "id": "-wI5VDs00pxD"
      }
    },
    {
      "cell_type": "markdown",
      "source": [
        "#Project 2 - Part 2 (Core)"
      ],
      "metadata": {
        "id": "jEM2EiXPVPEZ"
      }
    },
    {
      "cell_type": "markdown",
      "source": [
        "To meet the requirements for this week you must have:\n",
        "\n",
        "-deleted unnecessary columns\n",
        "\n",
        "-deleted duplicate rows\n",
        "\n",
        "-identified and addressed missing values \n",
        "\n",
        "-identified and corrected inconsistencies in data for categorical values (i.e. Cat, cat, cats)\n",
        "\n",
        "-produced univariate visuals for the target and all features\n",
        "\n",
        "-identified outliers\n",
        "\n",
        "-produce a correlation heatmap and identify any moderate or strong correlations between your target and your features and/or between one feature and another\n",
        "\n",
        "-clearly commented all of your cleaning steps and described any decisions you made  (Note: During the final stack of the program, you will be making a presentation for a technical audience that includes your decisions and process in the cleaning steps. The more notes you take now, the easier that presentation will be. To clarify, that presentation is NOT due now.)\n",
        "\n",
        "Note that you should start working on your in depth EDA and making multivariate visuals for the upcoming part 3 of this assignment once you have submitted all tasks and your belt exam for this stack.\n",
        "\n",
        "Commit your file to your Github repository and submit the link below.\n"
      ],
      "metadata": {
        "id": "jVJfQWF4qM--"
      }
    },
    {
      "cell_type": "code",
      "source": [
        "#Load my Libraries\n",
        "\n",
        "import pandas as pd\n",
        "import numpy as np\n",
        "import matplotlib.pyplot as plt\n",
        "import seaborn as sns\n",
        "import tensorflow.keras as keras\n",
        "\n",
        "from seaborn import heatmap\n",
        "from sklearn.metrics import mean_squared_error, confusion_matrix\n",
        "from sklearn.preprocessing import StandardScaler\n",
        "from sklearn.model_selection import train_test_split\n",
        "from sklearn import set_config\n",
        "set_config(display='diagram')\n",
        "from sklearn import metrics\n",
        "from sklearn.metrics import silhouette_score, mean_absolute_error, mean_squared_error, r2_score\n",
        "from sklearn.cluster import AgglomerativeClustering, KMeans\n",
        "from sklearn.decomposition import PCA\n",
        "from sklearn.linear_model import LinearRegression\n",
        "from sklearn.preprocessing import OneHotEncoder, StandardScaler\n",
        "from sklearn.compose import make_column_transformer, make_column_selector\n",
        "from sklearn.pipeline import make_pipeline\n",
        "from sklearn.impute import SimpleImputer\n",
        "from tensorflow.keras.callbacks import EarlyStopping\n",
        "from tensorflow.keras import metrics\n",
        "from keras.models import Sequential\n",
        "from keras.layers import Dense, Dropout\n",
        "\n"
      ],
      "metadata": {
        "id": "8i3tsQA04Oav"
      },
      "execution_count": 2,
      "outputs": []
    },
    {
      "cell_type": "markdown",
      "source": [
        "## Federal Spending Data Set\n",
        "\n"
      ],
      "metadata": {
        "id": "Qbdra91PyHMw"
      }
    },
    {
      "cell_type": "code",
      "source": [
        "#Grab the data\n",
        "data_source_2 = ('/content/drive/MyDrive/Coding Dojo/Data USA Cart.csv')\n",
        "\n",
        "df = pd.read_csv(data_source_2)\n",
        "df.head()"
      ],
      "metadata": {
        "id": "u3pIchpVuWZ7",
        "colab": {
          "base_uri": "https://localhost:8080/",
          "height": 206
        },
        "outputId": "493efbf3-5ea8-43eb-ac3e-0ff861ddb8df"
      },
      "execution_count": 3,
      "outputs": [
        {
          "output_type": "execute_result",
          "data": {
            "text/plain": [
              "  ID Geography             Geography ID Agency  \\\n",
              "0    04000US11  District of Columbia      1100   \n",
              "1    04000US17              Illinois      1100   \n",
              "2    04000US36              New York      1100   \n",
              "3    04000US51              Virginia      1100   \n",
              "4    04000US04               Arizona      1127   \n",
              "\n",
              "                                       Agency  Obligation Amount (2017)  \n",
              "0           Executive Office of the President               63125124.30  \n",
              "1           Executive Office of the President                 436400.70  \n",
              "2           Executive Office of the President                 -25400.44  \n",
              "3           Executive Office of the President                 114026.54  \n",
              "4  Office of the National Drug Control Policy                9700578.94  "
            ],
            "text/html": [
              "\n",
              "  <div id=\"df-e291dd0e-f4d4-4dd2-ac54-6d870d46d988\">\n",
              "    <div class=\"colab-df-container\">\n",
              "      <div>\n",
              "<style scoped>\n",
              "    .dataframe tbody tr th:only-of-type {\n",
              "        vertical-align: middle;\n",
              "    }\n",
              "\n",
              "    .dataframe tbody tr th {\n",
              "        vertical-align: top;\n",
              "    }\n",
              "\n",
              "    .dataframe thead th {\n",
              "        text-align: right;\n",
              "    }\n",
              "</style>\n",
              "<table border=\"1\" class=\"dataframe\">\n",
              "  <thead>\n",
              "    <tr style=\"text-align: right;\">\n",
              "      <th></th>\n",
              "      <th>ID Geography</th>\n",
              "      <th>Geography</th>\n",
              "      <th>ID Agency</th>\n",
              "      <th>Agency</th>\n",
              "      <th>Obligation Amount (2017)</th>\n",
              "    </tr>\n",
              "  </thead>\n",
              "  <tbody>\n",
              "    <tr>\n",
              "      <th>0</th>\n",
              "      <td>04000US11</td>\n",
              "      <td>District of Columbia</td>\n",
              "      <td>1100</td>\n",
              "      <td>Executive Office of the President</td>\n",
              "      <td>63125124.30</td>\n",
              "    </tr>\n",
              "    <tr>\n",
              "      <th>1</th>\n",
              "      <td>04000US17</td>\n",
              "      <td>Illinois</td>\n",
              "      <td>1100</td>\n",
              "      <td>Executive Office of the President</td>\n",
              "      <td>436400.70</td>\n",
              "    </tr>\n",
              "    <tr>\n",
              "      <th>2</th>\n",
              "      <td>04000US36</td>\n",
              "      <td>New York</td>\n",
              "      <td>1100</td>\n",
              "      <td>Executive Office of the President</td>\n",
              "      <td>-25400.44</td>\n",
              "    </tr>\n",
              "    <tr>\n",
              "      <th>3</th>\n",
              "      <td>04000US51</td>\n",
              "      <td>Virginia</td>\n",
              "      <td>1100</td>\n",
              "      <td>Executive Office of the President</td>\n",
              "      <td>114026.54</td>\n",
              "    </tr>\n",
              "    <tr>\n",
              "      <th>4</th>\n",
              "      <td>04000US04</td>\n",
              "      <td>Arizona</td>\n",
              "      <td>1127</td>\n",
              "      <td>Office of the National Drug Control Policy</td>\n",
              "      <td>9700578.94</td>\n",
              "    </tr>\n",
              "  </tbody>\n",
              "</table>\n",
              "</div>\n",
              "      <button class=\"colab-df-convert\" onclick=\"convertToInteractive('df-e291dd0e-f4d4-4dd2-ac54-6d870d46d988')\"\n",
              "              title=\"Convert this dataframe to an interactive table.\"\n",
              "              style=\"display:none;\">\n",
              "        \n",
              "  <svg xmlns=\"http://www.w3.org/2000/svg\" height=\"24px\"viewBox=\"0 0 24 24\"\n",
              "       width=\"24px\">\n",
              "    <path d=\"M0 0h24v24H0V0z\" fill=\"none\"/>\n",
              "    <path d=\"M18.56 5.44l.94 2.06.94-2.06 2.06-.94-2.06-.94-.94-2.06-.94 2.06-2.06.94zm-11 1L8.5 8.5l.94-2.06 2.06-.94-2.06-.94L8.5 2.5l-.94 2.06-2.06.94zm10 10l.94 2.06.94-2.06 2.06-.94-2.06-.94-.94-2.06-.94 2.06-2.06.94z\"/><path d=\"M17.41 7.96l-1.37-1.37c-.4-.4-.92-.59-1.43-.59-.52 0-1.04.2-1.43.59L10.3 9.45l-7.72 7.72c-.78.78-.78 2.05 0 2.83L4 21.41c.39.39.9.59 1.41.59.51 0 1.02-.2 1.41-.59l7.78-7.78 2.81-2.81c.8-.78.8-2.07 0-2.86zM5.41 20L4 18.59l7.72-7.72 1.47 1.35L5.41 20z\"/>\n",
              "  </svg>\n",
              "      </button>\n",
              "      \n",
              "  <style>\n",
              "    .colab-df-container {\n",
              "      display:flex;\n",
              "      flex-wrap:wrap;\n",
              "      gap: 12px;\n",
              "    }\n",
              "\n",
              "    .colab-df-convert {\n",
              "      background-color: #E8F0FE;\n",
              "      border: none;\n",
              "      border-radius: 50%;\n",
              "      cursor: pointer;\n",
              "      display: none;\n",
              "      fill: #1967D2;\n",
              "      height: 32px;\n",
              "      padding: 0 0 0 0;\n",
              "      width: 32px;\n",
              "    }\n",
              "\n",
              "    .colab-df-convert:hover {\n",
              "      background-color: #E2EBFA;\n",
              "      box-shadow: 0px 1px 2px rgba(60, 64, 67, 0.3), 0px 1px 3px 1px rgba(60, 64, 67, 0.15);\n",
              "      fill: #174EA6;\n",
              "    }\n",
              "\n",
              "    [theme=dark] .colab-df-convert {\n",
              "      background-color: #3B4455;\n",
              "      fill: #D2E3FC;\n",
              "    }\n",
              "\n",
              "    [theme=dark] .colab-df-convert:hover {\n",
              "      background-color: #434B5C;\n",
              "      box-shadow: 0px 1px 3px 1px rgba(0, 0, 0, 0.15);\n",
              "      filter: drop-shadow(0px 1px 2px rgba(0, 0, 0, 0.3));\n",
              "      fill: #FFFFFF;\n",
              "    }\n",
              "  </style>\n",
              "\n",
              "      <script>\n",
              "        const buttonEl =\n",
              "          document.querySelector('#df-e291dd0e-f4d4-4dd2-ac54-6d870d46d988 button.colab-df-convert');\n",
              "        buttonEl.style.display =\n",
              "          google.colab.kernel.accessAllowed ? 'block' : 'none';\n",
              "\n",
              "        async function convertToInteractive(key) {\n",
              "          const element = document.querySelector('#df-e291dd0e-f4d4-4dd2-ac54-6d870d46d988');\n",
              "          const dataTable =\n",
              "            await google.colab.kernel.invokeFunction('convertToInteractive',\n",
              "                                                     [key], {});\n",
              "          if (!dataTable) return;\n",
              "\n",
              "          const docLinkHtml = 'Like what you see? Visit the ' +\n",
              "            '<a target=\"_blank\" href=https://colab.research.google.com/notebooks/data_table.ipynb>data table notebook</a>'\n",
              "            + ' to learn more about interactive tables.';\n",
              "          element.innerHTML = '';\n",
              "          dataTable['output_type'] = 'display_data';\n",
              "          await google.colab.output.renderOutput(dataTable, element);\n",
              "          const docLink = document.createElement('div');\n",
              "          docLink.innerHTML = docLinkHtml;\n",
              "          element.appendChild(docLink);\n",
              "        }\n",
              "      </script>\n",
              "    </div>\n",
              "  </div>\n",
              "  "
            ]
          },
          "metadata": {},
          "execution_count": 3
        }
      ]
    },
    {
      "cell_type": "code",
      "source": [
        "#Check data shape\n",
        "df.shape"
      ],
      "metadata": {
        "colab": {
          "base_uri": "https://localhost:8080/"
        },
        "id": "bxHOhHATayGt",
        "outputId": "161963ce-98d0-48ee-c39b-fe8a9f5c8625"
      },
      "execution_count": 4,
      "outputs": [
        {
          "output_type": "execute_result",
          "data": {
            "text/plain": [
              "(6557, 5)"
            ]
          },
          "metadata": {},
          "execution_count": 4
        }
      ]
    },
    {
      "cell_type": "markdown",
      "source": [
        "Data set is 6557 observations across 5 features"
      ],
      "metadata": {
        "id": "d7DYphLG3cWO"
      }
    },
    {
      "cell_type": "code",
      "source": [
        "# Understand the characteristics of the dataframe we are working with\n",
        "df.info()"
      ],
      "metadata": {
        "colab": {
          "base_uri": "https://localhost:8080/"
        },
        "id": "jUZDH4MBqgyA",
        "outputId": "877d47d8-5ded-453e-b343-24cf341ea70b"
      },
      "execution_count": 5,
      "outputs": [
        {
          "output_type": "stream",
          "name": "stdout",
          "text": [
            "<class 'pandas.core.frame.DataFrame'>\n",
            "RangeIndex: 6557 entries, 0 to 6556\n",
            "Data columns (total 5 columns):\n",
            " #   Column                    Non-Null Count  Dtype  \n",
            "---  ------                    --------------  -----  \n",
            " 0   ID Geography              6557 non-null   object \n",
            " 1   Geography                 6557 non-null   object \n",
            " 2   ID Agency                 6557 non-null   object \n",
            " 3   Agency                    6557 non-null   object \n",
            " 4   Obligation Amount (2017)  6557 non-null   float64\n",
            "dtypes: float64(1), object(4)\n",
            "memory usage: 256.3+ KB\n"
          ]
        }
      ]
    },
    {
      "cell_type": "code",
      "source": [
        "# Verify the stypes we are working with\n",
        "df.dtypes"
      ],
      "metadata": {
        "colab": {
          "base_uri": "https://localhost:8080/"
        },
        "id": "IwWCd3WzdowI",
        "outputId": "50800b88-9571-4fb7-acdf-60fd6bfd0d02"
      },
      "execution_count": 6,
      "outputs": [
        {
          "output_type": "execute_result",
          "data": {
            "text/plain": [
              "ID Geography                 object\n",
              "Geography                    object\n",
              "ID Agency                    object\n",
              "Agency                       object\n",
              "Obligation Amount (2017)    float64\n",
              "dtype: object"
            ]
          },
          "metadata": {},
          "execution_count": 6
        }
      ]
    },
    {
      "cell_type": "markdown",
      "source": [
        "Objects are going to have to be encoded for a regression problem on the continuous observation value."
      ],
      "metadata": {
        "id": "gBPhxQq03mMT"
      }
    },
    {
      "cell_type": "code",
      "source": [
        "#Check for missing values \n",
        "df.value_counts().isna()"
      ],
      "metadata": {
        "colab": {
          "base_uri": "https://localhost:8080/"
        },
        "id": "U6Eh6JJKqlBX",
        "outputId": "63b3b637-a42c-4b95-bade-bc20bc4cba9c"
      },
      "execution_count": 7,
      "outputs": [
        {
          "output_type": "execute_result",
          "data": {
            "text/plain": [
              "ID Geography  Geography       ID Agency  Agency                                                         Obligation Amount (2017)\n",
              "04000US01     Alabama         1145       Peace Corps                                                    3.819297e+04                False\n",
              "04000US37     North Carolina  7530       Centers for Medicare and Medicaid Services                     1.216213e+09                False\n",
              "                              8635       Assistant Secretary for Public and Indian Housing              3.616013e+08                False\n",
              "                              8630       Assistant Secretary for Housing--Federal Housing Commissioner  1.332609e+08                False\n",
              "                              8620       Assistant Secretary for Community Planning and Development     2.930580e+08                False\n",
              "                                                                                                                                    ...  \n",
              "04000US20     Kansas          5940       National Endowment for the Humanities                          6.000000e+03                False\n",
              "                              5920       National Endowment for the Arts                                1.712386e+06                False\n",
              "                              5700       Department of the Air Force                                    1.727293e+08                False\n",
              "                              4900       National Science Foundation                                    3.956399e+07                False\n",
              "04000US72     Puerto Rico     97F2       Department of Defense Education Activity (DODEA)               1.211497e+06                False\n",
              "Length: 6557, dtype: bool"
            ]
          },
          "metadata": {},
          "execution_count": 7
        }
      ]
    },
    {
      "cell_type": "code",
      "source": [
        "#Check the object columns the will have to be OHE to make sure all values are unique and correct.\n",
        "\n",
        "df_obj = df.select_dtypes(include = 'object')\n",
        "df_obj_cols = list(df_obj)\n",
        "for col in df_obj_cols:\n",
        "  print(f\"col: {df_obj[col].unique()}\\n\")\n"
      ],
      "metadata": {
        "colab": {
          "base_uri": "https://localhost:8080/"
        },
        "id": "5EN0uOyCq3AA",
        "outputId": "63d6e338-6677-433b-c6fa-cdc08472458b"
      },
      "execution_count": 8,
      "outputs": [
        {
          "output_type": "stream",
          "name": "stdout",
          "text": [
            "col: ['04000US11' '04000US17' '04000US36' '04000US51' '04000US04' '04000US06'\n",
            " '04000US08' '04000US10' '04000US12' '04000US15' '04000US18' '04000US24'\n",
            " '04000US27' '04000US29' '04000US30' '04000US31' '04000US34' '04000US35'\n",
            " '04000US39' '04000US42' '04000US47' '04000US48' '04000US49' '04000US53'\n",
            " '04000US55' '04000US01' '04000US13' '04000US19' '04000US20' '04000US22'\n",
            " '04000US26' '04000US37' '04000US41' '04000US50' '04000US09' '04000US16'\n",
            " '04000US23' '04000US25' '04000US45' '04000US02' '04000US05' '04000US21'\n",
            " '04000US32' '04000US33' '04000US40' '04000US54' '04000US56' '04000US28'\n",
            " '04000US38' '04000US44' '04000US46' '04000US72']\n",
            "\n",
            "col: ['District of Columbia' 'Illinois' 'New York' 'Virginia' 'Arizona'\n",
            " 'California' 'Colorado' 'Delaware' 'Florida' 'Hawaii' 'Indiana'\n",
            " 'Maryland' 'Minnesota' 'Missouri' 'Montana' 'Nebraska' 'New Jersey'\n",
            " 'New Mexico' 'Ohio' 'Pennsylvania' 'Tennessee' 'Texas' 'Utah'\n",
            " 'Washington' 'Wisconsin' 'Alabama' 'Georgia' 'Iowa' 'Kansas' 'Louisiana'\n",
            " 'Michigan' 'North Carolina' 'Oregon' 'Vermont' 'Connecticut' 'Idaho'\n",
            " 'Maine' 'Massachusetts' 'South Carolina' 'Alaska' 'Arkansas' 'Kentucky'\n",
            " 'Nevada' 'New Hampshire' 'Oklahoma' 'West Virginia' 'Wyoming'\n",
            " 'Mississippi' 'North Dakota' 'Rhode Island' 'South Dakota' 'Puerto Rico']\n",
            "\n",
            "col: ['1100' '1127' '1145' '1153' '4704' '1204' '1604' '1205' '12C2' '12C3'\n",
            " '12D2' '12D3' '12D4' '12E2' '12E3' '12E4' '12F2' '12G2' '12H2' '12H3'\n",
            " '12H4' '12H5' '12K2' '12K3' '1301' '1323' '1325' '1330' '1335' '1341'\n",
            " '1344' '1350' '1352' '1400' '1402' '1504' '7504' '2001' '1406' '1409'\n",
            " '1422' '1425' '1434' '1435' '1436' '1438' '1443' '1445' '1448' '1450'\n",
            " '1501' '7004' '1524' '1540' '1542' '1544' '1549' '1550' '1560' '1605'\n",
            " '1625' '1630' '1645' '1650' '1653' '1665' '1667' '1900' '19BM' '2004'\n",
            " '2036' '2041' '2044' '2046' '2050' '2400' '2500' '2700' '2800' '2900'\n",
            " '9515' '3100' '3300' '3355' '9507' '3400' '9516' '3600' '3607' '3620'\n",
            " '3630' '3640' '9506' '9504' '4100' '9502' '5920' '5940' '6300' '9508'\n",
            " '9514' '4500' '4700' '4705' '4732' '4740' '4773' '4775' '9533' '5950'\n",
            " '9577' '4900' '5000' '9565' '9594' '959P' '9572' '9568' '9547' '9543'\n",
            " '9523' '9542' '5400' '9511' '955F' '6000' '6100' '6500' '6800' '6901'\n",
            " '6920' '6925' '6930' '6938' '6940' '6947' '6953' '6955' '6957' '7000'\n",
            " '7001' '7003' '7008' '7009' '7012' '7013' '7014' '7015' '7022' '7051'\n",
            " '7100' '7200' '7300' '7505' '7506' '7521' '7522' '7523' '7524' '7526'\n",
            " '7527' '7528' '7529' '7530' '7545' '7570' '7576' '7590' '8000' '8300'\n",
            " '8600' '8611' '8620' '8630' '8635' '8645' '8653' '8800' '8862' '8900'\n",
            " '8922' '8944' '8960' '9000' '9100' '9300' '1700' '2100' '5700' '9748'\n",
            " '9761' '9763' '9771' '9776' '97AE' '97AK' '97AS' '97AT' '97AV' '97AZ'\n",
            " '97BZ' '97DH' '97DL' '97F1' '97F2' '97F5' '97HW' '97JC' '97ZS']\n",
            "\n",
            "col: ['Executive Office of the President'\n",
            " 'Office of the National Drug Control Policy' 'Peace Corps'\n",
            " 'United States Trade and Development Agency'\n",
            " 'Office of Inspector General' 'Office of the Chief Financial Officer'\n",
            " 'Forest Service' 'Natural Resources Conservation Service'\n",
            " 'Farm Service Agency' 'Foreign Agricultural Service'\n",
            " 'Risk Management Agency' 'Rural Utilities Service'\n",
            " 'Rural Housing Service' 'Rural Business Cooperative Service'\n",
            " 'Food and Nutrition Service' 'Food Safety and Inspection Service'\n",
            " 'Agricultural Research Service'\n",
            " 'National Institute of Food and Agriculture' 'Economic Research Service'\n",
            " 'National Agricultural Statistics Service'\n",
            " 'Agricultural Marketing Service'\n",
            " 'Animal and Plant Health Inspection Service' 'Office of the Secretary'\n",
            " 'U.S. Census Bureau' 'Economic Development Administration'\n",
            " 'National Oceanic and Atmospheric Administration'\n",
            " 'National Telecommunications and Information Administration'\n",
            " 'National Institute of Standards and Technology'\n",
            " 'U.S. Patent and Trademark Office' 'International Trade Administration'\n",
            " 'Minority Business Development Agency' 'Department of the Interior'\n",
            " 'Office of the Under Secretary of the Interior'\n",
            " 'Office of the Inspector General' 'Departmental Offices'\n",
            " 'Insular Affairs' 'Bureau of Land Management' 'Bureau of Reclamation'\n",
            " 'U.S. Geological Survey' 'Bureau of Ocean Energy Management'\n",
            " 'Bureau of Safety and Environmental Enforcement'\n",
            " 'Office of Surface Mining, Reclamation and Enforcement'\n",
            " 'National Park Service' 'National Biological Survey'\n",
            " 'U.S. Fish and Wildlife Service'\n",
            " 'Bureau of Indian Affairs and Bureau of Indian Education'\n",
            " 'Offices, Boards and Divisions' 'Drug Enforcement Administration'\n",
            " 'Federal Prison System / Bureau of Prisons'\n",
            " 'Federal Prison Industries / Unicor' 'U.S. Marshals Service'\n",
            " 'Federal Bureau of Investigation' 'Office of Justice Programs'\n",
            " 'ATF Acquisition and Property Management Division'\n",
            " 'Office of the Assistant Secretary for Administration and Management'\n",
            " 'Bureau of Labor Statistics' 'Employment and Training Administration'\n",
            " 'Mine Safety and Health Administration'\n",
            " 'Occupational Safety and Health Administration'\n",
            " 'Veterans Employment and Training Services'\n",
            " 'Pension Benefit Guaranty Corporation'\n",
            " \"President's Committee on Employment of the Handicapped\"\n",
            " 'Department of State'\n",
            " 'International Boundary and Water Commission: U.S.-Mexico'\n",
            " 'Inspector General' 'Bureau of the Fiscal Service'\n",
            " 'Bureau of Engraving and Printing' 'United States Mint'\n",
            " 'Office of the Comptroller of the Currency' 'Internal Revenue Service'\n",
            " 'Office of Personnel Management' 'National Credit Union Administration'\n",
            " 'Federal Communications Commission' 'Social Security Administration'\n",
            " 'Federal Trade Commission' 'Administrative Conference of the U.S.'\n",
            " 'Nuclear Regulatory Commission' 'Smithsonian Institution'\n",
            " 'National Gallery of Art' 'Commodity Futures Trading Commission'\n",
            " 'International Trade Commission'\n",
            " 'Defense Nuclear Facilities Safety Board'\n",
            " 'Department of Veterans Affairs'\n",
            " 'Assistant Secretary for Public and Intergovernmental Affairs'\n",
            " 'Under Secretary for Health/Veterans Health Administration'\n",
            " 'Directory/National Cemetery Administration'\n",
            " 'Under Secretary for Benefits/Veterans Benefits Administration'\n",
            " 'Federal Election Commission'\n",
            " 'Federal Mine Safety and Health Review Commission'\n",
            " 'Merit Systems Protection Board' 'National Capital Planning Commission'\n",
            " 'National Endowment for the Arts' 'National Endowment for the Humanities'\n",
            " 'National Labor Relations Board' 'National Transportation Safety Board'\n",
            " 'Occupational Safety and Health Review Commission'\n",
            " 'Equal Employment Opportunity Commission'\n",
            " 'General Services Administration' 'Office of the Administrator (ACMD)'\n",
            " 'Federal Acquisition Service' 'Public Buildings Service'\n",
            " 'Office of Administrative Services' 'Technology Transformation Service'\n",
            " 'Gulf Coast Ecosystem Restoration Council'\n",
            " 'The Institue of Museum and Library Services'\n",
            " 'Corporation for National and Community Service'\n",
            " 'National Science Foundation' 'Securities and Exchange Commission'\n",
            " 'United States Chemical Safety Board'\n",
            " 'Court Services and Offender Supervision Agency'\n",
            " 'Pretrial Services Agency' 'Denali Commission'\n",
            " 'Broadcasting Board of Governors' 'Delta Regional Authority'\n",
            " 'Millennium Challenge Corporation' 'Election Assistance Commission'\n",
            " 'Federal Housing Finance Agency' 'Federal Labor Relations Authority'\n",
            " 'The Council of the Inspectors General on Integrity and Efficiency'\n",
            " 'Consumer Financial Protection Bureau' 'Railroad Retirement Board'\n",
            " 'Consumer Product Safety Commission' 'Federal Maritime Commission'\n",
            " 'Environmental Protection Agency'\n",
            " 'Immediate Office of the Secretary of Transportation'\n",
            " 'Federal Aviation Administration' 'Federal Highway Administration'\n",
            " 'Federal Railroad Administration' 'Maritime Administration'\n",
            " 'National Highway Traffic Safety Administration'\n",
            " 'Saint Lawrence Seaway Development Corporation'\n",
            " 'Federal Motor Carrier Safety Administration'\n",
            " 'Federal Transit Administration'\n",
            " 'Pipeline and Hazardous Materials Safety Administration'\n",
            " 'Department of Homeland Security' 'Office of Procurement Operations'\n",
            " 'U.S. Citizenship and Immigration Services' 'U.S. Coast Guard'\n",
            " 'U.S. Secret Service' 'U.S. Immigration and Customs Enforcement'\n",
            " 'Transportation Security Administration'\n",
            " 'U.S. Customs and Border Protection'\n",
            " 'Federal Law Enforcement Training Center'\n",
            " 'Federal Emergency Management Agency'\n",
            " 'Immediate Office of the Under Secretary for Management'\n",
            " 'Overseas Private Investment Corporation'\n",
            " 'Agency for International Development' 'Small Business Administration'\n",
            " 'Office of Assistant Secretary for Preparedness and Response'\n",
            " 'Office of Assistant Secretary for Planning and Evaluation'\n",
            " 'Office of Assistant Secretary for Health'\n",
            " 'Substance Abuse and Mental Health Services Administration'\n",
            " 'Centers for Disease Control and Prevention'\n",
            " 'Food and Drug Administration'\n",
            " 'Health Resources and Services Administration' 'Indian Health Service'\n",
            " 'Agency for Healthcare Research and Quality'\n",
            " 'National Institutes of Health'\n",
            " 'Centers for Medicare and Medicaid Services' 'Administration on Aging'\n",
            " 'Office of the Assistant Secretary for Administration (ASA)'\n",
            " 'Office of the National Coordinator for Health Information Technology (ONC)'\n",
            " 'Administration for Children and Families'\n",
            " 'National Aeronautics and Space Administration'\n",
            " 'Export-Import Bank of the United States'\n",
            " 'Department of Housing and Urban Development'\n",
            " 'Assistant Secretary for Fair Housing and Equal Opportunity'\n",
            " 'Assistant Secretary for Community Planning and Development'\n",
            " 'Assistant Secretary for Housing--Federal Housing Commissioner'\n",
            " 'Assistant Secretary for Public and Indian Housing'\n",
            " 'Assistant Secretary for Policy Development and Research'\n",
            " 'Office of Lead Hazard Control and Healthy Homes'\n",
            " 'National Archives and Records Administration'\n",
            " 'National Historical Publications and Records Commission'\n",
            " 'Department of Energy'\n",
            " 'Assistant Secretary for Conservation and Renewable Energy'\n",
            " 'Assistant Secretary for Fossil Energy'\n",
            " 'Federal Energy Regulatory Commission' 'Selective Service System'\n",
            " 'Department of Education' 'Federal Mediation and Conciliation Service'\n",
            " 'Department of the Navy' 'Department of the Army'\n",
            " 'Department of the Air Force' 'Defense Human Resources Activity'\n",
            " 'Defense Threat Reduction Agency (DTRA)'\n",
            " 'Defense Contract Management Agency (DCMA)'\n",
            " 'Defense Microelectronics Activity (DMEA)' 'USTRANSCOM'\n",
            " 'Defense Advanced Research Projects Agency (DARPA)'\n",
            " 'Defense Information Systems Agency (DISA)' 'Defense Logistics Agency'\n",
            " 'Defense Security Cooperation Agency' 'Defense Security Service'\n",
            " 'Defense Commissary Agency (DECA)'\n",
            " 'Defense Finance and Accounting Service (DFAS)'\n",
            " 'Defense Health Agency (DHA)' 'Defense Intelligence Agency'\n",
            " 'Defense Media Activity (DMA)'\n",
            " 'Department of Defense Education Activity (DODEA)'\n",
            " 'Washington Headquarters Services (WHS)'\n",
            " 'Uniformed Services University of the Health Sciences (USUHS)'\n",
            " 'Missile Defense Agency (MDA)'\n",
            " 'U.S. Special Operations Command (USSOCOM)']\n",
            "\n"
          ]
        }
      ]
    },
    {
      "cell_type": "markdown",
      "source": [
        "This is going to create a ery wide data set once One Hot Encoded."
      ],
      "metadata": {
        "id": "O3PKEYTv30Sg"
      }
    },
    {
      "cell_type": "code",
      "source": [
        "#Rename the 'Obligation Amount (2017)' feature to the more palatable 'Obligation'\n",
        "df.rename({'Obligation Amount (2017)':'Obligation'}, axis='columns', inplace=True)\n",
        "df.head()"
      ],
      "metadata": {
        "colab": {
          "base_uri": "https://localhost:8080/",
          "height": 206
        },
        "id": "v5DxHzDDvfll",
        "outputId": "d680bf92-638a-42bd-801d-895311c342f8"
      },
      "execution_count": 9,
      "outputs": [
        {
          "output_type": "execute_result",
          "data": {
            "text/plain": [
              "  ID Geography             Geography ID Agency  \\\n",
              "0    04000US11  District of Columbia      1100   \n",
              "1    04000US17              Illinois      1100   \n",
              "2    04000US36              New York      1100   \n",
              "3    04000US51              Virginia      1100   \n",
              "4    04000US04               Arizona      1127   \n",
              "\n",
              "                                       Agency   Obligation  \n",
              "0           Executive Office of the President  63125124.30  \n",
              "1           Executive Office of the President    436400.70  \n",
              "2           Executive Office of the President    -25400.44  \n",
              "3           Executive Office of the President    114026.54  \n",
              "4  Office of the National Drug Control Policy   9700578.94  "
            ],
            "text/html": [
              "\n",
              "  <div id=\"df-a8f08518-b80d-43fe-9c03-76c6989330a3\">\n",
              "    <div class=\"colab-df-container\">\n",
              "      <div>\n",
              "<style scoped>\n",
              "    .dataframe tbody tr th:only-of-type {\n",
              "        vertical-align: middle;\n",
              "    }\n",
              "\n",
              "    .dataframe tbody tr th {\n",
              "        vertical-align: top;\n",
              "    }\n",
              "\n",
              "    .dataframe thead th {\n",
              "        text-align: right;\n",
              "    }\n",
              "</style>\n",
              "<table border=\"1\" class=\"dataframe\">\n",
              "  <thead>\n",
              "    <tr style=\"text-align: right;\">\n",
              "      <th></th>\n",
              "      <th>ID Geography</th>\n",
              "      <th>Geography</th>\n",
              "      <th>ID Agency</th>\n",
              "      <th>Agency</th>\n",
              "      <th>Obligation</th>\n",
              "    </tr>\n",
              "  </thead>\n",
              "  <tbody>\n",
              "    <tr>\n",
              "      <th>0</th>\n",
              "      <td>04000US11</td>\n",
              "      <td>District of Columbia</td>\n",
              "      <td>1100</td>\n",
              "      <td>Executive Office of the President</td>\n",
              "      <td>63125124.30</td>\n",
              "    </tr>\n",
              "    <tr>\n",
              "      <th>1</th>\n",
              "      <td>04000US17</td>\n",
              "      <td>Illinois</td>\n",
              "      <td>1100</td>\n",
              "      <td>Executive Office of the President</td>\n",
              "      <td>436400.70</td>\n",
              "    </tr>\n",
              "    <tr>\n",
              "      <th>2</th>\n",
              "      <td>04000US36</td>\n",
              "      <td>New York</td>\n",
              "      <td>1100</td>\n",
              "      <td>Executive Office of the President</td>\n",
              "      <td>-25400.44</td>\n",
              "    </tr>\n",
              "    <tr>\n",
              "      <th>3</th>\n",
              "      <td>04000US51</td>\n",
              "      <td>Virginia</td>\n",
              "      <td>1100</td>\n",
              "      <td>Executive Office of the President</td>\n",
              "      <td>114026.54</td>\n",
              "    </tr>\n",
              "    <tr>\n",
              "      <th>4</th>\n",
              "      <td>04000US04</td>\n",
              "      <td>Arizona</td>\n",
              "      <td>1127</td>\n",
              "      <td>Office of the National Drug Control Policy</td>\n",
              "      <td>9700578.94</td>\n",
              "    </tr>\n",
              "  </tbody>\n",
              "</table>\n",
              "</div>\n",
              "      <button class=\"colab-df-convert\" onclick=\"convertToInteractive('df-a8f08518-b80d-43fe-9c03-76c6989330a3')\"\n",
              "              title=\"Convert this dataframe to an interactive table.\"\n",
              "              style=\"display:none;\">\n",
              "        \n",
              "  <svg xmlns=\"http://www.w3.org/2000/svg\" height=\"24px\"viewBox=\"0 0 24 24\"\n",
              "       width=\"24px\">\n",
              "    <path d=\"M0 0h24v24H0V0z\" fill=\"none\"/>\n",
              "    <path d=\"M18.56 5.44l.94 2.06.94-2.06 2.06-.94-2.06-.94-.94-2.06-.94 2.06-2.06.94zm-11 1L8.5 8.5l.94-2.06 2.06-.94-2.06-.94L8.5 2.5l-.94 2.06-2.06.94zm10 10l.94 2.06.94-2.06 2.06-.94-2.06-.94-.94-2.06-.94 2.06-2.06.94z\"/><path d=\"M17.41 7.96l-1.37-1.37c-.4-.4-.92-.59-1.43-.59-.52 0-1.04.2-1.43.59L10.3 9.45l-7.72 7.72c-.78.78-.78 2.05 0 2.83L4 21.41c.39.39.9.59 1.41.59.51 0 1.02-.2 1.41-.59l7.78-7.78 2.81-2.81c.8-.78.8-2.07 0-2.86zM5.41 20L4 18.59l7.72-7.72 1.47 1.35L5.41 20z\"/>\n",
              "  </svg>\n",
              "      </button>\n",
              "      \n",
              "  <style>\n",
              "    .colab-df-container {\n",
              "      display:flex;\n",
              "      flex-wrap:wrap;\n",
              "      gap: 12px;\n",
              "    }\n",
              "\n",
              "    .colab-df-convert {\n",
              "      background-color: #E8F0FE;\n",
              "      border: none;\n",
              "      border-radius: 50%;\n",
              "      cursor: pointer;\n",
              "      display: none;\n",
              "      fill: #1967D2;\n",
              "      height: 32px;\n",
              "      padding: 0 0 0 0;\n",
              "      width: 32px;\n",
              "    }\n",
              "\n",
              "    .colab-df-convert:hover {\n",
              "      background-color: #E2EBFA;\n",
              "      box-shadow: 0px 1px 2px rgba(60, 64, 67, 0.3), 0px 1px 3px 1px rgba(60, 64, 67, 0.15);\n",
              "      fill: #174EA6;\n",
              "    }\n",
              "\n",
              "    [theme=dark] .colab-df-convert {\n",
              "      background-color: #3B4455;\n",
              "      fill: #D2E3FC;\n",
              "    }\n",
              "\n",
              "    [theme=dark] .colab-df-convert:hover {\n",
              "      background-color: #434B5C;\n",
              "      box-shadow: 0px 1px 3px 1px rgba(0, 0, 0, 0.15);\n",
              "      filter: drop-shadow(0px 1px 2px rgba(0, 0, 0, 0.3));\n",
              "      fill: #FFFFFF;\n",
              "    }\n",
              "  </style>\n",
              "\n",
              "      <script>\n",
              "        const buttonEl =\n",
              "          document.querySelector('#df-a8f08518-b80d-43fe-9c03-76c6989330a3 button.colab-df-convert');\n",
              "        buttonEl.style.display =\n",
              "          google.colab.kernel.accessAllowed ? 'block' : 'none';\n",
              "\n",
              "        async function convertToInteractive(key) {\n",
              "          const element = document.querySelector('#df-a8f08518-b80d-43fe-9c03-76c6989330a3');\n",
              "          const dataTable =\n",
              "            await google.colab.kernel.invokeFunction('convertToInteractive',\n",
              "                                                     [key], {});\n",
              "          if (!dataTable) return;\n",
              "\n",
              "          const docLinkHtml = 'Like what you see? Visit the ' +\n",
              "            '<a target=\"_blank\" href=https://colab.research.google.com/notebooks/data_table.ipynb>data table notebook</a>'\n",
              "            + ' to learn more about interactive tables.';\n",
              "          element.innerHTML = '';\n",
              "          dataTable['output_type'] = 'display_data';\n",
              "          await google.colab.output.renderOutput(dataTable, element);\n",
              "          const docLink = document.createElement('div');\n",
              "          docLink.innerHTML = docLinkHtml;\n",
              "          element.appendChild(docLink);\n",
              "        }\n",
              "      </script>\n",
              "    </div>\n",
              "  </div>\n",
              "  "
            ]
          },
          "metadata": {},
          "execution_count": 9
        }
      ]
    },
    {
      "cell_type": "code",
      "source": [
        "#Look into the unique values of the features:\n",
        "df_obj = df.select_dtypes(include = 'object')\n",
        "df_obj.drop(columns = ['ID Geography', 'ID Agency'], inplace=True)\n",
        "df_obj_cols = list(df_obj)\n",
        "for col in df_obj_cols:\n",
        "  print(f\"col: {df_obj[col].unique()}\\n\")\n"
      ],
      "metadata": {
        "colab": {
          "base_uri": "https://localhost:8080/"
        },
        "id": "AgUzNksYrbWS",
        "outputId": "1b9f6717-d66f-40a2-d96e-e019efd3c868"
      },
      "execution_count": 11,
      "outputs": [
        {
          "output_type": "stream",
          "name": "stdout",
          "text": [
            "col: ['District of Columbia' 'Illinois' 'New York' 'Virginia' 'Arizona'\n",
            " 'California' 'Colorado' 'Delaware' 'Florida' 'Hawaii' 'Indiana'\n",
            " 'Maryland' 'Minnesota' 'Missouri' 'Montana' 'Nebraska' 'New Jersey'\n",
            " 'New Mexico' 'Ohio' 'Pennsylvania' 'Tennessee' 'Texas' 'Utah'\n",
            " 'Washington' 'Wisconsin' 'Alabama' 'Georgia' 'Iowa' 'Kansas' 'Louisiana'\n",
            " 'Michigan' 'North Carolina' 'Oregon' 'Vermont' 'Connecticut' 'Idaho'\n",
            " 'Maine' 'Massachusetts' 'South Carolina' 'Alaska' 'Arkansas' 'Kentucky'\n",
            " 'Nevada' 'New Hampshire' 'Oklahoma' 'West Virginia' 'Wyoming'\n",
            " 'Mississippi' 'North Dakota' 'Rhode Island' 'South Dakota' 'Puerto Rico']\n",
            "\n",
            "col: ['Executive Office of the President'\n",
            " 'Office of the National Drug Control Policy' 'Peace Corps'\n",
            " 'United States Trade and Development Agency'\n",
            " 'Office of Inspector General' 'Office of the Chief Financial Officer'\n",
            " 'Forest Service' 'Natural Resources Conservation Service'\n",
            " 'Farm Service Agency' 'Foreign Agricultural Service'\n",
            " 'Risk Management Agency' 'Rural Utilities Service'\n",
            " 'Rural Housing Service' 'Rural Business Cooperative Service'\n",
            " 'Food and Nutrition Service' 'Food Safety and Inspection Service'\n",
            " 'Agricultural Research Service'\n",
            " 'National Institute of Food and Agriculture' 'Economic Research Service'\n",
            " 'National Agricultural Statistics Service'\n",
            " 'Agricultural Marketing Service'\n",
            " 'Animal and Plant Health Inspection Service' 'Office of the Secretary'\n",
            " 'U.S. Census Bureau' 'Economic Development Administration'\n",
            " 'National Oceanic and Atmospheric Administration'\n",
            " 'National Telecommunications and Information Administration'\n",
            " 'National Institute of Standards and Technology'\n",
            " 'U.S. Patent and Trademark Office' 'International Trade Administration'\n",
            " 'Minority Business Development Agency' 'Department of the Interior'\n",
            " 'Office of the Under Secretary of the Interior'\n",
            " 'Office of the Inspector General' 'Departmental Offices'\n",
            " 'Insular Affairs' 'Bureau of Land Management' 'Bureau of Reclamation'\n",
            " 'U.S. Geological Survey' 'Bureau of Ocean Energy Management'\n",
            " 'Bureau of Safety and Environmental Enforcement'\n",
            " 'Office of Surface Mining, Reclamation and Enforcement'\n",
            " 'National Park Service' 'National Biological Survey'\n",
            " 'U.S. Fish and Wildlife Service'\n",
            " 'Bureau of Indian Affairs and Bureau of Indian Education'\n",
            " 'Offices, Boards and Divisions' 'Drug Enforcement Administration'\n",
            " 'Federal Prison System / Bureau of Prisons'\n",
            " 'Federal Prison Industries / Unicor' 'U.S. Marshals Service'\n",
            " 'Federal Bureau of Investigation' 'Office of Justice Programs'\n",
            " 'ATF Acquisition and Property Management Division'\n",
            " 'Office of the Assistant Secretary for Administration and Management'\n",
            " 'Bureau of Labor Statistics' 'Employment and Training Administration'\n",
            " 'Mine Safety and Health Administration'\n",
            " 'Occupational Safety and Health Administration'\n",
            " 'Veterans Employment and Training Services'\n",
            " 'Pension Benefit Guaranty Corporation'\n",
            " \"President's Committee on Employment of the Handicapped\"\n",
            " 'Department of State'\n",
            " 'International Boundary and Water Commission: U.S.-Mexico'\n",
            " 'Inspector General' 'Bureau of the Fiscal Service'\n",
            " 'Bureau of Engraving and Printing' 'United States Mint'\n",
            " 'Office of the Comptroller of the Currency' 'Internal Revenue Service'\n",
            " 'Office of Personnel Management' 'National Credit Union Administration'\n",
            " 'Federal Communications Commission' 'Social Security Administration'\n",
            " 'Federal Trade Commission' 'Administrative Conference of the U.S.'\n",
            " 'Nuclear Regulatory Commission' 'Smithsonian Institution'\n",
            " 'National Gallery of Art' 'Commodity Futures Trading Commission'\n",
            " 'International Trade Commission'\n",
            " 'Defense Nuclear Facilities Safety Board'\n",
            " 'Department of Veterans Affairs'\n",
            " 'Assistant Secretary for Public and Intergovernmental Affairs'\n",
            " 'Under Secretary for Health/Veterans Health Administration'\n",
            " 'Directory/National Cemetery Administration'\n",
            " 'Under Secretary for Benefits/Veterans Benefits Administration'\n",
            " 'Federal Election Commission'\n",
            " 'Federal Mine Safety and Health Review Commission'\n",
            " 'Merit Systems Protection Board' 'National Capital Planning Commission'\n",
            " 'National Endowment for the Arts' 'National Endowment for the Humanities'\n",
            " 'National Labor Relations Board' 'National Transportation Safety Board'\n",
            " 'Occupational Safety and Health Review Commission'\n",
            " 'Equal Employment Opportunity Commission'\n",
            " 'General Services Administration' 'Office of the Administrator (ACMD)'\n",
            " 'Federal Acquisition Service' 'Public Buildings Service'\n",
            " 'Office of Administrative Services' 'Technology Transformation Service'\n",
            " 'Gulf Coast Ecosystem Restoration Council'\n",
            " 'The Institue of Museum and Library Services'\n",
            " 'Corporation for National and Community Service'\n",
            " 'National Science Foundation' 'Securities and Exchange Commission'\n",
            " 'United States Chemical Safety Board'\n",
            " 'Court Services and Offender Supervision Agency'\n",
            " 'Pretrial Services Agency' 'Denali Commission'\n",
            " 'Broadcasting Board of Governors' 'Delta Regional Authority'\n",
            " 'Millennium Challenge Corporation' 'Election Assistance Commission'\n",
            " 'Federal Housing Finance Agency' 'Federal Labor Relations Authority'\n",
            " 'The Council of the Inspectors General on Integrity and Efficiency'\n",
            " 'Consumer Financial Protection Bureau' 'Railroad Retirement Board'\n",
            " 'Consumer Product Safety Commission' 'Federal Maritime Commission'\n",
            " 'Environmental Protection Agency'\n",
            " 'Immediate Office of the Secretary of Transportation'\n",
            " 'Federal Aviation Administration' 'Federal Highway Administration'\n",
            " 'Federal Railroad Administration' 'Maritime Administration'\n",
            " 'National Highway Traffic Safety Administration'\n",
            " 'Saint Lawrence Seaway Development Corporation'\n",
            " 'Federal Motor Carrier Safety Administration'\n",
            " 'Federal Transit Administration'\n",
            " 'Pipeline and Hazardous Materials Safety Administration'\n",
            " 'Department of Homeland Security' 'Office of Procurement Operations'\n",
            " 'U.S. Citizenship and Immigration Services' 'U.S. Coast Guard'\n",
            " 'U.S. Secret Service' 'U.S. Immigration and Customs Enforcement'\n",
            " 'Transportation Security Administration'\n",
            " 'U.S. Customs and Border Protection'\n",
            " 'Federal Law Enforcement Training Center'\n",
            " 'Federal Emergency Management Agency'\n",
            " 'Immediate Office of the Under Secretary for Management'\n",
            " 'Overseas Private Investment Corporation'\n",
            " 'Agency for International Development' 'Small Business Administration'\n",
            " 'Office of Assistant Secretary for Preparedness and Response'\n",
            " 'Office of Assistant Secretary for Planning and Evaluation'\n",
            " 'Office of Assistant Secretary for Health'\n",
            " 'Substance Abuse and Mental Health Services Administration'\n",
            " 'Centers for Disease Control and Prevention'\n",
            " 'Food and Drug Administration'\n",
            " 'Health Resources and Services Administration' 'Indian Health Service'\n",
            " 'Agency for Healthcare Research and Quality'\n",
            " 'National Institutes of Health'\n",
            " 'Centers for Medicare and Medicaid Services' 'Administration on Aging'\n",
            " 'Office of the Assistant Secretary for Administration (ASA)'\n",
            " 'Office of the National Coordinator for Health Information Technology (ONC)'\n",
            " 'Administration for Children and Families'\n",
            " 'National Aeronautics and Space Administration'\n",
            " 'Export-Import Bank of the United States'\n",
            " 'Department of Housing and Urban Development'\n",
            " 'Assistant Secretary for Fair Housing and Equal Opportunity'\n",
            " 'Assistant Secretary for Community Planning and Development'\n",
            " 'Assistant Secretary for Housing--Federal Housing Commissioner'\n",
            " 'Assistant Secretary for Public and Indian Housing'\n",
            " 'Assistant Secretary for Policy Development and Research'\n",
            " 'Office of Lead Hazard Control and Healthy Homes'\n",
            " 'National Archives and Records Administration'\n",
            " 'National Historical Publications and Records Commission'\n",
            " 'Department of Energy'\n",
            " 'Assistant Secretary for Conservation and Renewable Energy'\n",
            " 'Assistant Secretary for Fossil Energy'\n",
            " 'Federal Energy Regulatory Commission' 'Selective Service System'\n",
            " 'Department of Education' 'Federal Mediation and Conciliation Service'\n",
            " 'Department of the Navy' 'Department of the Army'\n",
            " 'Department of the Air Force' 'Defense Human Resources Activity'\n",
            " 'Defense Threat Reduction Agency (DTRA)'\n",
            " 'Defense Contract Management Agency (DCMA)'\n",
            " 'Defense Microelectronics Activity (DMEA)' 'USTRANSCOM'\n",
            " 'Defense Advanced Research Projects Agency (DARPA)'\n",
            " 'Defense Information Systems Agency (DISA)' 'Defense Logistics Agency'\n",
            " 'Defense Security Cooperation Agency' 'Defense Security Service'\n",
            " 'Defense Commissary Agency (DECA)'\n",
            " 'Defense Finance and Accounting Service (DFAS)'\n",
            " 'Defense Health Agency (DHA)' 'Defense Intelligence Agency'\n",
            " 'Defense Media Activity (DMA)'\n",
            " 'Department of Defense Education Activity (DODEA)'\n",
            " 'Washington Headquarters Services (WHS)'\n",
            " 'Uniformed Services University of the Health Sciences (USUHS)'\n",
            " 'Missile Defense Agency (MDA)'\n",
            " 'U.S. Special Operations Command (USSOCOM)']\n",
            "\n"
          ]
        },
        {
          "output_type": "stream",
          "name": "stderr",
          "text": [
            "/usr/local/lib/python3.7/dist-packages/pandas/core/frame.py:4913: SettingWithCopyWarning: \n",
            "A value is trying to be set on a copy of a slice from a DataFrame\n",
            "\n",
            "See the caveats in the documentation: https://pandas.pydata.org/pandas-docs/stable/user_guide/indexing.html#returning-a-view-versus-a-copy\n",
            "  errors=errors,\n"
          ]
        }
      ]
    },
    {
      "cell_type": "markdown",
      "source": [
        "This is not a very effective method across the 200+ agencies listed."
      ],
      "metadata": {
        "id": "Ii0C-5yv4ghP"
      }
    },
    {
      "cell_type": "code",
      "source": [
        "df.columns"
      ],
      "metadata": {
        "colab": {
          "base_uri": "https://localhost:8080/"
        },
        "id": "ABr44bHEsDeE",
        "outputId": "c73349e0-bd2d-4183-d95d-9a15c2968976"
      },
      "execution_count": 12,
      "outputs": [
        {
          "output_type": "execute_result",
          "data": {
            "text/plain": [
              "Index(['ID Geography', 'Geography', 'ID Agency', 'Agency', 'Obligation'], dtype='object')"
            ]
          },
          "metadata": {},
          "execution_count": 12
        }
      ]
    },
    {
      "cell_type": "code",
      "source": [
        "#Drop the ID columns as they are redundant\n",
        "df.drop(columns = ['ID Geography', 'ID Agency'], inplace=True)"
      ],
      "metadata": {
        "id": "VQgfI-Qj5FsG"
      },
      "execution_count": 13,
      "outputs": []
    },
    {
      "cell_type": "code",
      "source": [
        "#Verify that the column dropped \n",
        "df.columns"
      ],
      "metadata": {
        "colab": {
          "base_uri": "https://localhost:8080/"
        },
        "id": "DdDFpThmsYdb",
        "outputId": "38d0e310-fafb-4b59-97cd-6750bc0d97da"
      },
      "execution_count": 14,
      "outputs": [
        {
          "output_type": "execute_result",
          "data": {
            "text/plain": [
              "Index(['Geography', 'Agency', 'Obligation'], dtype='object')"
            ]
          },
          "metadata": {},
          "execution_count": 14
        }
      ]
    },
    {
      "cell_type": "code",
      "source": [
        "#Check for missing data...it's never easy.\n",
        "print('Missing data:\\n', df.isna().sum())\n",
        "print('\\n')\n"
      ],
      "metadata": {
        "colab": {
          "base_uri": "https://localhost:8080/"
        },
        "id": "bZ8yDcRTQjwW",
        "outputId": "460294ff-d918-485f-c9df-63d1d65c6d9a"
      },
      "execution_count": 15,
      "outputs": [
        {
          "output_type": "stream",
          "name": "stdout",
          "text": [
            "Missing data:\n",
            " Geography     0\n",
            "Agency        0\n",
            "Obligation    0\n",
            "dtype: int64\n",
            "\n",
            "\n"
          ]
        }
      ]
    },
    {
      "cell_type": "code",
      "source": [
        "# Drop Duplicate values\n",
        "df = df.drop_duplicates()\n",
        "df.duplicated().sum()"
      ],
      "metadata": {
        "colab": {
          "base_uri": "https://localhost:8080/"
        },
        "id": "ahQHhexlphTp",
        "outputId": "21f374d6-fe49-4398-d75f-aff92ffdf057"
      },
      "execution_count": 16,
      "outputs": [
        {
          "output_type": "execute_result",
          "data": {
            "text/plain": [
              "0"
            ]
          },
          "metadata": {},
          "execution_count": 16
        }
      ]
    },
    {
      "cell_type": "code",
      "source": [
        "# Set the decimal places\n",
        "pd.set_option('display.float_format', lambda x: '%.2f' % x)\n",
        "df['Obligation'].value_counts().isna()"
      ],
      "metadata": {
        "colab": {
          "base_uri": "https://localhost:8080/"
        },
        "id": "DWa2SdFmyPwi",
        "outputId": "30f6b181-3753-49f7-e729-4490f7588ba6"
      },
      "execution_count": 17,
      "outputs": [
        {
          "output_type": "execute_result",
          "data": {
            "text/plain": [
              "0.00000            False\n",
              "250000.00000       False\n",
              "6000.00000         False\n",
              "15000.00000        False\n",
              "10000.00000        False\n",
              "                   ...  \n",
              "2243315.28000      False\n",
              "104824579.09000    False\n",
              "27748.87000        False\n",
              "845483.87000       False\n",
              "207102.18000       False\n",
              "Name: Obligation, Length: 6321, dtype: bool"
            ]
          },
          "metadata": {},
          "execution_count": 17
        }
      ]
    },
    {
      "cell_type": "code",
      "source": [
        "# CHeck Info, Shape, and types\n",
        "df.info()"
      ],
      "metadata": {
        "colab": {
          "base_uri": "https://localhost:8080/"
        },
        "id": "7t_rXjPxrP_n",
        "outputId": "db2a3924-365e-46cd-d1aa-6e56eeafae8b"
      },
      "execution_count": 18,
      "outputs": [
        {
          "output_type": "stream",
          "name": "stdout",
          "text": [
            "<class 'pandas.core.frame.DataFrame'>\n",
            "Int64Index: 6557 entries, 0 to 6556\n",
            "Data columns (total 3 columns):\n",
            " #   Column      Non-Null Count  Dtype  \n",
            "---  ------      --------------  -----  \n",
            " 0   Geography   6557 non-null   object \n",
            " 1   Agency      6557 non-null   object \n",
            " 2   Obligation  6557 non-null   float64\n",
            "dtypes: float64(1), object(2)\n",
            "memory usage: 204.9+ KB\n"
          ]
        }
      ]
    },
    {
      "cell_type": "code",
      "source": [
        "# Distribution of Agency Count by Funding Amount\n",
        "df['Obligation'].hist(bins = 30)\n",
        "plt.xlabel('Annual Funding', fontsize = 20);\n",
        "plt.xticks(rotation = 45)\n",
        "plt.ylabel('Agency Count', fontsize = 20);\n",
        "plt.ticklabel_format(useOffset=False, style='plain')"
      ],
      "metadata": {
        "colab": {
          "base_uri": "https://localhost:8080/",
          "height": 339
        },
        "id": "PQZshpDRxoRy",
        "outputId": "ee44b8e1-2597-4c00-bbdc-30973fa3a363"
      },
      "execution_count": 20,
      "outputs": [
        {
          "output_type": "display_data",
          "data": {
            "text/plain": [
              "<Figure size 432x288 with 1 Axes>"
            ],
            "image/png": "[encoded data removed]"
          },
          "metadata": {
            "needs_background": "light"
          }
        }
      ]
    },
    {
      "cell_type": "markdown",
      "source": [
        "Distribution of Agency Count by Funding Amount"
      ],
      "metadata": {
        "id": "hNPt4-g06mFK"
      }
    },
    {
      "cell_type": "code",
      "source": [
        "# Adding seaborn style \n",
        "plt.style.use('seaborn')\n",
        "fund_filter = df.loc[:, 'Obligation'] <= 300000000\n",
        "df.loc[fund_filter, 'Obligation'].hist(bins = 30,\n",
        "                                   edgecolor='black')\n",
        "plt.xlabel('Annual Funding', fontsize = 20);\n",
        "plt.xticks(rotation = 45)\n",
        "plt.ylabel('Agency Count', fontsize = 20);\n",
        "plt.ticklabel_format(useOffset=False, style='plain')"
      ],
      "metadata": {
        "colab": {
          "base_uri": "https://localhost:8080/",
          "height": 403
        },
        "id": "MV4ziQrZRTY4",
        "outputId": "1700e6a4-786f-4e8a-cac1-8b47d6631b16"
      },
      "execution_count": 21,
      "outputs": [
        {
          "output_type": "display_data",
          "data": {
            "text/plain": [
              "<Figure size 576x396 with 1 Axes>"
            ],
            "image/png": "[encoded data removed]"
          },
          "metadata": {}
        }
      ]
    },
    {
      "cell_type": "code",
      "source": [
        "# Adding seaborn style \n",
        "plt.style.use('seaborn')\n",
        "fund_filter = df.loc[:, 'Obligation'] <= 100000000\n",
        "df.loc[fund_filter, 'Obligation'].hist(bins = 30,\n",
        "                                   edgecolor='black')\n",
        "plt.xlabel('Annual Funding', fontsize = 20);\n",
        "plt.xticks(rotation = 45)\n",
        "plt.ylabel('Agency Count', fontsize = 20);\n",
        "plt.ticklabel_format(useOffset=False, style='plain')"
      ],
      "metadata": {
        "id": "dLtZ8LfjRTWv",
        "colab": {
          "base_uri": "https://localhost:8080/",
          "height": 403
        },
        "outputId": "fb4df307-7996-4f57-9c14-81a887879219"
      },
      "execution_count": 22,
      "outputs": [
        {
          "output_type": "display_data",
          "data": {
            "text/plain": [
              "<Figure size 576x396 with 1 Axes>"
            ],
            "image/png": "[encoded data removed]"
          },
          "metadata": {}
        }
      ]
    },
    {
      "cell_type": "code",
      "source": [
        "# Adding seaborn style \n",
        "plt.style.use('seaborn')\n",
        "fund_filter = df.loc[:, 'Obligation'] >= 100000000\n",
        "df.loc[fund_filter, 'Obligation'].hist(bins = 30,\n",
        "                                   edgecolor='black')\n",
        "plt.xlabel('Annual Funding', fontsize = 20);\n",
        "plt.xticks(rotation = 45)\n",
        "plt.ylabel('Agency Count', fontsize = 20);\n",
        "plt.ticklabel_format(useOffset=False, style='plain')"
      ],
      "metadata": {
        "id": "V3O9IDroRTUW",
        "colab": {
          "base_uri": "https://localhost:8080/",
          "height": 415
        },
        "outputId": "f0fc469c-a4b8-4993-907e-42330073f723"
      },
      "execution_count": 23,
      "outputs": [
        {
          "output_type": "display_data",
          "data": {
            "text/plain": [
              "<Figure size 576x396 with 1 Axes>"
            ],
            "image/png": "[encoded data removed]"
          },
          "metadata": {}
        }
      ]
    },
    {
      "cell_type": "code",
      "source": [
        "fundFilter = df['Obligation'] >= 0\n",
        "#numpy set_printoptions(suppress=True)\n",
        "top20Agency = df.loc[fundFilter, :].groupby(['Agency'])['Obligation'].mean().sort_values(ascending = False).head(20).round(2)\n",
        "\n",
        "print(top20Agency)"
      ],
      "metadata": {
        "colab": {
          "base_uri": "https://localhost:8080/"
        },
        "id": "k1ceXftK7DkV",
        "outputId": "77565cd9-bcfc-49c0-8e64-7c9858483091"
      },
      "execution_count": 24,
      "outputs": [
        {
          "output_type": "stream",
          "name": "stdout",
          "text": [
            "Agency\n",
            "Centers for Medicare and Medicaid Services                      14326368065.23000\n",
            "Social Security Administration                                  11660633598.55000\n",
            "Department of the Navy                                           1812651875.85000\n",
            "Under Secretary for Benefits/Veterans Benefits Administration    1488336040.04000\n",
            "Department of the Army                                           1205472186.82000\n",
            "Department of the Air Force                                      1014655699.62000\n",
            "Under Secretary for Health/Veterans Health Administration         970837320.87000\n",
            "Department of Education                                           760376474.45000\n",
            "Federal Highway Administration                                    715068970.59000\n",
            "Department of Energy                                              550264129.00000\n",
            "Defense Logistics Agency                                          524099111.54000\n",
            "National Institutes of Health                                     511416479.91000\n",
            "Department of Veterans Affairs                                    476293970.16000\n",
            "Assistant Secretary for Public and Indian Housing                 416723525.07000\n",
            "Defense Health Agency (DHA)                                       323944663.41000\n",
            "Federal Emergency Management Agency                               261512171.37000\n",
            "Assistant Secretary for Community Planning and Development        237780187.55000\n",
            "National Aeronautics and Space Administration                     230596302.58000\n",
            "Assistant Secretary for Housing--Federal Housing Commissioner     182135399.20000\n",
            "Railroad Retirement Board                                         179883190.97000\n",
            "Name: Obligation, dtype: float64\n"
          ]
        }
      ]
    },
    {
      "cell_type": "code",
      "source": [
        "fundFilter = df['Obligation'] >= 0\n",
        "#numpy set_printoptions(suppress=True)\n",
        "top20Agency = df.loc[fundFilter, :].groupby(['Agency'])['Obligation'].sum().sort_values(ascending = False).head(20).round(2)\n",
        "\n",
        "print(top20Agency)"
      ],
      "metadata": {
        "colab": {
          "base_uri": "https://localhost:8080/"
        },
        "id": "dpCmfvrLaM-8",
        "outputId": "66836fb0-a12d-4edd-a8b1-8600638abaf9"
      },
      "execution_count": 143,
      "outputs": [
        {
          "output_type": "stream",
          "name": "stdout",
          "text": [
            "Agency\n",
            "Centers for Medicare and Medicaid Services                      687665667131.05005\n",
            "Social Security Administration                                  606352947124.80005\n",
            "Department of the Navy                                           92445245668.16000\n",
            "Under Secretary for Benefits/Veterans Benefits Administration    77393474082.00000\n",
            "Department of the Army                                           62684553714.48000\n",
            "Department of the Air Force                                      52762096380.28000\n",
            "Under Secretary for Health/Veterans Health Administration        50483540685.00000\n",
            "Department of Education                                          39539576671.30000\n",
            "Federal Highway Administration                                   37183586470.43000\n",
            "Department of Energy                                             27513206449.87000\n",
            "Defense Logistics Agency                                         27253153800.05000\n",
            "National Institutes of Health                                    26593656955.34000\n",
            "Department of Veterans Affairs                                   24767286448.29000\n",
            "Assistant Secretary for Public and Indian Housing                21669623303.82000\n",
            "Federal Emergency Management Agency                              13598632911.22000\n",
            "Assistant Secretary for Community Planning and Development       12364569752.51000\n",
            "Defense Health Agency (DHA)                                      12309897209.56000\n",
            "National Aeronautics and Space Administration                    11991007733.95000\n",
            "Assistant Secretary for Housing--Federal Housing Commissioner     9471040758.59000\n",
            "Railroad Retirement Board                                         9353925930.69000\n",
            "Name: Obligation, dtype: float64\n"
          ]
        }
      ]
    },
    {
      "cell_type": "code",
      "source": [
        "df['Obligation'].sum()"
      ],
      "metadata": {
        "colab": {
          "base_uri": "https://localhost:8080/"
        },
        "id": "2_e9TLoWacrP",
        "outputId": "dc57c107-d083-4e74-f50b-2dd2fd329c6c"
      },
      "execution_count": 144,
      "outputs": [
        {
          "output_type": "execute_result",
          "data": {
            "text/plain": [
              "2040479396498.9731"
            ]
          },
          "metadata": {},
          "execution_count": 144
        }
      ]
    },
    {
      "cell_type": "code",
      "source": [
        "#Set your target and data sets\n",
        "\n",
        "#Set Target\n",
        "y = df['Obligation']\n",
        "\n",
        "#Remove target from dataset\n",
        "X = df.drop(columns = 'Obligation')"
      ],
      "metadata": {
        "id": "A5sd3ejOyE9s"
      },
      "execution_count": 25,
      "outputs": []
    },
    {
      "cell_type": "code",
      "source": [
        "#Train Test Split\n",
        "X_train, X_test, y_train, y_test = train_test_split(X, y, random_state=42)"
      ],
      "metadata": {
        "id": "UmMAK85FyJdX"
      },
      "execution_count": 26,
      "outputs": []
    },
    {
      "cell_type": "code",
      "source": [
        "# Instantiate the categorical and numeric column selectors to select appropriate columns\n",
        "cat_selector = make_column_selector(dtype_include='object')\n",
        "num_selector = make_column_selector(dtype_include='number')\n",
        "\n",
        "# Instantiate the Standard Scaler and the One hot encoder\n",
        "scaler = StandardScaler()\n",
        "ohe = OneHotEncoder(handle_unknown='ignore', sparse=False)"
      ],
      "metadata": {
        "id": "nJdbhNa4yNqp"
      },
      "execution_count": 27,
      "outputs": []
    },
    {
      "cell_type": "code",
      "source": [
        "# Numeric pipeline\n",
        "numeric_pipe = make_pipeline(scaler)\n",
        "numeric_pipe"
      ],
      "metadata": {
        "colab": {
          "base_uri": "https://localhost:8080/",
          "height": 91
        },
        "id": "nymxFXNC6Myo",
        "outputId": "d65e73c9-851e-4e26-c290-be467e8d69a5"
      },
      "execution_count": 28,
      "outputs": [
        {
          "output_type": "execute_result",
          "data": {
            "text/plain": [
              "Pipeline(steps=[('standardscaler', StandardScaler())])"
            ],
            "text/html": [
              "<style>#sk-fd04ff6b-5fa7-46a4-bf5c-d348d1eab143 {color: black;background-color: white;}#sk-fd04ff6b-5fa7-46a4-bf5c-d348d1eab143 pre{padding: 0;}#sk-fd04ff6b-5fa7-46a4-bf5c-d348d1eab143 div.sk-toggleable {background-color: white;}#sk-fd04ff6b-5fa7-46a4-bf5c-d348d1eab143 label.sk-toggleable__label {cursor: pointer;display: block;width: 100%;margin-bottom: 0;padding: 0.3em;box-sizing: border-box;text-align: center;}#sk-fd04ff6b-5fa7-46a4-bf5c-d348d1eab143 label.sk-toggleable__label-arrow:before {content: \"▸\";float: left;margin-right: 0.25em;color: #696969;}#sk-fd04ff6b-5fa7-46a4-bf5c-d348d1eab143 label.sk-toggleable__label-arrow:hover:before {color: black;}#sk-fd04ff6b-5fa7-46a4-bf5c-d348d1eab143 div.sk-estimator:hover label.sk-toggleable__label-arrow:before {color: black;}#sk-fd04ff6b-5fa7-46a4-bf5c-d348d1eab143 div.sk-toggleable__content {max-height: 0;max-width: 0;overflow: hidden;text-align: left;background-color: #f0f8ff;}#sk-fd04ff6b-5fa7-46a4-bf5c-d348d1eab143 div.sk-toggleable__content pre {margin: 0.2em;color: black;border-radius: 0.25em;background-color: #f0f8ff;}#sk-fd04ff6b-5fa7-46a4-bf5c-d348d1eab143 input.sk-toggleable__control:checked~div.sk-toggleable__content {max-height: 200px;max-width: 100%;overflow: auto;}#sk-fd04ff6b-5fa7-46a4-bf5c-d348d1eab143 input.sk-toggleable__control:checked~label.sk-toggleable__label-arrow:before {content: \"▾\";}#sk-fd04ff6b-5fa7-46a4-bf5c-d348d1eab143 div.sk-estimator input.sk-toggleable__control:checked~label.sk-toggleable__label {background-color: #d4ebff;}#sk-fd04ff6b-5fa7-46a4-bf5c-d348d1eab143 div.sk-label input.sk-toggleable__control:checked~label.sk-toggleable__label {background-color: #d4ebff;}#sk-fd04ff6b-5fa7-46a4-bf5c-d348d1eab143 input.sk-hidden--visually {border: 0;clip: rect(1px 1px 1px 1px);clip: rect(1px, 1px, 1px, 1px);height: 1px;margin: -1px;overflow: hidden;padding: 0;position: absolute;width: 1px;}#sk-fd04ff6b-5fa7-46a4-bf5c-d348d1eab143 div.sk-estimator {font-family: monospace;background-color: #f0f8ff;border: 1px dotted black;border-radius: 0.25em;box-sizing: border-box;margin-bottom: 0.5em;}#sk-fd04ff6b-5fa7-46a4-bf5c-d348d1eab143 div.sk-estimator:hover {background-color: #d4ebff;}#sk-fd04ff6b-5fa7-46a4-bf5c-d348d1eab143 div.sk-parallel-item::after {content: \"\";width: 100%;border-bottom: 1px solid gray;flex-grow: 1;}#sk-fd04ff6b-5fa7-46a4-bf5c-d348d1eab143 div.sk-label:hover label.sk-toggleable__label {background-color: #d4ebff;}#sk-fd04ff6b-5fa7-46a4-bf5c-d348d1eab143 div.sk-serial::before {content: \"\";position: absolute;border-left: 1px solid gray;box-sizing: border-box;top: 2em;bottom: 0;left: 50%;}#sk-fd04ff6b-5fa7-46a4-bf5c-d348d1eab143 div.sk-serial {display: flex;flex-direction: column;align-items: center;background-color: white;padding-right: 0.2em;padding-left: 0.2em;}#sk-fd04ff6b-5fa7-46a4-bf5c-d348d1eab143 div.sk-item {z-index: 1;}#sk-fd04ff6b-5fa7-46a4-bf5c-d348d1eab143 div.sk-parallel {display: flex;align-items: stretch;justify-content: center;background-color: white;}#sk-fd04ff6b-5fa7-46a4-bf5c-d348d1eab143 div.sk-parallel::before {content: \"\";position: absolute;border-left: 1px solid gray;box-sizing: border-box;top: 2em;bottom: 0;left: 50%;}#sk-fd04ff6b-5fa7-46a4-bf5c-d348d1eab143 div.sk-parallel-item {display: flex;flex-direction: column;position: relative;background-color: white;}#sk-fd04ff6b-5fa7-46a4-bf5c-d348d1eab143 div.sk-parallel-item:first-child::after {align-self: flex-end;width: 50%;}#sk-fd04ff6b-5fa7-46a4-bf5c-d348d1eab143 div.sk-parallel-item:last-child::after {align-self: flex-start;width: 50%;}#sk-fd04ff6b-5fa7-46a4-bf5c-d348d1eab143 div.sk-parallel-item:only-child::after {width: 0;}#sk-fd04ff6b-5fa7-46a4-bf5c-d348d1eab143 div.sk-dashed-wrapped {border: 1px dashed gray;margin: 0 0.4em 0.5em 0.4em;box-sizing: border-box;padding-bottom: 0.4em;background-color: white;position: relative;}#sk-fd04ff6b-5fa7-46a4-bf5c-d348d1eab143 div.sk-label label {font-family: monospace;font-weight: bold;background-color: white;display: inline-block;line-height: 1.2em;}#sk-fd04ff6b-5fa7-46a4-bf5c-d348d1eab143 div.sk-label-container {position: relative;z-index: 2;text-align: center;}#sk-fd04ff6b-5fa7-46a4-bf5c-d348d1eab143 div.sk-container {/* jupyter's `normalize.less` sets `[hidden] { display: none; }` but bootstrap.min.css set `[hidden] { display: none !important; }` so we also need the `!important` here to be able to override the default hidden behavior on the sphinx rendered scikit-learn.org. See: https://github.com/scikit-learn/scikit-learn/issues/21755 */display: inline-block !important;position: relative;}#sk-fd04ff6b-5fa7-46a4-bf5c-d348d1eab143 div.sk-text-repr-fallback {display: none;}</style><div id=\"sk-fd04ff6b-5fa7-46a4-bf5c-d348d1eab143\" class=\"sk-top-container\"><div class=\"sk-text-repr-fallback\"><pre>Pipeline(steps=[(&#x27;standardscaler&#x27;, StandardScaler())])</pre><b>Please rerun this cell to show the HTML repr or trust the notebook.</b></div><div class=\"sk-container\" hidden><div class=\"sk-item sk-dashed-wrapped\"><div class=\"sk-label-container\"><div class=\"sk-label sk-toggleable\"><input class=\"sk-toggleable__control sk-hidden--visually\" id=\"3c606495-0d3e-4ee2-bd0b-1ab472f10182\" type=\"checkbox\" ><label for=\"3c606495-0d3e-4ee2-bd0b-1ab472f10182\" class=\"sk-toggleable__label sk-toggleable__label-arrow\">Pipeline</label><div class=\"sk-toggleable__content\"><pre>Pipeline(steps=[(&#x27;standardscaler&#x27;, StandardScaler())])</pre></div></div></div><div class=\"sk-serial\"><div class=\"sk-item\"><div class=\"sk-estimator sk-toggleable\"><input class=\"sk-toggleable__control sk-hidden--visually\" id=\"c4c7bb5b-1bb2-4179-b138-39a5f6d014aa\" type=\"checkbox\" ><label for=\"c4c7bb5b-1bb2-4179-b138-39a5f6d014aa\" class=\"sk-toggleable__label sk-toggleable__label-arrow\">StandardScaler</label><div class=\"sk-toggleable__content\"><pre>StandardScaler()</pre></div></div></div></div></div></div></div>"
            ]
          },
          "metadata": {},
          "execution_count": 28
        }
      ]
    },
    {
      "cell_type": "code",
      "source": [
        "# Categorical pipeline\n",
        "categorical_pipe = make_pipeline(ohe)\n",
        "categorical_pipe"
      ],
      "metadata": {
        "colab": {
          "base_uri": "https://localhost:8080/",
          "height": 91
        },
        "id": "E_zCSeEk6QI8",
        "outputId": "bd386cec-e840-4b11-f6aa-3f18d744186d"
      },
      "execution_count": 29,
      "outputs": [
        {
          "output_type": "execute_result",
          "data": {
            "text/plain": [
              "Pipeline(steps=[('onehotencoder',\n",
              "                 OneHotEncoder(handle_unknown='ignore', sparse=False))])"
            ],
            "text/html": [
              "<style>#sk-2318a3e5-4592-42a7-b4e4-79cada9353df {color: black;background-color: white;}#sk-2318a3e5-4592-42a7-b4e4-79cada9353df pre{padding: 0;}#sk-2318a3e5-4592-42a7-b4e4-79cada9353df div.sk-toggleable {background-color: white;}#sk-2318a3e5-4592-42a7-b4e4-79cada9353df label.sk-toggleable__label {cursor: pointer;display: block;width: 100%;margin-bottom: 0;padding: 0.3em;box-sizing: border-box;text-align: center;}#sk-2318a3e5-4592-42a7-b4e4-79cada9353df label.sk-toggleable__label-arrow:before {content: \"▸\";float: left;margin-right: 0.25em;color: #696969;}#sk-2318a3e5-4592-42a7-b4e4-79cada9353df label.sk-toggleable__label-arrow:hover:before {color: black;}#sk-2318a3e5-4592-42a7-b4e4-79cada9353df div.sk-estimator:hover label.sk-toggleable__label-arrow:before {color: black;}#sk-2318a3e5-4592-42a7-b4e4-79cada9353df div.sk-toggleable__content {max-height: 0;max-width: 0;overflow: hidden;text-align: left;background-color: #f0f8ff;}#sk-2318a3e5-4592-42a7-b4e4-79cada9353df div.sk-toggleable__content pre {margin: 0.2em;color: black;border-radius: 0.25em;background-color: #f0f8ff;}#sk-2318a3e5-4592-42a7-b4e4-79cada9353df input.sk-toggleable__control:checked~div.sk-toggleable__content {max-height: 200px;max-width: 100%;overflow: auto;}#sk-2318a3e5-4592-42a7-b4e4-79cada9353df input.sk-toggleable__control:checked~label.sk-toggleable__label-arrow:before {content: \"▾\";}#sk-2318a3e5-4592-42a7-b4e4-79cada9353df div.sk-estimator input.sk-toggleable__control:checked~label.sk-toggleable__label {background-color: #d4ebff;}#sk-2318a3e5-4592-42a7-b4e4-79cada9353df div.sk-label input.sk-toggleable__control:checked~label.sk-toggleable__label {background-color: #d4ebff;}#sk-2318a3e5-4592-42a7-b4e4-79cada9353df input.sk-hidden--visually {border: 0;clip: rect(1px 1px 1px 1px);clip: rect(1px, 1px, 1px, 1px);height: 1px;margin: -1px;overflow: hidden;padding: 0;position: absolute;width: 1px;}#sk-2318a3e5-4592-42a7-b4e4-79cada9353df div.sk-estimator {font-family: monospace;background-color: #f0f8ff;border: 1px dotted black;border-radius: 0.25em;box-sizing: border-box;margin-bottom: 0.5em;}#sk-2318a3e5-4592-42a7-b4e4-79cada9353df div.sk-estimator:hover {background-color: #d4ebff;}#sk-2318a3e5-4592-42a7-b4e4-79cada9353df div.sk-parallel-item::after {content: \"\";width: 100%;border-bottom: 1px solid gray;flex-grow: 1;}#sk-2318a3e5-4592-42a7-b4e4-79cada9353df div.sk-label:hover label.sk-toggleable__label {background-color: #d4ebff;}#sk-2318a3e5-4592-42a7-b4e4-79cada9353df div.sk-serial::before {content: \"\";position: absolute;border-left: 1px solid gray;box-sizing: border-box;top: 2em;bottom: 0;left: 50%;}#sk-2318a3e5-4592-42a7-b4e4-79cada9353df div.sk-serial {display: flex;flex-direction: column;align-items: center;background-color: white;padding-right: 0.2em;padding-left: 0.2em;}#sk-2318a3e5-4592-42a7-b4e4-79cada9353df div.sk-item {z-index: 1;}#sk-2318a3e5-4592-42a7-b4e4-79cada9353df div.sk-parallel {display: flex;align-items: stretch;justify-content: center;background-color: white;}#sk-2318a3e5-4592-42a7-b4e4-79cada9353df div.sk-parallel::before {content: \"\";position: absolute;border-left: 1px solid gray;box-sizing: border-box;top: 2em;bottom: 0;left: 50%;}#sk-2318a3e5-4592-42a7-b4e4-79cada9353df div.sk-parallel-item {display: flex;flex-direction: column;position: relative;background-color: white;}#sk-2318a3e5-4592-42a7-b4e4-79cada9353df div.sk-parallel-item:first-child::after {align-self: flex-end;width: 50%;}#sk-2318a3e5-4592-42a7-b4e4-79cada9353df div.sk-parallel-item:last-child::after {align-self: flex-start;width: 50%;}#sk-2318a3e5-4592-42a7-b4e4-79cada9353df div.sk-parallel-item:only-child::after {width: 0;}#sk-2318a3e5-4592-42a7-b4e4-79cada9353df div.sk-dashed-wrapped {border: 1px dashed gray;margin: 0 0.4em 0.5em 0.4em;box-sizing: border-box;padding-bottom: 0.4em;background-color: white;position: relative;}#sk-2318a3e5-4592-42a7-b4e4-79cada9353df div.sk-label label {font-family: monospace;font-weight: bold;background-color: white;display: inline-block;line-height: 1.2em;}#sk-2318a3e5-4592-42a7-b4e4-79cada9353df div.sk-label-container {position: relative;z-index: 2;text-align: center;}#sk-2318a3e5-4592-42a7-b4e4-79cada9353df div.sk-container {/* jupyter's `normalize.less` sets `[hidden] { display: none; }` but bootstrap.min.css set `[hidden] { display: none !important; }` so we also need the `!important` here to be able to override the default hidden behavior on the sphinx rendered scikit-learn.org. See: https://github.com/scikit-learn/scikit-learn/issues/21755 */display: inline-block !important;position: relative;}#sk-2318a3e5-4592-42a7-b4e4-79cada9353df div.sk-text-repr-fallback {display: none;}</style><div id=\"sk-2318a3e5-4592-42a7-b4e4-79cada9353df\" class=\"sk-top-container\"><div class=\"sk-text-repr-fallback\"><pre>Pipeline(steps=[(&#x27;onehotencoder&#x27;,\n",
              "                 OneHotEncoder(handle_unknown=&#x27;ignore&#x27;, sparse=False))])</pre><b>Please rerun this cell to show the HTML repr or trust the notebook.</b></div><div class=\"sk-container\" hidden><div class=\"sk-item sk-dashed-wrapped\"><div class=\"sk-label-container\"><div class=\"sk-label sk-toggleable\"><input class=\"sk-toggleable__control sk-hidden--visually\" id=\"066f5181-ac98-4950-89ac-021683d0b687\" type=\"checkbox\" ><label for=\"066f5181-ac98-4950-89ac-021683d0b687\" class=\"sk-toggleable__label sk-toggleable__label-arrow\">Pipeline</label><div class=\"sk-toggleable__content\"><pre>Pipeline(steps=[(&#x27;onehotencoder&#x27;,\n",
              "                 OneHotEncoder(handle_unknown=&#x27;ignore&#x27;, sparse=False))])</pre></div></div></div><div class=\"sk-serial\"><div class=\"sk-item\"><div class=\"sk-estimator sk-toggleable\"><input class=\"sk-toggleable__control sk-hidden--visually\" id=\"71f1294c-08c6-458f-8cac-ad8d4415bfce\" type=\"checkbox\" ><label for=\"71f1294c-08c6-458f-8cac-ad8d4415bfce\" class=\"sk-toggleable__label sk-toggleable__label-arrow\">OneHotEncoder</label><div class=\"sk-toggleable__content\"><pre>OneHotEncoder(handle_unknown=&#x27;ignore&#x27;, sparse=False)</pre></div></div></div></div></div></div></div>"
            ]
          },
          "metadata": {},
          "execution_count": 29
        }
      ]
    },
    {
      "cell_type": "code",
      "source": [
        "# Make tuples for preprocessing the categorical and numeric columns\n",
        "num_tuple = (numeric_pipe, num_selector)\n",
        "cat_tuple = (categorical_pipe, cat_selector)\n",
        "# ColumnTransformer\n",
        "preprocessor = make_column_transformer(num_tuple, cat_tuple)\n",
        "preprocessor"
      ],
      "metadata": {
        "colab": {
          "base_uri": "https://localhost:8080/",
          "height": 118
        },
        "id": "lyqaCQabyhnT",
        "outputId": "4187408a-e189-4dbd-fdaa-242f40f28718"
      },
      "execution_count": 30,
      "outputs": [
        {
          "output_type": "execute_result",
          "data": {
            "text/plain": [
              "ColumnTransformer(transformers=[('pipeline-1',\n",
              "                                 Pipeline(steps=[('standardscaler',\n",
              "                                                  StandardScaler())]),\n",
              "                                 <sklearn.compose._column_transformer.make_column_selector object at 0x7f717db1e750>),\n",
              "                                ('pipeline-2',\n",
              "                                 Pipeline(steps=[('onehotencoder',\n",
              "                                                  OneHotEncoder(handle_unknown='ignore',\n",
              "                                                                sparse=False))]),\n",
              "                                 <sklearn.compose._column_transformer.make_column_selector object at 0x7f717db25ed0>)])"
            ],
            "text/html": [
              "<style>#sk-180735c9-af95-411d-994b-0306ca8ec5e2 {color: black;background-color: white;}#sk-180735c9-af95-411d-994b-0306ca8ec5e2 pre{padding: 0;}#sk-180735c9-af95-411d-994b-0306ca8ec5e2 div.sk-toggleable {background-color: white;}#sk-180735c9-af95-411d-994b-0306ca8ec5e2 label.sk-toggleable__label {cursor: pointer;display: block;width: 100%;margin-bottom: 0;padding: 0.3em;box-sizing: border-box;text-align: center;}#sk-180735c9-af95-411d-994b-0306ca8ec5e2 label.sk-toggleable__label-arrow:before {content: \"▸\";float: left;margin-right: 0.25em;color: #696969;}#sk-180735c9-af95-411d-994b-0306ca8ec5e2 label.sk-toggleable__label-arrow:hover:before {color: black;}#sk-180735c9-af95-411d-994b-0306ca8ec5e2 div.sk-estimator:hover label.sk-toggleable__label-arrow:before {color: black;}#sk-180735c9-af95-411d-994b-0306ca8ec5e2 div.sk-toggleable__content {max-height: 0;max-width: 0;overflow: hidden;text-align: left;background-color: #f0f8ff;}#sk-180735c9-af95-411d-994b-0306ca8ec5e2 div.sk-toggleable__content pre {margin: 0.2em;color: black;border-radius: 0.25em;background-color: #f0f8ff;}#sk-180735c9-af95-411d-994b-0306ca8ec5e2 input.sk-toggleable__control:checked~div.sk-toggleable__content {max-height: 200px;max-width: 100%;overflow: auto;}#sk-180735c9-af95-411d-994b-0306ca8ec5e2 input.sk-toggleable__control:checked~label.sk-toggleable__label-arrow:before {content: \"▾\";}#sk-180735c9-af95-411d-994b-0306ca8ec5e2 div.sk-estimator input.sk-toggleable__control:checked~label.sk-toggleable__label {background-color: #d4ebff;}#sk-180735c9-af95-411d-994b-0306ca8ec5e2 div.sk-label input.sk-toggleable__control:checked~label.sk-toggleable__label {background-color: #d4ebff;}#sk-180735c9-af95-411d-994b-0306ca8ec5e2 input.sk-hidden--visually {border: 0;clip: rect(1px 1px 1px 1px);clip: rect(1px, 1px, 1px, 1px);height: 1px;margin: -1px;overflow: hidden;padding: 0;position: absolute;width: 1px;}#sk-180735c9-af95-411d-994b-0306ca8ec5e2 div.sk-estimator {font-family: monospace;background-color: #f0f8ff;border: 1px dotted black;border-radius: 0.25em;box-sizing: border-box;margin-bottom: 0.5em;}#sk-180735c9-af95-411d-994b-0306ca8ec5e2 div.sk-estimator:hover {background-color: #d4ebff;}#sk-180735c9-af95-411d-994b-0306ca8ec5e2 div.sk-parallel-item::after {content: \"\";width: 100%;border-bottom: 1px solid gray;flex-grow: 1;}#sk-180735c9-af95-411d-994b-0306ca8ec5e2 div.sk-label:hover label.sk-toggleable__label {background-color: #d4ebff;}#sk-180735c9-af95-411d-994b-0306ca8ec5e2 div.sk-serial::before {content: \"\";position: absolute;border-left: 1px solid gray;box-sizing: border-box;top: 2em;bottom: 0;left: 50%;}#sk-180735c9-af95-411d-994b-0306ca8ec5e2 div.sk-serial {display: flex;flex-direction: column;align-items: center;background-color: white;padding-right: 0.2em;padding-left: 0.2em;}#sk-180735c9-af95-411d-994b-0306ca8ec5e2 div.sk-item {z-index: 1;}#sk-180735c9-af95-411d-994b-0306ca8ec5e2 div.sk-parallel {display: flex;align-items: stretch;justify-content: center;background-color: white;}#sk-180735c9-af95-411d-994b-0306ca8ec5e2 div.sk-parallel::before {content: \"\";position: absolute;border-left: 1px solid gray;box-sizing: border-box;top: 2em;bottom: 0;left: 50%;}#sk-180735c9-af95-411d-994b-0306ca8ec5e2 div.sk-parallel-item {display: flex;flex-direction: column;position: relative;background-color: white;}#sk-180735c9-af95-411d-994b-0306ca8ec5e2 div.sk-parallel-item:first-child::after {align-self: flex-end;width: 50%;}#sk-180735c9-af95-411d-994b-0306ca8ec5e2 div.sk-parallel-item:last-child::after {align-self: flex-start;width: 50%;}#sk-180735c9-af95-411d-994b-0306ca8ec5e2 div.sk-parallel-item:only-child::after {width: 0;}#sk-180735c9-af95-411d-994b-0306ca8ec5e2 div.sk-dashed-wrapped {border: 1px dashed gray;margin: 0 0.4em 0.5em 0.4em;box-sizing: border-box;padding-bottom: 0.4em;background-color: white;position: relative;}#sk-180735c9-af95-411d-994b-0306ca8ec5e2 div.sk-label label {font-family: monospace;font-weight: bold;background-color: white;display: inline-block;line-height: 1.2em;}#sk-180735c9-af95-411d-994b-0306ca8ec5e2 div.sk-label-container {position: relative;z-index: 2;text-align: center;}#sk-180735c9-af95-411d-994b-0306ca8ec5e2 div.sk-container {/* jupyter's `normalize.less` sets `[hidden] { display: none; }` but bootstrap.min.css set `[hidden] { display: none !important; }` so we also need the `!important` here to be able to override the default hidden behavior on the sphinx rendered scikit-learn.org. See: https://github.com/scikit-learn/scikit-learn/issues/21755 */display: inline-block !important;position: relative;}#sk-180735c9-af95-411d-994b-0306ca8ec5e2 div.sk-text-repr-fallback {display: none;}</style><div id=\"sk-180735c9-af95-411d-994b-0306ca8ec5e2\" class=\"sk-top-container\"><div class=\"sk-text-repr-fallback\"><pre>ColumnTransformer(transformers=[(&#x27;pipeline-1&#x27;,\n",
              "                                 Pipeline(steps=[(&#x27;standardscaler&#x27;,\n",
              "                                                  StandardScaler())]),\n",
              "                                 &lt;sklearn.compose._column_transformer.make_column_selector object at 0x7f717db1e750&gt;),\n",
              "                                (&#x27;pipeline-2&#x27;,\n",
              "                                 Pipeline(steps=[(&#x27;onehotencoder&#x27;,\n",
              "                                                  OneHotEncoder(handle_unknown=&#x27;ignore&#x27;,\n",
              "                                                                sparse=False))]),\n",
              "                                 &lt;sklearn.compose._column_transformer.make_column_selector object at 0x7f717db25ed0&gt;)])</pre><b>Please rerun this cell to show the HTML repr or trust the notebook.</b></div><div class=\"sk-container\" hidden><div class=\"sk-item sk-dashed-wrapped\"><div class=\"sk-label-container\"><div class=\"sk-label sk-toggleable\"><input class=\"sk-toggleable__control sk-hidden--visually\" id=\"a2075efb-096f-4741-ac09-d465888c5090\" type=\"checkbox\" ><label for=\"a2075efb-096f-4741-ac09-d465888c5090\" class=\"sk-toggleable__label sk-toggleable__label-arrow\">ColumnTransformer</label><div class=\"sk-toggleable__content\"><pre>ColumnTransformer(transformers=[(&#x27;pipeline-1&#x27;,\n",
              "                                 Pipeline(steps=[(&#x27;standardscaler&#x27;,\n",
              "                                                  StandardScaler())]),\n",
              "                                 &lt;sklearn.compose._column_transformer.make_column_selector object at 0x7f717db1e750&gt;),\n",
              "                                (&#x27;pipeline-2&#x27;,\n",
              "                                 Pipeline(steps=[(&#x27;onehotencoder&#x27;,\n",
              "                                                  OneHotEncoder(handle_unknown=&#x27;ignore&#x27;,\n",
              "                                                                sparse=False))]),\n",
              "                                 &lt;sklearn.compose._column_transformer.make_column_selector object at 0x7f717db25ed0&gt;)])</pre></div></div></div><div class=\"sk-parallel\"><div class=\"sk-parallel-item\"><div class=\"sk-item\"><div class=\"sk-label-container\"><div class=\"sk-label sk-toggleable\"><input class=\"sk-toggleable__control sk-hidden--visually\" id=\"77e62718-9807-4d63-8d0d-49c5257722fc\" type=\"checkbox\" ><label for=\"77e62718-9807-4d63-8d0d-49c5257722fc\" class=\"sk-toggleable__label sk-toggleable__label-arrow\">pipeline-1</label><div class=\"sk-toggleable__content\"><pre>&lt;sklearn.compose._column_transformer.make_column_selector object at 0x7f717db1e750&gt;</pre></div></div></div><div class=\"sk-serial\"><div class=\"sk-item\"><div class=\"sk-serial\"><div class=\"sk-item\"><div class=\"sk-estimator sk-toggleable\"><input class=\"sk-toggleable__control sk-hidden--visually\" id=\"614b87a0-a9de-4b58-ad97-a8a10f3bdce7\" type=\"checkbox\" ><label for=\"614b87a0-a9de-4b58-ad97-a8a10f3bdce7\" class=\"sk-toggleable__label sk-toggleable__label-arrow\">StandardScaler</label><div class=\"sk-toggleable__content\"><pre>StandardScaler()</pre></div></div></div></div></div></div></div></div><div class=\"sk-parallel-item\"><div class=\"sk-item\"><div class=\"sk-label-container\"><div class=\"sk-label sk-toggleable\"><input class=\"sk-toggleable__control sk-hidden--visually\" id=\"31b50034-6a5d-4c60-91aa-cb6f59d83943\" type=\"checkbox\" ><label for=\"31b50034-6a5d-4c60-91aa-cb6f59d83943\" class=\"sk-toggleable__label sk-toggleable__label-arrow\">pipeline-2</label><div class=\"sk-toggleable__content\"><pre>&lt;sklearn.compose._column_transformer.make_column_selector object at 0x7f717db25ed0&gt;</pre></div></div></div><div class=\"sk-serial\"><div class=\"sk-item\"><div class=\"sk-serial\"><div class=\"sk-item\"><div class=\"sk-estimator sk-toggleable\"><input class=\"sk-toggleable__control sk-hidden--visually\" id=\"95155060-7405-477d-9f77-228ff0e40d2b\" type=\"checkbox\" ><label for=\"95155060-7405-477d-9f77-228ff0e40d2b\" class=\"sk-toggleable__label sk-toggleable__label-arrow\">OneHotEncoder</label><div class=\"sk-toggleable__content\"><pre>OneHotEncoder(handle_unknown=&#x27;ignore&#x27;, sparse=False)</pre></div></div></div></div></div></div></div></div></div></div></div></div>"
            ]
          },
          "metadata": {},
          "execution_count": 30
        }
      ]
    },
    {
      "cell_type": "code",
      "source": [
        "#Instantiate and utilize column transformer\n",
        "col_transformer = make_column_transformer(num_tuple, cat_tuple, remainder = 'passthrough')"
      ],
      "metadata": {
        "id": "aMQsjJajylke"
      },
      "execution_count": 31,
      "outputs": []
    },
    {
      "cell_type": "code",
      "source": [
        "preprocessor.fit(X_train, y_train)"
      ],
      "metadata": {
        "colab": {
          "base_uri": "https://localhost:8080/",
          "height": 118
        },
        "id": "-voA2Rvi00UK",
        "outputId": "5663a142-cca4-4f3a-80ff-6245a4fc7e73"
      },
      "execution_count": 32,
      "outputs": [
        {
          "output_type": "execute_result",
          "data": {
            "text/plain": [
              "ColumnTransformer(transformers=[('pipeline-1',\n",
              "                                 Pipeline(steps=[('standardscaler',\n",
              "                                                  StandardScaler())]),\n",
              "                                 <sklearn.compose._column_transformer.make_column_selector object at 0x7f717db1e750>),\n",
              "                                ('pipeline-2',\n",
              "                                 Pipeline(steps=[('onehotencoder',\n",
              "                                                  OneHotEncoder(handle_unknown='ignore',\n",
              "                                                                sparse=False))]),\n",
              "                                 <sklearn.compose._column_transformer.make_column_selector object at 0x7f717db25ed0>)])"
            ],
            "text/html": [
              "<style>#sk-4f6941f5-1895-4790-8379-9c00595f2681 {color: black;background-color: white;}#sk-4f6941f5-1895-4790-8379-9c00595f2681 pre{padding: 0;}#sk-4f6941f5-1895-4790-8379-9c00595f2681 div.sk-toggleable {background-color: white;}#sk-4f6941f5-1895-4790-8379-9c00595f2681 label.sk-toggleable__label {cursor: pointer;display: block;width: 100%;margin-bottom: 0;padding: 0.3em;box-sizing: border-box;text-align: center;}#sk-4f6941f5-1895-4790-8379-9c00595f2681 label.sk-toggleable__label-arrow:before {content: \"▸\";float: left;margin-right: 0.25em;color: #696969;}#sk-4f6941f5-1895-4790-8379-9c00595f2681 label.sk-toggleable__label-arrow:hover:before {color: black;}#sk-4f6941f5-1895-4790-8379-9c00595f2681 div.sk-estimator:hover label.sk-toggleable__label-arrow:before {color: black;}#sk-4f6941f5-1895-4790-8379-9c00595f2681 div.sk-toggleable__content {max-height: 0;max-width: 0;overflow: hidden;text-align: left;background-color: #f0f8ff;}#sk-4f6941f5-1895-4790-8379-9c00595f2681 div.sk-toggleable__content pre {margin: 0.2em;color: black;border-radius: 0.25em;background-color: #f0f8ff;}#sk-4f6941f5-1895-4790-8379-9c00595f2681 input.sk-toggleable__control:checked~div.sk-toggleable__content {max-height: 200px;max-width: 100%;overflow: auto;}#sk-4f6941f5-1895-4790-8379-9c00595f2681 input.sk-toggleable__control:checked~label.sk-toggleable__label-arrow:before {content: \"▾\";}#sk-4f6941f5-1895-4790-8379-9c00595f2681 div.sk-estimator input.sk-toggleable__control:checked~label.sk-toggleable__label {background-color: #d4ebff;}#sk-4f6941f5-1895-4790-8379-9c00595f2681 div.sk-label input.sk-toggleable__control:checked~label.sk-toggleable__label {background-color: #d4ebff;}#sk-4f6941f5-1895-4790-8379-9c00595f2681 input.sk-hidden--visually {border: 0;clip: rect(1px 1px 1px 1px);clip: rect(1px, 1px, 1px, 1px);height: 1px;margin: -1px;overflow: hidden;padding: 0;position: absolute;width: 1px;}#sk-4f6941f5-1895-4790-8379-9c00595f2681 div.sk-estimator {font-family: monospace;background-color: #f0f8ff;border: 1px dotted black;border-radius: 0.25em;box-sizing: border-box;margin-bottom: 0.5em;}#sk-4f6941f5-1895-4790-8379-9c00595f2681 div.sk-estimator:hover {background-color: #d4ebff;}#sk-4f6941f5-1895-4790-8379-9c00595f2681 div.sk-parallel-item::after {content: \"\";width: 100%;border-bottom: 1px solid gray;flex-grow: 1;}#sk-4f6941f5-1895-4790-8379-9c00595f2681 div.sk-label:hover label.sk-toggleable__label {background-color: #d4ebff;}#sk-4f6941f5-1895-4790-8379-9c00595f2681 div.sk-serial::before {content: \"\";position: absolute;border-left: 1px solid gray;box-sizing: border-box;top: 2em;bottom: 0;left: 50%;}#sk-4f6941f5-1895-4790-8379-9c00595f2681 div.sk-serial {display: flex;flex-direction: column;align-items: center;background-color: white;padding-right: 0.2em;padding-left: 0.2em;}#sk-4f6941f5-1895-4790-8379-9c00595f2681 div.sk-item {z-index: 1;}#sk-4f6941f5-1895-4790-8379-9c00595f2681 div.sk-parallel {display: flex;align-items: stretch;justify-content: center;background-color: white;}#sk-4f6941f5-1895-4790-8379-9c00595f2681 div.sk-parallel::before {content: \"\";position: absolute;border-left: 1px solid gray;box-sizing: border-box;top: 2em;bottom: 0;left: 50%;}#sk-4f6941f5-1895-4790-8379-9c00595f2681 div.sk-parallel-item {display: flex;flex-direction: column;position: relative;background-color: white;}#sk-4f6941f5-1895-4790-8379-9c00595f2681 div.sk-parallel-item:first-child::after {align-self: flex-end;width: 50%;}#sk-4f6941f5-1895-4790-8379-9c00595f2681 div.sk-parallel-item:last-child::after {align-self: flex-start;width: 50%;}#sk-4f6941f5-1895-4790-8379-9c00595f2681 div.sk-parallel-item:only-child::after {width: 0;}#sk-4f6941f5-1895-4790-8379-9c00595f2681 div.sk-dashed-wrapped {border: 1px dashed gray;margin: 0 0.4em 0.5em 0.4em;box-sizing: border-box;padding-bottom: 0.4em;background-color: white;position: relative;}#sk-4f6941f5-1895-4790-8379-9c00595f2681 div.sk-label label {font-family: monospace;font-weight: bold;background-color: white;display: inline-block;line-height: 1.2em;}#sk-4f6941f5-1895-4790-8379-9c00595f2681 div.sk-label-container {position: relative;z-index: 2;text-align: center;}#sk-4f6941f5-1895-4790-8379-9c00595f2681 div.sk-container {/* jupyter's `normalize.less` sets `[hidden] { display: none; }` but bootstrap.min.css set `[hidden] { display: none !important; }` so we also need the `!important` here to be able to override the default hidden behavior on the sphinx rendered scikit-learn.org. See: https://github.com/scikit-learn/scikit-learn/issues/21755 */display: inline-block !important;position: relative;}#sk-4f6941f5-1895-4790-8379-9c00595f2681 div.sk-text-repr-fallback {display: none;}</style><div id=\"sk-4f6941f5-1895-4790-8379-9c00595f2681\" class=\"sk-top-container\"><div class=\"sk-text-repr-fallback\"><pre>ColumnTransformer(transformers=[(&#x27;pipeline-1&#x27;,\n",
              "                                 Pipeline(steps=[(&#x27;standardscaler&#x27;,\n",
              "                                                  StandardScaler())]),\n",
              "                                 &lt;sklearn.compose._column_transformer.make_column_selector object at 0x7f717db1e750&gt;),\n",
              "                                (&#x27;pipeline-2&#x27;,\n",
              "                                 Pipeline(steps=[(&#x27;onehotencoder&#x27;,\n",
              "                                                  OneHotEncoder(handle_unknown=&#x27;ignore&#x27;,\n",
              "                                                                sparse=False))]),\n",
              "                                 &lt;sklearn.compose._column_transformer.make_column_selector object at 0x7f717db25ed0&gt;)])</pre><b>Please rerun this cell to show the HTML repr or trust the notebook.</b></div><div class=\"sk-container\" hidden><div class=\"sk-item sk-dashed-wrapped\"><div class=\"sk-label-container\"><div class=\"sk-label sk-toggleable\"><input class=\"sk-toggleable__control sk-hidden--visually\" id=\"24ace64b-e876-4072-90ac-2a3040e9d4ef\" type=\"checkbox\" ><label for=\"24ace64b-e876-4072-90ac-2a3040e9d4ef\" class=\"sk-toggleable__label sk-toggleable__label-arrow\">ColumnTransformer</label><div class=\"sk-toggleable__content\"><pre>ColumnTransformer(transformers=[(&#x27;pipeline-1&#x27;,\n",
              "                                 Pipeline(steps=[(&#x27;standardscaler&#x27;,\n",
              "                                                  StandardScaler())]),\n",
              "                                 &lt;sklearn.compose._column_transformer.make_column_selector object at 0x7f717db1e750&gt;),\n",
              "                                (&#x27;pipeline-2&#x27;,\n",
              "                                 Pipeline(steps=[(&#x27;onehotencoder&#x27;,\n",
              "                                                  OneHotEncoder(handle_unknown=&#x27;ignore&#x27;,\n",
              "                                                                sparse=False))]),\n",
              "                                 &lt;sklearn.compose._column_transformer.make_column_selector object at 0x7f717db25ed0&gt;)])</pre></div></div></div><div class=\"sk-parallel\"><div class=\"sk-parallel-item\"><div class=\"sk-item\"><div class=\"sk-label-container\"><div class=\"sk-label sk-toggleable\"><input class=\"sk-toggleable__control sk-hidden--visually\" id=\"f925ccfa-3295-4d3a-b2d4-01b5080280a1\" type=\"checkbox\" ><label for=\"f925ccfa-3295-4d3a-b2d4-01b5080280a1\" class=\"sk-toggleable__label sk-toggleable__label-arrow\">pipeline-1</label><div class=\"sk-toggleable__content\"><pre>&lt;sklearn.compose._column_transformer.make_column_selector object at 0x7f717db1e750&gt;</pre></div></div></div><div class=\"sk-serial\"><div class=\"sk-item\"><div class=\"sk-serial\"><div class=\"sk-item\"><div class=\"sk-estimator sk-toggleable\"><input class=\"sk-toggleable__control sk-hidden--visually\" id=\"a801ea01-a847-4df2-a1a2-821213ffea70\" type=\"checkbox\" ><label for=\"a801ea01-a847-4df2-a1a2-821213ffea70\" class=\"sk-toggleable__label sk-toggleable__label-arrow\">StandardScaler</label><div class=\"sk-toggleable__content\"><pre>StandardScaler()</pre></div></div></div></div></div></div></div></div><div class=\"sk-parallel-item\"><div class=\"sk-item\"><div class=\"sk-label-container\"><div class=\"sk-label sk-toggleable\"><input class=\"sk-toggleable__control sk-hidden--visually\" id=\"b0597bca-ece5-4595-9699-a2bbf5e31cc1\" type=\"checkbox\" ><label for=\"b0597bca-ece5-4595-9699-a2bbf5e31cc1\" class=\"sk-toggleable__label sk-toggleable__label-arrow\">pipeline-2</label><div class=\"sk-toggleable__content\"><pre>&lt;sklearn.compose._column_transformer.make_column_selector object at 0x7f717db25ed0&gt;</pre></div></div></div><div class=\"sk-serial\"><div class=\"sk-item\"><div class=\"sk-serial\"><div class=\"sk-item\"><div class=\"sk-estimator sk-toggleable\"><input class=\"sk-toggleable__control sk-hidden--visually\" id=\"d5b5d9e4-b818-4c26-82be-e6872cd51b76\" type=\"checkbox\" ><label for=\"d5b5d9e4-b818-4c26-82be-e6872cd51b76\" class=\"sk-toggleable__label sk-toggleable__label-arrow\">OneHotEncoder</label><div class=\"sk-toggleable__content\"><pre>OneHotEncoder(handle_unknown=&#x27;ignore&#x27;, sparse=False)</pre></div></div></div></div></div></div></div></div></div></div></div></div>"
            ]
          },
          "metadata": {},
          "execution_count": 32
        }
      ]
    },
    {
      "cell_type": "code",
      "source": [
        "# transform train and test\n",
        "X_train_processed = preprocessor.transform(X_train)\n",
        "X_test_processed = preprocessor.transform(X_test)"
      ],
      "metadata": {
        "id": "KjtedXBOyn_v"
      },
      "execution_count": 33,
      "outputs": []
    },
    {
      "cell_type": "code",
      "source": [
        "# Check for missing values and that data is scaled and one-hot encoded\n",
        "print(np.isnan(X_train_processed).sum().sum(), 'missing values in training data')\n",
        "print(np.isnan(X_test_processed).sum().sum(), 'missing values in testing data')\n",
        "print('\\n')\n",
        "print('All data in X_train_processed are', X_train_processed.dtype)\n",
        "print('All data in X_test_processed are', X_test_processed.dtype)\n",
        "print('\\n')\n",
        "print('shape of data is', X_train_processed.shape)\n",
        "print('\\n')\n",
        "X_train_processed"
      ],
      "metadata": {
        "colab": {
          "base_uri": "https://localhost:8080/"
        },
        "id": "WJB4FCxz7I0H",
        "outputId": "96d3e85a-331d-490e-cefc-40e48aff3f2f"
      },
      "execution_count": 34,
      "outputs": [
        {
          "output_type": "stream",
          "name": "stdout",
          "text": [
            "0 missing values in training data\n",
            "0 missing values in testing data\n",
            "\n",
            "\n",
            "All data in X_train_processed are float64\n",
            "All data in X_test_processed are float64\n",
            "\n",
            "\n",
            "shape of data is (4917, 251)\n",
            "\n",
            "\n"
          ]
        },
        {
          "output_type": "execute_result",
          "data": {
            "text/plain": [
              "array([[0., 0., 0., ..., 0., 0., 0.],\n",
              "       [0., 0., 0., ..., 0., 0., 0.],\n",
              "       [0., 0., 0., ..., 0., 0., 0.],\n",
              "       ...,\n",
              "       [0., 0., 0., ..., 0., 0., 0.],\n",
              "       [0., 0., 0., ..., 0., 0., 0.],\n",
              "       [0., 0., 0., ..., 0., 0., 0.]])"
            ]
          },
          "metadata": {},
          "execution_count": 34
        }
      ]
    },
    {
      "cell_type": "code",
      "source": [
        "X_train_df = pd.DataFrame(X_train_processed)\n",
        "X_train_df.head()"
      ],
      "metadata": {
        "colab": {
          "base_uri": "https://localhost:8080/",
          "height": 235
        },
        "id": "tAhAv2Hly_-R",
        "outputId": "ee6d7d22-6eca-4c2a-d14a-5b46c3b4e10f"
      },
      "execution_count": 35,
      "outputs": [
        {
          "output_type": "execute_result",
          "data": {
            "text/plain": [
              "      0       1       2       3       4       5       6       7       8    \\\n",
              "0 0.00000 0.00000 0.00000 0.00000 0.00000 0.00000 0.00000 0.00000 0.00000   \n",
              "1 0.00000 0.00000 0.00000 0.00000 0.00000 0.00000 0.00000 0.00000 0.00000   \n",
              "2 0.00000 0.00000 0.00000 0.00000 1.00000 0.00000 0.00000 0.00000 0.00000   \n",
              "3 0.00000 0.00000 0.00000 0.00000 0.00000 0.00000 0.00000 0.00000 0.00000   \n",
              "4 0.00000 0.00000 0.00000 0.00000 0.00000 0.00000 0.00000 0.00000 0.00000   \n",
              "\n",
              "      9    ...     241     242     243     244     245     246     247  \\\n",
              "0 0.00000  ... 0.00000 0.00000 0.00000 0.00000 0.00000 0.00000 0.00000   \n",
              "1 0.00000  ... 0.00000 0.00000 0.00000 0.00000 0.00000 0.00000 0.00000   \n",
              "2 0.00000  ... 0.00000 0.00000 0.00000 0.00000 0.00000 0.00000 0.00000   \n",
              "3 0.00000  ... 0.00000 0.00000 0.00000 0.00000 0.00000 0.00000 0.00000   \n",
              "4 0.00000  ... 0.00000 0.00000 0.00000 0.00000 0.00000 0.00000 0.00000   \n",
              "\n",
              "      248     249     250  \n",
              "0 0.00000 0.00000 0.00000  \n",
              "1 0.00000 0.00000 0.00000  \n",
              "2 0.00000 0.00000 0.00000  \n",
              "3 0.00000 0.00000 0.00000  \n",
              "4 0.00000 0.00000 0.00000  \n",
              "\n",
              "[5 rows x 251 columns]"
            ],
            "text/html": [
              "\n",
              "  <div id=\"df-f2699ccd-9a80-463f-86e7-95fbfa2f0244\">\n",
              "    <div class=\"colab-df-container\">\n",
              "      <div>\n",
              "<style scoped>\n",
              "    .dataframe tbody tr th:only-of-type {\n",
              "        vertical-align: middle;\n",
              "    }\n",
              "\n",
              "    .dataframe tbody tr th {\n",
              "        vertical-align: top;\n",
              "    }\n",
              "\n",
              "    .dataframe thead th {\n",
              "        text-align: right;\n",
              "    }\n",
              "</style>\n",
              "<table border=\"1\" class=\"dataframe\">\n",
              "  <thead>\n",
              "    <tr style=\"text-align: right;\">\n",
              "      <th></th>\n",
              "      <th>0</th>\n",
              "      <th>1</th>\n",
              "      <th>2</th>\n",
              "      <th>3</th>\n",
              "      <th>4</th>\n",
              "      <th>5</th>\n",
              "      <th>6</th>\n",
              "      <th>7</th>\n",
              "      <th>8</th>\n",
              "      <th>9</th>\n",
              "      <th>...</th>\n",
              "      <th>241</th>\n",
              "      <th>242</th>\n",
              "      <th>243</th>\n",
              "      <th>244</th>\n",
              "      <th>245</th>\n",
              "      <th>246</th>\n",
              "      <th>247</th>\n",
              "      <th>248</th>\n",
              "      <th>249</th>\n",
              "      <th>250</th>\n",
              "    </tr>\n",
              "  </thead>\n",
              "  <tbody>\n",
              "    <tr>\n",
              "      <th>0</th>\n",
              "      <td>0.00000</td>\n",
              "      <td>0.00000</td>\n",
              "      <td>0.00000</td>\n",
              "      <td>0.00000</td>\n",
              "      <td>0.00000</td>\n",
              "      <td>0.00000</td>\n",
              "      <td>0.00000</td>\n",
              "      <td>0.00000</td>\n",
              "      <td>0.00000</td>\n",
              "      <td>0.00000</td>\n",
              "      <td>...</td>\n",
              "      <td>0.00000</td>\n",
              "      <td>0.00000</td>\n",
              "      <td>0.00000</td>\n",
              "      <td>0.00000</td>\n",
              "      <td>0.00000</td>\n",
              "      <td>0.00000</td>\n",
              "      <td>0.00000</td>\n",
              "      <td>0.00000</td>\n",
              "      <td>0.00000</td>\n",
              "      <td>0.00000</td>\n",
              "    </tr>\n",
              "    <tr>\n",
              "      <th>1</th>\n",
              "      <td>0.00000</td>\n",
              "      <td>0.00000</td>\n",
              "      <td>0.00000</td>\n",
              "      <td>0.00000</td>\n",
              "      <td>0.00000</td>\n",
              "      <td>0.00000</td>\n",
              "      <td>0.00000</td>\n",
              "      <td>0.00000</td>\n",
              "      <td>0.00000</td>\n",
              "      <td>0.00000</td>\n",
              "      <td>...</td>\n",
              "      <td>0.00000</td>\n",
              "      <td>0.00000</td>\n",
              "      <td>0.00000</td>\n",
              "      <td>0.00000</td>\n",
              "      <td>0.00000</td>\n",
              "      <td>0.00000</td>\n",
              "      <td>0.00000</td>\n",
              "      <td>0.00000</td>\n",
              "      <td>0.00000</td>\n",
              "      <td>0.00000</td>\n",
              "    </tr>\n",
              "    <tr>\n",
              "      <th>2</th>\n",
              "      <td>0.00000</td>\n",
              "      <td>0.00000</td>\n",
              "      <td>0.00000</td>\n",
              "      <td>0.00000</td>\n",
              "      <td>1.00000</td>\n",
              "      <td>0.00000</td>\n",
              "      <td>0.00000</td>\n",
              "      <td>0.00000</td>\n",
              "      <td>0.00000</td>\n",
              "      <td>0.00000</td>\n",
              "      <td>...</td>\n",
              "      <td>0.00000</td>\n",
              "      <td>0.00000</td>\n",
              "      <td>0.00000</td>\n",
              "      <td>0.00000</td>\n",
              "      <td>0.00000</td>\n",
              "      <td>0.00000</td>\n",
              "      <td>0.00000</td>\n",
              "      <td>0.00000</td>\n",
              "      <td>0.00000</td>\n",
              "      <td>0.00000</td>\n",
              "    </tr>\n",
              "    <tr>\n",
              "      <th>3</th>\n",
              "      <td>0.00000</td>\n",
              "      <td>0.00000</td>\n",
              "      <td>0.00000</td>\n",
              "      <td>0.00000</td>\n",
              "      <td>0.00000</td>\n",
              "      <td>0.00000</td>\n",
              "      <td>0.00000</td>\n",
              "      <td>0.00000</td>\n",
              "      <td>0.00000</td>\n",
              "      <td>0.00000</td>\n",
              "      <td>...</td>\n",
              "      <td>0.00000</td>\n",
              "      <td>0.00000</td>\n",
              "      <td>0.00000</td>\n",
              "      <td>0.00000</td>\n",
              "      <td>0.00000</td>\n",
              "      <td>0.00000</td>\n",
              "      <td>0.00000</td>\n",
              "      <td>0.00000</td>\n",
              "      <td>0.00000</td>\n",
              "      <td>0.00000</td>\n",
              "    </tr>\n",
              "    <tr>\n",
              "      <th>4</th>\n",
              "      <td>0.00000</td>\n",
              "      <td>0.00000</td>\n",
              "      <td>0.00000</td>\n",
              "      <td>0.00000</td>\n",
              "      <td>0.00000</td>\n",
              "      <td>0.00000</td>\n",
              "      <td>0.00000</td>\n",
              "      <td>0.00000</td>\n",
              "      <td>0.00000</td>\n",
              "      <td>0.00000</td>\n",
              "      <td>...</td>\n",
              "      <td>0.00000</td>\n",
              "      <td>0.00000</td>\n",
              "      <td>0.00000</td>\n",
              "      <td>0.00000</td>\n",
              "      <td>0.00000</td>\n",
              "      <td>0.00000</td>\n",
              "      <td>0.00000</td>\n",
              "      <td>0.00000</td>\n",
              "      <td>0.00000</td>\n",
              "      <td>0.00000</td>\n",
              "    </tr>\n",
              "  </tbody>\n",
              "</table>\n",
              "<p>5 rows × 251 columns</p>\n",
              "</div>\n",
              "      <button class=\"colab-df-convert\" onclick=\"convertToInteractive('df-f2699ccd-9a80-463f-86e7-95fbfa2f0244')\"\n",
              "              title=\"Convert this dataframe to an interactive table.\"\n",
              "              style=\"display:none;\">\n",
              "        \n",
              "  <svg xmlns=\"http://www.w3.org/2000/svg\" height=\"24px\"viewBox=\"0 0 24 24\"\n",
              "       width=\"24px\">\n",
              "    <path d=\"M0 0h24v24H0V0z\" fill=\"none\"/>\n",
              "    <path d=\"M18.56 5.44l.94 2.06.94-2.06 2.06-.94-2.06-.94-.94-2.06-.94 2.06-2.06.94zm-11 1L8.5 8.5l.94-2.06 2.06-.94-2.06-.94L8.5 2.5l-.94 2.06-2.06.94zm10 10l.94 2.06.94-2.06 2.06-.94-2.06-.94-.94-2.06-.94 2.06-2.06.94z\"/><path d=\"M17.41 7.96l-1.37-1.37c-.4-.4-.92-.59-1.43-.59-.52 0-1.04.2-1.43.59L10.3 9.45l-7.72 7.72c-.78.78-.78 2.05 0 2.83L4 21.41c.39.39.9.59 1.41.59.51 0 1.02-.2 1.41-.59l7.78-7.78 2.81-2.81c.8-.78.8-2.07 0-2.86zM5.41 20L4 18.59l7.72-7.72 1.47 1.35L5.41 20z\"/>\n",
              "  </svg>\n",
              "      </button>\n",
              "      \n",
              "  <style>\n",
              "    .colab-df-container {\n",
              "      display:flex;\n",
              "      flex-wrap:wrap;\n",
              "      gap: 12px;\n",
              "    }\n",
              "\n",
              "    .colab-df-convert {\n",
              "      background-color: #E8F0FE;\n",
              "      border: none;\n",
              "      border-radius: 50%;\n",
              "      cursor: pointer;\n",
              "      display: none;\n",
              "      fill: #1967D2;\n",
              "      height: 32px;\n",
              "      padding: 0 0 0 0;\n",
              "      width: 32px;\n",
              "    }\n",
              "\n",
              "    .colab-df-convert:hover {\n",
              "      background-color: #E2EBFA;\n",
              "      box-shadow: 0px 1px 2px rgba(60, 64, 67, 0.3), 0px 1px 3px 1px rgba(60, 64, 67, 0.15);\n",
              "      fill: #174EA6;\n",
              "    }\n",
              "\n",
              "    [theme=dark] .colab-df-convert {\n",
              "      background-color: #3B4455;\n",
              "      fill: #D2E3FC;\n",
              "    }\n",
              "\n",
              "    [theme=dark] .colab-df-convert:hover {\n",
              "      background-color: #434B5C;\n",
              "      box-shadow: 0px 1px 3px 1px rgba(0, 0, 0, 0.15);\n",
              "      filter: drop-shadow(0px 1px 2px rgba(0, 0, 0, 0.3));\n",
              "      fill: #FFFFFF;\n",
              "    }\n",
              "  </style>\n",
              "\n",
              "      <script>\n",
              "        const buttonEl =\n",
              "          document.querySelector('#df-f2699ccd-9a80-463f-86e7-95fbfa2f0244 button.colab-df-convert');\n",
              "        buttonEl.style.display =\n",
              "          google.colab.kernel.accessAllowed ? 'block' : 'none';\n",
              "\n",
              "        async function convertToInteractive(key) {\n",
              "          const element = document.querySelector('#df-f2699ccd-9a80-463f-86e7-95fbfa2f0244');\n",
              "          const dataTable =\n",
              "            await google.colab.kernel.invokeFunction('convertToInteractive',\n",
              "                                                     [key], {});\n",
              "          if (!dataTable) return;\n",
              "\n",
              "          const docLinkHtml = 'Like what you see? Visit the ' +\n",
              "            '<a target=\"_blank\" href=https://colab.research.google.com/notebooks/data_table.ipynb>data table notebook</a>'\n",
              "            + ' to learn more about interactive tables.';\n",
              "          element.innerHTML = '';\n",
              "          dataTable['output_type'] = 'display_data';\n",
              "          await google.colab.output.renderOutput(dataTable, element);\n",
              "          const docLink = document.createElement('div');\n",
              "          docLink.innerHTML = docLinkHtml;\n",
              "          element.appendChild(docLink);\n",
              "        }\n",
              "      </script>\n",
              "    </div>\n",
              "  </div>\n",
              "  "
            ]
          },
          "metadata": {},
          "execution_count": 35
        }
      ]
    },
    {
      "cell_type": "code",
      "source": [
        "X_test_df = pd.DataFrame(X_test_processed)\n",
        "X_test_df.head()"
      ],
      "metadata": {
        "colab": {
          "base_uri": "https://localhost:8080/",
          "height": 235
        },
        "id": "Rs9sAfAKGcjo",
        "outputId": "c2cc3333-37d8-4279-a335-319c4ab2608c"
      },
      "execution_count": 36,
      "outputs": [
        {
          "output_type": "execute_result",
          "data": {
            "text/plain": [
              "      0       1       2       3       4       5       6       7       8    \\\n",
              "0 0.00000 0.00000 0.00000 0.00000 0.00000 0.00000 0.00000 0.00000 0.00000   \n",
              "1 0.00000 0.00000 0.00000 0.00000 0.00000 0.00000 0.00000 0.00000 0.00000   \n",
              "2 0.00000 0.00000 0.00000 0.00000 0.00000 0.00000 0.00000 0.00000 0.00000   \n",
              "3 0.00000 0.00000 0.00000 0.00000 0.00000 0.00000 0.00000 0.00000 0.00000   \n",
              "4 0.00000 0.00000 0.00000 0.00000 0.00000 0.00000 0.00000 0.00000 0.00000   \n",
              "\n",
              "      9    ...     241     242     243     244     245     246     247  \\\n",
              "0 0.00000  ... 0.00000 0.00000 0.00000 0.00000 0.00000 0.00000 0.00000   \n",
              "1 0.00000  ... 0.00000 0.00000 0.00000 0.00000 0.00000 0.00000 0.00000   \n",
              "2 0.00000  ... 0.00000 0.00000 0.00000 0.00000 0.00000 0.00000 0.00000   \n",
              "3 0.00000  ... 0.00000 0.00000 0.00000 0.00000 0.00000 0.00000 0.00000   \n",
              "4 0.00000  ... 0.00000 0.00000 0.00000 0.00000 0.00000 0.00000 0.00000   \n",
              "\n",
              "      248     249     250  \n",
              "0 0.00000 0.00000 0.00000  \n",
              "1 0.00000 0.00000 0.00000  \n",
              "2 0.00000 0.00000 0.00000  \n",
              "3 0.00000 0.00000 0.00000  \n",
              "4 0.00000 0.00000 0.00000  \n",
              "\n",
              "[5 rows x 251 columns]"
            ],
            "text/html": [
              "\n",
              "  <div id=\"df-e487a310-d751-408f-acbe-582e40f6df8c\">\n",
              "    <div class=\"colab-df-container\">\n",
              "      <div>\n",
              "<style scoped>\n",
              "    .dataframe tbody tr th:only-of-type {\n",
              "        vertical-align: middle;\n",
              "    }\n",
              "\n",
              "    .dataframe tbody tr th {\n",
              "        vertical-align: top;\n",
              "    }\n",
              "\n",
              "    .dataframe thead th {\n",
              "        text-align: right;\n",
              "    }\n",
              "</style>\n",
              "<table border=\"1\" class=\"dataframe\">\n",
              "  <thead>\n",
              "    <tr style=\"text-align: right;\">\n",
              "      <th></th>\n",
              "      <th>0</th>\n",
              "      <th>1</th>\n",
              "      <th>2</th>\n",
              "      <th>3</th>\n",
              "      <th>4</th>\n",
              "      <th>5</th>\n",
              "      <th>6</th>\n",
              "      <th>7</th>\n",
              "      <th>8</th>\n",
              "      <th>9</th>\n",
              "      <th>...</th>\n",
              "      <th>241</th>\n",
              "      <th>242</th>\n",
              "      <th>243</th>\n",
              "      <th>244</th>\n",
              "      <th>245</th>\n",
              "      <th>246</th>\n",
              "      <th>247</th>\n",
              "      <th>248</th>\n",
              "      <th>249</th>\n",
              "      <th>250</th>\n",
              "    </tr>\n",
              "  </thead>\n",
              "  <tbody>\n",
              "    <tr>\n",
              "      <th>0</th>\n",
              "      <td>0.00000</td>\n",
              "      <td>0.00000</td>\n",
              "      <td>0.00000</td>\n",
              "      <td>0.00000</td>\n",
              "      <td>0.00000</td>\n",
              "      <td>0.00000</td>\n",
              "      <td>0.00000</td>\n",
              "      <td>0.00000</td>\n",
              "      <td>0.00000</td>\n",
              "      <td>0.00000</td>\n",
              "      <td>...</td>\n",
              "      <td>0.00000</td>\n",
              "      <td>0.00000</td>\n",
              "      <td>0.00000</td>\n",
              "      <td>0.00000</td>\n",
              "      <td>0.00000</td>\n",
              "      <td>0.00000</td>\n",
              "      <td>0.00000</td>\n",
              "      <td>0.00000</td>\n",
              "      <td>0.00000</td>\n",
              "      <td>0.00000</td>\n",
              "    </tr>\n",
              "    <tr>\n",
              "      <th>1</th>\n",
              "      <td>0.00000</td>\n",
              "      <td>0.00000</td>\n",
              "      <td>0.00000</td>\n",
              "      <td>0.00000</td>\n",
              "      <td>0.00000</td>\n",
              "      <td>0.00000</td>\n",
              "      <td>0.00000</td>\n",
              "      <td>0.00000</td>\n",
              "      <td>0.00000</td>\n",
              "      <td>0.00000</td>\n",
              "      <td>...</td>\n",
              "      <td>0.00000</td>\n",
              "      <td>0.00000</td>\n",
              "      <td>0.00000</td>\n",
              "      <td>0.00000</td>\n",
              "      <td>0.00000</td>\n",
              "      <td>0.00000</td>\n",
              "      <td>0.00000</td>\n",
              "      <td>0.00000</td>\n",
              "      <td>0.00000</td>\n",
              "      <td>0.00000</td>\n",
              "    </tr>\n",
              "    <tr>\n",
              "      <th>2</th>\n",
              "      <td>0.00000</td>\n",
              "      <td>0.00000</td>\n",
              "      <td>0.00000</td>\n",
              "      <td>0.00000</td>\n",
              "      <td>0.00000</td>\n",
              "      <td>0.00000</td>\n",
              "      <td>0.00000</td>\n",
              "      <td>0.00000</td>\n",
              "      <td>0.00000</td>\n",
              "      <td>0.00000</td>\n",
              "      <td>...</td>\n",
              "      <td>0.00000</td>\n",
              "      <td>0.00000</td>\n",
              "      <td>0.00000</td>\n",
              "      <td>0.00000</td>\n",
              "      <td>0.00000</td>\n",
              "      <td>0.00000</td>\n",
              "      <td>0.00000</td>\n",
              "      <td>0.00000</td>\n",
              "      <td>0.00000</td>\n",
              "      <td>0.00000</td>\n",
              "    </tr>\n",
              "    <tr>\n",
              "      <th>3</th>\n",
              "      <td>0.00000</td>\n",
              "      <td>0.00000</td>\n",
              "      <td>0.00000</td>\n",
              "      <td>0.00000</td>\n",
              "      <td>0.00000</td>\n",
              "      <td>0.00000</td>\n",
              "      <td>0.00000</td>\n",
              "      <td>0.00000</td>\n",
              "      <td>0.00000</td>\n",
              "      <td>0.00000</td>\n",
              "      <td>...</td>\n",
              "      <td>0.00000</td>\n",
              "      <td>0.00000</td>\n",
              "      <td>0.00000</td>\n",
              "      <td>0.00000</td>\n",
              "      <td>0.00000</td>\n",
              "      <td>0.00000</td>\n",
              "      <td>0.00000</td>\n",
              "      <td>0.00000</td>\n",
              "      <td>0.00000</td>\n",
              "      <td>0.00000</td>\n",
              "    </tr>\n",
              "    <tr>\n",
              "      <th>4</th>\n",
              "      <td>0.00000</td>\n",
              "      <td>0.00000</td>\n",
              "      <td>0.00000</td>\n",
              "      <td>0.00000</td>\n",
              "      <td>0.00000</td>\n",
              "      <td>0.00000</td>\n",
              "      <td>0.00000</td>\n",
              "      <td>0.00000</td>\n",
              "      <td>0.00000</td>\n",
              "      <td>0.00000</td>\n",
              "      <td>...</td>\n",
              "      <td>0.00000</td>\n",
              "      <td>0.00000</td>\n",
              "      <td>0.00000</td>\n",
              "      <td>0.00000</td>\n",
              "      <td>0.00000</td>\n",
              "      <td>0.00000</td>\n",
              "      <td>0.00000</td>\n",
              "      <td>0.00000</td>\n",
              "      <td>0.00000</td>\n",
              "      <td>0.00000</td>\n",
              "    </tr>\n",
              "  </tbody>\n",
              "</table>\n",
              "<p>5 rows × 251 columns</p>\n",
              "</div>\n",
              "      <button class=\"colab-df-convert\" onclick=\"convertToInteractive('df-e487a310-d751-408f-acbe-582e40f6df8c')\"\n",
              "              title=\"Convert this dataframe to an interactive table.\"\n",
              "              style=\"display:none;\">\n",
              "        \n",
              "  <svg xmlns=\"http://www.w3.org/2000/svg\" height=\"24px\"viewBox=\"0 0 24 24\"\n",
              "       width=\"24px\">\n",
              "    <path d=\"M0 0h24v24H0V0z\" fill=\"none\"/>\n",
              "    <path d=\"M18.56 5.44l.94 2.06.94-2.06 2.06-.94-2.06-.94-.94-2.06-.94 2.06-2.06.94zm-11 1L8.5 8.5l.94-2.06 2.06-.94-2.06-.94L8.5 2.5l-.94 2.06-2.06.94zm10 10l.94 2.06.94-2.06 2.06-.94-2.06-.94-.94-2.06-.94 2.06-2.06.94z\"/><path d=\"M17.41 7.96l-1.37-1.37c-.4-.4-.92-.59-1.43-.59-.52 0-1.04.2-1.43.59L10.3 9.45l-7.72 7.72c-.78.78-.78 2.05 0 2.83L4 21.41c.39.39.9.59 1.41.59.51 0 1.02-.2 1.41-.59l7.78-7.78 2.81-2.81c.8-.78.8-2.07 0-2.86zM5.41 20L4 18.59l7.72-7.72 1.47 1.35L5.41 20z\"/>\n",
              "  </svg>\n",
              "      </button>\n",
              "      \n",
              "  <style>\n",
              "    .colab-df-container {\n",
              "      display:flex;\n",
              "      flex-wrap:wrap;\n",
              "      gap: 12px;\n",
              "    }\n",
              "\n",
              "    .colab-df-convert {\n",
              "      background-color: #E8F0FE;\n",
              "      border: none;\n",
              "      border-radius: 50%;\n",
              "      cursor: pointer;\n",
              "      display: none;\n",
              "      fill: #1967D2;\n",
              "      height: 32px;\n",
              "      padding: 0 0 0 0;\n",
              "      width: 32px;\n",
              "    }\n",
              "\n",
              "    .colab-df-convert:hover {\n",
              "      background-color: #E2EBFA;\n",
              "      box-shadow: 0px 1px 2px rgba(60, 64, 67, 0.3), 0px 1px 3px 1px rgba(60, 64, 67, 0.15);\n",
              "      fill: #174EA6;\n",
              "    }\n",
              "\n",
              "    [theme=dark] .colab-df-convert {\n",
              "      background-color: #3B4455;\n",
              "      fill: #D2E3FC;\n",
              "    }\n",
              "\n",
              "    [theme=dark] .colab-df-convert:hover {\n",
              "      background-color: #434B5C;\n",
              "      box-shadow: 0px 1px 3px 1px rgba(0, 0, 0, 0.15);\n",
              "      filter: drop-shadow(0px 1px 2px rgba(0, 0, 0, 0.3));\n",
              "      fill: #FFFFFF;\n",
              "    }\n",
              "  </style>\n",
              "\n",
              "      <script>\n",
              "        const buttonEl =\n",
              "          document.querySelector('#df-e487a310-d751-408f-acbe-582e40f6df8c button.colab-df-convert');\n",
              "        buttonEl.style.display =\n",
              "          google.colab.kernel.accessAllowed ? 'block' : 'none';\n",
              "\n",
              "        async function convertToInteractive(key) {\n",
              "          const element = document.querySelector('#df-e487a310-d751-408f-acbe-582e40f6df8c');\n",
              "          const dataTable =\n",
              "            await google.colab.kernel.invokeFunction('convertToInteractive',\n",
              "                                                     [key], {});\n",
              "          if (!dataTable) return;\n",
              "\n",
              "          const docLinkHtml = 'Like what you see? Visit the ' +\n",
              "            '<a target=\"_blank\" href=https://colab.research.google.com/notebooks/data_table.ipynb>data table notebook</a>'\n",
              "            + ' to learn more about interactive tables.';\n",
              "          element.innerHTML = '';\n",
              "          dataTable['output_type'] = 'display_data';\n",
              "          await google.colab.output.renderOutput(dataTable, element);\n",
              "          const docLink = document.createElement('div');\n",
              "          docLink.innerHTML = docLinkHtml;\n",
              "          element.appendChild(docLink);\n",
              "        }\n",
              "      </script>\n",
              "    </div>\n",
              "  </div>\n",
              "  "
            ]
          },
          "metadata": {},
          "execution_count": 36
        }
      ]
    },
    {
      "cell_type": "code",
      "source": [
        "X_train_df.info()"
      ],
      "metadata": {
        "colab": {
          "base_uri": "https://localhost:8080/"
        },
        "id": "u2DK7zrF4MMZ",
        "outputId": "60bc25ee-b4f4-45e9-e048-76e70947ef3f"
      },
      "execution_count": 37,
      "outputs": [
        {
          "output_type": "stream",
          "name": "stdout",
          "text": [
            "<class 'pandas.core.frame.DataFrame'>\n",
            "RangeIndex: 4917 entries, 0 to 4916\n",
            "Columns: 251 entries, 0 to 250\n",
            "dtypes: float64(251)\n",
            "memory usage: 9.4 MB\n"
          ]
        }
      ]
    },
    {
      "cell_type": "markdown",
      "source": [
        "##Modeling:"
      ],
      "metadata": {
        "id": "Fq8h7sEHzdGJ"
      }
    },
    {
      "cell_type": "markdown",
      "source": [
        "### Model 1:"
      ],
      "metadata": {
        "id": "RJNeRrUHzgKA"
      }
    },
    {
      "cell_type": "code",
      "source": [
        "# Step 1: Define our network structure\n",
        "# Save the number of features we have as our input shape\n",
        "input_shape = X_train_processed.shape[1]\n",
        "input_shape"
      ],
      "metadata": {
        "colab": {
          "base_uri": "https://localhost:8080/"
        },
        "id": "1u0OaJMVzZUh",
        "outputId": "0fdc201b-9eaf-4b3c-d74a-b9be1057a383"
      },
      "execution_count": 38,
      "outputs": [
        {
          "output_type": "execute_result",
          "data": {
            "text/plain": [
              "251"
            ]
          },
          "metadata": {},
          "execution_count": 38
        }
      ]
    },
    {
      "cell_type": "code",
      "source": [
        "# Select the model type to use, in this case I'll us a Sequential model\n",
        "model1 = Sequential()"
      ],
      "metadata": {
        "id": "vGXIuZQCzZNL"
      },
      "execution_count": 39,
      "outputs": []
    },
    {
      "cell_type": "code",
      "source": [
        "#Setup our Hidden Layers:\n",
        "\n",
        "#Adding first hidden layer:\n",
        "model1.add(Dense(251, \n",
        "                input_dim = input_shape,\n",
        "                activation = 'relu')) \n",
        "\n",
        "#Only using 1 hidden layer initially.\n",
        "model1.add(Dense(10, activation='relu'))\n",
        "# Output layer\n",
        "model1.add(Dense(1, activation = 'linear'))\n",
        "\n",
        "# I chose the linear activation function because this is using the obligation, ."
      ],
      "metadata": {
        "id": "sYe53GEtzrAU"
      },
      "execution_count": 40,
      "outputs": []
    },
    {
      "cell_type": "code",
      "source": [
        "#Compile Model\n",
        "model1.compile(loss='mse',\n",
        "                  optimizer='adam',\n",
        "                  metrics=['mae'])\n",
        "                           "
      ],
      "metadata": {
        "id": "Ysa8Yh-s5SjA"
      },
      "execution_count": 41,
      "outputs": []
    },
    {
      "cell_type": "code",
      "source": [
        "history =model1.fit(X_train_processed, y_train,\n",
        "                        validation_data = (X_test_processed, y_test),\n",
        "                        epochs=100,\n",
        "                        verbose=0)"
      ],
      "metadata": {
        "id": "6Ep9_sK-5dC7"
      },
      "execution_count": 42,
      "outputs": []
    },
    {
      "cell_type": "code",
      "source": [
        "# Learning history plotting function\n",
        "def plot_history(history):\n",
        "  \"\"\"Takes a keras model learning history and plots each metric\"\"\"\n",
        "  \n",
        "  metrics = history.history.keys()\n",
        "  \n",
        "  for metric in metrics:\n",
        "      if not 'val' in metric:\n",
        "        plt.plot(history.history[f'{metric}'], label=f'{metric}')\n",
        "        if f'val_{metric}' in metrics:\n",
        "          plt.plot(history.history[f'val_{metric}'], label=f'val_{metric}')\n",
        "        plt.legend()\n",
        "        plt.title(f'{metric}')\n",
        "        plt.show()"
      ],
      "metadata": {
        "id": "F3pzAWrc6ctg"
      },
      "execution_count": 43,
      "outputs": []
    },
    {
      "cell_type": "code",
      "source": [
        "# plot learning\n",
        " \n",
        "plot_history(history)"
      ],
      "metadata": {
        "colab": {
          "base_uri": "https://localhost:8080/",
          "height": 707
        },
        "id": "FgccQHDC53x4",
        "outputId": "17f92ad2-e5b1-477c-e090-884680c21bf5"
      },
      "execution_count": 44,
      "outputs": [
        {
          "output_type": "display_data",
          "data": {
            "text/plain": [
              "<Figure size 576x396 with 1 Axes>"
            ],
            "image/png": "[encoded data removed]"
          },
          "metadata": {}
        },
        {
          "output_type": "display_data",
          "data": {
            "text/plain": [
              "<Figure size 576x396 with 1 Axes>"
            ],
            "image/png": "[encoded data removed]"
          },
          "metadata": {}
        }
      ]
    },
    {
      "cell_type": "code",
      "source": [
        "'''import seaborn as sns\n",
        "corr = X_train_df.corr()\n",
        "sns.heatmap(corr, cmap = 'Blues', annot = True)'''"
      ],
      "metadata": {
        "id": "hpzdn1KhRTQM",
        "colab": {
          "base_uri": "https://localhost:8080/",
          "height": 36
        },
        "outputId": "3c068270-8659-4387-ccfb-8783aea56040"
      },
      "execution_count": 45,
      "outputs": [
        {
          "output_type": "execute_result",
          "data": {
            "text/plain": [
              "\"import seaborn as sns\\ncorr = X_train_df.corr()\\nsns.heatmap(corr, cmap = 'Blues', annot = True)\""
            ],
            "application/vnd.google.colaboratory.intrinsic+json": {
              "type": "string"
            }
          },
          "metadata": {},
          "execution_count": 45
        }
      ]
    },
    {
      "cell_type": "code",
      "source": [
        "df.hist(bins=15, color='steelblue', edgecolor='black', linewidth=1.0,\n",
        "           xlabelsize=8, ylabelsize=8, grid=False)    \n",
        "plt.tight_layout(rect=(0, 0, 1.2, 1.2))   "
      ],
      "metadata": {
        "id": "jYLrbD30RTIM",
        "colab": {
          "base_uri": "https://localhost:8080/",
          "height": 484
        },
        "outputId": "68583b65-4cfd-42f3-82ea-dd9f4422a1ff"
      },
      "execution_count": 46,
      "outputs": [
        {
          "output_type": "display_data",
          "data": {
            "text/plain": [
              "<Figure size 576x396 with 1 Axes>"
            ],
            "image/png": "[encoded data removed]"
          },
          "metadata": {}
        }
      ]
    },
    {
      "cell_type": "code",
      "source": [
        " #Instantiate, fit & transform data using PCA\n",
        "pca = PCA(n_components=2)\n",
        "pcs = pca.fit_transform(X_train_processed)"
      ],
      "metadata": {
        "id": "StMVrAF1_suX"
      },
      "execution_count": 47,
      "outputs": []
    },
    {
      "cell_type": "code",
      "source": [
        "exp_var_pca = pca.explained_variance_ratio_ "
      ],
      "metadata": {
        "id": "2T2f6YdGB96C"
      },
      "execution_count": 48,
      "outputs": []
    },
    {
      "cell_type": "code",
      "source": [
        "exp_var_pca"
      ],
      "metadata": {
        "id": "9a8ZCbqVB_1h",
        "colab": {
          "base_uri": "https://localhost:8080/"
        },
        "outputId": "a6bd5d8c-84b4-4460-91df-cf149795bcba"
      },
      "execution_count": 49,
      "outputs": [
        {
          "output_type": "execute_result",
          "data": {
            "text/plain": [
              "array([0.01409886, 0.01356028])"
            ]
          },
          "metadata": {},
          "execution_count": 49
        }
      ]
    },
    {
      "cell_type": "code",
      "source": [
        "# Visualize the first 2 PCs\n",
        "plt.figure(figsize = (8, 4))\n",
        "plt.scatter(pcs[:,0], pcs[:,1])\n",
        "plt.title('Visualization of all of our data using the first two Principal Components')\n",
        "plt.xlabel('PC1')\n",
        "plt.ylabel('PC2');"
      ],
      "metadata": {
        "colab": {
          "base_uri": "https://localhost:8080/",
          "height": 294
        },
        "id": "sscqGS6YAZc6",
        "outputId": "f57c0aee-4fb2-4980-be86-4538dc3c6996"
      },
      "execution_count": 50,
      "outputs": [
        {
          "output_type": "display_data",
          "data": {
            "text/plain": [
              "<Figure size 576x288 with 1 Axes>"
            ],
            "image/png": "[encoded data removed]"
          },
          "metadata": {}
        }
      ]
    },
    {
      "cell_type": "markdown",
      "source": [
        "#Project 2 - Part 3 (Core)"
      ],
      "metadata": {
        "id": "XrW3l2wuNejO"
      }
    },
    {
      "cell_type": "markdown",
      "source": [
        "Link to Video"
      ],
      "metadata": {
        "id": "9qSeJibmyVvc"
      }
    },
    {
      "cell_type": "markdown",
      "source": [
        "Project 2 - Part 3 (Core)\n",
        "\n",
        "\n",
        "For this part of the project, create a 5-10  min video presentation with slide show that is designed for a TECHNICAL audience that addresses your data preparation and exploratory analysis for your selected data set. \n",
        "\n",
        "This is a chance for you to articulate what you have been working on, the decisions you have made, and the challenges you may have encountered.\n",
        "\n",
        "Keep in mind that the information you share with a technical audience or a non-technical audience will be quite different, so it is important to differentiate between the two.  \n",
        "\n",
        "Since this is a TECHNICAL audience, you may share code snippets and discuss the cleaning steps. For your final presentation, however, your audience will be non-technical and you will not include this type of information.  \n",
        "\n",
        "To include in your presentation:\n",
        "\n",
        "* Intro and background about your data set\n",
        "* Explanation of the cleaning steps required and a brief explanation of how you addressed them in your data set.\n",
        "* If there were null values, explain how you addressed them.\n",
        "At least two exploratory visuals you used to understand your data set and what you learned from each.\n",
        "* If relevant, any unique challenges you encountered while working with this data set and how you handled them.  \n",
        "\n",
        "Commit your slide deck and video to your GitHub repository. \n",
        "Update your readme with a paragraph describing your data, data source, and any important or creative steps you took to prepare it for modeling.\n",
        "\n",
        "Large files can be saved on Google Drive and the link can be added to GitHub. Ensure that the share settings allow anyone with the link to view the file.\n",
        "\n",
        "Please submit the link to your GitHub Repository."
      ],
      "metadata": {
        "id": "DnxhE-quNbKZ"
      }
    },
    {
      "cell_type": "markdown",
      "source": [
        "#Project 2- Part 4 (Core)"
      ],
      "metadata": {
        "id": "pjN5MnnCyTG0"
      }
    },
    {
      "cell_type": "markdown",
      "source": [
        "\n",
        "You are now entering into the model development phase of the project!\n",
        "\n",
        "* Ensure that you complete the appropriate pre-processing steps\n",
        "* Try multiple models and tune the hyperparameters of each model to optimize model performance (include all models and hyperparameters tested in addition to the final model)\n",
        "* Evaluate model performance with appropriate metrics for the model\n",
        "* Choose your \"production\" model and justify this decision\n",
        "* Go back through your code and ensure that you have provided clear comments (remember this is for your portfolio!)\n",
        "* Update your project readme and describe your final model, your final model evaluation metrics, and explain whether or not your model would be useful in production and if so, how it should be used.\n",
        "\n",
        "Commit your code to GitHub\n",
        "\n",
        "Submit the link to your GitHub repository."
      ],
      "metadata": {
        "id": "v4w02laNyQZ6"
      }
    },
    {
      "cell_type": "code",
      "source": [
        "# transform train and test\n",
        "X_train_proc2 = preprocessor.transform(X_train)\n",
        "X_test_proc2 = preprocessor.transform(X_test)"
      ],
      "metadata": {
        "id": "lkj0u5rqCUOy"
      },
      "execution_count": 51,
      "outputs": []
    },
    {
      "cell_type": "code",
      "source": [
        "# Learning history plotting function\n",
        "def plot_history(history):\n",
        "  \"\"\"Takes a keras model learning history and plots each metric\"\"\"\n",
        "  \n",
        "  metrics = history.history.keys()\n",
        "  \n",
        "  for metric in metrics:\n",
        "      if not 'val' in metric:\n",
        "        plt.plot(history.history[f'{metric}'], label=f'{metric}')\n",
        "        if f'val_{metric}' in metrics:\n",
        "          plt.plot(history.history[f'val_{metric}'], label=f'val_{metric}')\n",
        "        plt.legend()\n",
        "        plt.title(f'{metric}')\n",
        "        plt.show()"
      ],
      "metadata": {
        "id": "nDVZNS5mC7m-"
      },
      "execution_count": 52,
      "outputs": []
    },
    {
      "cell_type": "markdown",
      "source": [
        "#Model 1"
      ],
      "metadata": {
        "id": "hYRSKrLiNSkb"
      }
    },
    {
      "cell_type": "code",
      "source": [
        "# create model architecture\n",
        "input_dim = X_train_proc2.shape[1]\n",
        " \n",
        "reg_model1 = Sequential()\n",
        "reg_model1.add(Dense(251, input_dim=input_dim, activation='relu'))\n",
        "#reg_model1.add(Dense(150, activation='relu'))\n",
        "reg_model1.add(Dense(1, activation='linear'))\n",
        " \n",
        "reg_model1.summary()"
      ],
      "metadata": {
        "colab": {
          "base_uri": "https://localhost:8080/"
        },
        "id": "eohROPn3zjew",
        "outputId": "ea739edd-5d8f-4c57-bdff-264dc1cd6d97"
      },
      "execution_count": 53,
      "outputs": [
        {
          "output_type": "stream",
          "name": "stdout",
          "text": [
            "Model: \"sequential_1\"\n",
            "_________________________________________________________________\n",
            " Layer (type)                Output Shape              Param #   \n",
            "=================================================================\n",
            " dense_3 (Dense)             (None, 251)               63252     \n",
            "                                                                 \n",
            " dense_4 (Dense)             (None, 1)                 252       \n",
            "                                                                 \n",
            "=================================================================\n",
            "Total params: 63,504\n",
            "Trainable params: 63,504\n",
            "Non-trainable params: 0\n",
            "_________________________________________________________________\n"
          ]
        }
      ]
    },
    {
      "cell_type": "code",
      "source": [
        "# compile model with additional metrics\n",
        " \n",
        "reg_model1.compile(loss='mse',\n",
        "                  optimizer='adam',\n",
        "                  metrics=['mae',metrics.RootMeanSquaredError()]                  ) "
      ],
      "metadata": {
        "id": "YWHEOR7VC7rw"
      },
      "execution_count": 54,
      "outputs": []
    },
    {
      "cell_type": "code",
      "source": [
        "# Generaate the history log\n",
        "history = reg_model1.fit(X_train_proc2, y_train,\n",
        "                        validation_data = (X_test_proc2, y_test),\n",
        "                        epochs=100,\n",
        "                       )\n"
      ],
      "metadata": {
        "colab": {
          "base_uri": "https://localhost:8080/"
        },
        "id": "AkS2Rf8nC7pb",
        "outputId": "8aeb92ef-f07d-4693-b6e4-5e5e02bc282b"
      },
      "execution_count": 55,
      "outputs": [
        {
          "output_type": "stream",
          "name": "stdout",
          "text": [
            "Epoch 1/100\n",
            "154/154 [==============================] - 1s 4ms/step - loss: 8341590649413304320.0000 - mae: 314016640.0000 - root_mean_squared_error: 2888181248.0000 - val_loss: 8777832333093896192.0000 - val_mae: 303276768.0000 - val_root_mean_squared_error: 2962740736.0000\n",
            "Epoch 2/100\n",
            "154/154 [==============================] - 0s 3ms/step - loss: 8341592298680745984.0000 - mae: 314016640.0000 - root_mean_squared_error: 2888181504.0000 - val_loss: 8777832333093896192.0000 - val_mae: 303276768.0000 - val_root_mean_squared_error: 2962740736.0000\n",
            "Epoch 3/100\n",
            "154/154 [==============================] - 0s 3ms/step - loss: 8341593398192373760.0000 - mae: 314016448.0000 - root_mean_squared_error: 2888181504.0000 - val_loss: 8777832333093896192.0000 - val_mae: 303276736.0000 - val_root_mean_squared_error: 2962740736.0000\n",
            "Epoch 4/100\n",
            "154/154 [==============================] - 0s 3ms/step - loss: 8341591748924932096.0000 - mae: 314016512.0000 - root_mean_squared_error: 2888181248.0000 - val_loss: 8777832333093896192.0000 - val_mae: 303276736.0000 - val_root_mean_squared_error: 2962740736.0000\n",
            "Epoch 5/100\n",
            "154/154 [==============================] - 0s 3ms/step - loss: 8341590649413304320.0000 - mae: 314016512.0000 - root_mean_squared_error: 2888181248.0000 - val_loss: 8777832333093896192.0000 - val_mae: 303276704.0000 - val_root_mean_squared_error: 2962740736.0000\n",
            "Epoch 6/100\n",
            "154/154 [==============================] - 0s 3ms/step - loss: 8341593398192373760.0000 - mae: 314016416.0000 - root_mean_squared_error: 2888181504.0000 - val_loss: 8777832333093896192.0000 - val_mae: 303276704.0000 - val_root_mean_squared_error: 2962740736.0000\n",
            "Epoch 7/100\n",
            "154/154 [==============================] - 0s 3ms/step - loss: 8341591748924932096.0000 - mae: 314016352.0000 - root_mean_squared_error: 2888181248.0000 - val_loss: 8777832333093896192.0000 - val_mae: 303276640.0000 - val_root_mean_squared_error: 2962740736.0000\n",
            "Epoch 8/100\n",
            "154/154 [==============================] - 0s 3ms/step - loss: 8341593398192373760.0000 - mae: 314016192.0000 - root_mean_squared_error: 2888181504.0000 - val_loss: 8777832333093896192.0000 - val_mae: 303276480.0000 - val_root_mean_squared_error: 2962740736.0000\n",
            "Epoch 9/100\n",
            "154/154 [==============================] - 0s 3ms/step - loss: 8341591748924932096.0000 - mae: 314016192.0000 - root_mean_squared_error: 2888181248.0000 - val_loss: 8777832333093896192.0000 - val_mae: 303276320.0000 - val_root_mean_squared_error: 2962740736.0000\n",
            "Epoch 10/100\n",
            "154/154 [==============================] - 0s 3ms/step - loss: 8341590649413304320.0000 - mae: 314016128.0000 - root_mean_squared_error: 2888181248.0000 - val_loss: 8777832333093896192.0000 - val_mae: 303276288.0000 - val_root_mean_squared_error: 2962740736.0000\n",
            "Epoch 11/100\n",
            "154/154 [==============================] - 0s 3ms/step - loss: 8341592298680745984.0000 - mae: 314015968.0000 - root_mean_squared_error: 2888181504.0000 - val_loss: 8777832333093896192.0000 - val_mae: 303276096.0000 - val_root_mean_squared_error: 2962740736.0000\n",
            "Epoch 12/100\n",
            "154/154 [==============================] - 0s 3ms/step - loss: 8341591748924932096.0000 - mae: 314016000.0000 - root_mean_squared_error: 2888181248.0000 - val_loss: 8777831233582268416.0000 - val_mae: 303276064.0000 - val_root_mean_squared_error: 2962740480.0000\n",
            "Epoch 13/100\n",
            "154/154 [==============================] - 0s 3ms/step - loss: 8341593398192373760.0000 - mae: 314015872.0000 - root_mean_squared_error: 2888181504.0000 - val_loss: 8777831233582268416.0000 - val_mae: 303276032.0000 - val_root_mean_squared_error: 2962740480.0000\n",
            "Epoch 14/100\n",
            "154/154 [==============================] - 0s 3ms/step - loss: 8341589549901676544.0000 - mae: 314015616.0000 - root_mean_squared_error: 2888180992.0000 - val_loss: 8777831233582268416.0000 - val_mae: 303275904.0000 - val_root_mean_squared_error: 2962740480.0000\n",
            "Epoch 15/100\n",
            "154/154 [==============================] - 0s 3ms/step - loss: 8341590649413304320.0000 - mae: 314015520.0000 - root_mean_squared_error: 2888181248.0000 - val_loss: 8777830134070640640.0000 - val_mae: 303275808.0000 - val_root_mean_squared_error: 2962740224.0000\n",
            "Epoch 16/100\n",
            "154/154 [==============================] - 0s 3ms/step - loss: 8341591748924932096.0000 - mae: 314015392.0000 - root_mean_squared_error: 2888181248.0000 - val_loss: 8777830134070640640.0000 - val_mae: 303275712.0000 - val_root_mean_squared_error: 2962740224.0000\n",
            "Epoch 17/100\n",
            "154/154 [==============================] - 0s 3ms/step - loss: 8341590649413304320.0000 - mae: 314015360.0000 - root_mean_squared_error: 2888181248.0000 - val_loss: 8777830134070640640.0000 - val_mae: 303275584.0000 - val_root_mean_squared_error: 2962740224.0000\n",
            "Epoch 18/100\n",
            "154/154 [==============================] - 0s 3ms/step - loss: 8341591748924932096.0000 - mae: 314015264.0000 - root_mean_squared_error: 2888181248.0000 - val_loss: 8777830134070640640.0000 - val_mae: 303275488.0000 - val_root_mean_squared_error: 2962740224.0000\n",
            "Epoch 19/100\n",
            "154/154 [==============================] - 0s 3ms/step - loss: 8341590649413304320.0000 - mae: 314015104.0000 - root_mean_squared_error: 2888181248.0000 - val_loss: 8777830134070640640.0000 - val_mae: 303275296.0000 - val_root_mean_squared_error: 2962740224.0000\n",
            "Epoch 20/100\n",
            "154/154 [==============================] - 0s 3ms/step - loss: 8341591748924932096.0000 - mae: 314014976.0000 - root_mean_squared_error: 2888181248.0000 - val_loss: 8777829584314826752.0000 - val_mae: 303275104.0000 - val_root_mean_squared_error: 2962740224.0000\n",
            "Epoch 21/100\n",
            "154/154 [==============================] - 0s 3ms/step - loss: 8341586801122607104.0000 - mae: 314014816.0000 - root_mean_squared_error: 2888180480.0000 - val_loss: 8777829584314826752.0000 - val_mae: 303274944.0000 - val_root_mean_squared_error: 2962740224.0000\n",
            "Epoch 22/100\n",
            "154/154 [==============================] - 0s 3ms/step - loss: 8341589549901676544.0000 - mae: 314014688.0000 - root_mean_squared_error: 2888180992.0000 - val_loss: 8777829584314826752.0000 - val_mae: 303274816.0000 - val_root_mean_squared_error: 2962740224.0000\n",
            "Epoch 23/100\n",
            "154/154 [==============================] - 0s 3ms/step - loss: 8341590649413304320.0000 - mae: 314014592.0000 - root_mean_squared_error: 2888181248.0000 - val_loss: 8777829584314826752.0000 - val_mae: 303274688.0000 - val_root_mean_squared_error: 2962740224.0000\n",
            "Epoch 24/100\n",
            "154/154 [==============================] - 0s 3ms/step - loss: 8341589549901676544.0000 - mae: 314014432.0000 - root_mean_squared_error: 2888180992.0000 - val_loss: 8777829584314826752.0000 - val_mae: 303274528.0000 - val_root_mean_squared_error: 2962740224.0000\n",
            "Epoch 25/100\n",
            "154/154 [==============================] - 0s 3ms/step - loss: 8341591748924932096.0000 - mae: 314014272.0000 - root_mean_squared_error: 2888181248.0000 - val_loss: 8777829584314826752.0000 - val_mae: 303274400.0000 - val_root_mean_squared_error: 2962740224.0000\n",
            "Epoch 26/100\n",
            "154/154 [==============================] - 0s 3ms/step - loss: 8341589549901676544.0000 - mae: 314013920.0000 - root_mean_squared_error: 2888180992.0000 - val_loss: 8777829584314826752.0000 - val_mae: 303274144.0000 - val_root_mean_squared_error: 2962740224.0000\n",
            "Epoch 27/100\n",
            "154/154 [==============================] - 0s 3ms/step - loss: 8341590649413304320.0000 - mae: 314013920.0000 - root_mean_squared_error: 2888181248.0000 - val_loss: 8777829584314826752.0000 - val_mae: 303273984.0000 - val_root_mean_squared_error: 2962740224.0000\n",
            "Epoch 28/100\n",
            "154/154 [==============================] - 0s 3ms/step - loss: 8341589549901676544.0000 - mae: 314013664.0000 - root_mean_squared_error: 2888180992.0000 - val_loss: 8777829584314826752.0000 - val_mae: 303273824.0000 - val_root_mean_squared_error: 2962740224.0000\n",
            "Epoch 29/100\n",
            "154/154 [==============================] - 0s 3ms/step - loss: 8341590649413304320.0000 - mae: 314013504.0000 - root_mean_squared_error: 2888181248.0000 - val_loss: 8777829584314826752.0000 - val_mae: 303273664.0000 - val_root_mean_squared_error: 2962740224.0000\n",
            "Epoch 30/100\n",
            "154/154 [==============================] - 0s 3ms/step - loss: 8341589000145862656.0000 - mae: 314013184.0000 - root_mean_squared_error: 2888180992.0000 - val_loss: 8777829584314826752.0000 - val_mae: 303273472.0000 - val_root_mean_squared_error: 2962740224.0000\n",
            "Epoch 31/100\n",
            "154/154 [==============================] - 0s 3ms/step - loss: 8341587900634234880.0000 - mae: 314013152.0000 - root_mean_squared_error: 2888180736.0000 - val_loss: 8777828484803198976.0000 - val_mae: 303273248.0000 - val_root_mean_squared_error: 2962739968.0000\n",
            "Epoch 32/100\n",
            "154/154 [==============================] - 0s 3ms/step - loss: 8341589549901676544.0000 - mae: 314012928.0000 - root_mean_squared_error: 2888180992.0000 - val_loss: 8777827935047385088.0000 - val_mae: 303273088.0000 - val_root_mean_squared_error: 2962739968.0000\n",
            "Epoch 33/100\n",
            "154/154 [==============================] - 0s 3ms/step - loss: 8341586801122607104.0000 - mae: 314012640.0000 - root_mean_squared_error: 2888180480.0000 - val_loss: 8777827385291571200.0000 - val_mae: 303272800.0000 - val_root_mean_squared_error: 2962739968.0000\n",
            "Epoch 34/100\n",
            "154/154 [==============================] - 0s 3ms/step - loss: 8341594497704001536.0000 - mae: 314012480.0000 - root_mean_squared_error: 2888181760.0000 - val_loss: 8777827385291571200.0000 - val_mae: 303272640.0000 - val_root_mean_squared_error: 2962739968.0000\n",
            "Epoch 35/100\n",
            "154/154 [==============================] - 0s 3ms/step - loss: 8341586251366793216.0000 - mae: 314012320.0000 - root_mean_squared_error: 2888180480.0000 - val_loss: 8777826835535757312.0000 - val_mae: 303272416.0000 - val_root_mean_squared_error: 2962739712.0000\n",
            "Epoch 36/100\n",
            "154/154 [==============================] - 0s 3ms/step - loss: 8341589000145862656.0000 - mae: 314012064.0000 - root_mean_squared_error: 2888180992.0000 - val_loss: 8777826835535757312.0000 - val_mae: 303272224.0000 - val_root_mean_squared_error: 2962739712.0000\n",
            "Epoch 37/100\n",
            "154/154 [==============================] - 0s 3ms/step - loss: 8341589549901676544.0000 - mae: 314011872.0000 - root_mean_squared_error: 2888180992.0000 - val_loss: 8777825736024129536.0000 - val_mae: 303272000.0000 - val_root_mean_squared_error: 2962739712.0000\n",
            "Epoch 38/100\n",
            "154/154 [==============================] - 0s 3ms/step - loss: 8341589000145862656.0000 - mae: 314011584.0000 - root_mean_squared_error: 2888180992.0000 - val_loss: 8777825736024129536.0000 - val_mae: 303271808.0000 - val_root_mean_squared_error: 2962739712.0000\n",
            "Epoch 39/100\n",
            "154/154 [==============================] - 0s 3ms/step - loss: 8341589549901676544.0000 - mae: 314011456.0000 - root_mean_squared_error: 2888180992.0000 - val_loss: 8777825736024129536.0000 - val_mae: 303271552.0000 - val_root_mean_squared_error: 2962739712.0000\n",
            "Epoch 40/100\n",
            "154/154 [==============================] - 0s 3ms/step - loss: 8341586251366793216.0000 - mae: 314011232.0000 - root_mean_squared_error: 2888180480.0000 - val_loss: 8777825736024129536.0000 - val_mae: 303271296.0000 - val_root_mean_squared_error: 2962739712.0000\n",
            "Epoch 41/100\n",
            "154/154 [==============================] - 0s 3ms/step - loss: 8341586801122607104.0000 - mae: 314011040.0000 - root_mean_squared_error: 2888180480.0000 - val_loss: 8777825736024129536.0000 - val_mae: 303271136.0000 - val_root_mean_squared_error: 2962739712.0000\n",
            "Epoch 42/100\n",
            "154/154 [==============================] - 0s 3ms/step - loss: 8341586801122607104.0000 - mae: 314010720.0000 - root_mean_squared_error: 2888180480.0000 - val_loss: 8777825736024129536.0000 - val_mae: 303270848.0000 - val_root_mean_squared_error: 2962739712.0000\n",
            "Epoch 43/100\n",
            "154/154 [==============================] - 0s 3ms/step - loss: 8341589000145862656.0000 - mae: 314010464.0000 - root_mean_squared_error: 2888180992.0000 - val_loss: 8777825736024129536.0000 - val_mae: 303270560.0000 - val_root_mean_squared_error: 2962739712.0000\n",
            "Epoch 44/100\n",
            "154/154 [==============================] - 0s 3ms/step - loss: 8341587900634234880.0000 - mae: 314010272.0000 - root_mean_squared_error: 2888180736.0000 - val_loss: 8777825736024129536.0000 - val_mae: 303270336.0000 - val_root_mean_squared_error: 2962739712.0000\n",
            "Epoch 45/100\n",
            "154/154 [==============================] - 0s 3ms/step - loss: 8341589000145862656.0000 - mae: 314009984.0000 - root_mean_squared_error: 2888180992.0000 - val_loss: 8777825736024129536.0000 - val_mae: 303270144.0000 - val_root_mean_squared_error: 2962739712.0000\n",
            "Epoch 46/100\n",
            "154/154 [==============================] - 0s 3ms/step - loss: 8341585151855165440.0000 - mae: 314009760.0000 - root_mean_squared_error: 2888180224.0000 - val_loss: 8777825736024129536.0000 - val_mae: 303269952.0000 - val_root_mean_squared_error: 2962739712.0000\n",
            "Epoch 47/100\n",
            "154/154 [==============================] - 0s 3ms/step - loss: 8341583502587723776.0000 - mae: 314009408.0000 - root_mean_squared_error: 2888179968.0000 - val_loss: 8777825736024129536.0000 - val_mae: 303269632.0000 - val_root_mean_squared_error: 2962739712.0000\n",
            "Epoch 48/100\n",
            "154/154 [==============================] - 0s 3ms/step - loss: 8341587900634234880.0000 - mae: 314009344.0000 - root_mean_squared_error: 2888180736.0000 - val_loss: 8777825186268315648.0000 - val_mae: 303269376.0000 - val_root_mean_squared_error: 2962739456.0000\n",
            "Epoch 49/100\n",
            "154/154 [==============================] - 0s 3ms/step - loss: 8341586251366793216.0000 - mae: 314009120.0000 - root_mean_squared_error: 2888180480.0000 - val_loss: 8777824636512501760.0000 - val_mae: 303269152.0000 - val_root_mean_squared_error: 2962739456.0000\n",
            "Epoch 50/100\n",
            "154/154 [==============================] - 0s 3ms/step - loss: 8341589000145862656.0000 - mae: 314008864.0000 - root_mean_squared_error: 2888180992.0000 - val_loss: 8777824636512501760.0000 - val_mae: 303268864.0000 - val_root_mean_squared_error: 2962739456.0000\n",
            "Epoch 51/100\n",
            "154/154 [==============================] - 0s 3ms/step - loss: 8341583502587723776.0000 - mae: 314008544.0000 - root_mean_squared_error: 2888179968.0000 - val_loss: 8777824636512501760.0000 - val_mae: 303268576.0000 - val_root_mean_squared_error: 2962739456.0000\n",
            "Epoch 52/100\n",
            "154/154 [==============================] - 0s 3ms/step - loss: 8341585151855165440.0000 - mae: 314008192.0000 - root_mean_squared_error: 2888180224.0000 - val_loss: 8777824636512501760.0000 - val_mae: 303268320.0000 - val_root_mean_squared_error: 2962739456.0000\n",
            "Epoch 53/100\n",
            "154/154 [==============================] - 0s 3ms/step - loss: 8341585151855165440.0000 - mae: 314007968.0000 - root_mean_squared_error: 2888180224.0000 - val_loss: 8777824636512501760.0000 - val_mae: 303268096.0000 - val_root_mean_squared_error: 2962739456.0000\n",
            "Epoch 54/100\n",
            "154/154 [==============================] - 0s 3ms/step - loss: 8341586801122607104.0000 - mae: 314007712.0000 - root_mean_squared_error: 2888180480.0000 - val_loss: 8777824086756687872.0000 - val_mae: 303267808.0000 - val_root_mean_squared_error: 2962739200.0000\n",
            "Epoch 55/100\n",
            "154/154 [==============================] - 0s 3ms/step - loss: 8341586251366793216.0000 - mae: 314007520.0000 - root_mean_squared_error: 2888180480.0000 - val_loss: 8777824086756687872.0000 - val_mae: 303267520.0000 - val_root_mean_squared_error: 2962739200.0000\n",
            "Epoch 56/100\n",
            "154/154 [==============================] - 0s 3ms/step - loss: 8341583502587723776.0000 - mae: 314007232.0000 - root_mean_squared_error: 2888179968.0000 - val_loss: 8777824086756687872.0000 - val_mae: 303267328.0000 - val_root_mean_squared_error: 2962739200.0000\n",
            "Epoch 57/100\n",
            "154/154 [==============================] - 0s 3ms/step - loss: 8341584052343537664.0000 - mae: 314006944.0000 - root_mean_squared_error: 2888179968.0000 - val_loss: 8777824086756687872.0000 - val_mae: 303266976.0000 - val_root_mean_squared_error: 2962739200.0000\n",
            "Epoch 58/100\n",
            "154/154 [==============================] - 0s 3ms/step - loss: 8341586251366793216.0000 - mae: 314006592.0000 - root_mean_squared_error: 2888180480.0000 - val_loss: 8777824086756687872.0000 - val_mae: 303266688.0000 - val_root_mean_squared_error: 2962739200.0000\n",
            "Epoch 59/100\n",
            "154/154 [==============================] - 0s 3ms/step - loss: 8341585151855165440.0000 - mae: 314006400.0000 - root_mean_squared_error: 2888180224.0000 - val_loss: 8777822437489246208.0000 - val_mae: 303266432.0000 - val_root_mean_squared_error: 2962738944.0000\n",
            "Epoch 60/100\n",
            "154/154 [==============================] - 0s 3ms/step - loss: 8341584052343537664.0000 - mae: 314006016.0000 - root_mean_squared_error: 2888179968.0000 - val_loss: 8777822437489246208.0000 - val_mae: 303266080.0000 - val_root_mean_squared_error: 2962738944.0000\n",
            "Epoch 61/100\n",
            "154/154 [==============================] - 0s 3ms/step - loss: 8341584052343537664.0000 - mae: 314005792.0000 - root_mean_squared_error: 2888179968.0000 - val_loss: 8777822437489246208.0000 - val_mae: 303265696.0000 - val_root_mean_squared_error: 2962738944.0000\n",
            "Epoch 62/100\n",
            "154/154 [==============================] - 0s 3ms/step - loss: 8341584052343537664.0000 - mae: 314005440.0000 - root_mean_squared_error: 2888179968.0000 - val_loss: 8777822437489246208.0000 - val_mae: 303265472.0000 - val_root_mean_squared_error: 2962738944.0000\n",
            "Epoch 63/100\n",
            "154/154 [==============================] - 0s 3ms/step - loss: 8341583502587723776.0000 - mae: 314005216.0000 - root_mean_squared_error: 2888179968.0000 - val_loss: 8777822437489246208.0000 - val_mae: 303265184.0000 - val_root_mean_squared_error: 2962738944.0000\n",
            "Epoch 64/100\n",
            "154/154 [==============================] - 0s 3ms/step - loss: 8341582403076096000.0000 - mae: 314004928.0000 - root_mean_squared_error: 2888179712.0000 - val_loss: 8777821887733432320.0000 - val_mae: 303264896.0000 - val_root_mean_squared_error: 2962738944.0000\n",
            "Epoch 65/100\n",
            "154/154 [==============================] - 0s 3ms/step - loss: 8341580753808654336.0000 - mae: 314004544.0000 - root_mean_squared_error: 2888179456.0000 - val_loss: 8777821887733432320.0000 - val_mae: 303264512.0000 - val_root_mean_squared_error: 2962738944.0000\n",
            "Epoch 66/100\n",
            "154/154 [==============================] - 0s 3ms/step - loss: 8341584052343537664.0000 - mae: 314004128.0000 - root_mean_squared_error: 2888179968.0000 - val_loss: 8777821887733432320.0000 - val_mae: 303264192.0000 - val_root_mean_squared_error: 2962738944.0000\n",
            "Epoch 67/100\n",
            "154/154 [==============================] - 0s 3ms/step - loss: 8341581303564468224.0000 - mae: 314003776.0000 - root_mean_squared_error: 2888179456.0000 - val_loss: 8777821887733432320.0000 - val_mae: 303263904.0000 - val_root_mean_squared_error: 2962738944.0000\n",
            "Epoch 68/100\n",
            "154/154 [==============================] - 0s 3ms/step - loss: 8341582403076096000.0000 - mae: 314003584.0000 - root_mean_squared_error: 2888179712.0000 - val_loss: 8777821337977618432.0000 - val_mae: 303263520.0000 - val_root_mean_squared_error: 2962738944.0000\n",
            "Epoch 69/100\n",
            "154/154 [==============================] - 0s 3ms/step - loss: 8341579654297026560.0000 - mae: 314003168.0000 - root_mean_squared_error: 2888179200.0000 - val_loss: 8777821337977618432.0000 - val_mae: 303263232.0000 - val_root_mean_squared_error: 2962738944.0000\n",
            "Epoch 70/100\n",
            "154/154 [==============================] - 0s 3ms/step - loss: 8341579654297026560.0000 - mae: 314002816.0000 - root_mean_squared_error: 2888179200.0000 - val_loss: 8777821337977618432.0000 - val_mae: 303262912.0000 - val_root_mean_squared_error: 2962738944.0000\n",
            "Epoch 71/100\n",
            "154/154 [==============================] - 0s 3ms/step - loss: 8341581303564468224.0000 - mae: 314002592.0000 - root_mean_squared_error: 2888179456.0000 - val_loss: 8777820238465990656.0000 - val_mae: 303262592.0000 - val_root_mean_squared_error: 2962738688.0000\n",
            "Epoch 72/100\n",
            "154/154 [==============================] - 0s 3ms/step - loss: 8341578554785398784.0000 - mae: 314002176.0000 - root_mean_squared_error: 2888178944.0000 - val_loss: 8777820238465990656.0000 - val_mae: 303262208.0000 - val_root_mean_squared_error: 2962738688.0000\n",
            "Epoch 73/100\n",
            "154/154 [==============================] - 0s 3ms/step - loss: 8341580753808654336.0000 - mae: 314001920.0000 - root_mean_squared_error: 2888179456.0000 - val_loss: 8777820238465990656.0000 - val_mae: 303261952.0000 - val_root_mean_squared_error: 2962738688.0000\n",
            "Epoch 74/100\n",
            "154/154 [==============================] - 0s 3ms/step - loss: 8341579654297026560.0000 - mae: 314001440.0000 - root_mean_squared_error: 2888179200.0000 - val_loss: 8777820238465990656.0000 - val_mae: 303261568.0000 - val_root_mean_squared_error: 2962738688.0000\n",
            "Epoch 75/100\n",
            "154/154 [==============================] - 0s 3ms/step - loss: 8341580753808654336.0000 - mae: 314001376.0000 - root_mean_squared_error: 2888179456.0000 - val_loss: 8777820238465990656.0000 - val_mae: 303261216.0000 - val_root_mean_squared_error: 2962738688.0000\n",
            "Epoch 76/100\n",
            "154/154 [==============================] - 0s 3ms/step - loss: 8341580753808654336.0000 - mae: 314000960.0000 - root_mean_squared_error: 2888179456.0000 - val_loss: 8777819688710176768.0000 - val_mae: 303260896.0000 - val_root_mean_squared_error: 2962738688.0000\n",
            "Epoch 77/100\n",
            "154/154 [==============================] - 0s 3ms/step - loss: 8341580753808654336.0000 - mae: 314000608.0000 - root_mean_squared_error: 2888179456.0000 - val_loss: 8777819138954362880.0000 - val_mae: 303260544.0000 - val_root_mean_squared_error: 2962738432.0000\n",
            "Epoch 78/100\n",
            "154/154 [==============================] - 0s 3ms/step - loss: 8341578554785398784.0000 - mae: 314000288.0000 - root_mean_squared_error: 2888178944.0000 - val_loss: 8777819138954362880.0000 - val_mae: 303260192.0000 - val_root_mean_squared_error: 2962738432.0000\n",
            "Epoch 79/100\n",
            "154/154 [==============================] - 0s 3ms/step - loss: 8341576905517957120.0000 - mae: 313999904.0000 - root_mean_squared_error: 2888178688.0000 - val_loss: 8777818589198548992.0000 - val_mae: 303259808.0000 - val_root_mean_squared_error: 2962738432.0000\n",
            "Epoch 80/100\n",
            "154/154 [==============================] - 0s 3ms/step - loss: 8341578554785398784.0000 - mae: 313999584.0000 - root_mean_squared_error: 2888178944.0000 - val_loss: 8777817489686921216.0000 - val_mae: 303259488.0000 - val_root_mean_squared_error: 2962738176.0000\n",
            "Epoch 81/100\n",
            "154/154 [==============================] - 0s 3ms/step - loss: 8341578554785398784.0000 - mae: 313999200.0000 - root_mean_squared_error: 2888178944.0000 - val_loss: 8777817489686921216.0000 - val_mae: 303259136.0000 - val_root_mean_squared_error: 2962738176.0000\n",
            "Epoch 82/100\n",
            "154/154 [==============================] - 0s 3ms/step - loss: 8341575256250515456.0000 - mae: 313998848.0000 - root_mean_squared_error: 2888178432.0000 - val_loss: 8777817489686921216.0000 - val_mae: 303258816.0000 - val_root_mean_squared_error: 2962738176.0000\n",
            "Epoch 83/100\n",
            "154/154 [==============================] - 0s 3ms/step - loss: 8341575806006329344.0000 - mae: 313998464.0000 - root_mean_squared_error: 2888178688.0000 - val_loss: 8777817489686921216.0000 - val_mae: 303258336.0000 - val_root_mean_squared_error: 2962738176.0000\n",
            "Epoch 84/100\n",
            "154/154 [==============================] - 0s 3ms/step - loss: 8341574156738887680.0000 - mae: 313998240.0000 - root_mean_squared_error: 2888178176.0000 - val_loss: 8777816939931107328.0000 - val_mae: 303258080.0000 - val_root_mean_squared_error: 2962738176.0000\n",
            "Epoch 85/100\n",
            "154/154 [==============================] - 0s 3ms/step - loss: 8341576905517957120.0000 - mae: 313997664.0000 - root_mean_squared_error: 2888178688.0000 - val_loss: 8777816939931107328.0000 - val_mae: 303257696.0000 - val_root_mean_squared_error: 2962738176.0000\n",
            "Epoch 86/100\n",
            "154/154 [==============================] - 0s 3ms/step - loss: 8341578554785398784.0000 - mae: 313997344.0000 - root_mean_squared_error: 2888178944.0000 - val_loss: 8777816939931107328.0000 - val_mae: 303257280.0000 - val_root_mean_squared_error: 2962738176.0000\n",
            "Epoch 87/100\n",
            "154/154 [==============================] - 0s 3ms/step - loss: 8341574156738887680.0000 - mae: 313997024.0000 - root_mean_squared_error: 2888178176.0000 - val_loss: 8777815840419479552.0000 - val_mae: 303256928.0000 - val_root_mean_squared_error: 2962737920.0000\n",
            "Epoch 88/100\n",
            "154/154 [==============================] - 0s 3ms/step - loss: 8341575256250515456.0000 - mae: 313996640.0000 - root_mean_squared_error: 2888178432.0000 - val_loss: 8777815840419479552.0000 - val_mae: 303256448.0000 - val_root_mean_squared_error: 2962737920.0000\n",
            "Epoch 89/100\n",
            "154/154 [==============================] - 0s 3ms/step - loss: 8341572507471446016.0000 - mae: 313996352.0000 - root_mean_squared_error: 2888177920.0000 - val_loss: 8777814740907851776.0000 - val_mae: 303256160.0000 - val_root_mean_squared_error: 2962737664.0000\n",
            "Epoch 90/100\n",
            "154/154 [==============================] - 0s 3ms/step - loss: 8341573057227259904.0000 - mae: 313996000.0000 - root_mean_squared_error: 2888178176.0000 - val_loss: 8777814740907851776.0000 - val_mae: 303255776.0000 - val_root_mean_squared_error: 2962737664.0000\n",
            "Epoch 91/100\n",
            "154/154 [==============================] - 0s 3ms/step - loss: 8341574156738887680.0000 - mae: 313995584.0000 - root_mean_squared_error: 2888178176.0000 - val_loss: 8777814740907851776.0000 - val_mae: 303255328.0000 - val_root_mean_squared_error: 2962737664.0000\n",
            "Epoch 92/100\n",
            "154/154 [==============================] - 0s 3ms/step - loss: 8341575256250515456.0000 - mae: 313995232.0000 - root_mean_squared_error: 2888178432.0000 - val_loss: 8777814740907851776.0000 - val_mae: 303254976.0000 - val_root_mean_squared_error: 2962737664.0000\n",
            "Epoch 93/100\n",
            "154/154 [==============================] - 0s 3ms/step - loss: 8341575806006329344.0000 - mae: 313994816.0000 - root_mean_squared_error: 2888178688.0000 - val_loss: 8777814191152037888.0000 - val_mae: 303254592.0000 - val_root_mean_squared_error: 2962737664.0000\n",
            "Epoch 94/100\n",
            "154/154 [==============================] - 0s 3ms/step - loss: 8341573057227259904.0000 - mae: 313994368.0000 - root_mean_squared_error: 2888178176.0000 - val_loss: 8777814191152037888.0000 - val_mae: 303254176.0000 - val_root_mean_squared_error: 2962737664.0000\n",
            "Epoch 95/100\n",
            "154/154 [==============================] - 0s 3ms/step - loss: 8341575256250515456.0000 - mae: 313993984.0000 - root_mean_squared_error: 2888178432.0000 - val_loss: 8777813641396224000.0000 - val_mae: 303253760.0000 - val_root_mean_squared_error: 2962737664.0000\n",
            "Epoch 96/100\n",
            "154/154 [==============================] - 0s 3ms/step - loss: 8341571407959818240.0000 - mae: 313993664.0000 - root_mean_squared_error: 2888177920.0000 - val_loss: 8777813641396224000.0000 - val_mae: 303253408.0000 - val_root_mean_squared_error: 2962737664.0000\n",
            "Epoch 97/100\n",
            "154/154 [==============================] - 0s 3ms/step - loss: 8341571407959818240.0000 - mae: 313993312.0000 - root_mean_squared_error: 2888177920.0000 - val_loss: 8777813641396224000.0000 - val_mae: 303252992.0000 - val_root_mean_squared_error: 2962737664.0000\n",
            "Epoch 98/100\n",
            "154/154 [==============================] - 0s 3ms/step - loss: 8341572507471446016.0000 - mae: 313992864.0000 - root_mean_squared_error: 2888177920.0000 - val_loss: 8777813641396224000.0000 - val_mae: 303252576.0000 - val_root_mean_squared_error: 2962737664.0000\n",
            "Epoch 99/100\n",
            "154/154 [==============================] - 0s 3ms/step - loss: 8341570308448190464.0000 - mae: 313992384.0000 - root_mean_squared_error: 2888177664.0000 - val_loss: 8777813641396224000.0000 - val_mae: 303252224.0000 - val_root_mean_squared_error: 2962737664.0000\n",
            "Epoch 100/100\n",
            "154/154 [==============================] - 0s 3ms/step - loss: 8341568659180748800.0000 - mae: 313992032.0000 - root_mean_squared_error: 2888177408.0000 - val_loss: 8777813641396224000.0000 - val_mae: 303251680.0000 - val_root_mean_squared_error: 2962737664.0000\n"
          ]
        }
      ]
    },
    {
      "cell_type": "code",
      "source": [
        "# plot learning\n",
        " \n",
        "plot_history(history)"
      ],
      "metadata": {
        "colab": {
          "base_uri": "https://localhost:8080/",
          "height": 1000
        },
        "id": "AsmpSt9iL3lw",
        "outputId": "1c2657e8-48b7-4920-ab9a-262417586a15"
      },
      "execution_count": 56,
      "outputs": [
        {
          "output_type": "display_data",
          "data": {
            "text/plain": [
              "<Figure size 576x396 with 1 Axes>"
            ],
            "image/png": "[encoded data removed]"
          },
          "metadata": {}
        },
        {
          "output_type": "display_data",
          "data": {
            "text/plain": [
              "<Figure size 576x396 with 1 Axes>"
            ],
            "image/png": "[encoded data removed]"
          },
          "metadata": {}
        },
        {
          "output_type": "display_data",
          "data": {
            "text/plain": [
              "<Figure size 576x396 with 1 Axes>"
            ],
            "image/png": "[encoded data removed]"
          },
          "metadata": {}
        }
      ]
    },
    {
      "cell_type": "code",
      "source": [
        "# evaluate model\n",
        " \n",
        "y_pred = model1.predict(X_test_proc2)\n",
        " \n",
        "print(f'final RMSE: {np.sqrt(mean_squared_error(y_test, y_pred))}')\n",
        "print(f'final MAE: {mean_absolute_error(y_test, y_pred)}')\n",
        "print(f'final R2: {r2_score(y_test, y_pred)}')"
      ],
      "metadata": {
        "colab": {
          "base_uri": "https://localhost:8080/"
        },
        "id": "s7TTrTwD1slE",
        "outputId": "a6c4ff80-ddf2-434f-ee66-b826a4acc5a6"
      },
      "execution_count": 57,
      "outputs": [
        {
          "output_type": "stream",
          "name": "stdout",
          "text": [
            "final RMSE: 2962637015.4060493\n",
            "final MAE: 302870614.33336484\n",
            "final R2: -0.010513485042147552\n"
          ]
        }
      ]
    },
    {
      "cell_type": "markdown",
      "source": [
        "# Model 2"
      ],
      "metadata": {
        "id": "qOXx_-N0M2Ei"
      }
    },
    {
      "cell_type": "code",
      "source": [
        "# create model architecture\n",
        "input_dim = X_train_proc2.shape[1]\n",
        " \n",
        "reg_model2 = Sequential()\n",
        "reg_model2.add(Dense(251, input_dim=input_dim, activation='relu'))\n",
        "#reg_model2.add(Dense(150, activation='relu'))\n",
        "reg_model2.add(Dense(1, activation='linear'))\n",
        " \n",
        "reg_model2.summary()"
      ],
      "metadata": {
        "colab": {
          "base_uri": "https://localhost:8080/"
        },
        "id": "E2uEPIJY-8zb",
        "outputId": "fa024097-979a-4d9e-fbf5-be09bc304a66"
      },
      "execution_count": 58,
      "outputs": [
        {
          "output_type": "stream",
          "name": "stdout",
          "text": [
            "Model: \"sequential_2\"\n",
            "_________________________________________________________________\n",
            " Layer (type)                Output Shape              Param #   \n",
            "=================================================================\n",
            " dense_5 (Dense)             (None, 251)               63252     \n",
            "                                                                 \n",
            " dense_6 (Dense)             (None, 1)                 252       \n",
            "                                                                 \n",
            "=================================================================\n",
            "Total params: 63,504\n",
            "Trainable params: 63,504\n",
            "Non-trainable params: 0\n",
            "_________________________________________________________________\n"
          ]
        }
      ]
    },
    {
      "cell_type": "code",
      "source": [
        "# create model architecture\n",
        "input_dim = X_train_proc2.shape[1]\n",
        " \n",
        "reg_model2 = Sequential()\n",
        " \n",
        "reg_model2.add(Dense(251, input_dim=input_dim, activation='relu'))\n",
        "reg_model2.add(Dense(150, activation='relu'))\n",
        "reg_model2.add(Dense(1, activation='linear'))\n",
        " \n",
        "reg_model2.summary()"
      ],
      "metadata": {
        "colab": {
          "base_uri": "https://localhost:8080/"
        },
        "id": "pPIYbu2lC7kL",
        "outputId": "9fcb03c2-2c7d-4fb1-a3ba-bff0494b9d76"
      },
      "execution_count": 59,
      "outputs": [
        {
          "output_type": "stream",
          "name": "stdout",
          "text": [
            "Model: \"sequential_3\"\n",
            "_________________________________________________________________\n",
            " Layer (type)                Output Shape              Param #   \n",
            "=================================================================\n",
            " dense_7 (Dense)             (None, 251)               63252     \n",
            "                                                                 \n",
            " dense_8 (Dense)             (None, 150)               37800     \n",
            "                                                                 \n",
            " dense_9 (Dense)             (None, 1)                 151       \n",
            "                                                                 \n",
            "=================================================================\n",
            "Total params: 101,203\n",
            "Trainable params: 101,203\n",
            "Non-trainable params: 0\n",
            "_________________________________________________________________\n"
          ]
        }
      ]
    },
    {
      "cell_type": "code",
      "source": [
        "# compile model with additional metrics\n",
        " \n",
        "reg_model2.compile(loss='mse',\n",
        "                  optimizer='adam',\n",
        "                  metrics=['mae',metrics.RootMeanSquaredError()])   "
      ],
      "metadata": {
        "id": "nO9RrFy7C7hy"
      },
      "execution_count": 60,
      "outputs": []
    },
    {
      "cell_type": "code",
      "source": [
        "# Generaate the history log\n",
        "history = reg_model2.fit(X_train_proc2, y_train,\n",
        "                        validation_data = (X_test_proc2, y_test),\n",
        "                        epochs=100,\n",
        "                        )\n"
      ],
      "metadata": {
        "colab": {
          "base_uri": "https://localhost:8080/"
        },
        "id": "OucCoY5WC7e_",
        "outputId": "f63616b3-905d-462c-c53a-4b8658ac180d"
      },
      "execution_count": 61,
      "outputs": [
        {
          "output_type": "stream",
          "name": "stdout",
          "text": [
            "Epoch 1/100\n",
            "154/154 [==============================] - 1s 4ms/step - loss: 8341594497704001536.0000 - mae: 314016512.0000 - root_mean_squared_error: 2888181760.0000 - val_loss: 8777832333093896192.0000 - val_mae: 303276736.0000 - val_root_mean_squared_error: 2962740736.0000\n",
            "Epoch 2/100\n",
            "154/154 [==============================] - 0s 3ms/step - loss: 8341593398192373760.0000 - mae: 314016032.0000 - root_mean_squared_error: 2888181504.0000 - val_loss: 8777831233582268416.0000 - val_mae: 303275968.0000 - val_root_mean_squared_error: 2962740480.0000\n",
            "Epoch 3/100\n",
            "154/154 [==============================] - 1s 4ms/step - loss: 8341592298680745984.0000 - mae: 314014784.0000 - root_mean_squared_error: 2888181504.0000 - val_loss: 8777829584314826752.0000 - val_mae: 303273888.0000 - val_root_mean_squared_error: 2962740224.0000\n",
            "Epoch 4/100\n",
            "154/154 [==============================] - 0s 3ms/step - loss: 8341587900634234880.0000 - mae: 314011712.0000 - root_mean_squared_error: 2888180736.0000 - val_loss: 8777825736024129536.0000 - val_mae: 303270080.0000 - val_root_mean_squared_error: 2962739712.0000\n",
            "Epoch 5/100\n",
            "154/154 [==============================] - 0s 3ms/step - loss: 8341586251366793216.0000 - mae: 314007104.0000 - root_mean_squared_error: 2888180480.0000 - val_loss: 8777821887733432320.0000 - val_mae: 303264224.0000 - val_root_mean_squared_error: 2962738944.0000\n",
            "Epoch 6/100\n",
            "154/154 [==============================] - 0s 3ms/step - loss: 8341580753808654336.0000 - mae: 313999904.0000 - root_mean_squared_error: 2888179456.0000 - val_loss: 8777814740907851776.0000 - val_mae: 303255584.0000 - val_root_mean_squared_error: 2962737664.0000\n",
            "Epoch 7/100\n",
            "154/154 [==============================] - 0s 3ms/step - loss: 8341571407959818240.0000 - mae: 313990944.0000 - root_mean_squared_error: 2888177920.0000 - val_loss: 8777808693593899008.0000 - val_mae: 303245184.0000 - val_root_mean_squared_error: 2962736640.0000\n",
            "Epoch 8/100\n",
            "154/154 [==============================] - 0s 3ms/step - loss: 8341563161622609920.0000 - mae: 313979296.0000 - root_mean_squared_error: 2888176384.0000 - val_loss: 8777793850186924032.0000 - val_mae: 303232960.0000 - val_root_mean_squared_error: 2962734080.0000\n",
            "Epoch 9/100\n",
            "154/154 [==============================] - 0s 3ms/step - loss: 8341550517238890496.0000 - mae: 313966528.0000 - root_mean_squared_error: 2888174080.0000 - val_loss: 8777780656047390720.0000 - val_mae: 303218944.0000 - val_root_mean_squared_error: 2962732032.0000\n",
            "Epoch 10/100\n",
            "154/154 [==============================] - 0s 3ms/step - loss: 8341534574320287744.0000 - mae: 313952160.0000 - root_mean_squared_error: 2888171520.0000 - val_loss: 8777763063861346304.0000 - val_mae: 303203328.0000 - val_root_mean_squared_error: 2962728960.0000\n",
            "Epoch 11/100\n",
            "154/154 [==============================] - 0s 3ms/step - loss: 8341513683599360000.0000 - mae: 313935136.0000 - root_mean_squared_error: 2888167936.0000 - val_loss: 8777745471675301888.0000 - val_mae: 303185728.0000 - val_root_mean_squared_error: 2962726144.0000\n",
            "Epoch 12/100\n",
            "154/154 [==============================] - 0s 3ms/step - loss: 8341493342634246144.0000 - mae: 313917248.0000 - root_mean_squared_error: 2888164352.0000 - val_loss: 8777720732663676928.0000 - val_mae: 303166144.0000 - val_root_mean_squared_error: 2962721792.0000\n",
            "Epoch 13/100\n",
            "154/154 [==============================] - 0s 3ms/step - loss: 8341468603622621184.0000 - mae: 313896032.0000 - root_mean_squared_error: 2888160000.0000 - val_loss: 8777695443896238080.0000 - val_mae: 303144256.0000 - val_root_mean_squared_error: 2962717696.0000\n",
            "Epoch 14/100\n",
            "154/154 [==============================] - 0s 3ms/step - loss: 8341440566076112896.0000 - mae: 313874944.0000 - root_mean_squared_error: 2888155136.0000 - val_loss: 8777670704884613120.0000 - val_mae: 303121696.0000 - val_root_mean_squared_error: 2962713344.0000\n",
            "Epoch 15/100\n",
            "154/154 [==============================] - 0s 3ms/step - loss: 8341409229994721280.0000 - mae: 313852896.0000 - root_mean_squared_error: 2888149760.0000 - val_loss: 8777636070268338176.0000 - val_mae: 303098368.0000 - val_root_mean_squared_error: 2962707456.0000\n",
            "Epoch 16/100\n",
            "154/154 [==============================] - 0s 3ms/step - loss: 8341375694890074112.0000 - mae: 313826560.0000 - root_mean_squared_error: 2888143872.0000 - val_loss: 8777598686872993792.0000 - val_mae: 303071680.0000 - val_root_mean_squared_error: 2962701312.0000\n",
            "Epoch 17/100\n",
            "154/154 [==============================] - 0s 3ms/step - loss: 8341337211983101952.0000 - mae: 313800864.0000 - root_mean_squared_error: 2888137216.0000 - val_loss: 8777559104454393856.0000 - val_mae: 303045440.0000 - val_root_mean_squared_error: 2962694656.0000\n",
            "Epoch 18/100\n",
            "154/154 [==============================] - 0s 3ms/step - loss: 8341295980297060352.0000 - mae: 313774016.0000 - root_mean_squared_error: 2888130048.0000 - val_loss: 8777516773256724480.0000 - val_mae: 303019904.0000 - val_root_mean_squared_error: 2962687488.0000\n",
            "Epoch 19/100\n",
            "154/154 [==============================] - 0s 3ms/step - loss: 8341246502273810432.0000 - mae: 313747200.0000 - root_mean_squared_error: 2888121600.0000 - val_loss: 8777466745477660672.0000 - val_mae: 302991264.0000 - val_root_mean_squared_error: 2962679040.0000\n",
            "Epoch 20/100\n",
            "154/154 [==============================] - 0s 3ms/step - loss: 8341199773029629952.0000 - mae: 313718784.0000 - root_mean_squared_error: 2888113408.0000 - val_loss: 8777418916721852416.0000 - val_mae: 302962592.0000 - val_root_mean_squared_error: 2962670848.0000\n",
            "Epoch 21/100\n",
            "154/154 [==============================] - 0s 3ms/step - loss: 8341142598424985600.0000 - mae: 313690240.0000 - root_mean_squared_error: 2888103680.0000 - val_loss: 8777364490896277504.0000 - val_mae: 302935456.0000 - val_root_mean_squared_error: 2962661632.0000\n",
            "Epoch 22/100\n",
            "154/154 [==============================] - 0s 3ms/step - loss: 8341084874064527360.0000 - mae: 313661024.0000 - root_mean_squared_error: 2888093696.0000 - val_loss: 8777302918245122048.0000 - val_mae: 302905920.0000 - val_root_mean_squared_error: 2962651392.0000\n",
            "Epoch 23/100\n",
            "154/154 [==============================] - 0s 3ms/step - loss: 8341021652145930240.0000 - mae: 313632416.0000 - root_mean_squared_error: 2888082688.0000 - val_loss: 8777239696326524928.0000 - val_mae: 302878656.0000 - val_root_mean_squared_error: 2962640640.0000\n",
            "Epoch 24/100\n",
            "154/154 [==============================] - 0s 3ms/step - loss: 8340956780959891456.0000 - mae: 313603520.0000 - root_mean_squared_error: 2888071424.0000 - val_loss: 8777173725628858368.0000 - val_mae: 302851680.0000 - val_root_mean_squared_error: 2962629632.0000\n",
            "Epoch 25/100\n",
            "154/154 [==============================] - 0s 3ms/step - loss: 8340884762948272128.0000 - mae: 313575232.0000 - root_mean_squared_error: 2888058880.0000 - val_loss: 8777098409082355712.0000 - val_mae: 302824000.0000 - val_root_mean_squared_error: 2962616832.0000\n",
            "Epoch 26/100\n",
            "154/154 [==============================] - 0s 3ms/step - loss: 8340808346890141696.0000 - mae: 313546944.0000 - root_mean_squared_error: 2888045824.0000 - val_loss: 8777024741803294720.0000 - val_mae: 302797504.0000 - val_root_mean_squared_error: 2962604288.0000\n",
            "Epoch 27/100\n",
            "154/154 [==============================] - 0s 3ms/step - loss: 8340728632297127936.0000 - mae: 313518400.0000 - root_mean_squared_error: 2888032000.0000 - val_loss: 8776945027210280960.0000 - val_mae: 302771648.0000 - val_root_mean_squared_error: 2962590976.0000\n",
            "Epoch 28/100\n",
            "154/154 [==============================] - 0s 3ms/step - loss: 8340644519657603072.0000 - mae: 313491232.0000 - root_mean_squared_error: 2888017408.0000 - val_loss: 8776858715547500544.0000 - val_mae: 302746432.0000 - val_root_mean_squared_error: 2962576384.0000\n",
            "Epoch 29/100\n",
            "154/154 [==============================] - 0s 3ms/step - loss: 8340554909459939328.0000 - mae: 313461984.0000 - root_mean_squared_error: 2888001792.0000 - val_loss: 8776768555594022912.0000 - val_mae: 302721152.0000 - val_root_mean_squared_error: 2962561280.0000\n",
            "Epoch 30/100\n",
            "154/154 [==============================] - 1s 3ms/step - loss: 8340461450971578368.0000 - mae: 313436544.0000 - root_mean_squared_error: 2887985664.0000 - val_loss: 8776677296128917504.0000 - val_mae: 302698304.0000 - val_root_mean_squared_error: 2962545664.0000\n",
            "Epoch 31/100\n",
            "154/154 [==============================] - 1s 3ms/step - loss: 8340362494925078528.0000 - mae: 313410720.0000 - root_mean_squared_error: 2887968512.0000 - val_loss: 8776574491791720448.0000 - val_mae: 302675648.0000 - val_root_mean_squared_error: 2962528512.0000\n",
            "Epoch 32/100\n",
            "154/154 [==============================] - 1s 3ms/step - loss: 8340259140832067584.0000 - mae: 313386208.0000 - root_mean_squared_error: 2887950592.0000 - val_loss: 8776479933791731712.0000 - val_mae: 302654944.0000 - val_root_mean_squared_error: 2962512384.0000\n",
            "Epoch 33/100\n",
            "154/154 [==============================] - 1s 3ms/step - loss: 8340150838936731648.0000 - mae: 313361152.0000 - root_mean_squared_error: 2887931904.0000 - val_loss: 8776366684094070784.0000 - val_mae: 302634912.0000 - val_root_mean_squared_error: 2962493440.0000\n",
            "Epoch 34/100\n",
            "154/154 [==============================] - 1s 3ms/step - loss: 8340040887773954048.0000 - mae: 313338432.0000 - root_mean_squared_error: 2887912960.0000 - val_loss: 8776250135861526528.0000 - val_mae: 302617376.0000 - val_root_mean_squared_error: 2962473728.0000\n",
            "Epoch 35/100\n",
            "154/154 [==============================] - 0s 3ms/step - loss: 8339918841983270912.0000 - mae: 313319232.0000 - root_mean_squared_error: 2887891712.0000 - val_loss: 8776133587628982272.0000 - val_mae: 302601472.0000 - val_root_mean_squared_error: 2962454016.0000\n",
            "Epoch 36/100\n",
            "154/154 [==============================] - 0s 3ms/step - loss: 8339798445460029440.0000 - mae: 313301632.0000 - root_mean_squared_error: 2887870976.0000 - val_loss: 8776010992082485248.0000 - val_mae: 302587392.0000 - val_root_mean_squared_error: 2962433280.0000\n",
            "Epoch 37/100\n",
            "154/154 [==============================] - 1s 3ms/step - loss: 8339667053820510208.0000 - mae: 313286336.0000 - root_mean_squared_error: 2887848192.0000 - val_loss: 8775883998489477120.0000 - val_mae: 302574752.0000 - val_root_mean_squared_error: 2962411776.0000\n",
            "Epoch 38/100\n",
            "154/154 [==============================] - 0s 3ms/step - loss: 8339531813890293760.0000 - mae: 313273216.0000 - root_mean_squared_error: 2887824640.0000 - val_loss: 8775750407826702336.0000 - val_mae: 302563264.0000 - val_root_mean_squared_error: 2962389248.0000\n",
            "Epoch 39/100\n",
            "154/154 [==============================] - 0s 3ms/step - loss: 8339395474448449536.0000 - mae: 313263264.0000 - root_mean_squared_error: 2887801088.0000 - val_loss: 8775613518629044224.0000 - val_mae: 302553120.0000 - val_root_mean_squared_error: 2962366208.0000\n",
            "Epoch 40/100\n",
            "154/154 [==============================] - 0s 3ms/step - loss: 8339259684762419200.0000 - mae: 313255136.0000 - root_mean_squared_error: 2887777536.0000 - val_loss: 8775473880652316672.0000 - val_mae: 302545120.0000 - val_root_mean_squared_error: 2962342656.0000\n",
            "Epoch 41/100\n",
            "154/154 [==============================] - 0s 3ms/step - loss: 8339110151181041664.0000 - mae: 313247872.0000 - root_mean_squared_error: 2887751680.0000 - val_loss: 8775328195361636352.0000 - val_mae: 302539712.0000 - val_root_mean_squared_error: 2962318080.0000\n",
            "Epoch 42/100\n",
            "154/154 [==============================] - 0s 3ms/step - loss: 8338961167355478016.0000 - mae: 313243008.0000 - root_mean_squared_error: 2887725824.0000 - val_loss: 8775180860803514368.0000 - val_mae: 302535648.0000 - val_root_mean_squared_error: 2962293248.0000\n",
            "Epoch 43/100\n",
            "154/154 [==============================] - 0s 3ms/step - loss: 8338806136215961600.0000 - mae: 313239680.0000 - root_mean_squared_error: 2887698944.0000 - val_loss: 8775031876977950720.0000 - val_mae: 302533280.0000 - val_root_mean_squared_error: 2962268160.0000\n",
            "Epoch 44/100\n",
            "154/154 [==============================] - 0s 3ms/step - loss: 8338642308983422976.0000 - mae: 313241888.0000 - root_mean_squared_error: 2887670784.0000 - val_loss: 8774863101943087104.0000 - val_mae: 302531904.0000 - val_root_mean_squared_error: 2962239488.0000\n",
            "Epoch 45/100\n",
            "154/154 [==============================] - 0s 3ms/step - loss: 8338478481750884352.0000 - mae: 313246016.0000 - root_mean_squared_error: 2887642368.0000 - val_loss: 8774699824466362368.0000 - val_mae: 302533024.0000 - val_root_mean_squared_error: 2962212096.0000\n",
            "Epoch 46/100\n",
            "154/154 [==============================] - 0s 3ms/step - loss: 8338305308669509632.0000 - mae: 313249856.0000 - root_mean_squared_error: 2887612416.0000 - val_loss: 8774540395280334848.0000 - val_mae: 302535584.0000 - val_root_mean_squared_error: 2962184960.0000\n",
            "Epoch 47/100\n",
            "154/154 [==============================] - 0s 3ms/step - loss: 8338127737541623808.0000 - mae: 313259104.0000 - root_mean_squared_error: 2887581696.0000 - val_loss: 8774358975861751808.0000 - val_mae: 302540960.0000 - val_root_mean_squared_error: 2962154496.0000\n",
            "Epoch 48/100\n",
            "154/154 [==============================] - 0s 3ms/step - loss: 8337949066902110208.0000 - mae: 313268224.0000 - root_mean_squared_error: 2887550720.0000 - val_loss: 8774175907175727104.0000 - val_mae: 302547904.0000 - val_root_mean_squared_error: 2962123520.0000\n",
            "Epoch 49/100\n",
            "154/154 [==============================] - 0s 3ms/step - loss: 8337761050413760512.0000 - mae: 313285152.0000 - root_mean_squared_error: 2887518208.0000 - val_loss: 8773989539954819072.0000 - val_mae: 302557088.0000 - val_root_mean_squared_error: 2962092032.0000\n",
            "Epoch 50/100\n",
            "154/154 [==============================] - 0s 3ms/step - loss: 8337570834902155264.0000 - mae: 313302720.0000 - root_mean_squared_error: 2887485184.0000 - val_loss: 8773809220047863808.0000 - val_mae: 302566304.0000 - val_root_mean_squared_error: 2962061568.0000\n",
            "Epoch 51/100\n",
            "154/154 [==============================] - 0s 3ms/step - loss: 8337375671588225024.0000 - mae: 313319552.0000 - root_mean_squared_error: 2887451392.0000 - val_loss: 8773617355268816896.0000 - val_mae: 302577568.0000 - val_root_mean_squared_error: 2962029312.0000\n",
            "Epoch 52/100\n",
            "154/154 [==============================] - 0s 3ms/step - loss: 8337176110227783680.0000 - mae: 313342496.0000 - root_mean_squared_error: 2887416832.0000 - val_loss: 8773412296350236672.0000 - val_mae: 302590848.0000 - val_root_mean_squared_error: 2961994752.0000\n",
            "Epoch 53/100\n",
            "154/154 [==============================] - 0s 3ms/step - loss: 8336968852285947904.0000 - mae: 313367296.0000 - root_mean_squared_error: 2887380992.0000 - val_loss: 8773205588164214784.0000 - val_mae: 302606240.0000 - val_root_mean_squared_error: 2961959680.0000\n",
            "Epoch 54/100\n",
            "154/154 [==============================] - 0s 3ms/step - loss: 8336751698739462144.0000 - mae: 313398656.0000 - root_mean_squared_error: 2887343360.0000 - val_loss: 8773002728268890112.0000 - val_mae: 302623552.0000 - val_root_mean_squared_error: 2961925632.0000\n",
            "Epoch 55/100\n",
            "154/154 [==============================] - 0s 3ms/step - loss: 8336531246658093056.0000 - mae: 313429312.0000 - root_mean_squared_error: 2887305216.0000 - val_loss: 8772771830827057152.0000 - val_mae: 302648448.0000 - val_root_mean_squared_error: 2961886464.0000\n",
            "Epoch 56/100\n",
            "154/154 [==============================] - 0s 3ms/step - loss: 8336299249704632320.0000 - mae: 313464480.0000 - root_mean_squared_error: 2887265024.0000 - val_loss: 8772561274350338048.0000 - val_mae: 302671616.0000 - val_root_mean_squared_error: 2961850880.0000\n",
            "Epoch 57/100\n",
            "154/154 [==============================] - 0s 3ms/step - loss: 8336067802506985472.0000 - mae: 313506016.0000 - root_mean_squared_error: 2887224832.0000 - val_loss: 8772319381792227328.0000 - val_mae: 302702816.0000 - val_root_mean_squared_error: 2961810176.0000\n",
            "Epoch 58/100\n",
            "154/154 [==============================] - 0s 3ms/step - loss: 8335832507018641408.0000 - mae: 313549888.0000 - root_mean_squared_error: 2887184128.0000 - val_loss: 8772090133617836032.0000 - val_mae: 302735456.0000 - val_root_mean_squared_error: 2961771520.0000\n",
            "Epoch 59/100\n",
            "154/154 [==============================] - 0s 3ms/step - loss: 8335589514948902912.0000 - mae: 313588800.0000 - root_mean_squared_error: 2887142144.0000 - val_loss: 8771849890327166976.0000 - val_mae: 302772672.0000 - val_root_mean_squared_error: 2961730816.0000\n",
            "Epoch 60/100\n",
            "154/154 [==============================] - 0s 3ms/step - loss: 8335339376053583872.0000 - mae: 313645024.0000 - root_mean_squared_error: 2887098624.0000 - val_loss: 8771605248989986816.0000 - val_mae: 302815776.0000 - val_root_mean_squared_error: 2961689600.0000\n",
            "Epoch 61/100\n",
            "154/154 [==============================] - 0s 3ms/step - loss: 8335082090332684288.0000 - mae: 313691616.0000 - root_mean_squared_error: 2887054080.0000 - val_loss: 8771353460827226112.0000 - val_mae: 302862048.0000 - val_root_mean_squared_error: 2961647104.0000\n",
            "Epoch 62/100\n",
            "154/154 [==============================] - 0s 3ms/step - loss: 8334820956321087488.0000 - mae: 313746688.0000 - root_mean_squared_error: 2887009024.0000 - val_loss: 8771096175106326528.0000 - val_mae: 302913792.0000 - val_root_mean_squared_error: 2961603584.0000\n",
            "Epoch 63/100\n",
            "154/154 [==============================] - 0s 3ms/step - loss: 8334546078414143488.0000 - mae: 313806080.0000 - root_mean_squared_error: 2886961408.0000 - val_loss: 8770820747443568640.0000 - val_mae: 302970720.0000 - val_root_mean_squared_error: 2961557248.0000\n",
            "Epoch 64/100\n",
            "154/154 [==============================] - 0s 3ms/step - loss: 8334275048797896704.0000 - mae: 313882336.0000 - root_mean_squared_error: 2886914304.0000 - val_loss: 8770553016362205184.0000 - val_mae: 303028608.0000 - val_root_mean_squared_error: 2961511936.0000\n",
            "Epoch 65/100\n",
            "154/154 [==============================] - 0s 3ms/step - loss: 8334002369914208256.0000 - mae: 313950624.0000 - root_mean_squared_error: 2886867200.0000 - val_loss: 8770285835036655616.0000 - val_mae: 303088128.0000 - val_root_mean_squared_error: 2961466880.0000\n",
            "Epoch 66/100\n",
            "154/154 [==============================] - 0s 3ms/step - loss: 8333719245670055936.0000 - mae: 314013440.0000 - root_mean_squared_error: 2886818048.0000 - val_loss: 8770013156152967168.0000 - val_mae: 303150592.0000 - val_root_mean_squared_error: 2961420800.0000\n",
            "Epoch 67/100\n",
            "154/154 [==============================] - 0s 3ms/step - loss: 8333431723379392512.0000 - mae: 314096064.0000 - root_mean_squared_error: 2886768384.0000 - val_loss: 8769719036792537088.0000 - val_mae: 303220992.0000 - val_root_mean_squared_error: 2961371136.0000\n",
            "Epoch 68/100\n",
            "154/154 [==============================] - 0s 3ms/step - loss: 8333133205972451328.0000 - mae: 314178624.0000 - root_mean_squared_error: 2886716672.0000 - val_loss: 8769438661327454208.0000 - val_mae: 303288256.0000 - val_root_mean_squared_error: 2961323776.0000\n",
            "Epoch 69/100\n",
            "154/154 [==============================] - 0s 3ms/step - loss: 8332832489542254592.0000 - mae: 314261312.0000 - root_mean_squared_error: 2886664448.0000 - val_loss: 8769137395141443584.0000 - val_mae: 303365024.0000 - val_root_mean_squared_error: 2961272832.0000\n",
            "Epoch 70/100\n",
            "154/154 [==============================] - 0s 3ms/step - loss: 8332522977019035648.0000 - mae: 314346976.0000 - root_mean_squared_error: 2886610944.0000 - val_loss: 8768831181153107968.0000 - val_mae: 303444096.0000 - val_root_mean_squared_error: 2961221120.0000\n",
            "Epoch 71/100\n",
            "154/154 [==============================] - 0s 3ms/step - loss: 8332212364984188928.0000 - mae: 314438944.0000 - root_mean_squared_error: 2886557184.0000 - val_loss: 8768521668629889024.0000 - val_mae: 303529056.0000 - val_root_mean_squared_error: 2961168896.0000\n",
            "Epoch 72/100\n",
            "154/154 [==============================] - 0s 3ms/step - loss: 8331891307588878336.0000 - mae: 314527296.0000 - root_mean_squared_error: 2886501632.0000 - val_loss: 8768214904885739520.0000 - val_mae: 303614560.0000 - val_root_mean_squared_error: 2961117184.0000\n",
            "Epoch 73/100\n",
            "154/154 [==============================] - 0s 3ms/step - loss: 8331564752635428864.0000 - mae: 314630496.0000 - root_mean_squared_error: 2886445056.0000 - val_loss: 8767884501641592832.0000 - val_mae: 303710720.0000 - val_root_mean_squared_error: 2961061376.0000\n",
            "Epoch 74/100\n",
            "154/154 [==============================] - 0s 3ms/step - loss: 8331227202565701632.0000 - mae: 314730144.0000 - root_mean_squared_error: 2886386432.0000 - val_loss: 8767557396932329472.0000 - val_mae: 303804608.0000 - val_root_mean_squared_error: 2961006080.0000\n",
            "Epoch 75/100\n",
            "154/154 [==============================] - 0s 3ms/step - loss: 8330887453472718848.0000 - mae: 314836608.0000 - root_mean_squared_error: 2886327552.0000 - val_loss: 8767233590757949440.0000 - val_mae: 303900096.0000 - val_root_mean_squared_error: 2960951552.0000\n",
            "Epoch 76/100\n",
            "154/154 [==============================] - 0s 3ms/step - loss: 8330549903402991616.0000 - mae: 314951392.0000 - root_mean_squared_error: 2886269184.0000 - val_loss: 8766896590444036096.0000 - val_mae: 304000352.0000 - val_root_mean_squared_error: 2960894464.0000\n",
            "Epoch 77/100\n",
            "154/154 [==============================] - 0s 3ms/step - loss: 8330203007484428288.0000 - mae: 315060512.0000 - root_mean_squared_error: 2886209024.0000 - val_loss: 8766552993060356096.0000 - val_mae: 304105632.0000 - val_root_mean_squared_error: 2960836608.0000\n",
            "Epoch 78/100\n",
            "154/154 [==============================] - 0s 3ms/step - loss: 8329847865228656640.0000 - mae: 315173472.0000 - root_mean_squared_error: 2886147584.0000 - val_loss: 8766212144455745536.0000 - val_mae: 304215168.0000 - val_root_mean_squared_error: 2960779008.0000\n",
            "Epoch 79/100\n",
            "154/154 [==============================] - 0s 3ms/step - loss: 8329487775170560000.0000 - mae: 315299168.0000 - root_mean_squared_error: 2886085120.0000 - val_loss: 8765850954886021120.0000 - val_mae: 304336512.0000 - val_root_mean_squared_error: 2960718080.0000\n",
            "Epoch 80/100\n",
            "154/154 [==============================] - 0s 3ms/step - loss: 8329126585600835584.0000 - mae: 315429504.0000 - root_mean_squared_error: 2886022656.0000 - val_loss: 8765509006769782784.0000 - val_mae: 304450656.0000 - val_root_mean_squared_error: 2960660224.0000\n",
            "Epoch 81/100\n",
            "154/154 [==============================] - 0s 3ms/step - loss: 8328764846275297280.0000 - mae: 315539136.0000 - root_mean_squared_error: 2885959936.0000 - val_loss: 8765148366955872256.0000 - val_mae: 304572832.0000 - val_root_mean_squared_error: 2960599296.0000\n",
            "Epoch 82/100\n",
            "154/154 [==============================] - 0s 3ms/step - loss: 8328391562077667328.0000 - mae: 315680288.0000 - root_mean_squared_error: 2885895168.0000 - val_loss: 8764782779339636736.0000 - val_mae: 304698688.0000 - val_root_mean_squared_error: 2960537600.0000\n",
            "Epoch 83/100\n",
            "154/154 [==============================] - 0s 3ms/step - loss: 8328012230566084608.0000 - mae: 315801664.0000 - root_mean_squared_error: 2885829376.0000 - val_loss: 8764414992700145664.0000 - val_mae: 304825088.0000 - val_root_mean_squared_error: 2960475392.0000\n",
            "Epoch 84/100\n",
            "154/154 [==============================] - 0s 3ms/step - loss: 8327631799542874112.0000 - mae: 315943328.0000 - root_mean_squared_error: 2885763584.0000 - val_loss: 8764037860211818496.0000 - val_mae: 304953920.0000 - val_root_mean_squared_error: 2960411648.0000\n",
            "Epoch 85/100\n",
            "154/154 [==============================] - 0s 3ms/step - loss: 8327239273891758080.0000 - mae: 316068512.0000 - root_mean_squared_error: 2885695488.0000 - val_loss: 8763681068688605184.0000 - val_mae: 305075840.0000 - val_root_mean_squared_error: 2960351488.0000\n",
            "Epoch 86/100\n",
            "154/154 [==============================] - 0s 3ms/step - loss: 8326835203368550400.0000 - mae: 316239040.0000 - root_mean_squared_error: 2885625600.0000 - val_loss: 8763252259153772544.0000 - val_mae: 305229856.0000 - val_root_mean_squared_error: 2960279040.0000\n",
            "Epoch 87/100\n",
            "154/154 [==============================] - 0s 3ms/step - loss: 8326432232356970496.0000 - mae: 316373888.0000 - root_mean_squared_error: 2885555712.0000 - val_loss: 8762879524711956480.0000 - val_mae: 305356576.0000 - val_root_mean_squared_error: 2960216064.0000\n",
            "Epoch 88/100\n",
            "154/154 [==============================] - 0s 3ms/step - loss: 8326026512566321152.0000 - mae: 316537280.0000 - root_mean_squared_error: 2885485312.0000 - val_loss: 8762471605898051584.0000 - val_mae: 305500992.0000 - val_root_mean_squared_error: 2960147200.0000\n",
            "Epoch 89/100\n",
            "154/154 [==============================] - 0s 3ms/step - loss: 8325604300101255168.0000 - mae: 316682016.0000 - root_mean_squared_error: 2885412352.0000 - val_loss: 8762076881223680000.0000 - val_mae: 305638464.0000 - val_root_mean_squared_error: 2960080640.0000\n",
            "Epoch 90/100\n",
            "154/154 [==============================] - 0s 3ms/step - loss: 8325189234461769728.0000 - mae: 316846912.0000 - root_mean_squared_error: 2885340416.0000 - val_loss: 8761642024374894592.0000 - val_mae: 305795776.0000 - val_root_mean_squared_error: 2960007168.0000\n",
            "Epoch 91/100\n",
            "154/154 [==============================] - 0s 3ms/step - loss: 8324757126392053760.0000 - mae: 317010880.0000 - root_mean_squared_error: 2885265408.0000 - val_loss: 8761240702630756352.0000 - val_mae: 305937728.0000 - val_root_mean_squared_error: 2959939328.0000\n",
            "Epoch 92/100\n",
            "154/154 [==============================] - 0s 3ms/step - loss: 8324321719787454464.0000 - mae: 317181696.0000 - root_mean_squared_error: 2885189888.0000 - val_loss: 8760815191630807040.0000 - val_mae: 306093664.0000 - val_root_mean_squared_error: 2959867392.0000\n",
            "Epoch 93/100\n",
            "154/154 [==============================] - 0s 3ms/step - loss: 8323895109275877376.0000 - mae: 317334176.0000 - root_mean_squared_error: 2885116160.0000 - val_loss: 8760405623549460480.0000 - val_mae: 306239392.0000 - val_root_mean_squared_error: 2959798272.0000\n",
            "Epoch 94/100\n",
            "154/154 [==============================] - 0s 3ms/step - loss: 8323454205113139200.0000 - mae: 317519072.0000 - root_mean_squared_error: 2885039616.0000 - val_loss: 8759968017921605632.0000 - val_mae: 306402336.0000 - val_root_mean_squared_error: 2959724288.0000\n",
            "Epoch 95/100\n",
            "154/154 [==============================] - 0s 3ms/step - loss: 8323001756078309376.0000 - mae: 317690336.0000 - root_mean_squared_error: 2884961280.0000 - val_loss: 8759548554235609088.0000 - val_mae: 306552320.0000 - val_root_mean_squared_error: 2959653376.0000\n",
            "Epoch 96/100\n",
            "154/154 [==============================] - 0s 3ms/step - loss: 8322561401671385088.0000 - mae: 317897472.0000 - root_mean_squared_error: 2884884992.0000 - val_loss: 8759088408619384832.0000 - val_mae: 306727072.0000 - val_root_mean_squared_error: 2959575552.0000\n",
            "Epoch 97/100\n",
            "154/154 [==============================] - 0s 3ms/step - loss: 8322092459962138624.0000 - mae: 318081568.0000 - root_mean_squared_error: 2884803584.0000 - val_loss: 8758636509340368896.0000 - val_mae: 306894912.0000 - val_root_mean_squared_error: 2959499264.0000\n",
            "Epoch 98/100\n",
            "154/154 [==============================] - 0s 3ms/step - loss: 8321629015811031040.0000 - mae: 318260416.0000 - root_mean_squared_error: 2884723200.0000 - val_loss: 8758203301759025152.0000 - val_mae: 307052672.0000 - val_root_mean_squared_error: 2959426048.0000\n",
            "Epoch 99/100\n",
            "154/154 [==============================] - 0s 3ms/step - loss: 8321150178497134592.0000 - mae: 318458400.0000 - root_mean_squared_error: 2884640256.0000 - val_loss: 8757721715666059264.0000 - val_mae: 307239488.0000 - val_root_mean_squared_error: 2959344640.0000\n",
            "Epoch 100/100\n",
            "154/154 [==============================] - 0s 3ms/step - loss: 8320667492892540928.0000 - mae: 318663008.0000 - root_mean_squared_error: 2884556544.0000 - val_loss: 8757256072491696128.0000 - val_mae: 307420800.0000 - val_root_mean_squared_error: 2959266048.0000\n"
          ]
        }
      ]
    },
    {
      "cell_type": "code",
      "source": [
        "# plot learning\n",
        " \n",
        "plot_history(history)"
      ],
      "metadata": {
        "colab": {
          "base_uri": "https://localhost:8080/",
          "height": 1000
        },
        "id": "hxWeUqAVC7cS",
        "outputId": "98401964-98fc-49b0-b203-2b24e66837c6"
      },
      "execution_count": 62,
      "outputs": [
        {
          "output_type": "display_data",
          "data": {
            "text/plain": [
              "<Figure size 576x396 with 1 Axes>"
            ],
            "image/png": "[encoded data removed]"
          },
          "metadata": {}
        },
        {
          "output_type": "display_data",
          "data": {
            "text/plain": [
              "<Figure size 576x396 with 1 Axes>"
            ],
            "image/png": "[encoded data removed]"
          },
          "metadata": {}
        },
        {
          "output_type": "display_data",
          "data": {
            "text/plain": [
              "<Figure size 576x396 with 1 Axes>"
            ],
            "image/png": "[encoded data removed]"
          },
          "metadata": {}
        }
      ]
    },
    {
      "cell_type": "code",
      "source": [
        "# evaluate model\n",
        " \n",
        "y_pred = model1.predict(X_test_proc2)\n",
        " \n",
        "print(f'final RMSE: {np.sqrt(mean_squared_error(y_test, y_pred))}')\n",
        "print(f'final MAE: {mean_absolute_error(y_test, y_pred)}')\n",
        "print(f'final R2: {r2_score(y_test, y_pred)}')"
      ],
      "metadata": {
        "colab": {
          "base_uri": "https://localhost:8080/"
        },
        "id": "PkT0vWv2_jUp",
        "outputId": "8d357bd1-030d-4a3e-e340-8b5570c51fe0"
      },
      "execution_count": 63,
      "outputs": [
        {
          "output_type": "stream",
          "name": "stdout",
          "text": [
            "final RMSE: 2962637015.4060493\n",
            "final MAE: 302870614.33336484\n",
            "final R2: -0.010513485042147552\n"
          ]
        }
      ]
    },
    {
      "cell_type": "markdown",
      "source": [
        "# Model 3"
      ],
      "metadata": {
        "id": "kdt2jkGU_gtr"
      }
    },
    {
      "cell_type": "code",
      "source": [
        "\n",
        "# create model architecture\n",
        "input_dim = X_train_proc2.shape[1]\n",
        " \n",
        "reg_model3 = Sequential()\n",
        " \n",
        "reg_model3.add(Dense(251, input_dim=input_dim, activation='relu'))\n",
        "\n",
        "#reg_model3.add(Dropout(.5))\n",
        "kernel_regularizer=keras.regularizers.l2(0.001)\n",
        "reg_model3.add(Dense(300, activation='sigmoid'))\n",
        "\n",
        "early_stopping = EarlyStopping(patience = 5)\n",
        "kernel_regularizer=keras.regularizers.l2(0.0001)\n",
        "reg_model3.add(Dense(250, activation='sigmoid'))\n",
        "\n",
        "reg_model3.add(Dropout(.5))\n",
        "early_stopping = EarlyStopping(patience = 5)\n",
        "kernel_regularizer=keras.regularizers.l2(0.0001)\n",
        "reg_model3.add(Dense(200, activation='relu'))\n",
        "\n",
        "reg_model3.add(Dropout(.5))\n",
        "kernel_regularizer=keras.regularizers.l2(0.0001)\n",
        "reg_model3.add(Dense(50, activation='relu'))\n",
        "\n",
        "#reg_model3.add(Dropout(.5))\n",
        "kernel_regularizer=keras.regularizers.l2(0.0001)\n",
        "reg_model3.add(Dense(25, activation='relu'))\n",
        "\n",
        "reg_model3.add(Dense(1, activation='linear'))\n",
        " \n",
        "reg_model3.summary()"
      ],
      "metadata": {
        "colab": {
          "base_uri": "https://localhost:8080/"
        },
        "id": "lk0h7CsiC7Wp",
        "outputId": "26822b13-b23d-454b-f26b-c1bcff3bd8c4"
      },
      "execution_count": 138,
      "outputs": [
        {
          "output_type": "stream",
          "name": "stdout",
          "text": [
            "Model: \"sequential_23\"\n",
            "_________________________________________________________________\n",
            " Layer (type)                Output Shape              Param #   \n",
            "=================================================================\n",
            " dense_134 (Dense)           (None, 251)               63252     \n",
            "                                                                 \n",
            " dense_135 (Dense)           (None, 300)               75600     \n",
            "                                                                 \n",
            " dense_136 (Dense)           (None, 250)               75250     \n",
            "                                                                 \n",
            " dropout_30 (Dropout)        (None, 250)               0         \n",
            "                                                                 \n",
            " dense_137 (Dense)           (None, 200)               50200     \n",
            "                                                                 \n",
            " dropout_31 (Dropout)        (None, 200)               0         \n",
            "                                                                 \n",
            " dense_138 (Dense)           (None, 50)                10050     \n",
            "                                                                 \n",
            " dense_139 (Dense)           (None, 25)                1275      \n",
            "                                                                 \n",
            " dense_140 (Dense)           (None, 1)                 26        \n",
            "                                                                 \n",
            "=================================================================\n",
            "Total params: 275,653\n",
            "Trainable params: 275,653\n",
            "Non-trainable params: 0\n",
            "_________________________________________________________________\n"
          ]
        }
      ]
    },
    {
      "cell_type": "code",
      "source": [
        "# compile model with additional metrics\n",
        " \n",
        "reg_model3.compile(loss='mse',\n",
        "                  optimizer='adam',\n",
        "                  metrics=['mae',metrics.RootMeanSquaredError()])  "
      ],
      "metadata": {
        "id": "CKzmc9ypC7HL"
      },
      "execution_count": 139,
      "outputs": []
    },
    {
      "cell_type": "code",
      "source": [
        "# Generaate the history log\n",
        "history = reg_model3.fit(X_train_proc2, y_train,\n",
        "                        validation_data = (X_test_proc2, y_test),\n",
        "                        epochs=80,\n",
        "                        )"
      ],
      "metadata": {
        "colab": {
          "base_uri": "https://localhost:8080/"
        },
        "id": "0pbbttMdRYJ-",
        "outputId": "a57c4bea-5e9c-4019-8855-2a5a7bcd4704"
      },
      "execution_count": 140,
      "outputs": [
        {
          "output_type": "stream",
          "name": "stdout",
          "text": [
            "Epoch 1/80\n",
            "154/154 [==============================] - 1s 5ms/step - loss: 8341591748924932096.0000 - mae: 314014816.0000 - root_mean_squared_error: 2888181248.0000 - val_loss: 8777824086756687872.0000 - val_mae: 303267296.0000 - val_root_mean_squared_error: 2962739200.0000\n",
            "Epoch 2/80\n",
            "154/154 [==============================] - 1s 4ms/step - loss: 8341539522122612736.0000 - mae: 313961856.0000 - root_mean_squared_error: 2888172288.0000 - val_loss: 8777686647803215872.0000 - val_mae: 303135776.0000 - val_root_mean_squared_error: 2962716160.0000\n",
            "Epoch 3/80\n",
            "154/154 [==============================] - 1s 4ms/step - loss: 8341183280355213312.0000 - mae: 313756960.0000 - root_mean_squared_error: 2888110592.0000 - val_loss: 8777068172512591872.0000 - val_mae: 302871776.0000 - val_root_mean_squared_error: 2962611712.0000\n",
            "Epoch 4/80\n",
            "154/154 [==============================] - 1s 5ms/step - loss: 8340175577948356608.0000 - mae: 313558656.0000 - root_mean_squared_error: 2887936256.0000 - val_loss: 8775653650803458048.0000 - val_mae: 302853280.0000 - val_root_mean_squared_error: 2962372864.0000\n",
            "Epoch 5/80\n",
            "154/154 [==============================] - 1s 4ms/step - loss: 8338071662448607232.0000 - mae: 313942592.0000 - root_mean_squared_error: 2887571968.0000 - val_loss: 8772786674234032128.0000 - val_mae: 303670784.0000 - val_root_mean_squared_error: 2961889024.0000\n",
            "Epoch 6/80\n",
            "154/154 [==============================] - 1s 3ms/step - loss: 8333974882123513856.0000 - mae: 315778624.0000 - root_mean_squared_error: 2886862336.0000 - val_loss: 8767989505002045440.0000 - val_mae: 306166112.0000 - val_root_mean_squared_error: 2961079040.0000\n",
            "Epoch 7/80\n",
            "154/154 [==============================] - 1s 4ms/step - loss: 8328316245531164672.0000 - mae: 317847264.0000 - root_mean_squared_error: 2885882112.0000 - val_loss: 8760897655002890240.0000 - val_mae: 306095168.0000 - val_root_mean_squared_error: 2959881216.0000\n",
            "Epoch 8/80\n",
            "154/154 [==============================] - 1s 3ms/step - loss: 8319371168683393024.0000 - mae: 315413184.0000 - root_mean_squared_error: 2884332032.0000 - val_loss: 8750954771352911872.0000 - val_mae: 302378784.0000 - val_root_mean_squared_error: 2958201088.0000\n",
            "Epoch 9/80\n",
            "154/154 [==============================] - 1s 3ms/step - loss: 8306841683929071616.0000 - mae: 310363168.0000 - root_mean_squared_error: 2882159104.0000 - val_loss: 8737589657761480704.0000 - val_mae: 298569216.0000 - val_root_mean_squared_error: 2955941376.0000\n",
            "Epoch 10/80\n",
            "154/154 [==============================] - 1s 3ms/step - loss: 8292577719581933568.0000 - mae: 306430720.0000 - root_mean_squared_error: 2879683584.0000 - val_loss: 8720980435112296448.0000 - val_mae: 295478912.0000 - val_root_mean_squared_error: 2953130496.0000\n",
            "Epoch 11/80\n",
            "154/154 [==============================] - 1s 3ms/step - loss: 8272567707468038144.0000 - mae: 302491808.0000 - root_mean_squared_error: 2876207104.0000 - val_loss: 8700883561579806720.0000 - val_mae: 295011616.0000 - val_root_mean_squared_error: 2949725952.0000\n",
            "Epoch 12/80\n",
            "154/154 [==============================] - 1s 3ms/step - loss: 8248508743784857600.0000 - mae: 300076480.0000 - root_mean_squared_error: 2872021760.0000 - val_loss: 8677736093036052480.0000 - val_mae: 289385024.0000 - val_root_mean_squared_error: 2945799680.0000\n",
            "Epoch 13/80\n",
            "154/154 [==============================] - 1s 3ms/step - loss: 8224094088090091520.0000 - mae: 296549312.0000 - root_mean_squared_error: 2867768064.0000 - val_loss: 8651843693713555456.0000 - val_mae: 289432352.0000 - val_root_mean_squared_error: 2941401600.0000\n",
            "Epoch 14/80\n",
            "154/154 [==============================] - 1s 4ms/step - loss: 8193484783884435456.0000 - mae: 292882144.0000 - root_mean_squared_error: 2862426368.0000 - val_loss: 8621517513752051712.0000 - val_mae: 288671136.0000 - val_root_mean_squared_error: 2936241920.0000\n",
            "Epoch 15/80\n",
            "154/154 [==============================] - 1s 3ms/step - loss: 8162897469911334912.0000 - mae: 291132768.0000 - root_mean_squared_error: 2857078528.0000 - val_loss: 8589448607860523008.0000 - val_mae: 287055744.0000 - val_root_mean_squared_error: 2930776064.0000\n",
            "Epoch 16/80\n",
            "154/154 [==============================] - 1s 3ms/step - loss: 8130252969682665472.0000 - mae: 287378176.0000 - root_mean_squared_error: 2851359744.0000 - val_loss: 8554556156108865536.0000 - val_mae: 285654112.0000 - val_root_mean_squared_error: 2924817152.0000\n",
            "Epoch 17/80\n",
            "154/154 [==============================] - 1s 3ms/step - loss: 8091446256536125440.0000 - mae: 285138400.0000 - root_mean_squared_error: 2844546816.0000 - val_loss: 8517243129508659200.0000 - val_mae: 281491968.0000 - val_root_mean_squared_error: 2918431488.0000\n",
            "Epoch 18/80\n",
            "154/154 [==============================] - 1s 4ms/step - loss: 8046406411971723264.0000 - mae: 281834592.0000 - root_mean_squared_error: 2836618752.0000 - val_loss: 8479372100757356544.0000 - val_mae: 279475392.0000 - val_root_mean_squared_error: 2911936000.0000\n",
            "Epoch 19/80\n",
            "154/154 [==============================] - 1s 3ms/step - loss: 7991788171861950464.0000 - mae: 280690432.0000 - root_mean_squared_error: 2826974976.0000 - val_loss: 8437403192169332736.0000 - val_mae: 278016672.0000 - val_root_mean_squared_error: 2904720896.0000\n",
            "Epoch 20/80\n",
            "154/154 [==============================] - 1s 4ms/step - loss: 7952190909855039488.0000 - mae: 276762912.0000 - root_mean_squared_error: 2819962880.0000 - val_loss: 8391015346349277184.0000 - val_mae: 275764416.0000 - val_root_mean_squared_error: 2896724736.0000\n",
            "Epoch 21/80\n",
            "154/154 [==============================] - 1s 3ms/step - loss: 7912538672266739712.0000 - mae: 273625216.0000 - root_mean_squared_error: 2812923648.0000 - val_loss: 8349112958214733824.0000 - val_mae: 272312000.0000 - val_root_mean_squared_error: 2889483008.0000\n",
            "Epoch 22/80\n",
            "154/154 [==============================] - 1s 3ms/step - loss: 7861999070540201984.0000 - mae: 270692672.0000 - root_mean_squared_error: 2803925504.0000 - val_loss: 8300695963685617664.0000 - val_mae: 269081728.0000 - val_root_mean_squared_error: 2881092864.0000\n",
            "Epoch 23/80\n",
            "154/154 [==============================] - 1s 3ms/step - loss: 7807303864616484864.0000 - mae: 268618112.0000 - root_mean_squared_error: 2794155264.0000 - val_loss: 8255219063249174528.0000 - val_mae: 273400704.0000 - val_root_mean_squared_error: 2873189632.0000\n",
            "Epoch 24/80\n",
            "154/154 [==============================] - 1s 4ms/step - loss: 7762670839354359808.0000 - mae: 265673664.0000 - root_mean_squared_error: 2786157056.0000 - val_loss: 8206206683173617664.0000 - val_mae: 264676272.0000 - val_root_mean_squared_error: 2864647680.0000\n",
            "Epoch 25/80\n",
            "154/154 [==============================] - 1s 3ms/step - loss: 7674604356016013312.0000 - mae: 263280864.0000 - root_mean_squared_error: 2770307584.0000 - val_loss: 8149259677436215296.0000 - val_mae: 269639904.0000 - val_root_mean_squared_error: 2854690816.0000\n",
            "Epoch 26/80\n",
            "154/154 [==============================] - 1s 3ms/step - loss: 7626948773289132032.0000 - mae: 258878848.0000 - root_mean_squared_error: 2761693184.0000 - val_loss: 8095466071047274496.0000 - val_mae: 262733648.0000 - val_root_mean_squared_error: 2845253120.0000\n",
            "Epoch 27/80\n",
            "154/154 [==============================] - 1s 3ms/step - loss: 7573986397690789888.0000 - mae: 256472416.0000 - root_mean_squared_error: 2752087552.0000 - val_loss: 8042887425007026176.0000 - val_mae: 261580624.0000 - val_root_mean_squared_error: 2835998464.0000\n",
            "Epoch 28/80\n",
            "154/154 [==============================] - 1s 3ms/step - loss: 7488148074666131456.0000 - mae: 251034528.0000 - root_mean_squared_error: 2736448256.0000 - val_loss: 7981728739979427840.0000 - val_mae: 258598496.0000 - val_root_mean_squared_error: 2825195264.0000\n",
            "Epoch 29/80\n",
            "154/154 [==============================] - 1s 3ms/step - loss: 7423942093162151936.0000 - mae: 247554112.0000 - root_mean_squared_error: 2724691200.0000 - val_loss: 7928253991962542080.0000 - val_mae: 260291536.0000 - val_root_mean_squared_error: 2815715328.0000\n",
            "Epoch 30/80\n",
            "154/154 [==============================] - 1s 3ms/step - loss: 7357400748960776192.0000 - mae: 245251840.0000 - root_mean_squared_error: 2712452864.0000 - val_loss: 7878042594456895488.0000 - val_mae: 264207248.0000 - val_root_mean_squared_error: 2806785024.0000\n",
            "Epoch 31/80\n",
            "154/154 [==============================] - 1s 3ms/step - loss: 7315562682256457728.0000 - mae: 243979072.0000 - root_mean_squared_error: 2704729600.0000 - val_loss: 7819488102719684608.0000 - val_mae: 256500032.0000 - val_root_mean_squared_error: 2796334592.0000\n",
            "Epoch 32/80\n",
            "154/154 [==============================] - 1s 3ms/step - loss: 7230204296057323520.0000 - mae: 243089488.0000 - root_mean_squared_error: 2688903936.0000 - val_loss: 7757508632261951488.0000 - val_mae: 254840448.0000 - val_root_mean_squared_error: 2785230336.0000\n",
            "Epoch 33/80\n",
            "154/154 [==============================] - 1s 3ms/step - loss: 7172692141343244288.0000 - mae: 239619056.0000 - root_mean_squared_error: 2678188288.0000 - val_loss: 7702543496233615360.0000 - val_mae: 254850688.0000 - val_root_mean_squared_error: 2775345664.0000\n",
            "Epoch 34/80\n",
            "154/154 [==============================] - 1s 3ms/step - loss: 7090536082760007680.0000 - mae: 241567808.0000 - root_mean_squared_error: 2662806016.0000 - val_loss: 7646540421228658688.0000 - val_mae: 255861776.0000 - val_root_mean_squared_error: 2765237760.0000\n",
            "Epoch 35/80\n",
            "154/154 [==============================] - 1s 4ms/step - loss: 7032623156057604096.0000 - mae: 236009232.0000 - root_mean_squared_error: 2651909376.0000 - val_loss: 7592391122828132352.0000 - val_mae: 256952752.0000 - val_root_mean_squared_error: 2755429376.0000\n",
            "Epoch 36/80\n",
            "154/154 [==============================] - 1s 4ms/step - loss: 6952195529753231360.0000 - mae: 233225552.0000 - root_mean_squared_error: 2636701696.0000 - val_loss: 7546917520926572544.0000 - val_mae: 263234400.0000 - val_root_mean_squared_error: 2747165440.0000\n",
            "Epoch 37/80\n",
            "154/154 [==============================] - 1s 3ms/step - loss: 6901454167642996736.0000 - mae: 234460560.0000 - root_mean_squared_error: 2627061760.0000 - val_loss: 7487758297794084864.0000 - val_mae: 251722112.0000 - val_root_mean_squared_error: 2736376832.0000\n",
            "Epoch 38/80\n",
            "154/154 [==============================] - 1s 3ms/step - loss: 6789238010912178176.0000 - mae: 230729376.0000 - root_mean_squared_error: 2605616640.0000 - val_loss: 7422657863580909568.0000 - val_mae: 249554736.0000 - val_root_mean_squared_error: 2724455424.0000\n",
            "Epoch 39/80\n",
            "154/154 [==============================] - 1s 3ms/step - loss: 6754780965765120000.0000 - mae: 227139776.0000 - root_mean_squared_error: 2598996224.0000 - val_loss: 7348967494775734272.0000 - val_mae: 246947344.0000 - val_root_mean_squared_error: 2710897920.0000\n",
            "Epoch 40/80\n",
            "154/154 [==============================] - 1s 3ms/step - loss: 6664339537310777344.0000 - mae: 227988832.0000 - root_mean_squared_error: 2581538048.0000 - val_loss: 7308228389943377920.0000 - val_mae: 250467376.0000 - val_root_mean_squared_error: 2703373568.0000\n",
            "Epoch 41/80\n",
            "154/154 [==============================] - 1s 4ms/step - loss: 6551070048440549376.0000 - mae: 224109136.0000 - root_mean_squared_error: 2559505664.0000 - val_loss: 7233594090405756928.0000 - val_mae: 246344784.0000 - val_root_mean_squared_error: 2689534208.0000\n",
            "Epoch 42/80\n",
            "154/154 [==============================] - 1s 3ms/step - loss: 6512383182061436928.0000 - mae: 220136192.0000 - root_mean_squared_error: 2551937024.0000 - val_loss: 7187408554725212160.0000 - val_mae: 244712448.0000 - val_root_mean_squared_error: 2680934144.0000\n",
            "Epoch 43/80\n",
            "154/154 [==============================] - 1s 3ms/step - loss: 6428165539176120320.0000 - mae: 219246944.0000 - root_mean_squared_error: 2535382784.0000 - val_loss: 7139043237242601472.0000 - val_mae: 248393888.0000 - val_root_mean_squared_error: 2671898880.0000\n",
            "Epoch 44/80\n",
            "154/154 [==============================] - 1s 4ms/step - loss: 6364413106218598400.0000 - mae: 221187360.0000 - root_mean_squared_error: 2522778880.0000 - val_loss: 7081794965319188480.0000 - val_mae: 257038864.0000 - val_root_mean_squared_error: 2661164032.0000\n",
            "Epoch 45/80\n",
            "154/154 [==============================] - 1s 3ms/step - loss: 6228592084106870784.0000 - mae: 217273392.0000 - root_mean_squared_error: 2495714816.0000 - val_loss: 7027715485907025920.0000 - val_mae: 247524256.0000 - val_root_mean_squared_error: 2650983936.0000\n",
            "Epoch 46/80\n",
            "154/154 [==============================] - 1s 3ms/step - loss: 6176065664868941824.0000 - mae: 218266128.0000 - root_mean_squared_error: 2485169152.0000 - val_loss: 6998712568189550592.0000 - val_mae: 245280512.0000 - val_root_mean_squared_error: 2645507840.0000\n",
            "Epoch 47/80\n",
            "154/154 [==============================] - 1s 4ms/step - loss: 6166336086474752000.0000 - mae: 214873376.0000 - root_mean_squared_error: 2483210752.0000 - val_loss: 6958368188031565824.0000 - val_mae: 255271088.0000 - val_root_mean_squared_error: 2637871872.0000\n",
            "Epoch 48/80\n",
            "154/154 [==============================] - 1s 4ms/step - loss: 6092026142867324928.0000 - mae: 218134224.0000 - root_mean_squared_error: 2468203008.0000 - val_loss: 6884804263063584768.0000 - val_mae: 244232928.0000 - val_root_mean_squared_error: 2623890944.0000\n",
            "Epoch 49/80\n",
            "154/154 [==============================] - 1s 4ms/step - loss: 5972322861707165696.0000 - mae: 216405312.0000 - root_mean_squared_error: 2443833600.0000 - val_loss: 6829291570244616192.0000 - val_mae: 252921232.0000 - val_root_mean_squared_error: 2613291264.0000\n",
            "Epoch 50/80\n",
            "154/154 [==============================] - 1s 4ms/step - loss: 5909662243796025344.0000 - mae: 215830688.0000 - root_mean_squared_error: 2430979584.0000 - val_loss: 6843490663405715456.0000 - val_mae: 250082272.0000 - val_root_mean_squared_error: 2616006656.0000\n",
            "Epoch 51/80\n",
            "154/154 [==============================] - 1s 4ms/step - loss: 5799745715634700288.0000 - mae: 217087616.0000 - root_mean_squared_error: 2408265984.0000 - val_loss: 6782472715866472448.0000 - val_mae: 260605696.0000 - val_root_mean_squared_error: 2604317952.0000\n",
            "Epoch 52/80\n",
            "154/154 [==============================] - 1s 4ms/step - loss: 5743441374443732992.0000 - mae: 217394224.0000 - root_mean_squared_error: 2396547840.0000 - val_loss: 6707149572294049792.0000 - val_mae: 255972064.0000 - val_root_mean_squared_error: 2589816576.0000\n",
            "Epoch 53/80\n",
            "154/154 [==============================] - 1s 4ms/step - loss: 5799127240344076288.0000 - mae: 219633872.0000 - root_mean_squared_error: 2408137728.0000 - val_loss: 6645408695859544064.0000 - val_mae: 255406512.0000 - val_root_mean_squared_error: 2577869056.0000\n",
            "Epoch 54/80\n",
            "154/154 [==============================] - 1s 4ms/step - loss: 5720850808539447296.0000 - mae: 219274240.0000 - root_mean_squared_error: 2391830016.0000 - val_loss: 6623707634862129152.0000 - val_mae: 256920880.0000 - val_root_mean_squared_error: 2573656576.0000\n",
            "Epoch 55/80\n",
            "154/154 [==============================] - 1s 4ms/step - loss: 5627584734713348096.0000 - mae: 215837328.0000 - root_mean_squared_error: 2372252928.0000 - val_loss: 6556757822091034624.0000 - val_mae: 259096992.0000 - val_root_mean_squared_error: 2560616704.0000\n",
            "Epoch 56/80\n",
            "154/154 [==============================] - 1s 3ms/step - loss: 5565321040499834880.0000 - mae: 220439424.0000 - root_mean_squared_error: 2359093248.0000 - val_loss: 6685696451168698368.0000 - val_mae: 262382352.0000 - val_root_mean_squared_error: 2585671424.0000\n",
            "Epoch 57/80\n",
            "154/154 [==============================] - 1s 3ms/step - loss: 5478830707079905280.0000 - mae: 219390480.0000 - root_mean_squared_error: 2340690176.0000 - val_loss: 6519735066560561152.0000 - val_mae: 260999552.0000 - val_root_mean_squared_error: 2553377024.0000\n",
            "Epoch 58/80\n",
            "154/154 [==============================] - 1s 3ms/step - loss: 5506562589355671552.0000 - mae: 220226080.0000 - root_mean_squared_error: 2346606592.0000 - val_loss: 6720340963048292352.0000 - val_mae: 266742512.0000 - val_root_mean_squared_error: 2592361984.0000\n",
            "Epoch 59/80\n",
            "154/154 [==============================] - 1s 3ms/step - loss: 5243227355480064000.0000 - mae: 216506240.0000 - root_mean_squared_error: 2289809408.0000 - val_loss: 6433162269768548352.0000 - val_mae: 268780576.0000 - val_root_mean_squared_error: 2536367872.0000\n",
            "Epoch 60/80\n",
            "154/154 [==============================] - 1s 3ms/step - loss: 5361333596000878592.0000 - mae: 222432976.0000 - root_mean_squared_error: 2315455232.0000 - val_loss: 6480453364390821888.0000 - val_mae: 271448224.0000 - val_root_mean_squared_error: 2545673472.0000\n",
            "Epoch 61/80\n",
            "154/154 [==============================] - 1s 3ms/step - loss: 5252966829478903808.0000 - mae: 220062192.0000 - root_mean_squared_error: 2291935232.0000 - val_loss: 6533321181989175296.0000 - val_mae: 278027168.0000 - val_root_mean_squared_error: 2556036096.0000\n",
            "Epoch 62/80\n",
            "154/154 [==============================] - 1s 3ms/step - loss: 5123043037982752768.0000 - mae: 219124688.0000 - root_mean_squared_error: 2263414016.0000 - val_loss: 6384459402216210432.0000 - val_mae: 261385104.0000 - val_root_mean_squared_error: 2526748672.0000\n",
            "Epoch 63/80\n",
            "154/154 [==============================] - 1s 4ms/step - loss: 5068943767361290240.0000 - mae: 212155232.0000 - root_mean_squared_error: 2251431424.0000 - val_loss: 6239482746779992064.0000 - val_mae: 253778544.0000 - val_root_mean_squared_error: 2497895680.0000\n",
            "Epoch 64/80\n",
            "154/154 [==============================] - 1s 4ms/step - loss: 4832381091866214400.0000 - mae: 200349152.0000 - root_mean_squared_error: 2198267648.0000 - val_loss: 6094266397808918528.0000 - val_mae: 265960512.0000 - val_root_mean_squared_error: 2468656640.0000\n",
            "Epoch 65/80\n",
            "154/154 [==============================] - 1s 5ms/step - loss: 4884749731185557504.0000 - mae: 199089472.0000 - root_mean_squared_error: 2210147072.0000 - val_loss: 6245972064407126016.0000 - val_mae: 258428352.0000 - val_root_mean_squared_error: 2499194368.0000\n",
            "Epoch 66/80\n",
            "154/154 [==============================] - 1s 4ms/step - loss: 4653962240515375104.0000 - mae: 201024608.0000 - root_mean_squared_error: 2157304320.0000 - val_loss: 6248474552871944192.0000 - val_mae: 270313856.0000 - val_root_mean_squared_error: 2499694848.0000\n",
            "Epoch 67/80\n",
            "154/154 [==============================] - 1s 5ms/step - loss: 4613931221171306496.0000 - mae: 198200976.0000 - root_mean_squared_error: 2148006400.0000 - val_loss: 6175362527182979072.0000 - val_mae: 265356544.0000 - val_root_mean_squared_error: 2485027584.0000\n",
            "Epoch 68/80\n",
            "154/154 [==============================] - 1s 4ms/step - loss: 4413720873991667712.0000 - mae: 195607104.0000 - root_mean_squared_error: 2100885760.0000 - val_loss: 6262109046812180480.0000 - val_mae: 263882384.0000 - val_root_mean_squared_error: 2502420736.0000\n",
            "Epoch 69/80\n",
            "154/154 [==============================] - 1s 3ms/step - loss: 4542652905999564800.0000 - mae: 194487648.0000 - root_mean_squared_error: 2131350016.0000 - val_loss: 6144801051733131264.0000 - val_mae: 272370784.0000 - val_root_mean_squared_error: 2478870784.0000\n",
            "Epoch 70/80\n",
            "154/154 [==============================] - 1s 3ms/step - loss: 4514101062927384576.0000 - mae: 192347824.0000 - root_mean_squared_error: 2124641408.0000 - val_loss: 6440726909767647232.0000 - val_mae: 265608320.0000 - val_root_mean_squared_error: 2537858560.0000\n",
            "Epoch 71/80\n",
            "154/154 [==============================] - 1s 3ms/step - loss: 4163058886015713280.0000 - mae: 189786432.0000 - root_mean_squared_error: 2040357504.0000 - val_loss: 6229584943106752512.0000 - val_mae: 285060864.0000 - val_root_mean_squared_error: 2495913728.0000\n",
            "Epoch 72/80\n",
            "154/154 [==============================] - 1s 3ms/step - loss: 4218432490613768192.0000 - mae: 194123504.0000 - root_mean_squared_error: 2053882240.0000 - val_loss: 6608201772131418112.0000 - val_mae: 267899104.0000 - val_root_mean_squared_error: 2570642176.0000\n",
            "Epoch 73/80\n",
            "154/154 [==============================] - 1s 3ms/step - loss: 3954849591744004096.0000 - mae: 188134560.0000 - root_mean_squared_error: 1988680320.0000 - val_loss: 6347445442778759168.0000 - val_mae: 272784288.0000 - val_root_mean_squared_error: 2519413760.0000\n",
            "Epoch 74/80\n",
            "154/154 [==============================] - 1s 3ms/step - loss: 3958072810080829440.0000 - mae: 186952288.0000 - root_mean_squared_error: 1989490560.0000 - val_loss: 6171747882706665472.0000 - val_mae: 279064928.0000 - val_root_mean_squared_error: 2484300288.0000\n",
            "Epoch 75/80\n",
            "154/154 [==============================] - 1s 4ms/step - loss: 3925823034526531584.0000 - mae: 188995136.0000 - root_mean_squared_error: 1981368960.0000 - val_loss: 6103346164831092736.0000 - val_mae: 287665312.0000 - val_root_mean_squared_error: 2470494976.0000\n",
            "Epoch 76/80\n",
            "154/154 [==============================] - 1s 4ms/step - loss: 3878494006753099776.0000 - mae: 191234720.0000 - root_mean_squared_error: 1969389184.0000 - val_loss: 6660393390078689280.0000 - val_mae: 276691168.0000 - val_root_mean_squared_error: 2580773632.0000\n",
            "Epoch 77/80\n",
            "154/154 [==============================] - 1s 3ms/step - loss: 3771343574969352192.0000 - mae: 191222192.0000 - root_mean_squared_error: 1941994752.0000 - val_loss: 6250748892673998848.0000 - val_mae: 282621952.0000 - val_root_mean_squared_error: 2500149760.0000\n",
            "Epoch 78/80\n",
            "154/154 [==============================] - 1s 3ms/step - loss: 3666642580214382592.0000 - mae: 187251968.0000 - root_mean_squared_error: 1914847872.0000 - val_loss: 6233718007315562496.0000 - val_mae: 281526720.0000 - val_root_mean_squared_error: 2496741376.0000\n",
            "Epoch 79/80\n",
            "154/154 [==============================] - 1s 3ms/step - loss: 3563816802540584960.0000 - mae: 186205520.0000 - root_mean_squared_error: 1887807360.0000 - val_loss: 6159017187324461056.0000 - val_mae: 285795072.0000 - val_root_mean_squared_error: 2481736704.0000\n",
            "Epoch 80/80\n",
            "154/154 [==============================] - 1s 4ms/step - loss: 3283080972521701376.0000 - mae: 186530816.0000 - root_mean_squared_error: 1811927424.0000 - val_loss: 6245314006697902080.0000 - val_mae: 282615744.0000 - val_root_mean_squared_error: 2499062528.0000\n"
          ]
        }
      ]
    },
    {
      "cell_type": "code",
      "source": [
        "# plot learning\n",
        " \n",
        "plot_history(history)"
      ],
      "metadata": {
        "colab": {
          "base_uri": "https://localhost:8080/",
          "height": 1000
        },
        "id": "bIYK4FynBTVz",
        "outputId": "44b4e3e0-f78b-4685-fc3f-709823073b71"
      },
      "execution_count": 141,
      "outputs": [
        {
          "output_type": "display_data",
          "data": {
            "text/plain": [
              "<Figure size 576x396 with 1 Axes>"
            ],
            "image/png": "[encoded data removed]"
          },
          "metadata": {}
        },
        {
          "output_type": "display_data",
          "data": {
            "text/plain": [
              "<Figure size 576x396 with 1 Axes>"
            ],
            "image/png": "[encoded data removed]"
          },
          "metadata": {}
        },
        {
          "output_type": "display_data",
          "data": {
            "text/plain": [
              "<Figure size 576x396 with 1 Axes>"
            ],
            "image/png": "[encoded data removed]"
          },
          "metadata": {}
        }
      ]
    },
    {
      "cell_type": "code",
      "source": [
        "# evaluate model\n",
        " \n",
        "y_pred = reg_model3.predict(X_test_proc2)\n",
        " \n",
        "print(f'final RMSE: {np.sqrt(mean_squared_error(y_test, y_pred))}')\n",
        "print(f'final MAE: {mean_absolute_error(y_test, y_pred)}')\n",
        "print(f'final R2: {r2_score(y_test, y_pred)}')"
      ],
      "metadata": {
        "id": "BbjX8WbdV3Yb",
        "colab": {
          "base_uri": "https://localhost:8080/"
        },
        "outputId": "f4191c52-1e8d-44ae-dc3a-3f29e580b86e"
      },
      "execution_count": 142,
      "outputs": [
        {
          "output_type": "stream",
          "name": "stdout",
          "text": [
            "final RMSE: 2499062835.959598\n",
            "final MAE: 282615772.00248593\n",
            "final R2: 0.2809823085896217\n"
          ]
        }
      ]
    },
    {
      "cell_type": "markdown",
      "source": [
        "Model 3 is presently the most accurate model, though others can be generated to improve accuracy.  These will be investigated in the future as I continue to refine this project."
      ],
      "metadata": {
        "id": "D_pclIDS7BN-"
      }
    }
  ]
}