{
  "nbformat": 4,
  "nbformat_minor": 0,
  "metadata": {
    "colab": {
      "name": "Staich - Project 2 - Part  4 .2 (Core)",
      "provenance": [],
      "collapsed_sections": [
        "XrW3l2wuNejO",
        "K1jGcKBBHfbp"
      ]
    },
    "kernelspec": {
      "name": "python3",
      "display_name": "Python 3"
    },
    "language_info": {
      "name": "python"
    }
  },
  "cells": [
    {
      "cell_type": "code",
      "source": [
        "# Nicholas M. Staich\n",
        "\n",
        "from google.colab import drive\n",
        "drive.mount('/content/drive')"
      ],
      "metadata": {
        "colab": {
          "base_uri": "https://localhost:8080/"
        },
        "id": "iUzHM_tLuX9t",
        "outputId": "510bd0cc-5314-4030-9279-9f9c53aeb35a"
      },
      "execution_count": 2,
      "outputs": [
        {
          "output_type": "stream",
          "name": "stdout",
          "text": [
            "Drive already mounted at /content/drive; to attempt to forcibly remount, call drive.mount(\"/content/drive\", force_remount=True).\n"
          ]
        }
      ]
    },
    {
      "cell_type": "markdown",
      "source": [
        "2) Brief description of data\n",
        "\n",
        "Spending by federal agency by statre and office.\n",
        "\n",
        "3) What is the target?\n",
        "\n",
        "Send by org\n",
        "\n",
        "4) Is this a classification or regression problem?\n",
        "\n",
        "* Classification\n",
        "\n",
        "\n",
        "5) How many features?\n",
        "\n",
        "* 5\n",
        "\n",
        "6) How many rows of data.\n",
        "\n",
        "* 6,557\n",
        "\n",
        "7) What, if any, challenges do your foresee in cleaning, exploring, or modeling with this dataset?\n",
        "\n",
        "* Properly structuring the data on this one is my major concern.  I am interested to see what I can do with this data."
      ],
      "metadata": {
        "id": "-wI5VDs00pxD"
      }
    },
    {
      "cell_type": "markdown",
      "source": [
        "#Project 2 - Part 2 (Core)"
      ],
      "metadata": {
        "id": "jEM2EiXPVPEZ"
      }
    },
    {
      "cell_type": "markdown",
      "source": [
        "To meet the requirements for this week you must have:\n",
        "\n",
        "-deleted unnecessary columns\n",
        "\n",
        "-deleted duplicate rows\n",
        "\n",
        "-identified and addressed missing values \n",
        "\n",
        "-identified and corrected inconsistencies in data for categorical values (i.e. Cat, cat, cats)\n",
        "\n",
        "-produced univariate visuals for the target and all features\n",
        "\n",
        "-identified outliers\n",
        "\n",
        "-produce a correlation heatmap and identify any moderate or strong correlations between your target and your features and/or between one feature and another\n",
        "\n",
        "-clearly commented all of your cleaning steps and described any decisions you made  (Note: During the final stack of the program, you will be making a presentation for a technical audience that includes your decisions and process in the cleaning steps. The more notes you take now, the easier that presentation will be. To clarify, that presentation is NOT due now.)\n",
        "\n",
        "Note that you should start working on your in depth EDA and making multivariate visuals for the upcoming part 3 of this assignment once you have submitted all tasks and your belt exam for this stack.\n",
        "\n",
        "Commit your file to your Github repository and submit the link below.\n"
      ],
      "metadata": {
        "id": "jVJfQWF4qM--"
      }
    },
    {
      "cell_type": "code",
      "source": [
        "import pandas as pd\n",
        "import numpy as np\n",
        "\n",
        "import matplotlib.pyplot as plt\n",
        "import seaborn as sns\n",
        "from seaborn import heatmap\n",
        "\n",
        "from sklearn.metrics import mean_squared_error, classification_report, confusion_matrix\n",
        "from sklearn.preprocessing import StandardScaler\n",
        "from sklearn.model_selection import train_test_split\n",
        "from sklearn import set_config\n",
        "set_config(display='diagram')\n",
        "from sklearn import metrics\n",
        "from sklearn.metrics import silhouette_score, classification_report, confusion_matrix, mean_absolute_error, mean_squared_error, r2_score\n",
        "from sklearn.cluster import AgglomerativeClustering\n",
        "from sklearn.decomposition import PCA\n",
        "from sklearn.cluster import KMeans\n",
        "import tensorflow.keras as keras\n",
        "from tensorflow.keras import metrics\n",
        "from keras.models import Sequential\n",
        "from keras.layers import Dense, Dropout\n",
        "from sklearn.preprocessing import OneHotEncoder, StandardScaler\n",
        "from sklearn.compose import make_column_transformer, make_column_selector\n",
        "from sklearn.pipeline import make_pipeline\n",
        "from sklearn.impute import SimpleImputer\n",
        "from tensorflow.keras.callbacks import EarlyStopping\n",
        "\n"
      ],
      "metadata": {
        "id": "8i3tsQA04Oav"
      },
      "execution_count": 3,
      "outputs": []
    },
    {
      "cell_type": "markdown",
      "source": [
        "## Federal Spending Data Set\n",
        "\n"
      ],
      "metadata": {
        "id": "Qbdra91PyHMw"
      }
    },
    {
      "cell_type": "code",
      "source": [
        "#Grab the data\n",
        "data_source_2 = ('/content/drive/MyDrive/Coding Dojo/Data USA Cart.csv')\n",
        "\n",
        "df = pd.read_csv(data_source_2)\n",
        "df.head()"
      ],
      "metadata": {
        "id": "u3pIchpVuWZ7",
        "colab": {
          "base_uri": "https://localhost:8080/",
          "height": 206
        },
        "outputId": "2668ba04-e846-400f-a620-f504676a9d75"
      },
      "execution_count": 4,
      "outputs": [
        {
          "output_type": "execute_result",
          "data": {
            "text/plain": [
              "  ID Geography             Geography ID Agency  \\\n",
              "0    04000US11  District of Columbia      1100   \n",
              "1    04000US17              Illinois      1100   \n",
              "2    04000US36              New York      1100   \n",
              "3    04000US51              Virginia      1100   \n",
              "4    04000US04               Arizona      1127   \n",
              "\n",
              "                                       Agency  Obligation Amount (2017)  \n",
              "0           Executive Office of the President               63125124.30  \n",
              "1           Executive Office of the President                 436400.70  \n",
              "2           Executive Office of the President                 -25400.44  \n",
              "3           Executive Office of the President                 114026.54  \n",
              "4  Office of the National Drug Control Policy                9700578.94  "
            ],
            "text/html": [
              "\n",
              "  <div id=\"df-b149aacc-d287-42f4-9485-90e18562a228\">\n",
              "    <div class=\"colab-df-container\">\n",
              "      <div>\n",
              "<style scoped>\n",
              "    .dataframe tbody tr th:only-of-type {\n",
              "        vertical-align: middle;\n",
              "    }\n",
              "\n",
              "    .dataframe tbody tr th {\n",
              "        vertical-align: top;\n",
              "    }\n",
              "\n",
              "    .dataframe thead th {\n",
              "        text-align: right;\n",
              "    }\n",
              "</style>\n",
              "<table border=\"1\" class=\"dataframe\">\n",
              "  <thead>\n",
              "    <tr style=\"text-align: right;\">\n",
              "      <th></th>\n",
              "      <th>ID Geography</th>\n",
              "      <th>Geography</th>\n",
              "      <th>ID Agency</th>\n",
              "      <th>Agency</th>\n",
              "      <th>Obligation Amount (2017)</th>\n",
              "    </tr>\n",
              "  </thead>\n",
              "  <tbody>\n",
              "    <tr>\n",
              "      <th>0</th>\n",
              "      <td>04000US11</td>\n",
              "      <td>District of Columbia</td>\n",
              "      <td>1100</td>\n",
              "      <td>Executive Office of the President</td>\n",
              "      <td>63125124.30</td>\n",
              "    </tr>\n",
              "    <tr>\n",
              "      <th>1</th>\n",
              "      <td>04000US17</td>\n",
              "      <td>Illinois</td>\n",
              "      <td>1100</td>\n",
              "      <td>Executive Office of the President</td>\n",
              "      <td>436400.70</td>\n",
              "    </tr>\n",
              "    <tr>\n",
              "      <th>2</th>\n",
              "      <td>04000US36</td>\n",
              "      <td>New York</td>\n",
              "      <td>1100</td>\n",
              "      <td>Executive Office of the President</td>\n",
              "      <td>-25400.44</td>\n",
              "    </tr>\n",
              "    <tr>\n",
              "      <th>3</th>\n",
              "      <td>04000US51</td>\n",
              "      <td>Virginia</td>\n",
              "      <td>1100</td>\n",
              "      <td>Executive Office of the President</td>\n",
              "      <td>114026.54</td>\n",
              "    </tr>\n",
              "    <tr>\n",
              "      <th>4</th>\n",
              "      <td>04000US04</td>\n",
              "      <td>Arizona</td>\n",
              "      <td>1127</td>\n",
              "      <td>Office of the National Drug Control Policy</td>\n",
              "      <td>9700578.94</td>\n",
              "    </tr>\n",
              "  </tbody>\n",
              "</table>\n",
              "</div>\n",
              "      <button class=\"colab-df-convert\" onclick=\"convertToInteractive('df-b149aacc-d287-42f4-9485-90e18562a228')\"\n",
              "              title=\"Convert this dataframe to an interactive table.\"\n",
              "              style=\"display:none;\">\n",
              "        \n",
              "  <svg xmlns=\"http://www.w3.org/2000/svg\" height=\"24px\"viewBox=\"0 0 24 24\"\n",
              "       width=\"24px\">\n",
              "    <path d=\"M0 0h24v24H0V0z\" fill=\"none\"/>\n",
              "    <path d=\"M18.56 5.44l.94 2.06.94-2.06 2.06-.94-2.06-.94-.94-2.06-.94 2.06-2.06.94zm-11 1L8.5 8.5l.94-2.06 2.06-.94-2.06-.94L8.5 2.5l-.94 2.06-2.06.94zm10 10l.94 2.06.94-2.06 2.06-.94-2.06-.94-.94-2.06-.94 2.06-2.06.94z\"/><path d=\"M17.41 7.96l-1.37-1.37c-.4-.4-.92-.59-1.43-.59-.52 0-1.04.2-1.43.59L10.3 9.45l-7.72 7.72c-.78.78-.78 2.05 0 2.83L4 21.41c.39.39.9.59 1.41.59.51 0 1.02-.2 1.41-.59l7.78-7.78 2.81-2.81c.8-.78.8-2.07 0-2.86zM5.41 20L4 18.59l7.72-7.72 1.47 1.35L5.41 20z\"/>\n",
              "  </svg>\n",
              "      </button>\n",
              "      \n",
              "  <style>\n",
              "    .colab-df-container {\n",
              "      display:flex;\n",
              "      flex-wrap:wrap;\n",
              "      gap: 12px;\n",
              "    }\n",
              "\n",
              "    .colab-df-convert {\n",
              "      background-color: #E8F0FE;\n",
              "      border: none;\n",
              "      border-radius: 50%;\n",
              "      cursor: pointer;\n",
              "      display: none;\n",
              "      fill: #1967D2;\n",
              "      height: 32px;\n",
              "      padding: 0 0 0 0;\n",
              "      width: 32px;\n",
              "    }\n",
              "\n",
              "    .colab-df-convert:hover {\n",
              "      background-color: #E2EBFA;\n",
              "      box-shadow: 0px 1px 2px rgba(60, 64, 67, 0.3), 0px 1px 3px 1px rgba(60, 64, 67, 0.15);\n",
              "      fill: #174EA6;\n",
              "    }\n",
              "\n",
              "    [theme=dark] .colab-df-convert {\n",
              "      background-color: #3B4455;\n",
              "      fill: #D2E3FC;\n",
              "    }\n",
              "\n",
              "    [theme=dark] .colab-df-convert:hover {\n",
              "      background-color: #434B5C;\n",
              "      box-shadow: 0px 1px 3px 1px rgba(0, 0, 0, 0.15);\n",
              "      filter: drop-shadow(0px 1px 2px rgba(0, 0, 0, 0.3));\n",
              "      fill: #FFFFFF;\n",
              "    }\n",
              "  </style>\n",
              "\n",
              "      <script>\n",
              "        const buttonEl =\n",
              "          document.querySelector('#df-b149aacc-d287-42f4-9485-90e18562a228 button.colab-df-convert');\n",
              "        buttonEl.style.display =\n",
              "          google.colab.kernel.accessAllowed ? 'block' : 'none';\n",
              "\n",
              "        async function convertToInteractive(key) {\n",
              "          const element = document.querySelector('#df-b149aacc-d287-42f4-9485-90e18562a228');\n",
              "          const dataTable =\n",
              "            await google.colab.kernel.invokeFunction('convertToInteractive',\n",
              "                                                     [key], {});\n",
              "          if (!dataTable) return;\n",
              "\n",
              "          const docLinkHtml = 'Like what you see? Visit the ' +\n",
              "            '<a target=\"_blank\" href=https://colab.research.google.com/notebooks/data_table.ipynb>data table notebook</a>'\n",
              "            + ' to learn more about interactive tables.';\n",
              "          element.innerHTML = '';\n",
              "          dataTable['output_type'] = 'display_data';\n",
              "          await google.colab.output.renderOutput(dataTable, element);\n",
              "          const docLink = document.createElement('div');\n",
              "          docLink.innerHTML = docLinkHtml;\n",
              "          element.appendChild(docLink);\n",
              "        }\n",
              "      </script>\n",
              "    </div>\n",
              "  </div>\n",
              "  "
            ]
          },
          "metadata": {},
          "execution_count": 4
        }
      ]
    },
    {
      "cell_type": "code",
      "source": [
        "df.shape"
      ],
      "metadata": {
        "colab": {
          "base_uri": "https://localhost:8080/"
        },
        "id": "bxHOhHATayGt",
        "outputId": "2f32a382-0545-4dac-e169-57b6fed5befb"
      },
      "execution_count": 5,
      "outputs": [
        {
          "output_type": "execute_result",
          "data": {
            "text/plain": [
              "(6557, 5)"
            ]
          },
          "metadata": {},
          "execution_count": 5
        }
      ]
    },
    {
      "cell_type": "code",
      "source": [
        "# Understand the characteristics of the dataframe we are working with\n",
        "df.info()"
      ],
      "metadata": {
        "colab": {
          "base_uri": "https://localhost:8080/"
        },
        "id": "jUZDH4MBqgyA",
        "outputId": "343fb560-5b43-419f-bf76-aa9553b3dbaf"
      },
      "execution_count": 6,
      "outputs": [
        {
          "output_type": "stream",
          "name": "stdout",
          "text": [
            "<class 'pandas.core.frame.DataFrame'>\n",
            "RangeIndex: 6557 entries, 0 to 6556\n",
            "Data columns (total 5 columns):\n",
            " #   Column                    Non-Null Count  Dtype  \n",
            "---  ------                    --------------  -----  \n",
            " 0   ID Geography              6557 non-null   object \n",
            " 1   Geography                 6557 non-null   object \n",
            " 2   ID Agency                 6557 non-null   object \n",
            " 3   Agency                    6557 non-null   object \n",
            " 4   Obligation Amount (2017)  6557 non-null   float64\n",
            "dtypes: float64(1), object(4)\n",
            "memory usage: 256.3+ KB\n"
          ]
        }
      ]
    },
    {
      "cell_type": "code",
      "source": [
        "# Verify the stypes we are working with\n",
        "df.dtypes"
      ],
      "metadata": {
        "colab": {
          "base_uri": "https://localhost:8080/"
        },
        "id": "IwWCd3WzdowI",
        "outputId": "a669ac39-ff34-4fdc-a5b3-c1f469ba30a1"
      },
      "execution_count": 7,
      "outputs": [
        {
          "output_type": "execute_result",
          "data": {
            "text/plain": [
              "ID Geography                 object\n",
              "Geography                    object\n",
              "ID Agency                    object\n",
              "Agency                       object\n",
              "Obligation Amount (2017)    float64\n",
              "dtype: object"
            ]
          },
          "metadata": {},
          "execution_count": 7
        }
      ]
    },
    {
      "cell_type": "code",
      "source": [
        "#Check for missing values \n",
        "df.value_counts().isna()"
      ],
      "metadata": {
        "colab": {
          "base_uri": "https://localhost:8080/"
        },
        "id": "U6Eh6JJKqlBX",
        "outputId": "1a48e5f3-9617-4671-d0ee-4af444cd1221"
      },
      "execution_count": 8,
      "outputs": [
        {
          "output_type": "execute_result",
          "data": {
            "text/plain": [
              "ID Geography  Geography       ID Agency  Agency                                                         Obligation Amount (2017)\n",
              "04000US01     Alabama         1145       Peace Corps                                                    3.819297e+04                False\n",
              "04000US37     North Carolina  7530       Centers for Medicare and Medicaid Services                     1.216213e+09                False\n",
              "                              8635       Assistant Secretary for Public and Indian Housing              3.616013e+08                False\n",
              "                              8630       Assistant Secretary for Housing--Federal Housing Commissioner  1.332609e+08                False\n",
              "                              8620       Assistant Secretary for Community Planning and Development     2.930580e+08                False\n",
              "                                                                                                                                    ...  \n",
              "04000US20     Kansas          5940       National Endowment for the Humanities                          6.000000e+03                False\n",
              "                              5920       National Endowment for the Arts                                1.712386e+06                False\n",
              "                              5700       Department of the Air Force                                    1.727293e+08                False\n",
              "                              4900       National Science Foundation                                    3.956399e+07                False\n",
              "04000US72     Puerto Rico     97F2       Department of Defense Education Activity (DODEA)               1.211497e+06                False\n",
              "Length: 6557, dtype: bool"
            ]
          },
          "metadata": {},
          "execution_count": 8
        }
      ]
    },
    {
      "cell_type": "code",
      "source": [
        "#Check the object columns the will have to be OHE to make sure all values are unique and correct.\n",
        "\n",
        "df_obj = df.select_dtypes(include = 'object')\n",
        "df_obj_cols = list(df_obj)\n",
        "for col in df_obj_cols:\n",
        "  print(f\"col: {df_obj[col].unique()}\\n\")\n"
      ],
      "metadata": {
        "colab": {
          "base_uri": "https://localhost:8080/"
        },
        "id": "5EN0uOyCq3AA",
        "outputId": "dbbb575e-a2db-4863-dd1b-69b17b116bc4"
      },
      "execution_count": 9,
      "outputs": [
        {
          "output_type": "stream",
          "name": "stdout",
          "text": [
            "col: ['04000US11' '04000US17' '04000US36' '04000US51' '04000US04' '04000US06'\n",
            " '04000US08' '04000US10' '04000US12' '04000US15' '04000US18' '04000US24'\n",
            " '04000US27' '04000US29' '04000US30' '04000US31' '04000US34' '04000US35'\n",
            " '04000US39' '04000US42' '04000US47' '04000US48' '04000US49' '04000US53'\n",
            " '04000US55' '04000US01' '04000US13' '04000US19' '04000US20' '04000US22'\n",
            " '04000US26' '04000US37' '04000US41' '04000US50' '04000US09' '04000US16'\n",
            " '04000US23' '04000US25' '04000US45' '04000US02' '04000US05' '04000US21'\n",
            " '04000US32' '04000US33' '04000US40' '04000US54' '04000US56' '04000US28'\n",
            " '04000US38' '04000US44' '04000US46' '04000US72']\n",
            "\n",
            "col: ['District of Columbia' 'Illinois' 'New York' 'Virginia' 'Arizona'\n",
            " 'California' 'Colorado' 'Delaware' 'Florida' 'Hawaii' 'Indiana'\n",
            " 'Maryland' 'Minnesota' 'Missouri' 'Montana' 'Nebraska' 'New Jersey'\n",
            " 'New Mexico' 'Ohio' 'Pennsylvania' 'Tennessee' 'Texas' 'Utah'\n",
            " 'Washington' 'Wisconsin' 'Alabama' 'Georgia' 'Iowa' 'Kansas' 'Louisiana'\n",
            " 'Michigan' 'North Carolina' 'Oregon' 'Vermont' 'Connecticut' 'Idaho'\n",
            " 'Maine' 'Massachusetts' 'South Carolina' 'Alaska' 'Arkansas' 'Kentucky'\n",
            " 'Nevada' 'New Hampshire' 'Oklahoma' 'West Virginia' 'Wyoming'\n",
            " 'Mississippi' 'North Dakota' 'Rhode Island' 'South Dakota' 'Puerto Rico']\n",
            "\n",
            "col: ['1100' '1127' '1145' '1153' '4704' '1204' '1604' '1205' '12C2' '12C3'\n",
            " '12D2' '12D3' '12D4' '12E2' '12E3' '12E4' '12F2' '12G2' '12H2' '12H3'\n",
            " '12H4' '12H5' '12K2' '12K3' '1301' '1323' '1325' '1330' '1335' '1341'\n",
            " '1344' '1350' '1352' '1400' '1402' '1504' '7504' '2001' '1406' '1409'\n",
            " '1422' '1425' '1434' '1435' '1436' '1438' '1443' '1445' '1448' '1450'\n",
            " '1501' '7004' '1524' '1540' '1542' '1544' '1549' '1550' '1560' '1605'\n",
            " '1625' '1630' '1645' '1650' '1653' '1665' '1667' '1900' '19BM' '2004'\n",
            " '2036' '2041' '2044' '2046' '2050' '2400' '2500' '2700' '2800' '2900'\n",
            " '9515' '3100' '3300' '3355' '9507' '3400' '9516' '3600' '3607' '3620'\n",
            " '3630' '3640' '9506' '9504' '4100' '9502' '5920' '5940' '6300' '9508'\n",
            " '9514' '4500' '4700' '4705' '4732' '4740' '4773' '4775' '9533' '5950'\n",
            " '9577' '4900' '5000' '9565' '9594' '959P' '9572' '9568' '9547' '9543'\n",
            " '9523' '9542' '5400' '9511' '955F' '6000' '6100' '6500' '6800' '6901'\n",
            " '6920' '6925' '6930' '6938' '6940' '6947' '6953' '6955' '6957' '7000'\n",
            " '7001' '7003' '7008' '7009' '7012' '7013' '7014' '7015' '7022' '7051'\n",
            " '7100' '7200' '7300' '7505' '7506' '7521' '7522' '7523' '7524' '7526'\n",
            " '7527' '7528' '7529' '7530' '7545' '7570' '7576' '7590' '8000' '8300'\n",
            " '8600' '8611' '8620' '8630' '8635' '8645' '8653' '8800' '8862' '8900'\n",
            " '8922' '8944' '8960' '9000' '9100' '9300' '1700' '2100' '5700' '9748'\n",
            " '9761' '9763' '9771' '9776' '97AE' '97AK' '97AS' '97AT' '97AV' '97AZ'\n",
            " '97BZ' '97DH' '97DL' '97F1' '97F2' '97F5' '97HW' '97JC' '97ZS']\n",
            "\n",
            "col: ['Executive Office of the President'\n",
            " 'Office of the National Drug Control Policy' 'Peace Corps'\n",
            " 'United States Trade and Development Agency'\n",
            " 'Office of Inspector General' 'Office of the Chief Financial Officer'\n",
            " 'Forest Service' 'Natural Resources Conservation Service'\n",
            " 'Farm Service Agency' 'Foreign Agricultural Service'\n",
            " 'Risk Management Agency' 'Rural Utilities Service'\n",
            " 'Rural Housing Service' 'Rural Business Cooperative Service'\n",
            " 'Food and Nutrition Service' 'Food Safety and Inspection Service'\n",
            " 'Agricultural Research Service'\n",
            " 'National Institute of Food and Agriculture' 'Economic Research Service'\n",
            " 'National Agricultural Statistics Service'\n",
            " 'Agricultural Marketing Service'\n",
            " 'Animal and Plant Health Inspection Service' 'Office of the Secretary'\n",
            " 'U.S. Census Bureau' 'Economic Development Administration'\n",
            " 'National Oceanic and Atmospheric Administration'\n",
            " 'National Telecommunications and Information Administration'\n",
            " 'National Institute of Standards and Technology'\n",
            " 'U.S. Patent and Trademark Office' 'International Trade Administration'\n",
            " 'Minority Business Development Agency' 'Department of the Interior'\n",
            " 'Office of the Under Secretary of the Interior'\n",
            " 'Office of the Inspector General' 'Departmental Offices'\n",
            " 'Insular Affairs' 'Bureau of Land Management' 'Bureau of Reclamation'\n",
            " 'U.S. Geological Survey' 'Bureau of Ocean Energy Management'\n",
            " 'Bureau of Safety and Environmental Enforcement'\n",
            " 'Office of Surface Mining, Reclamation and Enforcement'\n",
            " 'National Park Service' 'National Biological Survey'\n",
            " 'U.S. Fish and Wildlife Service'\n",
            " 'Bureau of Indian Affairs and Bureau of Indian Education'\n",
            " 'Offices, Boards and Divisions' 'Drug Enforcement Administration'\n",
            " 'Federal Prison System / Bureau of Prisons'\n",
            " 'Federal Prison Industries / Unicor' 'U.S. Marshals Service'\n",
            " 'Federal Bureau of Investigation' 'Office of Justice Programs'\n",
            " 'ATF Acquisition and Property Management Division'\n",
            " 'Office of the Assistant Secretary for Administration and Management'\n",
            " 'Bureau of Labor Statistics' 'Employment and Training Administration'\n",
            " 'Mine Safety and Health Administration'\n",
            " 'Occupational Safety and Health Administration'\n",
            " 'Veterans Employment and Training Services'\n",
            " 'Pension Benefit Guaranty Corporation'\n",
            " \"President's Committee on Employment of the Handicapped\"\n",
            " 'Department of State'\n",
            " 'International Boundary and Water Commission: U.S.-Mexico'\n",
            " 'Inspector General' 'Bureau of the Fiscal Service'\n",
            " 'Bureau of Engraving and Printing' 'United States Mint'\n",
            " 'Office of the Comptroller of the Currency' 'Internal Revenue Service'\n",
            " 'Office of Personnel Management' 'National Credit Union Administration'\n",
            " 'Federal Communications Commission' 'Social Security Administration'\n",
            " 'Federal Trade Commission' 'Administrative Conference of the U.S.'\n",
            " 'Nuclear Regulatory Commission' 'Smithsonian Institution'\n",
            " 'National Gallery of Art' 'Commodity Futures Trading Commission'\n",
            " 'International Trade Commission'\n",
            " 'Defense Nuclear Facilities Safety Board'\n",
            " 'Department of Veterans Affairs'\n",
            " 'Assistant Secretary for Public and Intergovernmental Affairs'\n",
            " 'Under Secretary for Health/Veterans Health Administration'\n",
            " 'Directory/National Cemetery Administration'\n",
            " 'Under Secretary for Benefits/Veterans Benefits Administration'\n",
            " 'Federal Election Commission'\n",
            " 'Federal Mine Safety and Health Review Commission'\n",
            " 'Merit Systems Protection Board' 'National Capital Planning Commission'\n",
            " 'National Endowment for the Arts' 'National Endowment for the Humanities'\n",
            " 'National Labor Relations Board' 'National Transportation Safety Board'\n",
            " 'Occupational Safety and Health Review Commission'\n",
            " 'Equal Employment Opportunity Commission'\n",
            " 'General Services Administration' 'Office of the Administrator (ACMD)'\n",
            " 'Federal Acquisition Service' 'Public Buildings Service'\n",
            " 'Office of Administrative Services' 'Technology Transformation Service'\n",
            " 'Gulf Coast Ecosystem Restoration Council'\n",
            " 'The Institue of Museum and Library Services'\n",
            " 'Corporation for National and Community Service'\n",
            " 'National Science Foundation' 'Securities and Exchange Commission'\n",
            " 'United States Chemical Safety Board'\n",
            " 'Court Services and Offender Supervision Agency'\n",
            " 'Pretrial Services Agency' 'Denali Commission'\n",
            " 'Broadcasting Board of Governors' 'Delta Regional Authority'\n",
            " 'Millennium Challenge Corporation' 'Election Assistance Commission'\n",
            " 'Federal Housing Finance Agency' 'Federal Labor Relations Authority'\n",
            " 'The Council of the Inspectors General on Integrity and Efficiency'\n",
            " 'Consumer Financial Protection Bureau' 'Railroad Retirement Board'\n",
            " 'Consumer Product Safety Commission' 'Federal Maritime Commission'\n",
            " 'Environmental Protection Agency'\n",
            " 'Immediate Office of the Secretary of Transportation'\n",
            " 'Federal Aviation Administration' 'Federal Highway Administration'\n",
            " 'Federal Railroad Administration' 'Maritime Administration'\n",
            " 'National Highway Traffic Safety Administration'\n",
            " 'Saint Lawrence Seaway Development Corporation'\n",
            " 'Federal Motor Carrier Safety Administration'\n",
            " 'Federal Transit Administration'\n",
            " 'Pipeline and Hazardous Materials Safety Administration'\n",
            " 'Department of Homeland Security' 'Office of Procurement Operations'\n",
            " 'U.S. Citizenship and Immigration Services' 'U.S. Coast Guard'\n",
            " 'U.S. Secret Service' 'U.S. Immigration and Customs Enforcement'\n",
            " 'Transportation Security Administration'\n",
            " 'U.S. Customs and Border Protection'\n",
            " 'Federal Law Enforcement Training Center'\n",
            " 'Federal Emergency Management Agency'\n",
            " 'Immediate Office of the Under Secretary for Management'\n",
            " 'Overseas Private Investment Corporation'\n",
            " 'Agency for International Development' 'Small Business Administration'\n",
            " 'Office of Assistant Secretary for Preparedness and Response'\n",
            " 'Office of Assistant Secretary for Planning and Evaluation'\n",
            " 'Office of Assistant Secretary for Health'\n",
            " 'Substance Abuse and Mental Health Services Administration'\n",
            " 'Centers for Disease Control and Prevention'\n",
            " 'Food and Drug Administration'\n",
            " 'Health Resources and Services Administration' 'Indian Health Service'\n",
            " 'Agency for Healthcare Research and Quality'\n",
            " 'National Institutes of Health'\n",
            " 'Centers for Medicare and Medicaid Services' 'Administration on Aging'\n",
            " 'Office of the Assistant Secretary for Administration (ASA)'\n",
            " 'Office of the National Coordinator for Health Information Technology (ONC)'\n",
            " 'Administration for Children and Families'\n",
            " 'National Aeronautics and Space Administration'\n",
            " 'Export-Import Bank of the United States'\n",
            " 'Department of Housing and Urban Development'\n",
            " 'Assistant Secretary for Fair Housing and Equal Opportunity'\n",
            " 'Assistant Secretary for Community Planning and Development'\n",
            " 'Assistant Secretary for Housing--Federal Housing Commissioner'\n",
            " 'Assistant Secretary for Public and Indian Housing'\n",
            " 'Assistant Secretary for Policy Development and Research'\n",
            " 'Office of Lead Hazard Control and Healthy Homes'\n",
            " 'National Archives and Records Administration'\n",
            " 'National Historical Publications and Records Commission'\n",
            " 'Department of Energy'\n",
            " 'Assistant Secretary for Conservation and Renewable Energy'\n",
            " 'Assistant Secretary for Fossil Energy'\n",
            " 'Federal Energy Regulatory Commission' 'Selective Service System'\n",
            " 'Department of Education' 'Federal Mediation and Conciliation Service'\n",
            " 'Department of the Navy' 'Department of the Army'\n",
            " 'Department of the Air Force' 'Defense Human Resources Activity'\n",
            " 'Defense Threat Reduction Agency (DTRA)'\n",
            " 'Defense Contract Management Agency (DCMA)'\n",
            " 'Defense Microelectronics Activity (DMEA)' 'USTRANSCOM'\n",
            " 'Defense Advanced Research Projects Agency (DARPA)'\n",
            " 'Defense Information Systems Agency (DISA)' 'Defense Logistics Agency'\n",
            " 'Defense Security Cooperation Agency' 'Defense Security Service'\n",
            " 'Defense Commissary Agency (DECA)'\n",
            " 'Defense Finance and Accounting Service (DFAS)'\n",
            " 'Defense Health Agency (DHA)' 'Defense Intelligence Agency'\n",
            " 'Defense Media Activity (DMA)'\n",
            " 'Department of Defense Education Activity (DODEA)'\n",
            " 'Washington Headquarters Services (WHS)'\n",
            " 'Uniformed Services University of the Health Sciences (USUHS)'\n",
            " 'Missile Defense Agency (MDA)'\n",
            " 'U.S. Special Operations Command (USSOCOM)']\n",
            "\n"
          ]
        }
      ]
    },
    {
      "cell_type": "code",
      "source": [
        "#Rename the 'Obligation Amount (2017)' feature to the more palatable 'Obligation'\n",
        "df.rename({'Obligation Amount (2017)':'Obligation'}, axis='columns', inplace=True)\n",
        "df.head()"
      ],
      "metadata": {
        "colab": {
          "base_uri": "https://localhost:8080/",
          "height": 206
        },
        "id": "v5DxHzDDvfll",
        "outputId": "a526462d-b7f7-4433-95be-b324129867d4"
      },
      "execution_count": 10,
      "outputs": [
        {
          "output_type": "execute_result",
          "data": {
            "text/plain": [
              "  ID Geography             Geography ID Agency  \\\n",
              "0    04000US11  District of Columbia      1100   \n",
              "1    04000US17              Illinois      1100   \n",
              "2    04000US36              New York      1100   \n",
              "3    04000US51              Virginia      1100   \n",
              "4    04000US04               Arizona      1127   \n",
              "\n",
              "                                       Agency   Obligation  \n",
              "0           Executive Office of the President  63125124.30  \n",
              "1           Executive Office of the President    436400.70  \n",
              "2           Executive Office of the President    -25400.44  \n",
              "3           Executive Office of the President    114026.54  \n",
              "4  Office of the National Drug Control Policy   9700578.94  "
            ],
            "text/html": [
              "\n",
              "  <div id=\"df-fca5b335-d78c-48e4-be96-863c5d1ac8cc\">\n",
              "    <div class=\"colab-df-container\">\n",
              "      <div>\n",
              "<style scoped>\n",
              "    .dataframe tbody tr th:only-of-type {\n",
              "        vertical-align: middle;\n",
              "    }\n",
              "\n",
              "    .dataframe tbody tr th {\n",
              "        vertical-align: top;\n",
              "    }\n",
              "\n",
              "    .dataframe thead th {\n",
              "        text-align: right;\n",
              "    }\n",
              "</style>\n",
              "<table border=\"1\" class=\"dataframe\">\n",
              "  <thead>\n",
              "    <tr style=\"text-align: right;\">\n",
              "      <th></th>\n",
              "      <th>ID Geography</th>\n",
              "      <th>Geography</th>\n",
              "      <th>ID Agency</th>\n",
              "      <th>Agency</th>\n",
              "      <th>Obligation</th>\n",
              "    </tr>\n",
              "  </thead>\n",
              "  <tbody>\n",
              "    <tr>\n",
              "      <th>0</th>\n",
              "      <td>04000US11</td>\n",
              "      <td>District of Columbia</td>\n",
              "      <td>1100</td>\n",
              "      <td>Executive Office of the President</td>\n",
              "      <td>63125124.30</td>\n",
              "    </tr>\n",
              "    <tr>\n",
              "      <th>1</th>\n",
              "      <td>04000US17</td>\n",
              "      <td>Illinois</td>\n",
              "      <td>1100</td>\n",
              "      <td>Executive Office of the President</td>\n",
              "      <td>436400.70</td>\n",
              "    </tr>\n",
              "    <tr>\n",
              "      <th>2</th>\n",
              "      <td>04000US36</td>\n",
              "      <td>New York</td>\n",
              "      <td>1100</td>\n",
              "      <td>Executive Office of the President</td>\n",
              "      <td>-25400.44</td>\n",
              "    </tr>\n",
              "    <tr>\n",
              "      <th>3</th>\n",
              "      <td>04000US51</td>\n",
              "      <td>Virginia</td>\n",
              "      <td>1100</td>\n",
              "      <td>Executive Office of the President</td>\n",
              "      <td>114026.54</td>\n",
              "    </tr>\n",
              "    <tr>\n",
              "      <th>4</th>\n",
              "      <td>04000US04</td>\n",
              "      <td>Arizona</td>\n",
              "      <td>1127</td>\n",
              "      <td>Office of the National Drug Control Policy</td>\n",
              "      <td>9700578.94</td>\n",
              "    </tr>\n",
              "  </tbody>\n",
              "</table>\n",
              "</div>\n",
              "      <button class=\"colab-df-convert\" onclick=\"convertToInteractive('df-fca5b335-d78c-48e4-be96-863c5d1ac8cc')\"\n",
              "              title=\"Convert this dataframe to an interactive table.\"\n",
              "              style=\"display:none;\">\n",
              "        \n",
              "  <svg xmlns=\"http://www.w3.org/2000/svg\" height=\"24px\"viewBox=\"0 0 24 24\"\n",
              "       width=\"24px\">\n",
              "    <path d=\"M0 0h24v24H0V0z\" fill=\"none\"/>\n",
              "    <path d=\"M18.56 5.44l.94 2.06.94-2.06 2.06-.94-2.06-.94-.94-2.06-.94 2.06-2.06.94zm-11 1L8.5 8.5l.94-2.06 2.06-.94-2.06-.94L8.5 2.5l-.94 2.06-2.06.94zm10 10l.94 2.06.94-2.06 2.06-.94-2.06-.94-.94-2.06-.94 2.06-2.06.94z\"/><path d=\"M17.41 7.96l-1.37-1.37c-.4-.4-.92-.59-1.43-.59-.52 0-1.04.2-1.43.59L10.3 9.45l-7.72 7.72c-.78.78-.78 2.05 0 2.83L4 21.41c.39.39.9.59 1.41.59.51 0 1.02-.2 1.41-.59l7.78-7.78 2.81-2.81c.8-.78.8-2.07 0-2.86zM5.41 20L4 18.59l7.72-7.72 1.47 1.35L5.41 20z\"/>\n",
              "  </svg>\n",
              "      </button>\n",
              "      \n",
              "  <style>\n",
              "    .colab-df-container {\n",
              "      display:flex;\n",
              "      flex-wrap:wrap;\n",
              "      gap: 12px;\n",
              "    }\n",
              "\n",
              "    .colab-df-convert {\n",
              "      background-color: #E8F0FE;\n",
              "      border: none;\n",
              "      border-radius: 50%;\n",
              "      cursor: pointer;\n",
              "      display: none;\n",
              "      fill: #1967D2;\n",
              "      height: 32px;\n",
              "      padding: 0 0 0 0;\n",
              "      width: 32px;\n",
              "    }\n",
              "\n",
              "    .colab-df-convert:hover {\n",
              "      background-color: #E2EBFA;\n",
              "      box-shadow: 0px 1px 2px rgba(60, 64, 67, 0.3), 0px 1px 3px 1px rgba(60, 64, 67, 0.15);\n",
              "      fill: #174EA6;\n",
              "    }\n",
              "\n",
              "    [theme=dark] .colab-df-convert {\n",
              "      background-color: #3B4455;\n",
              "      fill: #D2E3FC;\n",
              "    }\n",
              "\n",
              "    [theme=dark] .colab-df-convert:hover {\n",
              "      background-color: #434B5C;\n",
              "      box-shadow: 0px 1px 3px 1px rgba(0, 0, 0, 0.15);\n",
              "      filter: drop-shadow(0px 1px 2px rgba(0, 0, 0, 0.3));\n",
              "      fill: #FFFFFF;\n",
              "    }\n",
              "  </style>\n",
              "\n",
              "      <script>\n",
              "        const buttonEl =\n",
              "          document.querySelector('#df-fca5b335-d78c-48e4-be96-863c5d1ac8cc button.colab-df-convert');\n",
              "        buttonEl.style.display =\n",
              "          google.colab.kernel.accessAllowed ? 'block' : 'none';\n",
              "\n",
              "        async function convertToInteractive(key) {\n",
              "          const element = document.querySelector('#df-fca5b335-d78c-48e4-be96-863c5d1ac8cc');\n",
              "          const dataTable =\n",
              "            await google.colab.kernel.invokeFunction('convertToInteractive',\n",
              "                                                     [key], {});\n",
              "          if (!dataTable) return;\n",
              "\n",
              "          const docLinkHtml = 'Like what you see? Visit the ' +\n",
              "            '<a target=\"_blank\" href=https://colab.research.google.com/notebooks/data_table.ipynb>data table notebook</a>'\n",
              "            + ' to learn more about interactive tables.';\n",
              "          element.innerHTML = '';\n",
              "          dataTable['output_type'] = 'display_data';\n",
              "          await google.colab.output.renderOutput(dataTable, element);\n",
              "          const docLink = document.createElement('div');\n",
              "          docLink.innerHTML = docLinkHtml;\n",
              "          element.appendChild(docLink);\n",
              "        }\n",
              "      </script>\n",
              "    </div>\n",
              "  </div>\n",
              "  "
            ]
          },
          "metadata": {},
          "execution_count": 10
        }
      ]
    },
    {
      "cell_type": "markdown",
      "source": [
        "\n",
        "Using the approved dataset you proposed for project 2 part 1 last week, you will clean and explore the data set.  \n",
        "\n",
        "To meet the requirements for this week you must have:\n",
        "\n",
        "-deleted unnecessary columns\n",
        "\n",
        "-deleted duplicate rows\n",
        "\n",
        "-identified and addressed missing values \n",
        "\n",
        "-identified and corrected inconsistencies in data for categorical values (i.e. Cat, cat, cats)\n",
        "\n",
        "-produced univariate visuals for the target and all features\n",
        "\n",
        "-identified outliers\n",
        "\n",
        "-produce a correlation heatmap and identify any moderate or strong correlations between your target and your features and/or between one feature and another\n",
        "\n",
        "-clearly commented all of your cleaning steps and described any decisions you made  (Note: During the final stack of the program, you will be making a presentation for a technical audience that includes your decisions and process in the cleaning steps. The more notes you take now, the easier that presentation will be. To clarify, that presentation is NOT due now.)\n",
        "\n",
        "Note that you should start working on your in depth EDA and making multivariate visuals for the upcoming part 3 of this assignment once you have submitted all tasks and your belt exam for this stack.\n",
        "\n",
        "Commit your file to your Github repository and submit the link below."
      ],
      "metadata": {
        "id": "iKSnJqo6VL04"
      }
    },
    {
      "cell_type": "code",
      "source": [
        "df.columns"
      ],
      "metadata": {
        "colab": {
          "base_uri": "https://localhost:8080/"
        },
        "id": "rAAXYS2bX7SY",
        "outputId": "e26b2e2c-1768-4e8f-d250-05fd1bde61c7"
      },
      "execution_count": 11,
      "outputs": [
        {
          "output_type": "execute_result",
          "data": {
            "text/plain": [
              "Index(['ID Geography', 'Geography', 'ID Agency', 'Agency', 'Obligation'], dtype='object')"
            ]
          },
          "metadata": {},
          "execution_count": 11
        }
      ]
    },
    {
      "cell_type": "code",
      "source": [
        "df_obj = df.select_dtypes(include = 'object')\n",
        "df_obj.drop(columns = ['ID Geography', 'ID Agency'], inplace=True)\n",
        "df_obj_cols = list(df_obj)\n",
        "for col in df_obj_cols:\n",
        "  print(f\"col: {df_obj[col].unique()}\\n\")\n"
      ],
      "metadata": {
        "colab": {
          "base_uri": "https://localhost:8080/"
        },
        "id": "AgUzNksYrbWS",
        "outputId": "7812f60d-0912-44ff-9bdf-1c78b88b2562"
      },
      "execution_count": 12,
      "outputs": [
        {
          "output_type": "stream",
          "name": "stdout",
          "text": [
            "col: ['District of Columbia' 'Illinois' 'New York' 'Virginia' 'Arizona'\n",
            " 'California' 'Colorado' 'Delaware' 'Florida' 'Hawaii' 'Indiana'\n",
            " 'Maryland' 'Minnesota' 'Missouri' 'Montana' 'Nebraska' 'New Jersey'\n",
            " 'New Mexico' 'Ohio' 'Pennsylvania' 'Tennessee' 'Texas' 'Utah'\n",
            " 'Washington' 'Wisconsin' 'Alabama' 'Georgia' 'Iowa' 'Kansas' 'Louisiana'\n",
            " 'Michigan' 'North Carolina' 'Oregon' 'Vermont' 'Connecticut' 'Idaho'\n",
            " 'Maine' 'Massachusetts' 'South Carolina' 'Alaska' 'Arkansas' 'Kentucky'\n",
            " 'Nevada' 'New Hampshire' 'Oklahoma' 'West Virginia' 'Wyoming'\n",
            " 'Mississippi' 'North Dakota' 'Rhode Island' 'South Dakota' 'Puerto Rico']\n",
            "\n",
            "col: ['Executive Office of the President'\n",
            " 'Office of the National Drug Control Policy' 'Peace Corps'\n",
            " 'United States Trade and Development Agency'\n",
            " 'Office of Inspector General' 'Office of the Chief Financial Officer'\n",
            " 'Forest Service' 'Natural Resources Conservation Service'\n",
            " 'Farm Service Agency' 'Foreign Agricultural Service'\n",
            " 'Risk Management Agency' 'Rural Utilities Service'\n",
            " 'Rural Housing Service' 'Rural Business Cooperative Service'\n",
            " 'Food and Nutrition Service' 'Food Safety and Inspection Service'\n",
            " 'Agricultural Research Service'\n",
            " 'National Institute of Food and Agriculture' 'Economic Research Service'\n",
            " 'National Agricultural Statistics Service'\n",
            " 'Agricultural Marketing Service'\n",
            " 'Animal and Plant Health Inspection Service' 'Office of the Secretary'\n",
            " 'U.S. Census Bureau' 'Economic Development Administration'\n",
            " 'National Oceanic and Atmospheric Administration'\n",
            " 'National Telecommunications and Information Administration'\n",
            " 'National Institute of Standards and Technology'\n",
            " 'U.S. Patent and Trademark Office' 'International Trade Administration'\n",
            " 'Minority Business Development Agency' 'Department of the Interior'\n",
            " 'Office of the Under Secretary of the Interior'\n",
            " 'Office of the Inspector General' 'Departmental Offices'\n",
            " 'Insular Affairs' 'Bureau of Land Management' 'Bureau of Reclamation'\n",
            " 'U.S. Geological Survey' 'Bureau of Ocean Energy Management'\n",
            " 'Bureau of Safety and Environmental Enforcement'\n",
            " 'Office of Surface Mining, Reclamation and Enforcement'\n",
            " 'National Park Service' 'National Biological Survey'\n",
            " 'U.S. Fish and Wildlife Service'\n",
            " 'Bureau of Indian Affairs and Bureau of Indian Education'\n",
            " 'Offices, Boards and Divisions' 'Drug Enforcement Administration'\n",
            " 'Federal Prison System / Bureau of Prisons'\n",
            " 'Federal Prison Industries / Unicor' 'U.S. Marshals Service'\n",
            " 'Federal Bureau of Investigation' 'Office of Justice Programs'\n",
            " 'ATF Acquisition and Property Management Division'\n",
            " 'Office of the Assistant Secretary for Administration and Management'\n",
            " 'Bureau of Labor Statistics' 'Employment and Training Administration'\n",
            " 'Mine Safety and Health Administration'\n",
            " 'Occupational Safety and Health Administration'\n",
            " 'Veterans Employment and Training Services'\n",
            " 'Pension Benefit Guaranty Corporation'\n",
            " \"President's Committee on Employment of the Handicapped\"\n",
            " 'Department of State'\n",
            " 'International Boundary and Water Commission: U.S.-Mexico'\n",
            " 'Inspector General' 'Bureau of the Fiscal Service'\n",
            " 'Bureau of Engraving and Printing' 'United States Mint'\n",
            " 'Office of the Comptroller of the Currency' 'Internal Revenue Service'\n",
            " 'Office of Personnel Management' 'National Credit Union Administration'\n",
            " 'Federal Communications Commission' 'Social Security Administration'\n",
            " 'Federal Trade Commission' 'Administrative Conference of the U.S.'\n",
            " 'Nuclear Regulatory Commission' 'Smithsonian Institution'\n",
            " 'National Gallery of Art' 'Commodity Futures Trading Commission'\n",
            " 'International Trade Commission'\n",
            " 'Defense Nuclear Facilities Safety Board'\n",
            " 'Department of Veterans Affairs'\n",
            " 'Assistant Secretary for Public and Intergovernmental Affairs'\n",
            " 'Under Secretary for Health/Veterans Health Administration'\n",
            " 'Directory/National Cemetery Administration'\n",
            " 'Under Secretary for Benefits/Veterans Benefits Administration'\n",
            " 'Federal Election Commission'\n",
            " 'Federal Mine Safety and Health Review Commission'\n",
            " 'Merit Systems Protection Board' 'National Capital Planning Commission'\n",
            " 'National Endowment for the Arts' 'National Endowment for the Humanities'\n",
            " 'National Labor Relations Board' 'National Transportation Safety Board'\n",
            " 'Occupational Safety and Health Review Commission'\n",
            " 'Equal Employment Opportunity Commission'\n",
            " 'General Services Administration' 'Office of the Administrator (ACMD)'\n",
            " 'Federal Acquisition Service' 'Public Buildings Service'\n",
            " 'Office of Administrative Services' 'Technology Transformation Service'\n",
            " 'Gulf Coast Ecosystem Restoration Council'\n",
            " 'The Institue of Museum and Library Services'\n",
            " 'Corporation for National and Community Service'\n",
            " 'National Science Foundation' 'Securities and Exchange Commission'\n",
            " 'United States Chemical Safety Board'\n",
            " 'Court Services and Offender Supervision Agency'\n",
            " 'Pretrial Services Agency' 'Denali Commission'\n",
            " 'Broadcasting Board of Governors' 'Delta Regional Authority'\n",
            " 'Millennium Challenge Corporation' 'Election Assistance Commission'\n",
            " 'Federal Housing Finance Agency' 'Federal Labor Relations Authority'\n",
            " 'The Council of the Inspectors General on Integrity and Efficiency'\n",
            " 'Consumer Financial Protection Bureau' 'Railroad Retirement Board'\n",
            " 'Consumer Product Safety Commission' 'Federal Maritime Commission'\n",
            " 'Environmental Protection Agency'\n",
            " 'Immediate Office of the Secretary of Transportation'\n",
            " 'Federal Aviation Administration' 'Federal Highway Administration'\n",
            " 'Federal Railroad Administration' 'Maritime Administration'\n",
            " 'National Highway Traffic Safety Administration'\n",
            " 'Saint Lawrence Seaway Development Corporation'\n",
            " 'Federal Motor Carrier Safety Administration'\n",
            " 'Federal Transit Administration'\n",
            " 'Pipeline and Hazardous Materials Safety Administration'\n",
            " 'Department of Homeland Security' 'Office of Procurement Operations'\n",
            " 'U.S. Citizenship and Immigration Services' 'U.S. Coast Guard'\n",
            " 'U.S. Secret Service' 'U.S. Immigration and Customs Enforcement'\n",
            " 'Transportation Security Administration'\n",
            " 'U.S. Customs and Border Protection'\n",
            " 'Federal Law Enforcement Training Center'\n",
            " 'Federal Emergency Management Agency'\n",
            " 'Immediate Office of the Under Secretary for Management'\n",
            " 'Overseas Private Investment Corporation'\n",
            " 'Agency for International Development' 'Small Business Administration'\n",
            " 'Office of Assistant Secretary for Preparedness and Response'\n",
            " 'Office of Assistant Secretary for Planning and Evaluation'\n",
            " 'Office of Assistant Secretary for Health'\n",
            " 'Substance Abuse and Mental Health Services Administration'\n",
            " 'Centers for Disease Control and Prevention'\n",
            " 'Food and Drug Administration'\n",
            " 'Health Resources and Services Administration' 'Indian Health Service'\n",
            " 'Agency for Healthcare Research and Quality'\n",
            " 'National Institutes of Health'\n",
            " 'Centers for Medicare and Medicaid Services' 'Administration on Aging'\n",
            " 'Office of the Assistant Secretary for Administration (ASA)'\n",
            " 'Office of the National Coordinator for Health Information Technology (ONC)'\n",
            " 'Administration for Children and Families'\n",
            " 'National Aeronautics and Space Administration'\n",
            " 'Export-Import Bank of the United States'\n",
            " 'Department of Housing and Urban Development'\n",
            " 'Assistant Secretary for Fair Housing and Equal Opportunity'\n",
            " 'Assistant Secretary for Community Planning and Development'\n",
            " 'Assistant Secretary for Housing--Federal Housing Commissioner'\n",
            " 'Assistant Secretary for Public and Indian Housing'\n",
            " 'Assistant Secretary for Policy Development and Research'\n",
            " 'Office of Lead Hazard Control and Healthy Homes'\n",
            " 'National Archives and Records Administration'\n",
            " 'National Historical Publications and Records Commission'\n",
            " 'Department of Energy'\n",
            " 'Assistant Secretary for Conservation and Renewable Energy'\n",
            " 'Assistant Secretary for Fossil Energy'\n",
            " 'Federal Energy Regulatory Commission' 'Selective Service System'\n",
            " 'Department of Education' 'Federal Mediation and Conciliation Service'\n",
            " 'Department of the Navy' 'Department of the Army'\n",
            " 'Department of the Air Force' 'Defense Human Resources Activity'\n",
            " 'Defense Threat Reduction Agency (DTRA)'\n",
            " 'Defense Contract Management Agency (DCMA)'\n",
            " 'Defense Microelectronics Activity (DMEA)' 'USTRANSCOM'\n",
            " 'Defense Advanced Research Projects Agency (DARPA)'\n",
            " 'Defense Information Systems Agency (DISA)' 'Defense Logistics Agency'\n",
            " 'Defense Security Cooperation Agency' 'Defense Security Service'\n",
            " 'Defense Commissary Agency (DECA)'\n",
            " 'Defense Finance and Accounting Service (DFAS)'\n",
            " 'Defense Health Agency (DHA)' 'Defense Intelligence Agency'\n",
            " 'Defense Media Activity (DMA)'\n",
            " 'Department of Defense Education Activity (DODEA)'\n",
            " 'Washington Headquarters Services (WHS)'\n",
            " 'Uniformed Services University of the Health Sciences (USUHS)'\n",
            " 'Missile Defense Agency (MDA)'\n",
            " 'U.S. Special Operations Command (USSOCOM)']\n",
            "\n"
          ]
        },
        {
          "output_type": "stream",
          "name": "stderr",
          "text": [
            "/usr/local/lib/python3.7/dist-packages/pandas/core/frame.py:4913: SettingWithCopyWarning: \n",
            "A value is trying to be set on a copy of a slice from a DataFrame\n",
            "\n",
            "See the caveats in the documentation: https://pandas.pydata.org/pandas-docs/stable/user_guide/indexing.html#returning-a-view-versus-a-copy\n",
            "  errors=errors,\n"
          ]
        }
      ]
    },
    {
      "cell_type": "code",
      "source": [
        "df.columns"
      ],
      "metadata": {
        "colab": {
          "base_uri": "https://localhost:8080/"
        },
        "id": "ABr44bHEsDeE",
        "outputId": "4aa4eb6b-4f98-4379-cc56-4d4fa13b305d"
      },
      "execution_count": 13,
      "outputs": [
        {
          "output_type": "execute_result",
          "data": {
            "text/plain": [
              "Index(['ID Geography', 'Geography', 'ID Agency', 'Agency', 'Obligation'], dtype='object')"
            ]
          },
          "metadata": {},
          "execution_count": 13
        }
      ]
    },
    {
      "cell_type": "code",
      "source": [
        "df.drop(columns = ['ID Geography', 'ID Agency'], inplace=True)"
      ],
      "metadata": {
        "id": "VQgfI-Qj5FsG"
      },
      "execution_count": 14,
      "outputs": []
    },
    {
      "cell_type": "code",
      "source": [
        "df.columns"
      ],
      "metadata": {
        "colab": {
          "base_uri": "https://localhost:8080/"
        },
        "id": "DdDFpThmsYdb",
        "outputId": "727b9534-cc14-468a-8b92-84b817c98dc5"
      },
      "execution_count": 15,
      "outputs": [
        {
          "output_type": "execute_result",
          "data": {
            "text/plain": [
              "Index(['Geography', 'Agency', 'Obligation'], dtype='object')"
            ]
          },
          "metadata": {},
          "execution_count": 15
        }
      ]
    },
    {
      "cell_type": "code",
      "source": [
        "#Check for missing data...it's never easy.\n",
        "print('Missing data:\\n', df.isna().sum())\n",
        "print('\\n')\n"
      ],
      "metadata": {
        "colab": {
          "base_uri": "https://localhost:8080/"
        },
        "id": "bZ8yDcRTQjwW",
        "outputId": "41558edc-ad41-4f16-ce12-85bc25b5353d"
      },
      "execution_count": 16,
      "outputs": [
        {
          "output_type": "stream",
          "name": "stdout",
          "text": [
            "Missing data:\n",
            " Geography     0\n",
            "Agency        0\n",
            "Obligation    0\n",
            "dtype: int64\n",
            "\n",
            "\n"
          ]
        }
      ]
    },
    {
      "cell_type": "code",
      "source": [
        "\n",
        "df = df.drop_duplicates()\n",
        "df.duplicated().sum()"
      ],
      "metadata": {
        "colab": {
          "base_uri": "https://localhost:8080/"
        },
        "id": "ahQHhexlphTp",
        "outputId": "38f497fa-b5f4-4519-8efe-7815f2bc0529"
      },
      "execution_count": 17,
      "outputs": [
        {
          "output_type": "execute_result",
          "data": {
            "text/plain": [
              "0"
            ]
          },
          "metadata": {},
          "execution_count": 17
        }
      ]
    },
    {
      "cell_type": "code",
      "source": [
        "df['Obligation'].value_counts().isna()"
      ],
      "metadata": {
        "colab": {
          "base_uri": "https://localhost:8080/"
        },
        "id": "DWa2SdFmyPwi",
        "outputId": "52fe0a45-65e9-4db2-abea-47f463a4ce81"
      },
      "execution_count": 18,
      "outputs": [
        {
          "output_type": "execute_result",
          "data": {
            "text/plain": [
              "0.000000e+00    False\n",
              "2.500000e+05    False\n",
              "6.000000e+03    False\n",
              "1.500000e+04    False\n",
              "1.000000e+04    False\n",
              "                ...  \n",
              "2.243315e+06    False\n",
              "1.048246e+08    False\n",
              "2.774887e+04    False\n",
              "8.454839e+05    False\n",
              "2.071022e+05    False\n",
              "Name: Obligation, Length: 6321, dtype: bool"
            ]
          },
          "metadata": {},
          "execution_count": 18
        }
      ]
    },
    {
      "cell_type": "code",
      "source": [
        "df.info()"
      ],
      "metadata": {
        "colab": {
          "base_uri": "https://localhost:8080/"
        },
        "id": "7t_rXjPxrP_n",
        "outputId": "35602327-9629-4c21-ec86-e0fe00b53ae9"
      },
      "execution_count": 19,
      "outputs": [
        {
          "output_type": "stream",
          "name": "stdout",
          "text": [
            "<class 'pandas.core.frame.DataFrame'>\n",
            "Int64Index: 6557 entries, 0 to 6556\n",
            "Data columns (total 3 columns):\n",
            " #   Column      Non-Null Count  Dtype  \n",
            "---  ------      --------------  -----  \n",
            " 0   Geography   6557 non-null   object \n",
            " 1   Agency      6557 non-null   object \n",
            " 2   Obligation  6557 non-null   float64\n",
            "dtypes: float64(1), object(2)\n",
            "memory usage: 204.9+ KB\n"
          ]
        }
      ]
    },
    {
      "cell_type": "code",
      "source": [
        "df.dtypes"
      ],
      "metadata": {
        "colab": {
          "base_uri": "https://localhost:8080/"
        },
        "id": "lBCck2giB8vY",
        "outputId": "fa028264-cffa-4ef5-bef0-d2d24ea96c99"
      },
      "execution_count": 20,
      "outputs": [
        {
          "output_type": "execute_result",
          "data": {
            "text/plain": [
              "Geography      object\n",
              "Agency         object\n",
              "Obligation    float64\n",
              "dtype: object"
            ]
          },
          "metadata": {},
          "execution_count": 20
        }
      ]
    },
    {
      "cell_type": "code",
      "source": [
        "# Change number of bins\n",
        "df['Obligation'].hist(bins = 30)\n",
        "plt.xlabel('Annual Funding', fontsize = 20);\n",
        "plt.xticks(rotation = 45)\n",
        "plt.ylabel('Agency Count', fontsize = 20);\n",
        "plt.ticklabel_format(useOffset=False, style='plain')"
      ],
      "metadata": {
        "colab": {
          "base_uri": "https://localhost:8080/",
          "height": 339
        },
        "id": "PQZshpDRxoRy",
        "outputId": "9788a75a-7d8d-4ead-ca73-b8fe970d72a1"
      },
      "execution_count": 21,
      "outputs": [
        {
          "output_type": "display_data",
          "data": {
            "text/plain": [
              "<Figure size 432x288 with 1 Axes>"
            ],
            "image/png": "[encoded data removed]"
          },
          "metadata": {
            "needs_background": "light"
          }
        }
      ]
    },
    {
      "cell_type": "code",
      "source": [
        "# Adding seaborn style \n",
        "plt.style.use('seaborn')\n",
        "fund_filter = df.loc[:, 'Obligation'] <= 300000000\n",
        "df.loc[fund_filter, 'Obligation'].hist(bins = 30,\n",
        "                                   edgecolor='black')\n",
        "plt.xlabel('Annual Funding', fontsize = 20);\n",
        "plt.xticks(rotation = 45)\n",
        "plt.ylabel('Agency Count', fontsize = 20);\n",
        "plt.ticklabel_format(useOffset=False, style='plain')"
      ],
      "metadata": {
        "colab": {
          "base_uri": "https://localhost:8080/",
          "height": 403
        },
        "id": "MV4ziQrZRTY4",
        "outputId": "58690c99-8194-4c78-8a09-fcf0464c9452"
      },
      "execution_count": 22,
      "outputs": [
        {
          "output_type": "display_data",
          "data": {
            "text/plain": [
              "<Figure size 576x396 with 1 Axes>"
            ],
            "image/png": "[encoded data removed]"
          },
          "metadata": {}
        }
      ]
    },
    {
      "cell_type": "code",
      "source": [
        "# Adding seaborn style \n",
        "plt.style.use('seaborn')\n",
        "fund_filter = df.loc[:, 'Obligation'] <= 100000000\n",
        "df.loc[fund_filter, 'Obligation'].hist(bins = 30,\n",
        "                                   edgecolor='black')\n",
        "plt.xlabel('Annual Funding', fontsize = 20);\n",
        "plt.xticks(rotation = 45)\n",
        "plt.ylabel('Agency Count', fontsize = 20);\n",
        "plt.ticklabel_format(useOffset=False, style='plain')"
      ],
      "metadata": {
        "id": "dLtZ8LfjRTWv",
        "colab": {
          "base_uri": "https://localhost:8080/",
          "height": 403
        },
        "outputId": "e35e774e-cb9e-49bd-ea95-84fec127ce8b"
      },
      "execution_count": 23,
      "outputs": [
        {
          "output_type": "display_data",
          "data": {
            "text/plain": [
              "<Figure size 576x396 with 1 Axes>"
            ],
            "image/png": "[encoded data removed]"
          },
          "metadata": {}
        }
      ]
    },
    {
      "cell_type": "code",
      "source": [
        "# Adding seaborn style \n",
        "plt.style.use('seaborn')\n",
        "fund_filter = df.loc[:, 'Obligation'] >= 100000000\n",
        "df.loc[fund_filter, 'Obligation'].hist(bins = 30,\n",
        "                                   edgecolor='black')\n",
        "plt.xlabel('Annual Funding', fontsize = 20);\n",
        "plt.xticks(rotation = 45)\n",
        "plt.ylabel('Agency Count', fontsize = 20);\n",
        "plt.ticklabel_format(useOffset=False, style='plain')"
      ],
      "metadata": {
        "id": "V3O9IDroRTUW",
        "colab": {
          "base_uri": "https://localhost:8080/",
          "height": 415
        },
        "outputId": "8e9f1c73-e553-491b-98bd-429c9d99bdc6"
      },
      "execution_count": 24,
      "outputs": [
        {
          "output_type": "display_data",
          "data": {
            "text/plain": [
              "<Figure size 576x396 with 1 Axes>"
            ],
            "image/png": "[encoded data removed]"
          },
          "metadata": {}
        }
      ]
    },
    {
      "cell_type": "code",
      "source": [
        "fundFilter = df['Obligation'] >= 0\n",
        "#numpy set_printoptions(suppress=True)\n",
        "top20Agency = df.loc[fundFilter, :].groupby(['Agency'])['Obligation'].mean().sort_values(ascending = False).head(20)\n",
        "\n",
        "print(top20Agency)"
      ],
      "metadata": {
        "colab": {
          "base_uri": "https://localhost:8080/"
        },
        "id": "k1ceXftK7DkV",
        "outputId": "af4194d0-6add-48eb-a47b-b0bc803ef59f"
      },
      "execution_count": 25,
      "outputs": [
        {
          "output_type": "stream",
          "name": "stdout",
          "text": [
            "Agency\n",
            "Centers for Medicare and Medicaid Services                       1.432637e+10\n",
            "Social Security Administration                                   1.166063e+10\n",
            "Department of the Navy                                           1.812652e+09\n",
            "Under Secretary for Benefits/Veterans Benefits Administration    1.488336e+09\n",
            "Department of the Army                                           1.205472e+09\n",
            "Department of the Air Force                                      1.014656e+09\n",
            "Under Secretary for Health/Veterans Health Administration        9.708373e+08\n",
            "Department of Education                                          7.603765e+08\n",
            "Federal Highway Administration                                   7.150690e+08\n",
            "Department of Energy                                             5.502641e+08\n",
            "Defense Logistics Agency                                         5.240991e+08\n",
            "National Institutes of Health                                    5.114165e+08\n",
            "Department of Veterans Affairs                                   4.762940e+08\n",
            "Assistant Secretary for Public and Indian Housing                4.167235e+08\n",
            "Defense Health Agency (DHA)                                      3.239447e+08\n",
            "Federal Emergency Management Agency                              2.615122e+08\n",
            "Assistant Secretary for Community Planning and Development       2.377802e+08\n",
            "National Aeronautics and Space Administration                    2.305963e+08\n",
            "Assistant Secretary for Housing--Federal Housing Commissioner    1.821354e+08\n",
            "Railroad Retirement Board                                        1.798832e+08\n",
            "Name: Obligation, dtype: float64\n"
          ]
        }
      ]
    },
    {
      "cell_type": "code",
      "source": [
        "#Set your target and data sets\n",
        "\n",
        "#Set Target\n",
        "y = df['Obligation']\n",
        "\n",
        "#Remove target from dataset\n",
        "X = df.drop(columns = 'Obligation')"
      ],
      "metadata": {
        "id": "A5sd3ejOyE9s"
      },
      "execution_count": 26,
      "outputs": []
    },
    {
      "cell_type": "code",
      "source": [
        "#Train Test Split\n",
        "X_train, X_test, y_train, y_test = train_test_split(X, y, random_state=42)"
      ],
      "metadata": {
        "id": "UmMAK85FyJdX"
      },
      "execution_count": 27,
      "outputs": []
    },
    {
      "cell_type": "code",
      "source": [
        "# Instantiate the categorical and numeric column selectors to select appropriate columns\n",
        "cat_selector = make_column_selector(dtype_include='object')\n",
        "num_selector = make_column_selector(dtype_include='number')\n",
        "\n",
        "# Instantiate the Standard Scaler and the One hot encoder\n",
        "scaler = StandardScaler()\n",
        "ohe = OneHotEncoder(handle_unknown='ignore', sparse=False)"
      ],
      "metadata": {
        "id": "nJdbhNa4yNqp"
      },
      "execution_count": 28,
      "outputs": []
    },
    {
      "cell_type": "code",
      "source": [
        "# Numeric pipeline\n",
        "numeric_pipe = make_pipeline(scaler)\n",
        "numeric_pipe"
      ],
      "metadata": {
        "colab": {
          "base_uri": "https://localhost:8080/",
          "height": 92
        },
        "id": "nymxFXNC6Myo",
        "outputId": "d7d65294-7ff8-49c3-8bce-9a7d7604ca94"
      },
      "execution_count": 29,
      "outputs": [
        {
          "output_type": "execute_result",
          "data": {
            "text/plain": [
              "Pipeline(steps=[('standardscaler', StandardScaler())])"
            ],
            "text/html": [
              "<style>#sk-5bf6db44-efe9-40c8-9f05-e0afb1aff50e {color: black;background-color: white;}#sk-5bf6db44-efe9-40c8-9f05-e0afb1aff50e pre{padding: 0;}#sk-5bf6db44-efe9-40c8-9f05-e0afb1aff50e div.sk-toggleable {background-color: white;}#sk-5bf6db44-efe9-40c8-9f05-e0afb1aff50e label.sk-toggleable__label {cursor: pointer;display: block;width: 100%;margin-bottom: 0;padding: 0.3em;box-sizing: border-box;text-align: center;}#sk-5bf6db44-efe9-40c8-9f05-e0afb1aff50e label.sk-toggleable__label-arrow:before {content: \"▸\";float: left;margin-right: 0.25em;color: #696969;}#sk-5bf6db44-efe9-40c8-9f05-e0afb1aff50e label.sk-toggleable__label-arrow:hover:before {color: black;}#sk-5bf6db44-efe9-40c8-9f05-e0afb1aff50e div.sk-estimator:hover label.sk-toggleable__label-arrow:before {color: black;}#sk-5bf6db44-efe9-40c8-9f05-e0afb1aff50e div.sk-toggleable__content {max-height: 0;max-width: 0;overflow: hidden;text-align: left;background-color: #f0f8ff;}#sk-5bf6db44-efe9-40c8-9f05-e0afb1aff50e div.sk-toggleable__content pre {margin: 0.2em;color: black;border-radius: 0.25em;background-color: #f0f8ff;}#sk-5bf6db44-efe9-40c8-9f05-e0afb1aff50e input.sk-toggleable__control:checked~div.sk-toggleable__content {max-height: 200px;max-width: 100%;overflow: auto;}#sk-5bf6db44-efe9-40c8-9f05-e0afb1aff50e input.sk-toggleable__control:checked~label.sk-toggleable__label-arrow:before {content: \"▾\";}#sk-5bf6db44-efe9-40c8-9f05-e0afb1aff50e div.sk-estimator input.sk-toggleable__control:checked~label.sk-toggleable__label {background-color: #d4ebff;}#sk-5bf6db44-efe9-40c8-9f05-e0afb1aff50e div.sk-label input.sk-toggleable__control:checked~label.sk-toggleable__label {background-color: #d4ebff;}#sk-5bf6db44-efe9-40c8-9f05-e0afb1aff50e input.sk-hidden--visually {border: 0;clip: rect(1px 1px 1px 1px);clip: rect(1px, 1px, 1px, 1px);height: 1px;margin: -1px;overflow: hidden;padding: 0;position: absolute;width: 1px;}#sk-5bf6db44-efe9-40c8-9f05-e0afb1aff50e div.sk-estimator {font-family: monospace;background-color: #f0f8ff;border: 1px dotted black;border-radius: 0.25em;box-sizing: border-box;margin-bottom: 0.5em;}#sk-5bf6db44-efe9-40c8-9f05-e0afb1aff50e div.sk-estimator:hover {background-color: #d4ebff;}#sk-5bf6db44-efe9-40c8-9f05-e0afb1aff50e div.sk-parallel-item::after {content: \"\";width: 100%;border-bottom: 1px solid gray;flex-grow: 1;}#sk-5bf6db44-efe9-40c8-9f05-e0afb1aff50e div.sk-label:hover label.sk-toggleable__label {background-color: #d4ebff;}#sk-5bf6db44-efe9-40c8-9f05-e0afb1aff50e div.sk-serial::before {content: \"\";position: absolute;border-left: 1px solid gray;box-sizing: border-box;top: 2em;bottom: 0;left: 50%;}#sk-5bf6db44-efe9-40c8-9f05-e0afb1aff50e div.sk-serial {display: flex;flex-direction: column;align-items: center;background-color: white;padding-right: 0.2em;padding-left: 0.2em;}#sk-5bf6db44-efe9-40c8-9f05-e0afb1aff50e div.sk-item {z-index: 1;}#sk-5bf6db44-efe9-40c8-9f05-e0afb1aff50e div.sk-parallel {display: flex;align-items: stretch;justify-content: center;background-color: white;}#sk-5bf6db44-efe9-40c8-9f05-e0afb1aff50e div.sk-parallel::before {content: \"\";position: absolute;border-left: 1px solid gray;box-sizing: border-box;top: 2em;bottom: 0;left: 50%;}#sk-5bf6db44-efe9-40c8-9f05-e0afb1aff50e div.sk-parallel-item {display: flex;flex-direction: column;position: relative;background-color: white;}#sk-5bf6db44-efe9-40c8-9f05-e0afb1aff50e div.sk-parallel-item:first-child::after {align-self: flex-end;width: 50%;}#sk-5bf6db44-efe9-40c8-9f05-e0afb1aff50e div.sk-parallel-item:last-child::after {align-self: flex-start;width: 50%;}#sk-5bf6db44-efe9-40c8-9f05-e0afb1aff50e div.sk-parallel-item:only-child::after {width: 0;}#sk-5bf6db44-efe9-40c8-9f05-e0afb1aff50e div.sk-dashed-wrapped {border: 1px dashed gray;margin: 0 0.4em 0.5em 0.4em;box-sizing: border-box;padding-bottom: 0.4em;background-color: white;position: relative;}#sk-5bf6db44-efe9-40c8-9f05-e0afb1aff50e div.sk-label label {font-family: monospace;font-weight: bold;background-color: white;display: inline-block;line-height: 1.2em;}#sk-5bf6db44-efe9-40c8-9f05-e0afb1aff50e div.sk-label-container {position: relative;z-index: 2;text-align: center;}#sk-5bf6db44-efe9-40c8-9f05-e0afb1aff50e div.sk-container {/* jupyter's `normalize.less` sets `[hidden] { display: none; }` but bootstrap.min.css set `[hidden] { display: none !important; }` so we also need the `!important` here to be able to override the default hidden behavior on the sphinx rendered scikit-learn.org. See: https://github.com/scikit-learn/scikit-learn/issues/21755 */display: inline-block !important;position: relative;}#sk-5bf6db44-efe9-40c8-9f05-e0afb1aff50e div.sk-text-repr-fallback {display: none;}</style><div id=\"sk-5bf6db44-efe9-40c8-9f05-e0afb1aff50e\" class=\"sk-top-container\"><div class=\"sk-text-repr-fallback\"><pre>Pipeline(steps=[(&#x27;standardscaler&#x27;, StandardScaler())])</pre><b>Please rerun this cell to show the HTML repr or trust the notebook.</b></div><div class=\"sk-container\" hidden><div class=\"sk-item sk-dashed-wrapped\"><div class=\"sk-label-container\"><div class=\"sk-label sk-toggleable\"><input class=\"sk-toggleable__control sk-hidden--visually\" id=\"946b6f35-25fc-41fd-ab3b-44cd6a179b8a\" type=\"checkbox\" ><label for=\"946b6f35-25fc-41fd-ab3b-44cd6a179b8a\" class=\"sk-toggleable__label sk-toggleable__label-arrow\">Pipeline</label><div class=\"sk-toggleable__content\"><pre>Pipeline(steps=[(&#x27;standardscaler&#x27;, StandardScaler())])</pre></div></div></div><div class=\"sk-serial\"><div class=\"sk-item\"><div class=\"sk-estimator sk-toggleable\"><input class=\"sk-toggleable__control sk-hidden--visually\" id=\"5d808492-c860-4f0a-8f90-d5ef635f012a\" type=\"checkbox\" ><label for=\"5d808492-c860-4f0a-8f90-d5ef635f012a\" class=\"sk-toggleable__label sk-toggleable__label-arrow\">StandardScaler</label><div class=\"sk-toggleable__content\"><pre>StandardScaler()</pre></div></div></div></div></div></div></div>"
            ]
          },
          "metadata": {},
          "execution_count": 29
        }
      ]
    },
    {
      "cell_type": "code",
      "source": [
        "# Categorical pipeline\n",
        "categorical_pipe = make_pipeline(ohe)\n",
        "categorical_pipe"
      ],
      "metadata": {
        "colab": {
          "base_uri": "https://localhost:8080/",
          "height": 92
        },
        "id": "E_zCSeEk6QI8",
        "outputId": "50fffa7b-3f95-46b1-ba10-ff54682041c1"
      },
      "execution_count": 30,
      "outputs": [
        {
          "output_type": "execute_result",
          "data": {
            "text/plain": [
              "Pipeline(steps=[('onehotencoder',\n",
              "                 OneHotEncoder(handle_unknown='ignore', sparse=False))])"
            ],
            "text/html": [
              "<style>#sk-31c36314-a747-46ef-9558-4a64d25c86b0 {color: black;background-color: white;}#sk-31c36314-a747-46ef-9558-4a64d25c86b0 pre{padding: 0;}#sk-31c36314-a747-46ef-9558-4a64d25c86b0 div.sk-toggleable {background-color: white;}#sk-31c36314-a747-46ef-9558-4a64d25c86b0 label.sk-toggleable__label {cursor: pointer;display: block;width: 100%;margin-bottom: 0;padding: 0.3em;box-sizing: border-box;text-align: center;}#sk-31c36314-a747-46ef-9558-4a64d25c86b0 label.sk-toggleable__label-arrow:before {content: \"▸\";float: left;margin-right: 0.25em;color: #696969;}#sk-31c36314-a747-46ef-9558-4a64d25c86b0 label.sk-toggleable__label-arrow:hover:before {color: black;}#sk-31c36314-a747-46ef-9558-4a64d25c86b0 div.sk-estimator:hover label.sk-toggleable__label-arrow:before {color: black;}#sk-31c36314-a747-46ef-9558-4a64d25c86b0 div.sk-toggleable__content {max-height: 0;max-width: 0;overflow: hidden;text-align: left;background-color: #f0f8ff;}#sk-31c36314-a747-46ef-9558-4a64d25c86b0 div.sk-toggleable__content pre {margin: 0.2em;color: black;border-radius: 0.25em;background-color: #f0f8ff;}#sk-31c36314-a747-46ef-9558-4a64d25c86b0 input.sk-toggleable__control:checked~div.sk-toggleable__content {max-height: 200px;max-width: 100%;overflow: auto;}#sk-31c36314-a747-46ef-9558-4a64d25c86b0 input.sk-toggleable__control:checked~label.sk-toggleable__label-arrow:before {content: \"▾\";}#sk-31c36314-a747-46ef-9558-4a64d25c86b0 div.sk-estimator input.sk-toggleable__control:checked~label.sk-toggleable__label {background-color: #d4ebff;}#sk-31c36314-a747-46ef-9558-4a64d25c86b0 div.sk-label input.sk-toggleable__control:checked~label.sk-toggleable__label {background-color: #d4ebff;}#sk-31c36314-a747-46ef-9558-4a64d25c86b0 input.sk-hidden--visually {border: 0;clip: rect(1px 1px 1px 1px);clip: rect(1px, 1px, 1px, 1px);height: 1px;margin: -1px;overflow: hidden;padding: 0;position: absolute;width: 1px;}#sk-31c36314-a747-46ef-9558-4a64d25c86b0 div.sk-estimator {font-family: monospace;background-color: #f0f8ff;border: 1px dotted black;border-radius: 0.25em;box-sizing: border-box;margin-bottom: 0.5em;}#sk-31c36314-a747-46ef-9558-4a64d25c86b0 div.sk-estimator:hover {background-color: #d4ebff;}#sk-31c36314-a747-46ef-9558-4a64d25c86b0 div.sk-parallel-item::after {content: \"\";width: 100%;border-bottom: 1px solid gray;flex-grow: 1;}#sk-31c36314-a747-46ef-9558-4a64d25c86b0 div.sk-label:hover label.sk-toggleable__label {background-color: #d4ebff;}#sk-31c36314-a747-46ef-9558-4a64d25c86b0 div.sk-serial::before {content: \"\";position: absolute;border-left: 1px solid gray;box-sizing: border-box;top: 2em;bottom: 0;left: 50%;}#sk-31c36314-a747-46ef-9558-4a64d25c86b0 div.sk-serial {display: flex;flex-direction: column;align-items: center;background-color: white;padding-right: 0.2em;padding-left: 0.2em;}#sk-31c36314-a747-46ef-9558-4a64d25c86b0 div.sk-item {z-index: 1;}#sk-31c36314-a747-46ef-9558-4a64d25c86b0 div.sk-parallel {display: flex;align-items: stretch;justify-content: center;background-color: white;}#sk-31c36314-a747-46ef-9558-4a64d25c86b0 div.sk-parallel::before {content: \"\";position: absolute;border-left: 1px solid gray;box-sizing: border-box;top: 2em;bottom: 0;left: 50%;}#sk-31c36314-a747-46ef-9558-4a64d25c86b0 div.sk-parallel-item {display: flex;flex-direction: column;position: relative;background-color: white;}#sk-31c36314-a747-46ef-9558-4a64d25c86b0 div.sk-parallel-item:first-child::after {align-self: flex-end;width: 50%;}#sk-31c36314-a747-46ef-9558-4a64d25c86b0 div.sk-parallel-item:last-child::after {align-self: flex-start;width: 50%;}#sk-31c36314-a747-46ef-9558-4a64d25c86b0 div.sk-parallel-item:only-child::after {width: 0;}#sk-31c36314-a747-46ef-9558-4a64d25c86b0 div.sk-dashed-wrapped {border: 1px dashed gray;margin: 0 0.4em 0.5em 0.4em;box-sizing: border-box;padding-bottom: 0.4em;background-color: white;position: relative;}#sk-31c36314-a747-46ef-9558-4a64d25c86b0 div.sk-label label {font-family: monospace;font-weight: bold;background-color: white;display: inline-block;line-height: 1.2em;}#sk-31c36314-a747-46ef-9558-4a64d25c86b0 div.sk-label-container {position: relative;z-index: 2;text-align: center;}#sk-31c36314-a747-46ef-9558-4a64d25c86b0 div.sk-container {/* jupyter's `normalize.less` sets `[hidden] { display: none; }` but bootstrap.min.css set `[hidden] { display: none !important; }` so we also need the `!important` here to be able to override the default hidden behavior on the sphinx rendered scikit-learn.org. See: https://github.com/scikit-learn/scikit-learn/issues/21755 */display: inline-block !important;position: relative;}#sk-31c36314-a747-46ef-9558-4a64d25c86b0 div.sk-text-repr-fallback {display: none;}</style><div id=\"sk-31c36314-a747-46ef-9558-4a64d25c86b0\" class=\"sk-top-container\"><div class=\"sk-text-repr-fallback\"><pre>Pipeline(steps=[(&#x27;onehotencoder&#x27;,\n",
              "                 OneHotEncoder(handle_unknown=&#x27;ignore&#x27;, sparse=False))])</pre><b>Please rerun this cell to show the HTML repr or trust the notebook.</b></div><div class=\"sk-container\" hidden><div class=\"sk-item sk-dashed-wrapped\"><div class=\"sk-label-container\"><div class=\"sk-label sk-toggleable\"><input class=\"sk-toggleable__control sk-hidden--visually\" id=\"aa901c89-db62-4003-9c0c-a3801a3b585a\" type=\"checkbox\" ><label for=\"aa901c89-db62-4003-9c0c-a3801a3b585a\" class=\"sk-toggleable__label sk-toggleable__label-arrow\">Pipeline</label><div class=\"sk-toggleable__content\"><pre>Pipeline(steps=[(&#x27;onehotencoder&#x27;,\n",
              "                 OneHotEncoder(handle_unknown=&#x27;ignore&#x27;, sparse=False))])</pre></div></div></div><div class=\"sk-serial\"><div class=\"sk-item\"><div class=\"sk-estimator sk-toggleable\"><input class=\"sk-toggleable__control sk-hidden--visually\" id=\"c9392111-959d-4287-ae85-7ae026b95cf2\" type=\"checkbox\" ><label for=\"c9392111-959d-4287-ae85-7ae026b95cf2\" class=\"sk-toggleable__label sk-toggleable__label-arrow\">OneHotEncoder</label><div class=\"sk-toggleable__content\"><pre>OneHotEncoder(handle_unknown=&#x27;ignore&#x27;, sparse=False)</pre></div></div></div></div></div></div></div>"
            ]
          },
          "metadata": {},
          "execution_count": 30
        }
      ]
    },
    {
      "cell_type": "code",
      "source": [
        "# Make tuples for preprocessing the categorical and numeric columns\n",
        "num_tuple = (numeric_pipe, num_selector)\n",
        "cat_tuple = (categorical_pipe, cat_selector)\n",
        "# ColumnTransformer\n",
        "preprocessor = make_column_transformer(num_tuple, cat_tuple)\n",
        "preprocessor"
      ],
      "metadata": {
        "colab": {
          "base_uri": "https://localhost:8080/",
          "height": 118
        },
        "id": "lyqaCQabyhnT",
        "outputId": "446d73c1-ca50-46ae-c334-6179b5645481"
      },
      "execution_count": 31,
      "outputs": [
        {
          "output_type": "execute_result",
          "data": {
            "text/plain": [
              "ColumnTransformer(transformers=[('pipeline-1',\n",
              "                                 Pipeline(steps=[('standardscaler',\n",
              "                                                  StandardScaler())]),\n",
              "                                 <sklearn.compose._column_transformer.make_column_selector object at 0x7fb2aaa34d10>),\n",
              "                                ('pipeline-2',\n",
              "                                 Pipeline(steps=[('onehotencoder',\n",
              "                                                  OneHotEncoder(handle_unknown='ignore',\n",
              "                                                                sparse=False))]),\n",
              "                                 <sklearn.compose._column_transformer.make_column_selector object at 0x7fb2aaa34ad0>)])"
            ],
            "text/html": [
              "<style>#sk-91470ba3-ff32-4950-9380-c4b0bb798f95 {color: black;background-color: white;}#sk-91470ba3-ff32-4950-9380-c4b0bb798f95 pre{padding: 0;}#sk-91470ba3-ff32-4950-9380-c4b0bb798f95 div.sk-toggleable {background-color: white;}#sk-91470ba3-ff32-4950-9380-c4b0bb798f95 label.sk-toggleable__label {cursor: pointer;display: block;width: 100%;margin-bottom: 0;padding: 0.3em;box-sizing: border-box;text-align: center;}#sk-91470ba3-ff32-4950-9380-c4b0bb798f95 label.sk-toggleable__label-arrow:before {content: \"▸\";float: left;margin-right: 0.25em;color: #696969;}#sk-91470ba3-ff32-4950-9380-c4b0bb798f95 label.sk-toggleable__label-arrow:hover:before {color: black;}#sk-91470ba3-ff32-4950-9380-c4b0bb798f95 div.sk-estimator:hover label.sk-toggleable__label-arrow:before {color: black;}#sk-91470ba3-ff32-4950-9380-c4b0bb798f95 div.sk-toggleable__content {max-height: 0;max-width: 0;overflow: hidden;text-align: left;background-color: #f0f8ff;}#sk-91470ba3-ff32-4950-9380-c4b0bb798f95 div.sk-toggleable__content pre {margin: 0.2em;color: black;border-radius: 0.25em;background-color: #f0f8ff;}#sk-91470ba3-ff32-4950-9380-c4b0bb798f95 input.sk-toggleable__control:checked~div.sk-toggleable__content {max-height: 200px;max-width: 100%;overflow: auto;}#sk-91470ba3-ff32-4950-9380-c4b0bb798f95 input.sk-toggleable__control:checked~label.sk-toggleable__label-arrow:before {content: \"▾\";}#sk-91470ba3-ff32-4950-9380-c4b0bb798f95 div.sk-estimator input.sk-toggleable__control:checked~label.sk-toggleable__label {background-color: #d4ebff;}#sk-91470ba3-ff32-4950-9380-c4b0bb798f95 div.sk-label input.sk-toggleable__control:checked~label.sk-toggleable__label {background-color: #d4ebff;}#sk-91470ba3-ff32-4950-9380-c4b0bb798f95 input.sk-hidden--visually {border: 0;clip: rect(1px 1px 1px 1px);clip: rect(1px, 1px, 1px, 1px);height: 1px;margin: -1px;overflow: hidden;padding: 0;position: absolute;width: 1px;}#sk-91470ba3-ff32-4950-9380-c4b0bb798f95 div.sk-estimator {font-family: monospace;background-color: #f0f8ff;border: 1px dotted black;border-radius: 0.25em;box-sizing: border-box;margin-bottom: 0.5em;}#sk-91470ba3-ff32-4950-9380-c4b0bb798f95 div.sk-estimator:hover {background-color: #d4ebff;}#sk-91470ba3-ff32-4950-9380-c4b0bb798f95 div.sk-parallel-item::after {content: \"\";width: 100%;border-bottom: 1px solid gray;flex-grow: 1;}#sk-91470ba3-ff32-4950-9380-c4b0bb798f95 div.sk-label:hover label.sk-toggleable__label {background-color: #d4ebff;}#sk-91470ba3-ff32-4950-9380-c4b0bb798f95 div.sk-serial::before {content: \"\";position: absolute;border-left: 1px solid gray;box-sizing: border-box;top: 2em;bottom: 0;left: 50%;}#sk-91470ba3-ff32-4950-9380-c4b0bb798f95 div.sk-serial {display: flex;flex-direction: column;align-items: center;background-color: white;padding-right: 0.2em;padding-left: 0.2em;}#sk-91470ba3-ff32-4950-9380-c4b0bb798f95 div.sk-item {z-index: 1;}#sk-91470ba3-ff32-4950-9380-c4b0bb798f95 div.sk-parallel {display: flex;align-items: stretch;justify-content: center;background-color: white;}#sk-91470ba3-ff32-4950-9380-c4b0bb798f95 div.sk-parallel::before {content: \"\";position: absolute;border-left: 1px solid gray;box-sizing: border-box;top: 2em;bottom: 0;left: 50%;}#sk-91470ba3-ff32-4950-9380-c4b0bb798f95 div.sk-parallel-item {display: flex;flex-direction: column;position: relative;background-color: white;}#sk-91470ba3-ff32-4950-9380-c4b0bb798f95 div.sk-parallel-item:first-child::after {align-self: flex-end;width: 50%;}#sk-91470ba3-ff32-4950-9380-c4b0bb798f95 div.sk-parallel-item:last-child::after {align-self: flex-start;width: 50%;}#sk-91470ba3-ff32-4950-9380-c4b0bb798f95 div.sk-parallel-item:only-child::after {width: 0;}#sk-91470ba3-ff32-4950-9380-c4b0bb798f95 div.sk-dashed-wrapped {border: 1px dashed gray;margin: 0 0.4em 0.5em 0.4em;box-sizing: border-box;padding-bottom: 0.4em;background-color: white;position: relative;}#sk-91470ba3-ff32-4950-9380-c4b0bb798f95 div.sk-label label {font-family: monospace;font-weight: bold;background-color: white;display: inline-block;line-height: 1.2em;}#sk-91470ba3-ff32-4950-9380-c4b0bb798f95 div.sk-label-container {position: relative;z-index: 2;text-align: center;}#sk-91470ba3-ff32-4950-9380-c4b0bb798f95 div.sk-container {/* jupyter's `normalize.less` sets `[hidden] { display: none; }` but bootstrap.min.css set `[hidden] { display: none !important; }` so we also need the `!important` here to be able to override the default hidden behavior on the sphinx rendered scikit-learn.org. See: https://github.com/scikit-learn/scikit-learn/issues/21755 */display: inline-block !important;position: relative;}#sk-91470ba3-ff32-4950-9380-c4b0bb798f95 div.sk-text-repr-fallback {display: none;}</style><div id=\"sk-91470ba3-ff32-4950-9380-c4b0bb798f95\" class=\"sk-top-container\"><div class=\"sk-text-repr-fallback\"><pre>ColumnTransformer(transformers=[(&#x27;pipeline-1&#x27;,\n",
              "                                 Pipeline(steps=[(&#x27;standardscaler&#x27;,\n",
              "                                                  StandardScaler())]),\n",
              "                                 &lt;sklearn.compose._column_transformer.make_column_selector object at 0x7fb2aaa34d10&gt;),\n",
              "                                (&#x27;pipeline-2&#x27;,\n",
              "                                 Pipeline(steps=[(&#x27;onehotencoder&#x27;,\n",
              "                                                  OneHotEncoder(handle_unknown=&#x27;ignore&#x27;,\n",
              "                                                                sparse=False))]),\n",
              "                                 &lt;sklearn.compose._column_transformer.make_column_selector object at 0x7fb2aaa34ad0&gt;)])</pre><b>Please rerun this cell to show the HTML repr or trust the notebook.</b></div><div class=\"sk-container\" hidden><div class=\"sk-item sk-dashed-wrapped\"><div class=\"sk-label-container\"><div class=\"sk-label sk-toggleable\"><input class=\"sk-toggleable__control sk-hidden--visually\" id=\"96158228-0966-4ea0-a08f-e79f17e4b57b\" type=\"checkbox\" ><label for=\"96158228-0966-4ea0-a08f-e79f17e4b57b\" class=\"sk-toggleable__label sk-toggleable__label-arrow\">ColumnTransformer</label><div class=\"sk-toggleable__content\"><pre>ColumnTransformer(transformers=[(&#x27;pipeline-1&#x27;,\n",
              "                                 Pipeline(steps=[(&#x27;standardscaler&#x27;,\n",
              "                                                  StandardScaler())]),\n",
              "                                 &lt;sklearn.compose._column_transformer.make_column_selector object at 0x7fb2aaa34d10&gt;),\n",
              "                                (&#x27;pipeline-2&#x27;,\n",
              "                                 Pipeline(steps=[(&#x27;onehotencoder&#x27;,\n",
              "                                                  OneHotEncoder(handle_unknown=&#x27;ignore&#x27;,\n",
              "                                                                sparse=False))]),\n",
              "                                 &lt;sklearn.compose._column_transformer.make_column_selector object at 0x7fb2aaa34ad0&gt;)])</pre></div></div></div><div class=\"sk-parallel\"><div class=\"sk-parallel-item\"><div class=\"sk-item\"><div class=\"sk-label-container\"><div class=\"sk-label sk-toggleable\"><input class=\"sk-toggleable__control sk-hidden--visually\" id=\"f517f2a7-b2c2-466e-8b52-8609c369c4de\" type=\"checkbox\" ><label for=\"f517f2a7-b2c2-466e-8b52-8609c369c4de\" class=\"sk-toggleable__label sk-toggleable__label-arrow\">pipeline-1</label><div class=\"sk-toggleable__content\"><pre>&lt;sklearn.compose._column_transformer.make_column_selector object at 0x7fb2aaa34d10&gt;</pre></div></div></div><div class=\"sk-serial\"><div class=\"sk-item\"><div class=\"sk-serial\"><div class=\"sk-item\"><div class=\"sk-estimator sk-toggleable\"><input class=\"sk-toggleable__control sk-hidden--visually\" id=\"f83dd350-df6d-4c4b-9030-05de3986fce5\" type=\"checkbox\" ><label for=\"f83dd350-df6d-4c4b-9030-05de3986fce5\" class=\"sk-toggleable__label sk-toggleable__label-arrow\">StandardScaler</label><div class=\"sk-toggleable__content\"><pre>StandardScaler()</pre></div></div></div></div></div></div></div></div><div class=\"sk-parallel-item\"><div class=\"sk-item\"><div class=\"sk-label-container\"><div class=\"sk-label sk-toggleable\"><input class=\"sk-toggleable__control sk-hidden--visually\" id=\"fba93f07-3e82-4af6-b6cb-e40290d336d7\" type=\"checkbox\" ><label for=\"fba93f07-3e82-4af6-b6cb-e40290d336d7\" class=\"sk-toggleable__label sk-toggleable__label-arrow\">pipeline-2</label><div class=\"sk-toggleable__content\"><pre>&lt;sklearn.compose._column_transformer.make_column_selector object at 0x7fb2aaa34ad0&gt;</pre></div></div></div><div class=\"sk-serial\"><div class=\"sk-item\"><div class=\"sk-serial\"><div class=\"sk-item\"><div class=\"sk-estimator sk-toggleable\"><input class=\"sk-toggleable__control sk-hidden--visually\" id=\"48d7cdea-5b9c-47f2-ae1b-9a2ddf797f0f\" type=\"checkbox\" ><label for=\"48d7cdea-5b9c-47f2-ae1b-9a2ddf797f0f\" class=\"sk-toggleable__label sk-toggleable__label-arrow\">OneHotEncoder</label><div class=\"sk-toggleable__content\"><pre>OneHotEncoder(handle_unknown=&#x27;ignore&#x27;, sparse=False)</pre></div></div></div></div></div></div></div></div></div></div></div></div>"
            ]
          },
          "metadata": {},
          "execution_count": 31
        }
      ]
    },
    {
      "cell_type": "code",
      "source": [
        "#Instantiate and utilize column transformer\n",
        "col_transformer = make_column_transformer(num_tuple, cat_tuple, remainder = 'passthrough')"
      ],
      "metadata": {
        "id": "aMQsjJajylke"
      },
      "execution_count": 32,
      "outputs": []
    },
    {
      "cell_type": "code",
      "source": [
        "preprocessor.fit(X_train, y_train)"
      ],
      "metadata": {
        "colab": {
          "base_uri": "https://localhost:8080/",
          "height": 118
        },
        "id": "-voA2Rvi00UK",
        "outputId": "b1423a0b-368e-43b6-86ff-c278f9e8e634"
      },
      "execution_count": 33,
      "outputs": [
        {
          "output_type": "execute_result",
          "data": {
            "text/plain": [
              "ColumnTransformer(transformers=[('pipeline-1',\n",
              "                                 Pipeline(steps=[('standardscaler',\n",
              "                                                  StandardScaler())]),\n",
              "                                 <sklearn.compose._column_transformer.make_column_selector object at 0x7fb2aaa34d10>),\n",
              "                                ('pipeline-2',\n",
              "                                 Pipeline(steps=[('onehotencoder',\n",
              "                                                  OneHotEncoder(handle_unknown='ignore',\n",
              "                                                                sparse=False))]),\n",
              "                                 <sklearn.compose._column_transformer.make_column_selector object at 0x7fb2aaa34ad0>)])"
            ],
            "text/html": [
              "<style>#sk-734fd48f-2fd6-47da-bebe-08702d99fb6a {color: black;background-color: white;}#sk-734fd48f-2fd6-47da-bebe-08702d99fb6a pre{padding: 0;}#sk-734fd48f-2fd6-47da-bebe-08702d99fb6a div.sk-toggleable {background-color: white;}#sk-734fd48f-2fd6-47da-bebe-08702d99fb6a label.sk-toggleable__label {cursor: pointer;display: block;width: 100%;margin-bottom: 0;padding: 0.3em;box-sizing: border-box;text-align: center;}#sk-734fd48f-2fd6-47da-bebe-08702d99fb6a label.sk-toggleable__label-arrow:before {content: \"▸\";float: left;margin-right: 0.25em;color: #696969;}#sk-734fd48f-2fd6-47da-bebe-08702d99fb6a label.sk-toggleable__label-arrow:hover:before {color: black;}#sk-734fd48f-2fd6-47da-bebe-08702d99fb6a div.sk-estimator:hover label.sk-toggleable__label-arrow:before {color: black;}#sk-734fd48f-2fd6-47da-bebe-08702d99fb6a div.sk-toggleable__content {max-height: 0;max-width: 0;overflow: hidden;text-align: left;background-color: #f0f8ff;}#sk-734fd48f-2fd6-47da-bebe-08702d99fb6a div.sk-toggleable__content pre {margin: 0.2em;color: black;border-radius: 0.25em;background-color: #f0f8ff;}#sk-734fd48f-2fd6-47da-bebe-08702d99fb6a input.sk-toggleable__control:checked~div.sk-toggleable__content {max-height: 200px;max-width: 100%;overflow: auto;}#sk-734fd48f-2fd6-47da-bebe-08702d99fb6a input.sk-toggleable__control:checked~label.sk-toggleable__label-arrow:before {content: \"▾\";}#sk-734fd48f-2fd6-47da-bebe-08702d99fb6a div.sk-estimator input.sk-toggleable__control:checked~label.sk-toggleable__label {background-color: #d4ebff;}#sk-734fd48f-2fd6-47da-bebe-08702d99fb6a div.sk-label input.sk-toggleable__control:checked~label.sk-toggleable__label {background-color: #d4ebff;}#sk-734fd48f-2fd6-47da-bebe-08702d99fb6a input.sk-hidden--visually {border: 0;clip: rect(1px 1px 1px 1px);clip: rect(1px, 1px, 1px, 1px);height: 1px;margin: -1px;overflow: hidden;padding: 0;position: absolute;width: 1px;}#sk-734fd48f-2fd6-47da-bebe-08702d99fb6a div.sk-estimator {font-family: monospace;background-color: #f0f8ff;border: 1px dotted black;border-radius: 0.25em;box-sizing: border-box;margin-bottom: 0.5em;}#sk-734fd48f-2fd6-47da-bebe-08702d99fb6a div.sk-estimator:hover {background-color: #d4ebff;}#sk-734fd48f-2fd6-47da-bebe-08702d99fb6a div.sk-parallel-item::after {content: \"\";width: 100%;border-bottom: 1px solid gray;flex-grow: 1;}#sk-734fd48f-2fd6-47da-bebe-08702d99fb6a div.sk-label:hover label.sk-toggleable__label {background-color: #d4ebff;}#sk-734fd48f-2fd6-47da-bebe-08702d99fb6a div.sk-serial::before {content: \"\";position: absolute;border-left: 1px solid gray;box-sizing: border-box;top: 2em;bottom: 0;left: 50%;}#sk-734fd48f-2fd6-47da-bebe-08702d99fb6a div.sk-serial {display: flex;flex-direction: column;align-items: center;background-color: white;padding-right: 0.2em;padding-left: 0.2em;}#sk-734fd48f-2fd6-47da-bebe-08702d99fb6a div.sk-item {z-index: 1;}#sk-734fd48f-2fd6-47da-bebe-08702d99fb6a div.sk-parallel {display: flex;align-items: stretch;justify-content: center;background-color: white;}#sk-734fd48f-2fd6-47da-bebe-08702d99fb6a div.sk-parallel::before {content: \"\";position: absolute;border-left: 1px solid gray;box-sizing: border-box;top: 2em;bottom: 0;left: 50%;}#sk-734fd48f-2fd6-47da-bebe-08702d99fb6a div.sk-parallel-item {display: flex;flex-direction: column;position: relative;background-color: white;}#sk-734fd48f-2fd6-47da-bebe-08702d99fb6a div.sk-parallel-item:first-child::after {align-self: flex-end;width: 50%;}#sk-734fd48f-2fd6-47da-bebe-08702d99fb6a div.sk-parallel-item:last-child::after {align-self: flex-start;width: 50%;}#sk-734fd48f-2fd6-47da-bebe-08702d99fb6a div.sk-parallel-item:only-child::after {width: 0;}#sk-734fd48f-2fd6-47da-bebe-08702d99fb6a div.sk-dashed-wrapped {border: 1px dashed gray;margin: 0 0.4em 0.5em 0.4em;box-sizing: border-box;padding-bottom: 0.4em;background-color: white;position: relative;}#sk-734fd48f-2fd6-47da-bebe-08702d99fb6a div.sk-label label {font-family: monospace;font-weight: bold;background-color: white;display: inline-block;line-height: 1.2em;}#sk-734fd48f-2fd6-47da-bebe-08702d99fb6a div.sk-label-container {position: relative;z-index: 2;text-align: center;}#sk-734fd48f-2fd6-47da-bebe-08702d99fb6a div.sk-container {/* jupyter's `normalize.less` sets `[hidden] { display: none; }` but bootstrap.min.css set `[hidden] { display: none !important; }` so we also need the `!important` here to be able to override the default hidden behavior on the sphinx rendered scikit-learn.org. See: https://github.com/scikit-learn/scikit-learn/issues/21755 */display: inline-block !important;position: relative;}#sk-734fd48f-2fd6-47da-bebe-08702d99fb6a div.sk-text-repr-fallback {display: none;}</style><div id=\"sk-734fd48f-2fd6-47da-bebe-08702d99fb6a\" class=\"sk-top-container\"><div class=\"sk-text-repr-fallback\"><pre>ColumnTransformer(transformers=[(&#x27;pipeline-1&#x27;,\n",
              "                                 Pipeline(steps=[(&#x27;standardscaler&#x27;,\n",
              "                                                  StandardScaler())]),\n",
              "                                 &lt;sklearn.compose._column_transformer.make_column_selector object at 0x7fb2aaa34d10&gt;),\n",
              "                                (&#x27;pipeline-2&#x27;,\n",
              "                                 Pipeline(steps=[(&#x27;onehotencoder&#x27;,\n",
              "                                                  OneHotEncoder(handle_unknown=&#x27;ignore&#x27;,\n",
              "                                                                sparse=False))]),\n",
              "                                 &lt;sklearn.compose._column_transformer.make_column_selector object at 0x7fb2aaa34ad0&gt;)])</pre><b>Please rerun this cell to show the HTML repr or trust the notebook.</b></div><div class=\"sk-container\" hidden><div class=\"sk-item sk-dashed-wrapped\"><div class=\"sk-label-container\"><div class=\"sk-label sk-toggleable\"><input class=\"sk-toggleable__control sk-hidden--visually\" id=\"46df1639-a59a-4388-92b4-952d94d20f9c\" type=\"checkbox\" ><label for=\"46df1639-a59a-4388-92b4-952d94d20f9c\" class=\"sk-toggleable__label sk-toggleable__label-arrow\">ColumnTransformer</label><div class=\"sk-toggleable__content\"><pre>ColumnTransformer(transformers=[(&#x27;pipeline-1&#x27;,\n",
              "                                 Pipeline(steps=[(&#x27;standardscaler&#x27;,\n",
              "                                                  StandardScaler())]),\n",
              "                                 &lt;sklearn.compose._column_transformer.make_column_selector object at 0x7fb2aaa34d10&gt;),\n",
              "                                (&#x27;pipeline-2&#x27;,\n",
              "                                 Pipeline(steps=[(&#x27;onehotencoder&#x27;,\n",
              "                                                  OneHotEncoder(handle_unknown=&#x27;ignore&#x27;,\n",
              "                                                                sparse=False))]),\n",
              "                                 &lt;sklearn.compose._column_transformer.make_column_selector object at 0x7fb2aaa34ad0&gt;)])</pre></div></div></div><div class=\"sk-parallel\"><div class=\"sk-parallel-item\"><div class=\"sk-item\"><div class=\"sk-label-container\"><div class=\"sk-label sk-toggleable\"><input class=\"sk-toggleable__control sk-hidden--visually\" id=\"cc8a355a-849d-4830-b917-26de20bff934\" type=\"checkbox\" ><label for=\"cc8a355a-849d-4830-b917-26de20bff934\" class=\"sk-toggleable__label sk-toggleable__label-arrow\">pipeline-1</label><div class=\"sk-toggleable__content\"><pre>&lt;sklearn.compose._column_transformer.make_column_selector object at 0x7fb2aaa34d10&gt;</pre></div></div></div><div class=\"sk-serial\"><div class=\"sk-item\"><div class=\"sk-serial\"><div class=\"sk-item\"><div class=\"sk-estimator sk-toggleable\"><input class=\"sk-toggleable__control sk-hidden--visually\" id=\"1a8c02fc-e359-4fe8-b401-638beb2f4c3d\" type=\"checkbox\" ><label for=\"1a8c02fc-e359-4fe8-b401-638beb2f4c3d\" class=\"sk-toggleable__label sk-toggleable__label-arrow\">StandardScaler</label><div class=\"sk-toggleable__content\"><pre>StandardScaler()</pre></div></div></div></div></div></div></div></div><div class=\"sk-parallel-item\"><div class=\"sk-item\"><div class=\"sk-label-container\"><div class=\"sk-label sk-toggleable\"><input class=\"sk-toggleable__control sk-hidden--visually\" id=\"609acbca-b21a-4679-b677-89c5cfb1d3df\" type=\"checkbox\" ><label for=\"609acbca-b21a-4679-b677-89c5cfb1d3df\" class=\"sk-toggleable__label sk-toggleable__label-arrow\">pipeline-2</label><div class=\"sk-toggleable__content\"><pre>&lt;sklearn.compose._column_transformer.make_column_selector object at 0x7fb2aaa34ad0&gt;</pre></div></div></div><div class=\"sk-serial\"><div class=\"sk-item\"><div class=\"sk-serial\"><div class=\"sk-item\"><div class=\"sk-estimator sk-toggleable\"><input class=\"sk-toggleable__control sk-hidden--visually\" id=\"054a4c07-e52c-488a-bd3c-b67b990bfe51\" type=\"checkbox\" ><label for=\"054a4c07-e52c-488a-bd3c-b67b990bfe51\" class=\"sk-toggleable__label sk-toggleable__label-arrow\">OneHotEncoder</label><div class=\"sk-toggleable__content\"><pre>OneHotEncoder(handle_unknown=&#x27;ignore&#x27;, sparse=False)</pre></div></div></div></div></div></div></div></div></div></div></div></div>"
            ]
          },
          "metadata": {},
          "execution_count": 33
        }
      ]
    },
    {
      "cell_type": "code",
      "source": [
        "# transform train and test\n",
        "X_train_processed = preprocessor.transform(X_train)\n",
        "X_test_processed = preprocessor.transform(X_test)"
      ],
      "metadata": {
        "id": "KjtedXBOyn_v"
      },
      "execution_count": 34,
      "outputs": []
    },
    {
      "cell_type": "code",
      "source": [
        "# Check for missing values and that data is scaled and one-hot encoded\n",
        "print(np.isnan(X_train_processed).sum().sum(), 'missing values in training data')\n",
        "print(np.isnan(X_test_processed).sum().sum(), 'missing values in testing data')\n",
        "print('\\n')\n",
        "print('All data in X_train_processed are', X_train_processed.dtype)\n",
        "print('All data in X_test_processed are', X_test_processed.dtype)\n",
        "print('\\n')\n",
        "print('shape of data is', X_train_processed.shape)\n",
        "print('\\n')\n",
        "X_train_processed"
      ],
      "metadata": {
        "colab": {
          "base_uri": "https://localhost:8080/"
        },
        "id": "WJB4FCxz7I0H",
        "outputId": "ab4b9c22-badc-4545-8774-8b8e0cededa4"
      },
      "execution_count": 35,
      "outputs": [
        {
          "output_type": "stream",
          "name": "stdout",
          "text": [
            "0 missing values in training data\n",
            "0 missing values in testing data\n",
            "\n",
            "\n",
            "All data in X_train_processed are float64\n",
            "All data in X_test_processed are float64\n",
            "\n",
            "\n",
            "shape of data is (4917, 251)\n",
            "\n",
            "\n"
          ]
        },
        {
          "output_type": "execute_result",
          "data": {
            "text/plain": [
              "array([[0., 0., 0., ..., 0., 0., 0.],\n",
              "       [0., 0., 0., ..., 0., 0., 0.],\n",
              "       [0., 0., 0., ..., 0., 0., 0.],\n",
              "       ...,\n",
              "       [0., 0., 0., ..., 0., 0., 0.],\n",
              "       [0., 0., 0., ..., 0., 0., 0.],\n",
              "       [0., 0., 0., ..., 0., 0., 0.]])"
            ]
          },
          "metadata": {},
          "execution_count": 35
        }
      ]
    },
    {
      "cell_type": "code",
      "source": [
        "X_train_df = pd.DataFrame(X_train_processed)\n",
        "X_train_df.head()"
      ],
      "metadata": {
        "colab": {
          "base_uri": "https://localhost:8080/",
          "height": 235
        },
        "id": "tAhAv2Hly_-R",
        "outputId": "c0b62cf9-3219-46b8-e0cf-5ec200ad2fab"
      },
      "execution_count": 36,
      "outputs": [
        {
          "output_type": "execute_result",
          "data": {
            "text/plain": [
              "   0    1    2    3    4    5    6    7    8    9    ...  241  242  243  244  \\\n",
              "0  0.0  0.0  0.0  0.0  0.0  0.0  0.0  0.0  0.0  0.0  ...  0.0  0.0  0.0  0.0   \n",
              "1  0.0  0.0  0.0  0.0  0.0  0.0  0.0  0.0  0.0  0.0  ...  0.0  0.0  0.0  0.0   \n",
              "2  0.0  0.0  0.0  0.0  1.0  0.0  0.0  0.0  0.0  0.0  ...  0.0  0.0  0.0  0.0   \n",
              "3  0.0  0.0  0.0  0.0  0.0  0.0  0.0  0.0  0.0  0.0  ...  0.0  0.0  0.0  0.0   \n",
              "4  0.0  0.0  0.0  0.0  0.0  0.0  0.0  0.0  0.0  0.0  ...  0.0  0.0  0.0  0.0   \n",
              "\n",
              "   245  246  247  248  249  250  \n",
              "0  0.0  0.0  0.0  0.0  0.0  0.0  \n",
              "1  0.0  0.0  0.0  0.0  0.0  0.0  \n",
              "2  0.0  0.0  0.0  0.0  0.0  0.0  \n",
              "3  0.0  0.0  0.0  0.0  0.0  0.0  \n",
              "4  0.0  0.0  0.0  0.0  0.0  0.0  \n",
              "\n",
              "[5 rows x 251 columns]"
            ],
            "text/html": [
              "\n",
              "  <div id=\"df-3a6bea54-76a7-476a-9082-84efed55655e\">\n",
              "    <div class=\"colab-df-container\">\n",
              "      <div>\n",
              "<style scoped>\n",
              "    .dataframe tbody tr th:only-of-type {\n",
              "        vertical-align: middle;\n",
              "    }\n",
              "\n",
              "    .dataframe tbody tr th {\n",
              "        vertical-align: top;\n",
              "    }\n",
              "\n",
              "    .dataframe thead th {\n",
              "        text-align: right;\n",
              "    }\n",
              "</style>\n",
              "<table border=\"1\" class=\"dataframe\">\n",
              "  <thead>\n",
              "    <tr style=\"text-align: right;\">\n",
              "      <th></th>\n",
              "      <th>0</th>\n",
              "      <th>1</th>\n",
              "      <th>2</th>\n",
              "      <th>3</th>\n",
              "      <th>4</th>\n",
              "      <th>5</th>\n",
              "      <th>6</th>\n",
              "      <th>7</th>\n",
              "      <th>8</th>\n",
              "      <th>9</th>\n",
              "      <th>...</th>\n",
              "      <th>241</th>\n",
              "      <th>242</th>\n",
              "      <th>243</th>\n",
              "      <th>244</th>\n",
              "      <th>245</th>\n",
              "      <th>246</th>\n",
              "      <th>247</th>\n",
              "      <th>248</th>\n",
              "      <th>249</th>\n",
              "      <th>250</th>\n",
              "    </tr>\n",
              "  </thead>\n",
              "  <tbody>\n",
              "    <tr>\n",
              "      <th>0</th>\n",
              "      <td>0.0</td>\n",
              "      <td>0.0</td>\n",
              "      <td>0.0</td>\n",
              "      <td>0.0</td>\n",
              "      <td>0.0</td>\n",
              "      <td>0.0</td>\n",
              "      <td>0.0</td>\n",
              "      <td>0.0</td>\n",
              "      <td>0.0</td>\n",
              "      <td>0.0</td>\n",
              "      <td>...</td>\n",
              "      <td>0.0</td>\n",
              "      <td>0.0</td>\n",
              "      <td>0.0</td>\n",
              "      <td>0.0</td>\n",
              "      <td>0.0</td>\n",
              "      <td>0.0</td>\n",
              "      <td>0.0</td>\n",
              "      <td>0.0</td>\n",
              "      <td>0.0</td>\n",
              "      <td>0.0</td>\n",
              "    </tr>\n",
              "    <tr>\n",
              "      <th>1</th>\n",
              "      <td>0.0</td>\n",
              "      <td>0.0</td>\n",
              "      <td>0.0</td>\n",
              "      <td>0.0</td>\n",
              "      <td>0.0</td>\n",
              "      <td>0.0</td>\n",
              "      <td>0.0</td>\n",
              "      <td>0.0</td>\n",
              "      <td>0.0</td>\n",
              "      <td>0.0</td>\n",
              "      <td>...</td>\n",
              "      <td>0.0</td>\n",
              "      <td>0.0</td>\n",
              "      <td>0.0</td>\n",
              "      <td>0.0</td>\n",
              "      <td>0.0</td>\n",
              "      <td>0.0</td>\n",
              "      <td>0.0</td>\n",
              "      <td>0.0</td>\n",
              "      <td>0.0</td>\n",
              "      <td>0.0</td>\n",
              "    </tr>\n",
              "    <tr>\n",
              "      <th>2</th>\n",
              "      <td>0.0</td>\n",
              "      <td>0.0</td>\n",
              "      <td>0.0</td>\n",
              "      <td>0.0</td>\n",
              "      <td>1.0</td>\n",
              "      <td>0.0</td>\n",
              "      <td>0.0</td>\n",
              "      <td>0.0</td>\n",
              "      <td>0.0</td>\n",
              "      <td>0.0</td>\n",
              "      <td>...</td>\n",
              "      <td>0.0</td>\n",
              "      <td>0.0</td>\n",
              "      <td>0.0</td>\n",
              "      <td>0.0</td>\n",
              "      <td>0.0</td>\n",
              "      <td>0.0</td>\n",
              "      <td>0.0</td>\n",
              "      <td>0.0</td>\n",
              "      <td>0.0</td>\n",
              "      <td>0.0</td>\n",
              "    </tr>\n",
              "    <tr>\n",
              "      <th>3</th>\n",
              "      <td>0.0</td>\n",
              "      <td>0.0</td>\n",
              "      <td>0.0</td>\n",
              "      <td>0.0</td>\n",
              "      <td>0.0</td>\n",
              "      <td>0.0</td>\n",
              "      <td>0.0</td>\n",
              "      <td>0.0</td>\n",
              "      <td>0.0</td>\n",
              "      <td>0.0</td>\n",
              "      <td>...</td>\n",
              "      <td>0.0</td>\n",
              "      <td>0.0</td>\n",
              "      <td>0.0</td>\n",
              "      <td>0.0</td>\n",
              "      <td>0.0</td>\n",
              "      <td>0.0</td>\n",
              "      <td>0.0</td>\n",
              "      <td>0.0</td>\n",
              "      <td>0.0</td>\n",
              "      <td>0.0</td>\n",
              "    </tr>\n",
              "    <tr>\n",
              "      <th>4</th>\n",
              "      <td>0.0</td>\n",
              "      <td>0.0</td>\n",
              "      <td>0.0</td>\n",
              "      <td>0.0</td>\n",
              "      <td>0.0</td>\n",
              "      <td>0.0</td>\n",
              "      <td>0.0</td>\n",
              "      <td>0.0</td>\n",
              "      <td>0.0</td>\n",
              "      <td>0.0</td>\n",
              "      <td>...</td>\n",
              "      <td>0.0</td>\n",
              "      <td>0.0</td>\n",
              "      <td>0.0</td>\n",
              "      <td>0.0</td>\n",
              "      <td>0.0</td>\n",
              "      <td>0.0</td>\n",
              "      <td>0.0</td>\n",
              "      <td>0.0</td>\n",
              "      <td>0.0</td>\n",
              "      <td>0.0</td>\n",
              "    </tr>\n",
              "  </tbody>\n",
              "</table>\n",
              "<p>5 rows × 251 columns</p>\n",
              "</div>\n",
              "      <button class=\"colab-df-convert\" onclick=\"convertToInteractive('df-3a6bea54-76a7-476a-9082-84efed55655e')\"\n",
              "              title=\"Convert this dataframe to an interactive table.\"\n",
              "              style=\"display:none;\">\n",
              "        \n",
              "  <svg xmlns=\"http://www.w3.org/2000/svg\" height=\"24px\"viewBox=\"0 0 24 24\"\n",
              "       width=\"24px\">\n",
              "    <path d=\"M0 0h24v24H0V0z\" fill=\"none\"/>\n",
              "    <path d=\"M18.56 5.44l.94 2.06.94-2.06 2.06-.94-2.06-.94-.94-2.06-.94 2.06-2.06.94zm-11 1L8.5 8.5l.94-2.06 2.06-.94-2.06-.94L8.5 2.5l-.94 2.06-2.06.94zm10 10l.94 2.06.94-2.06 2.06-.94-2.06-.94-.94-2.06-.94 2.06-2.06.94z\"/><path d=\"M17.41 7.96l-1.37-1.37c-.4-.4-.92-.59-1.43-.59-.52 0-1.04.2-1.43.59L10.3 9.45l-7.72 7.72c-.78.78-.78 2.05 0 2.83L4 21.41c.39.39.9.59 1.41.59.51 0 1.02-.2 1.41-.59l7.78-7.78 2.81-2.81c.8-.78.8-2.07 0-2.86zM5.41 20L4 18.59l7.72-7.72 1.47 1.35L5.41 20z\"/>\n",
              "  </svg>\n",
              "      </button>\n",
              "      \n",
              "  <style>\n",
              "    .colab-df-container {\n",
              "      display:flex;\n",
              "      flex-wrap:wrap;\n",
              "      gap: 12px;\n",
              "    }\n",
              "\n",
              "    .colab-df-convert {\n",
              "      background-color: #E8F0FE;\n",
              "      border: none;\n",
              "      border-radius: 50%;\n",
              "      cursor: pointer;\n",
              "      display: none;\n",
              "      fill: #1967D2;\n",
              "      height: 32px;\n",
              "      padding: 0 0 0 0;\n",
              "      width: 32px;\n",
              "    }\n",
              "\n",
              "    .colab-df-convert:hover {\n",
              "      background-color: #E2EBFA;\n",
              "      box-shadow: 0px 1px 2px rgba(60, 64, 67, 0.3), 0px 1px 3px 1px rgba(60, 64, 67, 0.15);\n",
              "      fill: #174EA6;\n",
              "    }\n",
              "\n",
              "    [theme=dark] .colab-df-convert {\n",
              "      background-color: #3B4455;\n",
              "      fill: #D2E3FC;\n",
              "    }\n",
              "\n",
              "    [theme=dark] .colab-df-convert:hover {\n",
              "      background-color: #434B5C;\n",
              "      box-shadow: 0px 1px 3px 1px rgba(0, 0, 0, 0.15);\n",
              "      filter: drop-shadow(0px 1px 2px rgba(0, 0, 0, 0.3));\n",
              "      fill: #FFFFFF;\n",
              "    }\n",
              "  </style>\n",
              "\n",
              "      <script>\n",
              "        const buttonEl =\n",
              "          document.querySelector('#df-3a6bea54-76a7-476a-9082-84efed55655e button.colab-df-convert');\n",
              "        buttonEl.style.display =\n",
              "          google.colab.kernel.accessAllowed ? 'block' : 'none';\n",
              "\n",
              "        async function convertToInteractive(key) {\n",
              "          const element = document.querySelector('#df-3a6bea54-76a7-476a-9082-84efed55655e');\n",
              "          const dataTable =\n",
              "            await google.colab.kernel.invokeFunction('convertToInteractive',\n",
              "                                                     [key], {});\n",
              "          if (!dataTable) return;\n",
              "\n",
              "          const docLinkHtml = 'Like what you see? Visit the ' +\n",
              "            '<a target=\"_blank\" href=https://colab.research.google.com/notebooks/data_table.ipynb>data table notebook</a>'\n",
              "            + ' to learn more about interactive tables.';\n",
              "          element.innerHTML = '';\n",
              "          dataTable['output_type'] = 'display_data';\n",
              "          await google.colab.output.renderOutput(dataTable, element);\n",
              "          const docLink = document.createElement('div');\n",
              "          docLink.innerHTML = docLinkHtml;\n",
              "          element.appendChild(docLink);\n",
              "        }\n",
              "      </script>\n",
              "    </div>\n",
              "  </div>\n",
              "  "
            ]
          },
          "metadata": {},
          "execution_count": 36
        }
      ]
    },
    {
      "cell_type": "code",
      "source": [
        "X_test_df = pd.DataFrame(X_test_processed)\n",
        "X_test_df.head()"
      ],
      "metadata": {
        "colab": {
          "base_uri": "https://localhost:8080/",
          "height": 235
        },
        "id": "Rs9sAfAKGcjo",
        "outputId": "8750c0f7-d30e-48d2-d78d-edd890cdc3ac"
      },
      "execution_count": 37,
      "outputs": [
        {
          "output_type": "execute_result",
          "data": {
            "text/plain": [
              "   0    1    2    3    4    5    6    7    8    9    ...  241  242  243  244  \\\n",
              "0  0.0  0.0  0.0  0.0  0.0  0.0  0.0  0.0  0.0  0.0  ...  0.0  0.0  0.0  0.0   \n",
              "1  0.0  0.0  0.0  0.0  0.0  0.0  0.0  0.0  0.0  0.0  ...  0.0  0.0  0.0  0.0   \n",
              "2  0.0  0.0  0.0  0.0  0.0  0.0  0.0  0.0  0.0  0.0  ...  0.0  0.0  0.0  0.0   \n",
              "3  0.0  0.0  0.0  0.0  0.0  0.0  0.0  0.0  0.0  0.0  ...  0.0  0.0  0.0  0.0   \n",
              "4  0.0  0.0  0.0  0.0  0.0  0.0  0.0  0.0  0.0  0.0  ...  0.0  0.0  0.0  0.0   \n",
              "\n",
              "   245  246  247  248  249  250  \n",
              "0  0.0  0.0  0.0  0.0  0.0  0.0  \n",
              "1  0.0  0.0  0.0  0.0  0.0  0.0  \n",
              "2  0.0  0.0  0.0  0.0  0.0  0.0  \n",
              "3  0.0  0.0  0.0  0.0  0.0  0.0  \n",
              "4  0.0  0.0  0.0  0.0  0.0  0.0  \n",
              "\n",
              "[5 rows x 251 columns]"
            ],
            "text/html": [
              "\n",
              "  <div id=\"df-39df7581-f5a1-40e3-8a69-c3c6dacaaac8\">\n",
              "    <div class=\"colab-df-container\">\n",
              "      <div>\n",
              "<style scoped>\n",
              "    .dataframe tbody tr th:only-of-type {\n",
              "        vertical-align: middle;\n",
              "    }\n",
              "\n",
              "    .dataframe tbody tr th {\n",
              "        vertical-align: top;\n",
              "    }\n",
              "\n",
              "    .dataframe thead th {\n",
              "        text-align: right;\n",
              "    }\n",
              "</style>\n",
              "<table border=\"1\" class=\"dataframe\">\n",
              "  <thead>\n",
              "    <tr style=\"text-align: right;\">\n",
              "      <th></th>\n",
              "      <th>0</th>\n",
              "      <th>1</th>\n",
              "      <th>2</th>\n",
              "      <th>3</th>\n",
              "      <th>4</th>\n",
              "      <th>5</th>\n",
              "      <th>6</th>\n",
              "      <th>7</th>\n",
              "      <th>8</th>\n",
              "      <th>9</th>\n",
              "      <th>...</th>\n",
              "      <th>241</th>\n",
              "      <th>242</th>\n",
              "      <th>243</th>\n",
              "      <th>244</th>\n",
              "      <th>245</th>\n",
              "      <th>246</th>\n",
              "      <th>247</th>\n",
              "      <th>248</th>\n",
              "      <th>249</th>\n",
              "      <th>250</th>\n",
              "    </tr>\n",
              "  </thead>\n",
              "  <tbody>\n",
              "    <tr>\n",
              "      <th>0</th>\n",
              "      <td>0.0</td>\n",
              "      <td>0.0</td>\n",
              "      <td>0.0</td>\n",
              "      <td>0.0</td>\n",
              "      <td>0.0</td>\n",
              "      <td>0.0</td>\n",
              "      <td>0.0</td>\n",
              "      <td>0.0</td>\n",
              "      <td>0.0</td>\n",
              "      <td>0.0</td>\n",
              "      <td>...</td>\n",
              "      <td>0.0</td>\n",
              "      <td>0.0</td>\n",
              "      <td>0.0</td>\n",
              "      <td>0.0</td>\n",
              "      <td>0.0</td>\n",
              "      <td>0.0</td>\n",
              "      <td>0.0</td>\n",
              "      <td>0.0</td>\n",
              "      <td>0.0</td>\n",
              "      <td>0.0</td>\n",
              "    </tr>\n",
              "    <tr>\n",
              "      <th>1</th>\n",
              "      <td>0.0</td>\n",
              "      <td>0.0</td>\n",
              "      <td>0.0</td>\n",
              "      <td>0.0</td>\n",
              "      <td>0.0</td>\n",
              "      <td>0.0</td>\n",
              "      <td>0.0</td>\n",
              "      <td>0.0</td>\n",
              "      <td>0.0</td>\n",
              "      <td>0.0</td>\n",
              "      <td>...</td>\n",
              "      <td>0.0</td>\n",
              "      <td>0.0</td>\n",
              "      <td>0.0</td>\n",
              "      <td>0.0</td>\n",
              "      <td>0.0</td>\n",
              "      <td>0.0</td>\n",
              "      <td>0.0</td>\n",
              "      <td>0.0</td>\n",
              "      <td>0.0</td>\n",
              "      <td>0.0</td>\n",
              "    </tr>\n",
              "    <tr>\n",
              "      <th>2</th>\n",
              "      <td>0.0</td>\n",
              "      <td>0.0</td>\n",
              "      <td>0.0</td>\n",
              "      <td>0.0</td>\n",
              "      <td>0.0</td>\n",
              "      <td>0.0</td>\n",
              "      <td>0.0</td>\n",
              "      <td>0.0</td>\n",
              "      <td>0.0</td>\n",
              "      <td>0.0</td>\n",
              "      <td>...</td>\n",
              "      <td>0.0</td>\n",
              "      <td>0.0</td>\n",
              "      <td>0.0</td>\n",
              "      <td>0.0</td>\n",
              "      <td>0.0</td>\n",
              "      <td>0.0</td>\n",
              "      <td>0.0</td>\n",
              "      <td>0.0</td>\n",
              "      <td>0.0</td>\n",
              "      <td>0.0</td>\n",
              "    </tr>\n",
              "    <tr>\n",
              "      <th>3</th>\n",
              "      <td>0.0</td>\n",
              "      <td>0.0</td>\n",
              "      <td>0.0</td>\n",
              "      <td>0.0</td>\n",
              "      <td>0.0</td>\n",
              "      <td>0.0</td>\n",
              "      <td>0.0</td>\n",
              "      <td>0.0</td>\n",
              "      <td>0.0</td>\n",
              "      <td>0.0</td>\n",
              "      <td>...</td>\n",
              "      <td>0.0</td>\n",
              "      <td>0.0</td>\n",
              "      <td>0.0</td>\n",
              "      <td>0.0</td>\n",
              "      <td>0.0</td>\n",
              "      <td>0.0</td>\n",
              "      <td>0.0</td>\n",
              "      <td>0.0</td>\n",
              "      <td>0.0</td>\n",
              "      <td>0.0</td>\n",
              "    </tr>\n",
              "    <tr>\n",
              "      <th>4</th>\n",
              "      <td>0.0</td>\n",
              "      <td>0.0</td>\n",
              "      <td>0.0</td>\n",
              "      <td>0.0</td>\n",
              "      <td>0.0</td>\n",
              "      <td>0.0</td>\n",
              "      <td>0.0</td>\n",
              "      <td>0.0</td>\n",
              "      <td>0.0</td>\n",
              "      <td>0.0</td>\n",
              "      <td>...</td>\n",
              "      <td>0.0</td>\n",
              "      <td>0.0</td>\n",
              "      <td>0.0</td>\n",
              "      <td>0.0</td>\n",
              "      <td>0.0</td>\n",
              "      <td>0.0</td>\n",
              "      <td>0.0</td>\n",
              "      <td>0.0</td>\n",
              "      <td>0.0</td>\n",
              "      <td>0.0</td>\n",
              "    </tr>\n",
              "  </tbody>\n",
              "</table>\n",
              "<p>5 rows × 251 columns</p>\n",
              "</div>\n",
              "      <button class=\"colab-df-convert\" onclick=\"convertToInteractive('df-39df7581-f5a1-40e3-8a69-c3c6dacaaac8')\"\n",
              "              title=\"Convert this dataframe to an interactive table.\"\n",
              "              style=\"display:none;\">\n",
              "        \n",
              "  <svg xmlns=\"http://www.w3.org/2000/svg\" height=\"24px\"viewBox=\"0 0 24 24\"\n",
              "       width=\"24px\">\n",
              "    <path d=\"M0 0h24v24H0V0z\" fill=\"none\"/>\n",
              "    <path d=\"M18.56 5.44l.94 2.06.94-2.06 2.06-.94-2.06-.94-.94-2.06-.94 2.06-2.06.94zm-11 1L8.5 8.5l.94-2.06 2.06-.94-2.06-.94L8.5 2.5l-.94 2.06-2.06.94zm10 10l.94 2.06.94-2.06 2.06-.94-2.06-.94-.94-2.06-.94 2.06-2.06.94z\"/><path d=\"M17.41 7.96l-1.37-1.37c-.4-.4-.92-.59-1.43-.59-.52 0-1.04.2-1.43.59L10.3 9.45l-7.72 7.72c-.78.78-.78 2.05 0 2.83L4 21.41c.39.39.9.59 1.41.59.51 0 1.02-.2 1.41-.59l7.78-7.78 2.81-2.81c.8-.78.8-2.07 0-2.86zM5.41 20L4 18.59l7.72-7.72 1.47 1.35L5.41 20z\"/>\n",
              "  </svg>\n",
              "      </button>\n",
              "      \n",
              "  <style>\n",
              "    .colab-df-container {\n",
              "      display:flex;\n",
              "      flex-wrap:wrap;\n",
              "      gap: 12px;\n",
              "    }\n",
              "\n",
              "    .colab-df-convert {\n",
              "      background-color: #E8F0FE;\n",
              "      border: none;\n",
              "      border-radius: 50%;\n",
              "      cursor: pointer;\n",
              "      display: none;\n",
              "      fill: #1967D2;\n",
              "      height: 32px;\n",
              "      padding: 0 0 0 0;\n",
              "      width: 32px;\n",
              "    }\n",
              "\n",
              "    .colab-df-convert:hover {\n",
              "      background-color: #E2EBFA;\n",
              "      box-shadow: 0px 1px 2px rgba(60, 64, 67, 0.3), 0px 1px 3px 1px rgba(60, 64, 67, 0.15);\n",
              "      fill: #174EA6;\n",
              "    }\n",
              "\n",
              "    [theme=dark] .colab-df-convert {\n",
              "      background-color: #3B4455;\n",
              "      fill: #D2E3FC;\n",
              "    }\n",
              "\n",
              "    [theme=dark] .colab-df-convert:hover {\n",
              "      background-color: #434B5C;\n",
              "      box-shadow: 0px 1px 3px 1px rgba(0, 0, 0, 0.15);\n",
              "      filter: drop-shadow(0px 1px 2px rgba(0, 0, 0, 0.3));\n",
              "      fill: #FFFFFF;\n",
              "    }\n",
              "  </style>\n",
              "\n",
              "      <script>\n",
              "        const buttonEl =\n",
              "          document.querySelector('#df-39df7581-f5a1-40e3-8a69-c3c6dacaaac8 button.colab-df-convert');\n",
              "        buttonEl.style.display =\n",
              "          google.colab.kernel.accessAllowed ? 'block' : 'none';\n",
              "\n",
              "        async function convertToInteractive(key) {\n",
              "          const element = document.querySelector('#df-39df7581-f5a1-40e3-8a69-c3c6dacaaac8');\n",
              "          const dataTable =\n",
              "            await google.colab.kernel.invokeFunction('convertToInteractive',\n",
              "                                                     [key], {});\n",
              "          if (!dataTable) return;\n",
              "\n",
              "          const docLinkHtml = 'Like what you see? Visit the ' +\n",
              "            '<a target=\"_blank\" href=https://colab.research.google.com/notebooks/data_table.ipynb>data table notebook</a>'\n",
              "            + ' to learn more about interactive tables.';\n",
              "          element.innerHTML = '';\n",
              "          dataTable['output_type'] = 'display_data';\n",
              "          await google.colab.output.renderOutput(dataTable, element);\n",
              "          const docLink = document.createElement('div');\n",
              "          docLink.innerHTML = docLinkHtml;\n",
              "          element.appendChild(docLink);\n",
              "        }\n",
              "      </script>\n",
              "    </div>\n",
              "  </div>\n",
              "  "
            ]
          },
          "metadata": {},
          "execution_count": 37
        }
      ]
    },
    {
      "cell_type": "code",
      "source": [
        "X_train_df.info()"
      ],
      "metadata": {
        "colab": {
          "base_uri": "https://localhost:8080/"
        },
        "id": "u2DK7zrF4MMZ",
        "outputId": "055cb468-c159-48cc-b025-197675b00d8d"
      },
      "execution_count": 38,
      "outputs": [
        {
          "output_type": "stream",
          "name": "stdout",
          "text": [
            "<class 'pandas.core.frame.DataFrame'>\n",
            "RangeIndex: 4917 entries, 0 to 4916\n",
            "Columns: 251 entries, 0 to 250\n",
            "dtypes: float64(251)\n",
            "memory usage: 9.4 MB\n"
          ]
        }
      ]
    },
    {
      "cell_type": "markdown",
      "source": [
        "##Modeling:"
      ],
      "metadata": {
        "id": "Fq8h7sEHzdGJ"
      }
    },
    {
      "cell_type": "markdown",
      "source": [
        "### Model 1:"
      ],
      "metadata": {
        "id": "RJNeRrUHzgKA"
      }
    },
    {
      "cell_type": "code",
      "source": [
        "# Step 1: Define our network structure\n",
        "# Save the number of features we have as our input shape\n",
        "input_shape = X_train_processed.shape[1]\n",
        "input_shape"
      ],
      "metadata": {
        "colab": {
          "base_uri": "https://localhost:8080/"
        },
        "id": "1u0OaJMVzZUh",
        "outputId": "174ec6f8-663c-47b4-e232-574a377da114"
      },
      "execution_count": 39,
      "outputs": [
        {
          "output_type": "execute_result",
          "data": {
            "text/plain": [
              "251"
            ]
          },
          "metadata": {},
          "execution_count": 39
        }
      ]
    },
    {
      "cell_type": "code",
      "source": [
        "# Select the model type to use, in this case I'll us a Sequential model\n",
        "model = Sequential()"
      ],
      "metadata": {
        "id": "vGXIuZQCzZNL"
      },
      "execution_count": 40,
      "outputs": []
    },
    {
      "cell_type": "code",
      "source": [
        "#Setup our Hidden Layers:\n",
        "\n",
        "#Adding first hidden layer:\n",
        "model.add(Dense(251, \n",
        "                input_dim = input_shape,\n",
        "                activation = 'relu')) \n",
        "\n",
        "#Only using 1 hidden layer initially.\n",
        "\n",
        "# Output layer\n",
        "model.add(Dense(1, activation = 'linear'))\n",
        "\n",
        "# I chose the linear activation function because this is using the obligation, ."
      ],
      "metadata": {
        "id": "sYe53GEtzrAU"
      },
      "execution_count": 41,
      "outputs": []
    },
    {
      "cell_type": "code",
      "source": [
        "'''import seaborn as sns\n",
        "corr = X_train_df.corr()\n",
        "sns.heatmap(corr, cmap = 'Blues', annot = True)'''"
      ],
      "metadata": {
        "id": "hpzdn1KhRTQM",
        "colab": {
          "base_uri": "https://localhost:8080/",
          "height": 36
        },
        "outputId": "438d3e7b-ce14-4d64-e97f-8d4554792619"
      },
      "execution_count": 42,
      "outputs": [
        {
          "output_type": "execute_result",
          "data": {
            "text/plain": [
              "\"import seaborn as sns\\ncorr = X_train_df.corr()\\nsns.heatmap(corr, cmap = 'Blues', annot = True)\""
            ],
            "application/vnd.google.colaboratory.intrinsic+json": {
              "type": "string"
            }
          },
          "metadata": {},
          "execution_count": 42
        }
      ]
    },
    {
      "cell_type": "code",
      "source": [
        "df.hist(bins=15, color='steelblue', edgecolor='black', linewidth=1.0,\n",
        "           xlabelsize=8, ylabelsize=8, grid=False)    \n",
        "plt.tight_layout(rect=(0, 0, 1.2, 1.2))   "
      ],
      "metadata": {
        "id": "jYLrbD30RTIM",
        "colab": {
          "base_uri": "https://localhost:8080/",
          "height": 484
        },
        "outputId": "4b844a9e-6879-4fae-dff1-d981ee88d754"
      },
      "execution_count": 43,
      "outputs": [
        {
          "output_type": "display_data",
          "data": {
            "text/plain": [
              "<Figure size 576x396 with 1 Axes>"
            ],
            "image/png": "[encoded data removed]"
          },
          "metadata": {}
        }
      ]
    },
    {
      "cell_type": "code",
      "source": [
        "# Instantiate, fit & transform data using PCA\n",
        "#pca = PCA(n_components=2)\n",
        "#pcs = pca.fit_transform(X_train_df)"
      ],
      "metadata": {
        "id": "StMVrAF1_suX"
      },
      "execution_count": 44,
      "outputs": []
    },
    {
      "cell_type": "code",
      "source": [
        "#exp_var_pca = pca.explained_variance_ratio_ "
      ],
      "metadata": {
        "id": "2T2f6YdGB96C"
      },
      "execution_count": 45,
      "outputs": []
    },
    {
      "cell_type": "code",
      "source": [
        "#exp_var_pca"
      ],
      "metadata": {
        "id": "9a8ZCbqVB_1h"
      },
      "execution_count": 46,
      "outputs": []
    },
    {
      "cell_type": "code",
      "source": [
        "# Visualize the first 2 PCs\n",
        "'''plt.figure(figsize = (8, 4))\n",
        "plt.scatter(pcs[:,0], pcs[:,1])\n",
        "plt.title('Visualization of all of our data using the first two Principal Components')\n",
        "plt.xlabel('PC1')\n",
        "plt.ylabel('PC2');'''"
      ],
      "metadata": {
        "colab": {
          "base_uri": "https://localhost:8080/",
          "height": 53
        },
        "id": "sscqGS6YAZc6",
        "outputId": "0e2eeb98-6a43-4ca8-b7cf-7a826740c7bf"
      },
      "execution_count": 47,
      "outputs": [
        {
          "output_type": "execute_result",
          "data": {
            "text/plain": [
              "\"plt.figure(figsize = (8, 4))\\nplt.scatter(pcs[:,0], pcs[:,1])\\nplt.title('Visualization of all of our data using the first two Principal Components')\\nplt.xlabel('PC1')\\nplt.ylabel('PC2');\""
            ],
            "application/vnd.google.colaboratory.intrinsic+json": {
              "type": "string"
            }
          },
          "metadata": {},
          "execution_count": 47
        }
      ]
    },
    {
      "cell_type": "markdown",
      "source": [
        "#Project 2 - Part 3 (Core)"
      ],
      "metadata": {
        "id": "XrW3l2wuNejO"
      }
    },
    {
      "cell_type": "markdown",
      "source": [
        "Link to Video"
      ],
      "metadata": {
        "id": "9qSeJibmyVvc"
      }
    },
    {
      "cell_type": "markdown",
      "source": [
        "Project 2 - Part 3 (Core)\n",
        "\n",
        "\n",
        "For this part of the project, create a 5-10  min video presentation with slide show that is designed for a TECHNICAL audience that addresses your data preparation and exploratory analysis for your selected data set. \n",
        "\n",
        "This is a chance for you to articulate what you have been working on, the decisions you have made, and the challenges you may have encountered.\n",
        "\n",
        "Keep in mind that the information you share with a technical audience or a non-technical audience will be quite different, so it is important to differentiate between the two.  \n",
        "\n",
        "Since this is a TECHNICAL audience, you may share code snippets and discuss the cleaning steps. For your final presentation, however, your audience will be non-technical and you will not include this type of information.  \n",
        "\n",
        "To include in your presentation:\n",
        "\n",
        "* Intro and background about your data set\n",
        "* Explanation of the cleaning steps required and a brief explanation of how you addressed them in your data set.\n",
        "* If there were null values, explain how you addressed them.\n",
        "At least two exploratory visuals you used to understand your data set and what you learned from each.\n",
        "* If relevant, any unique challenges you encountered while working with this data set and how you handled them.  \n",
        "\n",
        "Commit your slide deck and video to your GitHub repository. \n",
        "Update your readme with a paragraph describing your data, data source, and any important or creative steps you took to prepare it for modeling.\n",
        "\n",
        "Large files can be saved on Google Drive and the link can be added to GitHub. Ensure that the share settings allow anyone with the link to view the file.\n",
        "\n",
        "Please submit the link to your GitHub Repository."
      ],
      "metadata": {
        "id": "DnxhE-quNbKZ"
      }
    },
    {
      "cell_type": "markdown",
      "source": [
        "#Project 2- Part 4 (Core)"
      ],
      "metadata": {
        "id": "pjN5MnnCyTG0"
      }
    },
    {
      "cell_type": "markdown",
      "source": [
        "\n",
        "You are now entering into the model development phase of the project!\n",
        "\n",
        "* Ensure that you complete the appropriate pre-processing steps\n",
        "* Try multiple models and tune the hyperparameters of each model to optimize model performance (include all models and hyperparameters tested in addition to the final model)\n",
        "* Evaluate model performance with appropriate metrics for the model\n",
        "* Choose your \"production\" model and justify this decision\n",
        "* Go back through your code and ensure that you have provided clear comments (remember this is for your portfolio!)\n",
        "* Update your project readme and describe your final model, your final model evaluation metrics, and explain whether or not your model would be useful in production and if so, how it should be used.\n",
        "\n",
        "Commit your code to GitHub\n",
        "\n",
        "Submit the link to your GitHub repository."
      ],
      "metadata": {
        "id": "v4w02laNyQZ6"
      }
    },
    {
      "cell_type": "code",
      "source": [
        "X_train_df.info()"
      ],
      "metadata": {
        "colab": {
          "base_uri": "https://localhost:8080/"
        },
        "id": "lkj0u5rqCUOy",
        "outputId": "74258257-c423-4be0-9caa-ec51e90c16a2"
      },
      "execution_count": 48,
      "outputs": [
        {
          "output_type": "stream",
          "name": "stdout",
          "text": [
            "<class 'pandas.core.frame.DataFrame'>\n",
            "RangeIndex: 4917 entries, 0 to 4916\n",
            "Columns: 251 entries, 0 to 250\n",
            "dtypes: float64(251)\n",
            "memory usage: 9.4 MB\n"
          ]
        }
      ]
    },
    {
      "cell_type": "code",
      "source": [
        "def plot_history(history, metric=None):\n",
        "  \"\"\"plot loss and passed metric.  metric is passed as string and must match 'metric'\n",
        "  argument in the compile step\"\"\"\n",
        "  fig, axes = plt.subplots(2,1, figsize = (5,10))\n",
        "  axes[0].plot(history.history['loss'], label = \"train\")\n",
        "  axes[0].plot(history.history['val_loss'], label='test')\n",
        "  axes[0].set_title('Loss')\n",
        "  axes[0].legend()\n",
        "  if metric:\n",
        "    axes[1].plot(history.history[metric], label = 'train')\n",
        "    axes[1].plot(history.history['val_' + metric], label = 'test')\n",
        "    axes[1].set_title(metric)\n",
        "    axes[1].legend()\n",
        "\n",
        "  plt.show()"
      ],
      "metadata": {
        "id": "nDVZNS5mC7m-"
      },
      "execution_count": 49,
      "outputs": []
    },
    {
      "cell_type": "markdown",
      "source": [
        "#Model 1"
      ],
      "metadata": {
        "id": "hYRSKrLiNSkb"
      }
    },
    {
      "cell_type": "code",
      "source": [
        "# create model architecture\n",
        "input_dim = X_train_df.shape[1]\n",
        " \n",
        "reg_model1 = Sequential()\n",
        " \n",
        "reg_model1.add(Dense(251, input_dim=input_dim, activation='relu'))\n",
        "#reg_model1.add(Dense(150, activation='relu'))\n",
        "reg_model1.add(Dense(1, activation='linear'))\n",
        " \n",
        "reg_model1.summary()"
      ],
      "metadata": {
        "colab": {
          "base_uri": "https://localhost:8080/"
        },
        "id": "eohROPn3zjew",
        "outputId": "b7c1339b-4922-48e5-c80a-aebc85b0ba3b"
      },
      "execution_count": 50,
      "outputs": [
        {
          "output_type": "stream",
          "name": "stdout",
          "text": [
            "Model: \"sequential_1\"\n",
            "_________________________________________________________________\n",
            " Layer (type)                Output Shape              Param #   \n",
            "=================================================================\n",
            " dense_2 (Dense)             (None, 251)               63252     \n",
            "                                                                 \n",
            " dense_3 (Dense)             (None, 1)                 252       \n",
            "                                                                 \n",
            "=================================================================\n",
            "Total params: 63,504\n",
            "Trainable params: 63,504\n",
            "Non-trainable params: 0\n",
            "_________________________________________________________________\n"
          ]
        }
      ]
    },
    {
      "cell_type": "code",
      "source": [
        "# compile model with additional metrics\n",
        " \n",
        "reg_model1.compile(loss='mse',\n",
        "                  optimizer='adam',\n",
        "                  metrics=['accuracy']                  ) "
      ],
      "metadata": {
        "id": "YWHEOR7VC7rw"
      },
      "execution_count": 51,
      "outputs": []
    },
    {
      "cell_type": "code",
      "source": [
        "history = reg_model1.fit(X_train_processed, y_train,\n",
        "                        validation_data = (X_test_processed, y_test),\n",
        "                        epochs=100,\n",
        "                       )\n"
      ],
      "metadata": {
        "colab": {
          "base_uri": "https://localhost:8080/"
        },
        "id": "AkS2Rf8nC7pb",
        "outputId": "6f9af4a7-7baa-40a6-859d-8f7fd2a67789"
      },
      "execution_count": 53,
      "outputs": [
        {
          "output_type": "stream",
          "name": "stdout",
          "text": [
            "Epoch 1/100\n",
            "154/154 [==============================] - 2s 7ms/step - loss: 8341589549901676544.0000 - accuracy: 0.0022 - val_loss: 8777832333093896192.0000 - val_accuracy: 0.0000e+00\n",
            "Epoch 2/100\n",
            "154/154 [==============================] - 1s 5ms/step - loss: 8341591748924932096.0000 - accuracy: 0.0000e+00 - val_loss: 8777832333093896192.0000 - val_accuracy: 0.0000e+00\n",
            "Epoch 3/100\n",
            "154/154 [==============================] - 1s 6ms/step - loss: 8341592298680745984.0000 - accuracy: 0.0000e+00 - val_loss: 8777832333093896192.0000 - val_accuracy: 0.0000e+00\n",
            "Epoch 4/100\n",
            "154/154 [==============================] - 1s 6ms/step - loss: 8341594497704001536.0000 - accuracy: 0.0000e+00 - val_loss: 8777832333093896192.0000 - val_accuracy: 0.0000e+00\n",
            "Epoch 5/100\n",
            "154/154 [==============================] - 1s 5ms/step - loss: 8341590649413304320.0000 - accuracy: 0.0000e+00 - val_loss: 8777832333093896192.0000 - val_accuracy: 0.0000e+00\n",
            "Epoch 6/100\n",
            "154/154 [==============================] - 1s 5ms/step - loss: 8341592298680745984.0000 - accuracy: 0.0000e+00 - val_loss: 8777832333093896192.0000 - val_accuracy: 0.0000e+00\n",
            "Epoch 7/100\n",
            "154/154 [==============================] - 1s 6ms/step - loss: 8341591748924932096.0000 - accuracy: 0.0000e+00 - val_loss: 8777832333093896192.0000 - val_accuracy: 0.0000e+00\n",
            "Epoch 8/100\n",
            "154/154 [==============================] - 1s 6ms/step - loss: 8341595047459815424.0000 - accuracy: 0.0000e+00 - val_loss: 8777832333093896192.0000 - val_accuracy: 0.0000e+00\n",
            "Epoch 9/100\n",
            "154/154 [==============================] - 1s 5ms/step - loss: 8341596146971443200.0000 - accuracy: 0.0000e+00 - val_loss: 8777832333093896192.0000 - val_accuracy: 0.0000e+00\n",
            "Epoch 10/100\n",
            "154/154 [==============================] - 1s 6ms/step - loss: 8341595047459815424.0000 - accuracy: 0.0000e+00 - val_loss: 8777832333093896192.0000 - val_accuracy: 0.0000e+00\n",
            "Epoch 11/100\n",
            "154/154 [==============================] - 1s 5ms/step - loss: 8341591748924932096.0000 - accuracy: 0.0000e+00 - val_loss: 8777831233582268416.0000 - val_accuracy: 0.0000e+00\n",
            "Epoch 12/100\n",
            "154/154 [==============================] - 0s 3ms/step - loss: 8341592298680745984.0000 - accuracy: 0.0000e+00 - val_loss: 8777831233582268416.0000 - val_accuracy: 0.0000e+00\n",
            "Epoch 13/100\n",
            "154/154 [==============================] - 1s 3ms/step - loss: 8341592298680745984.0000 - accuracy: 0.0000e+00 - val_loss: 8777831233582268416.0000 - val_accuracy: 0.0000e+00\n",
            "Epoch 14/100\n",
            "154/154 [==============================] - 1s 3ms/step - loss: 8341595047459815424.0000 - accuracy: 0.0000e+00 - val_loss: 8777831233582268416.0000 - val_accuracy: 0.0000e+00\n",
            "Epoch 15/100\n",
            "154/154 [==============================] - 1s 3ms/step - loss: 8341589549901676544.0000 - accuracy: 0.0000e+00 - val_loss: 8777830683826454528.0000 - val_accuracy: 0.0000e+00\n",
            "Epoch 16/100\n",
            "154/154 [==============================] - 1s 4ms/step - loss: 8341587900634234880.0000 - accuracy: 0.0000e+00 - val_loss: 8777830134070640640.0000 - val_accuracy: 0.0000e+00\n",
            "Epoch 17/100\n",
            "154/154 [==============================] - 1s 4ms/step - loss: 8341590649413304320.0000 - accuracy: 0.0000e+00 - val_loss: 8777830134070640640.0000 - val_accuracy: 0.0000e+00\n",
            "Epoch 18/100\n",
            "154/154 [==============================] - 0s 3ms/step - loss: 8341592298680745984.0000 - accuracy: 0.0000e+00 - val_loss: 8777830134070640640.0000 - val_accuracy: 0.0000e+00\n",
            "Epoch 19/100\n",
            "154/154 [==============================] - 0s 3ms/step - loss: 8341593398192373760.0000 - accuracy: 0.0000e+00 - val_loss: 8777830134070640640.0000 - val_accuracy: 0.0000e+00\n",
            "Epoch 20/100\n",
            "154/154 [==============================] - 1s 3ms/step - loss: 8341589000145862656.0000 - accuracy: 0.0000e+00 - val_loss: 8777829584314826752.0000 - val_accuracy: 0.0000e+00\n",
            "Epoch 21/100\n",
            "154/154 [==============================] - 0s 3ms/step - loss: 8341591748924932096.0000 - accuracy: 0.0000e+00 - val_loss: 8777829584314826752.0000 - val_accuracy: 0.0000e+00\n",
            "Epoch 22/100\n",
            "154/154 [==============================] - 1s 3ms/step - loss: 8341590649413304320.0000 - accuracy: 0.0000e+00 - val_loss: 8777829584314826752.0000 - val_accuracy: 0.0000e+00\n",
            "Epoch 23/100\n",
            "154/154 [==============================] - 1s 3ms/step - loss: 8341589549901676544.0000 - accuracy: 0.0000e+00 - val_loss: 8777829584314826752.0000 - val_accuracy: 0.0000e+00\n",
            "Epoch 24/100\n",
            "154/154 [==============================] - 1s 3ms/step - loss: 8341590649413304320.0000 - accuracy: 0.0000e+00 - val_loss: 8777829584314826752.0000 - val_accuracy: 0.0000e+00\n",
            "Epoch 25/100\n",
            "154/154 [==============================] - 0s 3ms/step - loss: 8341589549901676544.0000 - accuracy: 0.0000e+00 - val_loss: 8777829584314826752.0000 - val_accuracy: 0.0000e+00\n",
            "Epoch 26/100\n",
            "154/154 [==============================] - 1s 4ms/step - loss: 8341590649413304320.0000 - accuracy: 0.0000e+00 - val_loss: 8777829584314826752.0000 - val_accuracy: 0.0000e+00\n",
            "Epoch 27/100\n",
            "154/154 [==============================] - 1s 4ms/step - loss: 8341589549901676544.0000 - accuracy: 0.0000e+00 - val_loss: 8777829584314826752.0000 - val_accuracy: 0.0000e+00\n",
            "Epoch 28/100\n",
            "154/154 [==============================] - 1s 4ms/step - loss: 8341591748924932096.0000 - accuracy: 0.0000e+00 - val_loss: 8777829584314826752.0000 - val_accuracy: 0.0000e+00\n",
            "Epoch 29/100\n",
            "154/154 [==============================] - 1s 4ms/step - loss: 8341592298680745984.0000 - accuracy: 0.0000e+00 - val_loss: 8777829584314826752.0000 - val_accuracy: 0.0000e+00\n",
            "Epoch 30/100\n",
            "154/154 [==============================] - 1s 4ms/step - loss: 8341589000145862656.0000 - accuracy: 0.0000e+00 - val_loss: 8777829584314826752.0000 - val_accuracy: 0.0000e+00\n",
            "Epoch 31/100\n",
            "154/154 [==============================] - 1s 4ms/step - loss: 8341589000145862656.0000 - accuracy: 0.0000e+00 - val_loss: 8777829584314826752.0000 - val_accuracy: 0.0000e+00\n",
            "Epoch 32/100\n",
            "154/154 [==============================] - 0s 3ms/step - loss: 8341589549901676544.0000 - accuracy: 0.0000e+00 - val_loss: 8777828484803198976.0000 - val_accuracy: 0.0000e+00\n",
            "Epoch 33/100\n",
            "154/154 [==============================] - 0s 3ms/step - loss: 8341591748924932096.0000 - accuracy: 0.0000e+00 - val_loss: 8777827935047385088.0000 - val_accuracy: 0.0000e+00\n",
            "Epoch 34/100\n",
            "154/154 [==============================] - 1s 4ms/step - loss: 8341590649413304320.0000 - accuracy: 0.0000e+00 - val_loss: 8777827935047385088.0000 - val_accuracy: 0.0000e+00\n",
            "Epoch 35/100\n",
            "154/154 [==============================] - 1s 4ms/step - loss: 8341590649413304320.0000 - accuracy: 0.0000e+00 - val_loss: 8777827935047385088.0000 - val_accuracy: 0.0000e+00\n",
            "Epoch 36/100\n",
            "154/154 [==============================] - 1s 3ms/step - loss: 8341589549901676544.0000 - accuracy: 0.0000e+00 - val_loss: 8777827935047385088.0000 - val_accuracy: 0.0000e+00\n",
            "Epoch 37/100\n",
            "154/154 [==============================] - 1s 4ms/step - loss: 8341589549901676544.0000 - accuracy: 0.0000e+00 - val_loss: 8777827385291571200.0000 - val_accuracy: 0.0000e+00\n",
            "Epoch 38/100\n",
            "154/154 [==============================] - 1s 4ms/step - loss: 8341589000145862656.0000 - accuracy: 0.0000e+00 - val_loss: 8777825736024129536.0000 - val_accuracy: 0.0000e+00\n",
            "Epoch 39/100\n",
            "154/154 [==============================] - 1s 4ms/step - loss: 8341586801122607104.0000 - accuracy: 0.0000e+00 - val_loss: 8777825736024129536.0000 - val_accuracy: 0.0000e+00\n",
            "Epoch 40/100\n",
            "154/154 [==============================] - 1s 3ms/step - loss: 8341586251366793216.0000 - accuracy: 0.0000e+00 - val_loss: 8777825736024129536.0000 - val_accuracy: 0.0000e+00\n",
            "Epoch 41/100\n",
            "154/154 [==============================] - 1s 4ms/step - loss: 8341586251366793216.0000 - accuracy: 0.0000e+00 - val_loss: 8777825736024129536.0000 - val_accuracy: 0.0000e+00\n",
            "Epoch 42/100\n",
            "154/154 [==============================] - 1s 3ms/step - loss: 8341585151855165440.0000 - accuracy: 0.0000e+00 - val_loss: 8777825736024129536.0000 - val_accuracy: 0.0000e+00\n",
            "Epoch 43/100\n",
            "154/154 [==============================] - 1s 3ms/step - loss: 8341587900634234880.0000 - accuracy: 0.0000e+00 - val_loss: 8777825736024129536.0000 - val_accuracy: 0.0000e+00\n",
            "Epoch 44/100\n",
            "154/154 [==============================] - 0s 3ms/step - loss: 8341586801122607104.0000 - accuracy: 0.0000e+00 - val_loss: 8777825736024129536.0000 - val_accuracy: 0.0000e+00\n",
            "Epoch 45/100\n",
            "154/154 [==============================] - 1s 4ms/step - loss: 8341586801122607104.0000 - accuracy: 0.0000e+00 - val_loss: 8777825736024129536.0000 - val_accuracy: 0.0000e+00\n",
            "Epoch 46/100\n",
            "154/154 [==============================] - 0s 3ms/step - loss: 8341587900634234880.0000 - accuracy: 0.0000e+00 - val_loss: 8777825736024129536.0000 - val_accuracy: 0.0000e+00\n",
            "Epoch 47/100\n",
            "154/154 [==============================] - 1s 4ms/step - loss: 8341586801122607104.0000 - accuracy: 0.0000e+00 - val_loss: 8777825736024129536.0000 - val_accuracy: 0.0000e+00\n",
            "Epoch 48/100\n",
            "154/154 [==============================] - 1s 3ms/step - loss: 8341585151855165440.0000 - accuracy: 0.0000e+00 - val_loss: 8777824636512501760.0000 - val_accuracy: 0.0000e+00\n",
            "Epoch 49/100\n",
            "154/154 [==============================] - 1s 3ms/step - loss: 8341585151855165440.0000 - accuracy: 0.0000e+00 - val_loss: 8777824636512501760.0000 - val_accuracy: 0.0000e+00\n",
            "Epoch 50/100\n",
            "154/154 [==============================] - 1s 3ms/step - loss: 8341586801122607104.0000 - accuracy: 0.0000e+00 - val_loss: 8777824636512501760.0000 - val_accuracy: 0.0000e+00\n",
            "Epoch 51/100\n",
            "154/154 [==============================] - 1s 4ms/step - loss: 8341586251366793216.0000 - accuracy: 0.0000e+00 - val_loss: 8777824636512501760.0000 - val_accuracy: 0.0000e+00\n",
            "Epoch 52/100\n",
            "154/154 [==============================] - 1s 4ms/step - loss: 8341586251366793216.0000 - accuracy: 0.0000e+00 - val_loss: 8777824636512501760.0000 - val_accuracy: 0.0000e+00\n",
            "Epoch 53/100\n",
            "154/154 [==============================] - 1s 4ms/step - loss: 8341590649413304320.0000 - accuracy: 0.0000e+00 - val_loss: 8777824636512501760.0000 - val_accuracy: 0.0000e+00\n",
            "Epoch 54/100\n",
            "154/154 [==============================] - 1s 4ms/step - loss: 8341584052343537664.0000 - accuracy: 0.0000e+00 - val_loss: 8777824636512501760.0000 - val_accuracy: 0.0000e+00\n",
            "Epoch 55/100\n",
            "154/154 [==============================] - 0s 3ms/step - loss: 8341589000145862656.0000 - accuracy: 0.0000e+00 - val_loss: 8777824636512501760.0000 - val_accuracy: 0.0000e+00\n",
            "Epoch 56/100\n",
            "154/154 [==============================] - 1s 7ms/step - loss: 8341585151855165440.0000 - accuracy: 0.0000e+00 - val_loss: 8777824636512501760.0000 - val_accuracy: 0.0000e+00\n",
            "Epoch 57/100\n",
            "154/154 [==============================] - 1s 5ms/step - loss: 8341586251366793216.0000 - accuracy: 0.0000e+00 - val_loss: 8777824636512501760.0000 - val_accuracy: 0.0000e+00\n",
            "Epoch 58/100\n",
            "154/154 [==============================] - 1s 3ms/step - loss: 8341580753808654336.0000 - accuracy: 0.0000e+00 - val_loss: 8777824636512501760.0000 - val_accuracy: 0.0000e+00\n",
            "Epoch 59/100\n",
            "154/154 [==============================] - 1s 3ms/step - loss: 8341583502587723776.0000 - accuracy: 0.0000e+00 - val_loss: 8777824636512501760.0000 - val_accuracy: 0.0000e+00\n",
            "Epoch 60/100\n",
            "154/154 [==============================] - 0s 3ms/step - loss: 8341583502587723776.0000 - accuracy: 0.0000e+00 - val_loss: 8777822987245060096.0000 - val_accuracy: 0.0000e+00\n",
            "Epoch 61/100\n",
            "154/154 [==============================] - 1s 4ms/step - loss: 8341585151855165440.0000 - accuracy: 0.0000e+00 - val_loss: 8777822987245060096.0000 - val_accuracy: 0.0000e+00\n",
            "Epoch 62/100\n",
            "154/154 [==============================] - 0s 3ms/step - loss: 8341581303564468224.0000 - accuracy: 0.0000e+00 - val_loss: 8777822987245060096.0000 - val_accuracy: 0.0000e+00\n",
            "Epoch 63/100\n",
            "154/154 [==============================] - 1s 3ms/step - loss: 8341584052343537664.0000 - accuracy: 0.0000e+00 - val_loss: 8777822987245060096.0000 - val_accuracy: 0.0000e+00\n",
            "Epoch 64/100\n",
            "154/154 [==============================] - 1s 3ms/step - loss: 8341583502587723776.0000 - accuracy: 0.0000e+00 - val_loss: 8777822987245060096.0000 - val_accuracy: 0.0000e+00\n",
            "Epoch 65/100\n",
            "154/154 [==============================] - 0s 3ms/step - loss: 8341581303564468224.0000 - accuracy: 0.0000e+00 - val_loss: 8777822987245060096.0000 - val_accuracy: 0.0000e+00\n",
            "Epoch 66/100\n",
            "154/154 [==============================] - 0s 3ms/step - loss: 8341580753808654336.0000 - accuracy: 0.0000e+00 - val_loss: 8777821887733432320.0000 - val_accuracy: 0.0000e+00\n",
            "Epoch 67/100\n",
            "154/154 [==============================] - 0s 3ms/step - loss: 8341583502587723776.0000 - accuracy: 0.0000e+00 - val_loss: 8777821887733432320.0000 - val_accuracy: 0.0000e+00\n",
            "Epoch 68/100\n",
            "154/154 [==============================] - 1s 3ms/step - loss: 8341581303564468224.0000 - accuracy: 0.0000e+00 - val_loss: 8777821887733432320.0000 - val_accuracy: 0.0000e+00\n",
            "Epoch 69/100\n",
            "154/154 [==============================] - 1s 3ms/step - loss: 8341580753808654336.0000 - accuracy: 0.0000e+00 - val_loss: 8777821337977618432.0000 - val_accuracy: 0.0000e+00\n",
            "Epoch 70/100\n",
            "154/154 [==============================] - 1s 3ms/step - loss: 8341582403076096000.0000 - accuracy: 0.0000e+00 - val_loss: 8777820238465990656.0000 - val_accuracy: 0.0000e+00\n",
            "Epoch 71/100\n",
            "154/154 [==============================] - 0s 3ms/step - loss: 8341580753808654336.0000 - accuracy: 0.0000e+00 - val_loss: 8777820238465990656.0000 - val_accuracy: 0.0000e+00\n",
            "Epoch 72/100\n",
            "154/154 [==============================] - 1s 3ms/step - loss: 8341581303564468224.0000 - accuracy: 0.0000e+00 - val_loss: 8777820238465990656.0000 - val_accuracy: 0.0000e+00\n",
            "Epoch 73/100\n",
            "154/154 [==============================] - 1s 3ms/step - loss: 8341582403076096000.0000 - accuracy: 0.0000e+00 - val_loss: 8777820238465990656.0000 - val_accuracy: 0.0000e+00\n",
            "Epoch 74/100\n",
            "154/154 [==============================] - 1s 3ms/step - loss: 8341582403076096000.0000 - accuracy: 0.0000e+00 - val_loss: 8777820238465990656.0000 - val_accuracy: 0.0000e+00\n",
            "Epoch 75/100\n",
            "154/154 [==============================] - 1s 4ms/step - loss: 8341578554785398784.0000 - accuracy: 0.0000e+00 - val_loss: 8777820238465990656.0000 - val_accuracy: 0.0000e+00\n",
            "Epoch 76/100\n",
            "154/154 [==============================] - 1s 4ms/step - loss: 8341579654297026560.0000 - accuracy: 0.0000e+00 - val_loss: 8777820238465990656.0000 - val_accuracy: 0.0000e+00\n",
            "Epoch 77/100\n",
            "154/154 [==============================] - 0s 3ms/step - loss: 8341578554785398784.0000 - accuracy: 0.0000e+00 - val_loss: 8777819688710176768.0000 - val_accuracy: 0.0000e+00\n",
            "Epoch 78/100\n",
            "154/154 [==============================] - 1s 3ms/step - loss: 8341578554785398784.0000 - accuracy: 0.0000e+00 - val_loss: 8777819688710176768.0000 - val_accuracy: 0.0000e+00\n",
            "Epoch 79/100\n",
            "154/154 [==============================] - 0s 3ms/step - loss: 8341578554785398784.0000 - accuracy: 0.0000e+00 - val_loss: 8777819688710176768.0000 - val_accuracy: 0.0000e+00\n",
            "Epoch 80/100\n",
            "154/154 [==============================] - 1s 4ms/step - loss: 8341580753808654336.0000 - accuracy: 0.0000e+00 - val_loss: 8777819138954362880.0000 - val_accuracy: 0.0000e+00\n",
            "Epoch 81/100\n",
            "154/154 [==============================] - 1s 3ms/step - loss: 8341578005029584896.0000 - accuracy: 0.0000e+00 - val_loss: 8777817489686921216.0000 - val_accuracy: 0.0000e+00\n",
            "Epoch 82/100\n",
            "154/154 [==============================] - 0s 3ms/step - loss: 8341578554785398784.0000 - accuracy: 0.0000e+00 - val_loss: 8777817489686921216.0000 - val_accuracy: 0.0000e+00\n",
            "Epoch 83/100\n",
            "154/154 [==============================] - 1s 3ms/step - loss: 8341576905517957120.0000 - accuracy: 0.0000e+00 - val_loss: 8777817489686921216.0000 - val_accuracy: 0.0000e+00\n",
            "Epoch 84/100\n",
            "154/154 [==============================] - 0s 3ms/step - loss: 8341580753808654336.0000 - accuracy: 0.0000e+00 - val_loss: 8777817489686921216.0000 - val_accuracy: 0.0000e+00\n",
            "Epoch 85/100\n",
            "154/154 [==============================] - 0s 3ms/step - loss: 8341575806006329344.0000 - accuracy: 0.0000e+00 - val_loss: 8777816390175293440.0000 - val_accuracy: 0.0000e+00\n",
            "Epoch 86/100\n",
            "154/154 [==============================] - 1s 3ms/step - loss: 8341575256250515456.0000 - accuracy: 0.0000e+00 - val_loss: 8777816390175293440.0000 - val_accuracy: 0.0000e+00\n",
            "Epoch 87/100\n",
            "154/154 [==============================] - 0s 3ms/step - loss: 8341576905517957120.0000 - accuracy: 0.0000e+00 - val_loss: 8777816390175293440.0000 - val_accuracy: 0.0000e+00\n",
            "Epoch 88/100\n",
            "154/154 [==============================] - 1s 3ms/step - loss: 8341575806006329344.0000 - accuracy: 0.0000e+00 - val_loss: 8777815840419479552.0000 - val_accuracy: 0.0000e+00\n",
            "Epoch 89/100\n",
            "154/154 [==============================] - 1s 4ms/step - loss: 8341575256250515456.0000 - accuracy: 0.0000e+00 - val_loss: 8777814740907851776.0000 - val_accuracy: 0.0000e+00\n",
            "Epoch 90/100\n",
            "154/154 [==============================] - 1s 3ms/step - loss: 8341574156738887680.0000 - accuracy: 0.0000e+00 - val_loss: 8777814740907851776.0000 - val_accuracy: 0.0000e+00\n",
            "Epoch 91/100\n",
            "154/154 [==============================] - 0s 3ms/step - loss: 8341578005029584896.0000 - accuracy: 0.0000e+00 - val_loss: 8777814740907851776.0000 - val_accuracy: 0.0000e+00\n",
            "Epoch 92/100\n",
            "154/154 [==============================] - 0s 3ms/step - loss: 8341574156738887680.0000 - accuracy: 0.0000e+00 - val_loss: 8777814740907851776.0000 - val_accuracy: 0.0000e+00\n",
            "Epoch 93/100\n",
            "154/154 [==============================] - 1s 4ms/step - loss: 8341571407959818240.0000 - accuracy: 0.0000e+00 - val_loss: 8777814740907851776.0000 - val_accuracy: 0.0000e+00\n",
            "Epoch 94/100\n",
            "154/154 [==============================] - 1s 3ms/step - loss: 8341572507471446016.0000 - accuracy: 0.0000e+00 - val_loss: 8777814740907851776.0000 - val_accuracy: 0.0000e+00\n",
            "Epoch 95/100\n",
            "154/154 [==============================] - 0s 3ms/step - loss: 8341573057227259904.0000 - accuracy: 0.0000e+00 - val_loss: 8777814740907851776.0000 - val_accuracy: 0.0000e+00\n",
            "Epoch 96/100\n",
            "154/154 [==============================] - 1s 4ms/step - loss: 8341571407959818240.0000 - accuracy: 0.0000e+00 - val_loss: 8777814740907851776.0000 - val_accuracy: 0.0000e+00\n",
            "Epoch 97/100\n",
            "154/154 [==============================] - 0s 3ms/step - loss: 8341573057227259904.0000 - accuracy: 0.0000e+00 - val_loss: 8777813641396224000.0000 - val_accuracy: 0.0000e+00\n",
            "Epoch 98/100\n",
            "154/154 [==============================] - 0s 3ms/step - loss: 8341571407959818240.0000 - accuracy: 0.0000e+00 - val_loss: 8777813641396224000.0000 - val_accuracy: 0.0000e+00\n",
            "Epoch 99/100\n",
            "154/154 [==============================] - 1s 3ms/step - loss: 8341572507471446016.0000 - accuracy: 0.0000e+00 - val_loss: 8777813641396224000.0000 - val_accuracy: 0.0000e+00\n",
            "Epoch 100/100\n",
            "154/154 [==============================] - 1s 4ms/step - loss: 8341575806006329344.0000 - accuracy: 0.0000e+00 - val_loss: 8777813641396224000.0000 - val_accuracy: 0.0000e+00\n"
          ]
        }
      ]
    },
    {
      "cell_type": "code",
      "source": [
        "# plot learning\n",
        " \n",
        "plot_history(history)"
      ],
      "metadata": {
        "colab": {
          "base_uri": "https://localhost:8080/",
          "height": 606
        },
        "id": "AsmpSt9iL3lw",
        "outputId": "52456479-7623-43b6-accf-4a344df251ee"
      },
      "execution_count": 54,
      "outputs": [
        {
          "output_type": "display_data",
          "data": {
            "text/plain": [
              "<Figure size 360x720 with 2 Axes>"
            ],
            "image/png": "[encoded data removed]"
          },
          "metadata": {}
        }
      ]
    },
    {
      "cell_type": "markdown",
      "source": [
        "# Model 2"
      ],
      "metadata": {
        "id": "qOXx_-N0M2Ei"
      }
    },
    {
      "cell_type": "code",
      "source": [
        "# create model architecture\n",
        "input_dim = X_train_df.shape[1]\n",
        " \n",
        "reg_model2 = Sequential()\n",
        " \n",
        "reg_model2.add(Dense(251, input_dim=input_dim, activation='relu'))\n",
        "reg_model2.add(Dense(150, activation='relu'))\n",
        "reg_model2.add(Dense(1, activation='linear'))\n",
        " \n",
        "reg_model2.summary()"
      ],
      "metadata": {
        "colab": {
          "base_uri": "https://localhost:8080/"
        },
        "id": "pPIYbu2lC7kL",
        "outputId": "4b6ab8b3-c757-4256-d813-155a01580a94"
      },
      "execution_count": 55,
      "outputs": [
        {
          "output_type": "stream",
          "name": "stdout",
          "text": [
            "Model: \"sequential_2\"\n",
            "_________________________________________________________________\n",
            " Layer (type)                Output Shape              Param #   \n",
            "=================================================================\n",
            " dense_4 (Dense)             (None, 251)               63252     \n",
            "                                                                 \n",
            " dense_5 (Dense)             (None, 150)               37800     \n",
            "                                                                 \n",
            " dense_6 (Dense)             (None, 1)                 151       \n",
            "                                                                 \n",
            "=================================================================\n",
            "Total params: 101,203\n",
            "Trainable params: 101,203\n",
            "Non-trainable params: 0\n",
            "_________________________________________________________________\n"
          ]
        }
      ]
    },
    {
      "cell_type": "code",
      "source": [
        "# compile model with additional metrics\n",
        " \n",
        "reg_model2.compile(loss='mse',\n",
        "                  optimizer='adam',\n",
        "                  metrics=['accuracy'])   "
      ],
      "metadata": {
        "id": "nO9RrFy7C7hy"
      },
      "execution_count": 56,
      "outputs": []
    },
    {
      "cell_type": "code",
      "source": [
        "history = reg_model2.fit(X_train_processed, y_train,\n",
        "                        validation_data = (X_test_processed, y_test),\n",
        "                        epochs=100,\n",
        "                        )\n"
      ],
      "metadata": {
        "colab": {
          "base_uri": "https://localhost:8080/"
        },
        "id": "OucCoY5WC7e_",
        "outputId": "f4dcacb6-5629-498e-8fd3-121384b77bf6"
      },
      "execution_count": 58,
      "outputs": [
        {
          "output_type": "stream",
          "name": "stdout",
          "text": [
            "Epoch 1/100\n",
            "154/154 [==============================] - 3s 11ms/step - loss: 8341592298680745984.0000 - accuracy: 4.0675e-04 - val_loss: 8777832333093896192.0000 - val_accuracy: 0.0000e+00\n",
            "Epoch 2/100\n",
            "154/154 [==============================] - 2s 12ms/step - loss: 8341589549901676544.0000 - accuracy: 0.0000e+00 - val_loss: 8777830134070640640.0000 - val_accuracy: 0.0000e+00\n",
            "Epoch 3/100\n",
            "154/154 [==============================] - 1s 10ms/step - loss: 8341591748924932096.0000 - accuracy: 0.0000e+00 - val_loss: 8777828484803198976.0000 - val_accuracy: 0.0000e+00\n",
            "Epoch 4/100\n",
            "154/154 [==============================] - 1s 7ms/step - loss: 8341589000145862656.0000 - accuracy: 0.0000e+00 - val_loss: 8777824636512501760.0000 - val_accuracy: 0.0000e+00\n",
            "Epoch 5/100\n",
            "154/154 [==============================] - 1s 7ms/step - loss: 8341584052343537664.0000 - accuracy: 0.0000e+00 - val_loss: 8777820238465990656.0000 - val_accuracy: 0.0000e+00\n",
            "Epoch 6/100\n",
            "154/154 [==============================] - 1s 7ms/step - loss: 8341573057227259904.0000 - accuracy: 0.0000e+00 - val_loss: 8777813641396224000.0000 - val_accuracy: 0.0000e+00\n",
            "Epoch 7/100\n",
            "154/154 [==============================] - 1s 7ms/step - loss: 8341565910401679360.0000 - accuracy: 0.0000e+00 - val_loss: 8777797148721807360.0000 - val_accuracy: 0.0000e+00\n",
            "Epoch 8/100\n",
            "154/154 [==============================] - 1s 8ms/step - loss: 8341548318215634944.0000 - accuracy: 0.0000e+00 - val_loss: 8777783404826460160.0000 - val_accuracy: 0.0000e+00\n",
            "Epoch 9/100\n",
            "154/154 [==============================] - 1s 6ms/step - loss: 8341532925052846080.0000 - accuracy: 0.0000e+00 - val_loss: 8777763063861346304.0000 - val_accuracy: 0.0000e+00\n",
            "Epoch 10/100\n",
            "154/154 [==============================] - 1s 6ms/step - loss: 8341512584087732224.0000 - accuracy: 0.0000e+00 - val_loss: 8777739424361349120.0000 - val_accuracy: 0.0000e+00\n",
            "Epoch 11/100\n",
            "154/154 [==============================] - 1s 6ms/step - loss: 8341487845076107264.0000 - accuracy: 0.0000e+00 - val_loss: 8777716334617165824.0000 - val_accuracy: 0.0000e+00\n",
            "Epoch 12/100\n",
            "154/154 [==============================] - 1s 6ms/step - loss: 8341462556308668416.0000 - accuracy: 0.0000e+00 - val_loss: 8777687747314843648.0000 - val_accuracy: 0.0000e+00\n",
            "Epoch 13/100\n",
            "154/154 [==============================] - 1s 7ms/step - loss: 8341429570959835136.0000 - accuracy: 0.0000e+00 - val_loss: 8777652562942754816.0000 - val_accuracy: 0.0000e+00\n",
            "Epoch 14/100\n",
            "154/154 [==============================] - 1s 7ms/step - loss: 8341394936343560192.0000 - accuracy: 0.0000e+00 - val_loss: 8777615179547410432.0000 - val_accuracy: 0.0000e+00\n",
            "Epoch 15/100\n",
            "154/154 [==============================] - 1s 6ms/step - loss: 8341352605145890816.0000 - accuracy: 0.0000e+00 - val_loss: 8777572848349741056.0000 - val_accuracy: 0.0000e+00\n",
            "Epoch 16/100\n",
            "154/154 [==============================] - 1s 9ms/step - loss: 8341303127122640896.0000 - accuracy: 0.0000e+00 - val_loss: 8777522270814863360.0000 - val_accuracy: 0.0000e+00\n",
            "Epoch 17/100\n",
            "154/154 [==============================] - 1s 8ms/step - loss: 8341250900320321536.0000 - accuracy: 0.0000e+00 - val_loss: 8777469494256730112.0000 - val_accuracy: 0.0000e+00\n",
            "Epoch 18/100\n",
            "154/154 [==============================] - 1s 4ms/step - loss: 8341192076448235520.0000 - accuracy: 0.0000e+00 - val_loss: 8777412869407899648.0000 - val_accuracy: 0.0000e+00\n",
            "Epoch 19/100\n",
            "154/154 [==============================] - 1s 4ms/step - loss: 8341140949157543936.0000 - accuracy: 0.0000e+00 - val_loss: 8777351846512558080.0000 - val_accuracy: 0.0000e+00\n",
            "Epoch 20/100\n",
            "154/154 [==============================] - 1s 4ms/step - loss: 8341071130169180160.0000 - accuracy: 0.0000e+00 - val_loss: 8777284226547449856.0000 - val_accuracy: 0.0000e+00\n",
            "Epoch 21/100\n",
            "154/154 [==============================] - 1s 4ms/step - loss: 8340995263866863616.0000 - accuracy: 0.0000e+00 - val_loss: 8777214957314899968.0000 - val_accuracy: 0.0000e+00\n",
            "Epoch 22/100\n",
            "154/154 [==============================] - 1s 4ms/step - loss: 8340922146343616512.0000 - accuracy: 0.0000e+00 - val_loss: 8777131394431188992.0000 - val_accuracy: 0.0000e+00\n",
            "Epoch 23/100\n",
            "154/154 [==============================] - 1s 4ms/step - loss: 8340838033704091648.0000 - accuracy: 0.0000e+00 - val_loss: 8777053878861430784.0000 - val_accuracy: 0.0000e+00\n",
            "Epoch 24/100\n",
            "154/154 [==============================] - 1s 4ms/step - loss: 8340752821552939008.0000 - accuracy: 0.0000e+00 - val_loss: 8776963718907953152.0000 - val_accuracy: 0.0000e+00\n",
            "Epoch 25/100\n",
            "154/154 [==============================] - 1s 4ms/step - loss: 8340662111843647488.0000 - accuracy: 0.0000e+00 - val_loss: 8776873009198661632.0000 - val_accuracy: 0.0000e+00\n",
            "Epoch 26/100\n",
            "154/154 [==============================] - 1s 4ms/step - loss: 8340568653355286528.0000 - accuracy: 0.0000e+00 - val_loss: 8776779550710300672.0000 - val_accuracy: 0.0000e+00\n",
            "Epoch 27/100\n",
            "154/154 [==============================] - 1s 4ms/step - loss: 8340467498285531136.0000 - accuracy: 0.0000e+00 - val_loss: 8776679495152173056.0000 - val_accuracy: 0.0000e+00\n",
            "Epoch 28/100\n",
            "154/154 [==============================] - 1s 4ms/step - loss: 8340365243704147968.0000 - accuracy: 0.0000e+00 - val_loss: 8776568444477767680.0000 - val_accuracy: 0.0000e+00\n",
            "Epoch 29/100\n",
            "154/154 [==============================] - 1s 4ms/step - loss: 8340255292541370368.0000 - accuracy: 0.0000e+00 - val_loss: 8776464540628942848.0000 - val_accuracy: 0.0000e+00\n",
            "Epoch 30/100\n",
            "154/154 [==============================] - 1s 4ms/step - loss: 8340142592599523328.0000 - accuracy: 0.0000e+00 - val_loss: 8776347992396398592.0000 - val_accuracy: 0.0000e+00\n",
            "Epoch 31/100\n",
            "154/154 [==============================] - 1s 4ms/step - loss: 8340022745832095744.0000 - accuracy: 0.0000e+00 - val_loss: 8776234742698737664.0000 - val_accuracy: 0.0000e+00\n",
            "Epoch 32/100\n",
            "154/154 [==============================] - 1s 4ms/step - loss: 8339895202483273728.0000 - accuracy: 0.0000e+00 - val_loss: 8776106099838287872.0000 - val_accuracy: 0.0000e+00\n",
            "Epoch 33/100\n",
            "154/154 [==============================] - 1s 4ms/step - loss: 8339759962553057280.0000 - accuracy: 0.0000e+00 - val_loss: 8775975257954582528.0000 - val_accuracy: 0.0000e+00\n",
            "Epoch 34/100\n",
            "154/154 [==============================] - 1s 4ms/step - loss: 8339625272378654720.0000 - accuracy: 0.0000e+00 - val_loss: 8775836169733668864.0000 - val_accuracy: 0.0000e+00\n",
            "Epoch 35/100\n",
            "154/154 [==============================] - 1s 4ms/step - loss: 8339482335867043840.0000 - accuracy: 0.0000e+00 - val_loss: 8775694882489499648.0000 - val_accuracy: 0.0000e+00\n",
            "Epoch 36/100\n",
            "154/154 [==============================] - 1s 4ms/step - loss: 8339329503750782976.0000 - accuracy: 0.0000e+00 - val_loss: 8775544799152308224.0000 - val_accuracy: 0.0000e+00\n",
            "Epoch 37/100\n",
            "154/154 [==============================] - 1s 4ms/step - loss: 8339176121878708224.0000 - accuracy: 0.0000e+00 - val_loss: 8775395265570930688.0000 - val_accuracy: 0.0000e+00\n",
            "Epoch 38/100\n",
            "154/154 [==============================] - 1s 4ms/step - loss: 8339013943913611264.0000 - accuracy: 0.0000e+00 - val_loss: 8775222642245369856.0000 - val_accuracy: 0.0000e+00\n",
            "Epoch 39/100\n",
            "154/154 [==============================] - 1s 5ms/step - loss: 8338847367902003200.0000 - accuracy: 0.0000e+00 - val_loss: 8775062113547714560.0000 - val_accuracy: 0.0000e+00\n",
            "Epoch 40/100\n",
            "154/154 [==============================] - 1s 5ms/step - loss: 8338676393843884032.0000 - accuracy: 0.0000e+00 - val_loss: 8774891139489595392.0000 - val_accuracy: 0.0000e+00\n",
            "Epoch 41/100\n",
            "154/154 [==============================] - 1s 4ms/step - loss: 8338502121250881536.0000 - accuracy: 0.0000e+00 - val_loss: 8774719615675662336.0000 - val_accuracy: 0.0000e+00\n",
            "Epoch 42/100\n",
            "154/154 [==============================] - 1s 4ms/step - loss: 8338313555006717952.0000 - accuracy: 0.0000e+00 - val_loss: 8774539845524520960.0000 - val_accuracy: 0.0000e+00\n",
            "Epoch 43/100\n",
            "154/154 [==============================] - 1s 4ms/step - loss: 8338127737541623808.0000 - accuracy: 0.0000e+00 - val_loss: 8774346881233846272.0000 - val_accuracy: 0.0000e+00\n",
            "Epoch 44/100\n",
            "154/154 [==============================] - 1s 4ms/step - loss: 8337932574227693568.0000 - accuracy: 0.0000e+00 - val_loss: 8774150068652474368.0000 - val_accuracy: 0.0000e+00\n",
            "Epoch 45/100\n",
            "154/154 [==============================] - 1s 4ms/step - loss: 8337730813843996672.0000 - accuracy: 0.0000e+00 - val_loss: 8773954905338544128.0000 - val_accuracy: 0.0000e+00\n",
            "Epoch 46/100\n",
            "154/154 [==============================] - 1s 3ms/step - loss: 8337525754925416448.0000 - accuracy: 0.0000e+00 - val_loss: 8773757543001358336.0000 - val_accuracy: 0.0000e+00\n",
            "Epoch 47/100\n",
            "154/154 [==============================] - 1s 4ms/step - loss: 8337316847716139008.0000 - accuracy: 0.0000e+00 - val_loss: 8773548086036267008.0000 - val_accuracy: 0.0000e+00\n",
            "Epoch 48/100\n",
            "154/154 [==============================] - 1s 4ms/step - loss: 8337101893192908800.0000 - accuracy: 0.0000e+00 - val_loss: 8773334780780478464.0000 - val_accuracy: 0.0000e+00\n",
            "Epoch 49/100\n",
            "154/154 [==============================] - 1s 4ms/step - loss: 8336875393797586944.0000 - accuracy: 0.0000e+00 - val_loss: 8773104982850273280.0000 - val_accuracy: 0.0000e+00\n",
            "Epoch 50/100\n",
            "154/154 [==============================] - 1s 4ms/step - loss: 8336642847088312320.0000 - accuracy: 0.0000e+00 - val_loss: 8772877933699137536.0000 - val_accuracy: 0.0000e+00\n",
            "Epoch 51/100\n",
            "154/154 [==============================] - 1s 4ms/step - loss: 8336409200867409920.0000 - accuracy: 0.0000e+00 - val_loss: 8772637140652654592.0000 - val_accuracy: 0.0000e+00\n",
            "Epoch 52/100\n",
            "154/154 [==============================] - 1s 4ms/step - loss: 8336159061972090880.0000 - accuracy: 0.0000e+00 - val_loss: 8772393049071288320.0000 - val_accuracy: 0.0000e+00\n",
            "Epoch 53/100\n",
            "154/154 [==============================] - 1s 4ms/step - loss: 8335902875762819072.0000 - accuracy: 0.0000e+00 - val_loss: 8772146208710852608.0000 - val_accuracy: 0.0000e+00\n",
            "Epoch 54/100\n",
            "154/154 [==============================] - 1s 4ms/step - loss: 8335637893460525056.0000 - accuracy: 0.0000e+00 - val_loss: 8771882875676000256.0000 - val_accuracy: 0.0000e+00\n",
            "Epoch 55/100\n",
            "154/154 [==============================] - 1s 4ms/step - loss: 8335369062867533824.0000 - accuracy: 0.0000e+00 - val_loss: 8771616244106264576.0000 - val_accuracy: 0.0000e+00\n",
            "Epoch 56/100\n",
            "154/154 [==============================] - 1s 5ms/step - loss: 8335089237158264832.0000 - accuracy: 0.0000e+00 - val_loss: 8771343015466762240.0000 - val_accuracy: 0.0000e+00\n",
            "Epoch 57/100\n",
            "154/154 [==============================] - 1s 4ms/step - loss: 8334806662669926400.0000 - accuracy: 0.0000e+00 - val_loss: 8771053294152843264.0000 - val_accuracy: 0.0000e+00\n",
            "Epoch 58/100\n",
            "154/154 [==============================] - 1s 4ms/step - loss: 8334509794530426880.0000 - accuracy: 0.0000e+00 - val_loss: 8770771269420318720.0000 - val_accuracy: 0.0000e+00\n",
            "Epoch 59/100\n",
            "154/154 [==============================] - 1s 4ms/step - loss: 8334203030786277376.0000 - accuracy: 0.0000e+00 - val_loss: 8770469453478494208.0000 - val_accuracy: 0.0000e+00\n",
            "Epoch 60/100\n",
            "154/154 [==============================] - 1s 5ms/step - loss: 8333894068018872320.0000 - accuracy: 0.0000e+00 - val_loss: 8770156642420391936.0000 - val_accuracy: 0.0000e+00\n",
            "Epoch 61/100\n",
            "154/154 [==============================] - 1s 5ms/step - loss: 8333577408670072832.0000 - accuracy: 0.0000e+00 - val_loss: 8769849878676242432.0000 - val_accuracy: 0.0000e+00\n",
            "Epoch 62/100\n",
            "154/154 [==============================] - 1s 5ms/step - loss: 8333247555181740032.0000 - accuracy: 0.0000e+00 - val_loss: 8769529920792559616.0000 - val_accuracy: 0.0000e+00\n",
            "Epoch 63/100\n",
            "154/154 [==============================] - 1s 5ms/step - loss: 8332924848518987776.0000 - accuracy: 0.0000e+00 - val_loss: 8769219858513526784.0000 - val_accuracy: 0.0000e+00\n",
            "Epoch 64/100\n",
            "154/154 [==============================] - 1s 5ms/step - loss: 8332590047228329984.0000 - accuracy: 0.0000e+00 - val_loss: 8768881758687985664.0000 - val_accuracy: 0.0000e+00\n",
            "Epoch 65/100\n",
            "154/154 [==============================] - 1s 5ms/step - loss: 8332249198623719424.0000 - accuracy: 0.0000e+00 - val_loss: 8768538711060119552.0000 - val_accuracy: 0.0000e+00\n",
            "Epoch 66/100\n",
            "154/154 [==============================] - 1s 8ms/step - loss: 8331900103681900544.0000 - accuracy: 0.0000e+00 - val_loss: 8768198961967136768.0000 - val_accuracy: 0.0000e+00\n",
            "Epoch 67/100\n",
            "154/154 [==============================] - 1s 8ms/step - loss: 8331541113135431680.0000 - accuracy: 0.0000e+00 - val_loss: 8767848217757876224.0000 - val_accuracy: 0.0000e+00\n",
            "Epoch 68/100\n",
            "154/154 [==============================] - 1s 4ms/step - loss: 8331180473321521152.0000 - accuracy: 0.0000e+00 - val_loss: 8767489227211407360.0000 - val_accuracy: 0.0000e+00\n",
            "Epoch 69/100\n",
            "154/154 [==============================] - 1s 4ms/step - loss: 8330817634484355072.0000 - accuracy: 0.0000e+00 - val_loss: 8767140132269588480.0000 - val_accuracy: 0.0000e+00\n",
            "Epoch 70/100\n",
            "154/154 [==============================] - 1s 4ms/step - loss: 8330450397600677888.0000 - accuracy: 0.0000e+00 - val_loss: 8766780042211491840.0000 - val_accuracy: 0.0000e+00\n",
            "Epoch 71/100\n",
            "154/154 [==============================] - 1s 4ms/step - loss: 8330071066089095168.0000 - accuracy: 0.0000e+00 - val_loss: 8766411156060372992.0000 - val_accuracy: 0.0000e+00\n",
            "Epoch 72/100\n",
            "154/154 [==============================] - 1s 5ms/step - loss: 8329686237019373568.0000 - accuracy: 0.0000e+00 - val_loss: 8766025227479023616.0000 - val_accuracy: 0.0000e+00\n",
            "Epoch 73/100\n",
            "154/154 [==============================] - 1s 5ms/step - loss: 8329292611856629760.0000 - accuracy: 0.0000e+00 - val_loss: 8765643147188371456.0000 - val_accuracy: 0.0000e+00\n",
            "Epoch 74/100\n",
            "154/154 [==============================] - 1s 5ms/step - loss: 8328884143286910976.0000 - accuracy: 0.0000e+00 - val_loss: 8765248422513999872.0000 - val_accuracy: 0.0000e+00\n",
            "Epoch 75/100\n",
            "154/154 [==============================] - 1s 4ms/step - loss: 8328474575205564416.0000 - accuracy: 0.0000e+00 - val_loss: 8764838854432653312.0000 - val_accuracy: 0.0000e+00\n",
            "Epoch 76/100\n",
            "154/154 [==============================] - 1s 4ms/step - loss: 8328056760787009536.0000 - accuracy: 0.0000e+00 - val_loss: 8764433134642003968.0000 - val_accuracy: 0.0000e+00\n",
            "Epoch 77/100\n",
            "154/154 [==============================] - 1s 4ms/step - loss: 8327631799542874112.0000 - accuracy: 0.0000e+00 - val_loss: 8764030713386237952.0000 - val_accuracy: 0.0000e+00\n",
            "Epoch 78/100\n",
            "154/154 [==============================] - 1s 5ms/step - loss: 8327201340740599808.0000 - accuracy: 0.0000e+00 - val_loss: 8763595856537452544.0000 - val_accuracy: 0.0000e+00\n",
            "Epoch 79/100\n",
            "154/154 [==============================] - 1s 6ms/step - loss: 8326768133159256064.0000 - accuracy: 0.0000e+00 - val_loss: 8763167047002619904.0000 - val_accuracy: 0.0000e+00\n",
            "Epoch 80/100\n",
            "154/154 [==============================] - 1s 4ms/step - loss: 8326326129484890112.0000 - accuracy: 0.0000e+00 - val_loss: 8762752531118948352.0000 - val_accuracy: 0.0000e+00\n",
            "Epoch 81/100\n",
            "154/154 [==============================] - 1s 4ms/step - loss: 8325890722880290816.0000 - accuracy: 0.0000e+00 - val_loss: 8762322622072487936.0000 - val_accuracy: 0.0000e+00\n",
            "Epoch 82/100\n",
            "154/154 [==============================] - 1s 4ms/step - loss: 8325434425554763776.0000 - accuracy: 0.0000e+00 - val_loss: 8761882817421377536.0000 - val_accuracy: 0.0000e+00\n",
            "Epoch 83/100\n",
            "154/154 [==============================] - 1s 4ms/step - loss: 8324974829694353408.0000 - accuracy: 0.0000e+00 - val_loss: 8761410027421433856.0000 - val_accuracy: 0.0000e+00\n",
            "Epoch 84/100\n",
            "154/154 [==============================] - 1s 5ms/step - loss: 8324505887985106944.0000 - accuracy: 0.0000e+00 - val_loss: 8760955929119162368.0000 - val_accuracy: 0.0000e+00\n",
            "Epoch 85/100\n",
            "154/154 [==============================] - 1s 3ms/step - loss: 8324029799450279936.0000 - accuracy: 0.0000e+00 - val_loss: 8760500181549449216.0000 - val_accuracy: 0.0000e+00\n",
            "Epoch 86/100\n",
            "154/154 [==============================] - 1s 4ms/step - loss: 8323538867508477952.0000 - accuracy: 0.0000e+00 - val_loss: 8760019145212297216.0000 - val_accuracy: 0.0000e+00\n",
            "Epoch 87/100\n",
            "154/154 [==============================] - 1s 4ms/step - loss: 8323042987764350976.0000 - accuracy: 0.0000e+00 - val_loss: 8759545255700725760.0000 - val_accuracy: 0.0000e+00\n",
            "Epoch 88/100\n",
            "154/154 [==============================] - 1s 4ms/step - loss: 8322548757287665664.0000 - accuracy: 0.0000e+00 - val_loss: 8759052124735668224.0000 - val_accuracy: 0.0000e+00\n",
            "Epoch 89/100\n",
            "154/154 [==============================] - 1s 4ms/step - loss: 8322037484380749824.0000 - accuracy: 0.0000e+00 - val_loss: 8758570538642702336.0000 - val_accuracy: 0.0000e+00\n",
            "Epoch 90/100\n",
            "154/154 [==============================] - 1s 4ms/step - loss: 8321522912938950656.0000 - accuracy: 0.0000e+00 - val_loss: 8758077957433458688.0000 - val_accuracy: 0.0000e+00\n",
            "Epoch 91/100\n",
            "154/154 [==============================] - 1s 5ms/step - loss: 8320994047845990400.0000 - accuracy: 0.0000e+00 - val_loss: 8757544694293987328.0000 - val_accuracy: 0.0000e+00\n",
            "Epoch 92/100\n",
            "154/154 [==============================] - 1s 4ms/step - loss: 8320457486171635712.0000 - accuracy: 0.0000e+00 - val_loss: 8757011431154515968.0000 - val_accuracy: 0.0000e+00\n",
            "Epoch 93/100\n",
            "154/154 [==============================] - 1s 4ms/step - loss: 8319908829869375488.0000 - accuracy: 0.0000e+00 - val_loss: 8756477618259230720.0000 - val_accuracy: 0.0000e+00\n",
            "Epoch 94/100\n",
            "154/154 [==============================] - 1s 5ms/step - loss: 8319359623811301376.0000 - accuracy: 0.0000e+00 - val_loss: 8755928412201156608.0000 - val_accuracy: 0.0000e+00\n",
            "Epoch 95/100\n",
            "154/154 [==============================] - 1s 5ms/step - loss: 8318791726055555072.0000 - accuracy: 0.0000e+00 - val_loss: 8755384703701221376.0000 - val_accuracy: 0.0000e+00\n",
            "Epoch 96/100\n",
            "154/154 [==============================] - 1s 5ms/step - loss: 8318216131718414336.0000 - accuracy: 0.0000e+00 - val_loss: 8754859686898958336.0000 - val_accuracy: 0.0000e+00\n",
            "Epoch 97/100\n",
            "154/154 [==============================] - 1s 5ms/step - loss: 8317642186648715264.0000 - accuracy: 0.0000e+00 - val_loss: 8754254955503681536.0000 - val_accuracy: 0.0000e+00\n",
            "Epoch 98/100\n",
            "154/154 [==============================] - 1s 5ms/step - loss: 8317050099637157888.0000 - accuracy: 0.0000e+00 - val_loss: 8753698052864212992.0000 - val_accuracy: 0.0000e+00\n",
            "Epoch 99/100\n",
            "154/154 [==============================] - 1s 4ms/step - loss: 8316459661893042176.0000 - accuracy: 0.0000e+00 - val_loss: 8753112013166608384.0000 - val_accuracy: 0.0000e+00\n",
            "Epoch 100/100\n",
            "154/154 [==============================] - 1s 4ms/step - loss: 8315849432939626496.0000 - accuracy: 0.0000e+00 - val_loss: 8752541916387606528.0000 - val_accuracy: 0.0000e+00\n"
          ]
        }
      ]
    },
    {
      "cell_type": "code",
      "source": [
        "# plot learning\n",
        " \n",
        "plot_history(history)"
      ],
      "metadata": {
        "colab": {
          "base_uri": "https://localhost:8080/",
          "height": 606
        },
        "id": "hxWeUqAVC7cS",
        "outputId": "70960551-dcc7-4563-edcb-0f5de9ab29f4"
      },
      "execution_count": 59,
      "outputs": [
        {
          "output_type": "display_data",
          "data": {
            "text/plain": [
              "<Figure size 360x720 with 2 Axes>"
            ],
            "image/png": "[encoded data removed]"
          },
          "metadata": {}
        }
      ]
    },
    {
      "cell_type": "code",
      "source": [
        "# create model architecture\n",
        "input_dim = X_train_df.shape[1]\n",
        " \n",
        "reg_model3 = Sequential()\n",
        " \n",
        "reg_model3.add(Dense(251, input_dim=input_dim, activation='relu'))\n",
        "\n",
        "reg_model3.add(Dropout(.5))\n",
        "reg_model3.add(Dense(300, activation='relu'))\n",
        "\n",
        "reg_model3.add(Dense(500, activation='relu'))\n",
        "\n",
        "reg_model3.add(Dropout(.5))\n",
        "reg_model3.add(Dense(500, activation='relu'))\n",
        "\n",
        "reg_model3.add(Dense(1, activation='linear'))\n",
        " \n",
        "reg_model3.summary()"
      ],
      "metadata": {
        "colab": {
          "base_uri": "https://localhost:8080/"
        },
        "id": "lk0h7CsiC7Wp",
        "outputId": "5fee5605-221e-430e-eff3-88603ad90eca"
      },
      "execution_count": 74,
      "outputs": [
        {
          "output_type": "stream",
          "name": "stdout",
          "text": [
            "Model: \"sequential_8\"\n",
            "_________________________________________________________________\n",
            " Layer (type)                Output Shape              Param #   \n",
            "=================================================================\n",
            " dense_32 (Dense)            (None, 251)               63252     \n",
            "                                                                 \n",
            " dropout_10 (Dropout)        (None, 251)               0         \n",
            "                                                                 \n",
            " dense_33 (Dense)            (None, 300)               75600     \n",
            "                                                                 \n",
            " dense_34 (Dense)            (None, 500)               150500    \n",
            "                                                                 \n",
            " dropout_11 (Dropout)        (None, 500)               0         \n",
            "                                                                 \n",
            " dense_35 (Dense)            (None, 500)               250500    \n",
            "                                                                 \n",
            " dense_36 (Dense)            (None, 1)                 501       \n",
            "                                                                 \n",
            "=================================================================\n",
            "Total params: 540,353\n",
            "Trainable params: 540,353\n",
            "Non-trainable params: 0\n",
            "_________________________________________________________________\n"
          ]
        }
      ]
    },
    {
      "cell_type": "code",
      "source": [
        "# compile model with additional metrics\n",
        " \n",
        "reg_model3.compile(loss='mse',\n",
        "                  optimizer='adam',\n",
        "                  metrics=['accuracy'])   "
      ],
      "metadata": {
        "id": "CKzmc9ypC7HL"
      },
      "execution_count": 75,
      "outputs": []
    },
    {
      "cell_type": "code",
      "source": [
        "history = reg_model3.fit(X_train_processed, y_train,\n",
        "                        validation_data = (X_test_processed, y_test),\n",
        "                        epochs=100,\n",
        "                        )"
      ],
      "metadata": {
        "colab": {
          "base_uri": "https://localhost:8080/",
          "height": 814
        },
        "id": "0pbbttMdRYJ-",
        "outputId": "57195f01-d846-4e9e-d8bf-e5f5c4e379c4"
      },
      "execution_count": 76,
      "outputs": [
        {
          "output_type": "stream",
          "name": "stdout",
          "text": [
            "Epoch 1/100\n",
            "154/154 [==============================] - 3s 18ms/step - loss: 8341534574320287744.0000 - accuracy: 2.0338e-04 - val_loss: 8777357893826510848.0000 - val_accuracy: 0.0000e+00\n",
            "Epoch 2/100\n",
            "154/154 [==============================] - 3s 20ms/step - loss: 8333083727949201408.0000 - accuracy: 0.0000e+00 - val_loss: 8752403377922506752.0000 - val_accuracy: 0.0000e+00\n",
            "Epoch 3/100\n",
            "154/154 [==============================] - 3s 20ms/step - loss: 8280648568176377856.0000 - accuracy: 0.0000e+00 - val_loss: 8667009257595469824.0000 - val_accuracy: 0.0000e+00\n",
            "Epoch 4/100\n",
            "154/154 [==============================] - 3s 17ms/step - loss: 8166860659573653504.0000 - accuracy: 0.0000e+00 - val_loss: 8548552272865394688.0000 - val_accuracy: 0.0000e+00\n",
            "Epoch 5/100\n",
            "154/154 [==============================] - 3s 18ms/step - loss: 8026839503043821568.0000 - accuracy: 0.0000e+00 - val_loss: 8419358557090086912.0000 - val_accuracy: 0.0000e+00\n",
            "Epoch 6/100\n",
            "154/154 [==============================] - 3s 16ms/step - loss: 7860551013726420992.0000 - accuracy: 0.0000e+00 - val_loss: 8279074067525402624.0000 - val_accuracy: 0.0000e+00\n",
            "Epoch 7/100\n",
            "154/154 [==============================] - 3s 19ms/step - loss: 7652286468995416064.0000 - accuracy: 0.0000e+00 - val_loss: 8119293037776994304.0000 - val_accuracy: 0.0000e+00\n",
            "Epoch 8/100\n",
            "154/154 [==============================] - 3s 17ms/step - loss: 7409725957570822144.0000 - accuracy: 0.0000e+00 - val_loss: 7923281450625925120.0000 - val_accuracy: 0.0000e+00\n",
            "Epoch 9/100\n",
            "154/154 [==============================] - 2s 16ms/step - loss: 7095482235817558016.0000 - accuracy: 0.0000e+00 - val_loss: 7722755268731207680.0000 - val_accuracy: 0.0000e+00\n",
            "Epoch 10/100\n",
            "154/154 [==============================] - 3s 19ms/step - loss: 6823833594524336128.0000 - accuracy: 0.0000e+00 - val_loss: 7468636691075432448.0000 - val_accuracy: 0.0000e+00\n",
            "Epoch 11/100\n",
            "154/154 [==============================] - 2s 15ms/step - loss: 6440505358174650368.0000 - accuracy: 0.0000e+00 - val_loss: 7221532997604868096.0000 - val_accuracy: 0.0000e+00\n",
            "Epoch 12/100\n",
            "154/154 [==============================] - 2s 16ms/step - loss: 6162114511579906048.0000 - accuracy: 0.0000e+00 - val_loss: 7001486086270615552.0000 - val_accuracy: 0.0000e+00\n",
            "Epoch 13/100\n",
            " 87/154 [===============>..............] - ETA: 1s - loss: 7319534118255984640.0000 - accuracy: 0.0000e+00"
          ]
        },
        {
          "output_type": "error",
          "ename": "KeyboardInterrupt",
          "evalue": "ignored",
          "traceback": [
            "\u001b[0;31m---------------------------------------------------------------------------\u001b[0m",
            "\u001b[0;31mKeyboardInterrupt\u001b[0m                         Traceback (most recent call last)",
            "\u001b[0;32m<ipython-input-76-e955cc2e13cb>\u001b[0m in \u001b[0;36m<module>\u001b[0;34m()\u001b[0m\n\u001b[1;32m      1\u001b[0m history = reg_model3.fit(X_train_processed, y_train,\n\u001b[1;32m      2\u001b[0m                         \u001b[0mvalidation_data\u001b[0m \u001b[0;34m=\u001b[0m \u001b[0;34m(\u001b[0m\u001b[0mX_test_processed\u001b[0m\u001b[0;34m,\u001b[0m \u001b[0my_test\u001b[0m\u001b[0;34m)\u001b[0m\u001b[0;34m,\u001b[0m\u001b[0;34m\u001b[0m\u001b[0;34m\u001b[0m\u001b[0m\n\u001b[0;32m----> 3\u001b[0;31m                         \u001b[0mepochs\u001b[0m\u001b[0;34m=\u001b[0m\u001b[0;36m100\u001b[0m\u001b[0;34m,\u001b[0m\u001b[0;34m\u001b[0m\u001b[0;34m\u001b[0m\u001b[0m\n\u001b[0m\u001b[1;32m      4\u001b[0m                         )\n",
            "\u001b[0;32m/usr/local/lib/python3.7/dist-packages/keras/utils/traceback_utils.py\u001b[0m in \u001b[0;36merror_handler\u001b[0;34m(*args, **kwargs)\u001b[0m\n\u001b[1;32m     62\u001b[0m     \u001b[0mfiltered_tb\u001b[0m \u001b[0;34m=\u001b[0m \u001b[0;32mNone\u001b[0m\u001b[0;34m\u001b[0m\u001b[0;34m\u001b[0m\u001b[0m\n\u001b[1;32m     63\u001b[0m     \u001b[0;32mtry\u001b[0m\u001b[0;34m:\u001b[0m\u001b[0;34m\u001b[0m\u001b[0;34m\u001b[0m\u001b[0m\n\u001b[0;32m---> 64\u001b[0;31m       \u001b[0;32mreturn\u001b[0m \u001b[0mfn\u001b[0m\u001b[0;34m(\u001b[0m\u001b[0;34m*\u001b[0m\u001b[0margs\u001b[0m\u001b[0;34m,\u001b[0m \u001b[0;34m**\u001b[0m\u001b[0mkwargs\u001b[0m\u001b[0;34m)\u001b[0m\u001b[0;34m\u001b[0m\u001b[0;34m\u001b[0m\u001b[0m\n\u001b[0m\u001b[1;32m     65\u001b[0m     \u001b[0;32mexcept\u001b[0m \u001b[0mException\u001b[0m \u001b[0;32mas\u001b[0m \u001b[0me\u001b[0m\u001b[0;34m:\u001b[0m  \u001b[0;31m# pylint: disable=broad-except\u001b[0m\u001b[0;34m\u001b[0m\u001b[0;34m\u001b[0m\u001b[0m\n\u001b[1;32m     66\u001b[0m       \u001b[0mfiltered_tb\u001b[0m \u001b[0;34m=\u001b[0m \u001b[0m_process_traceback_frames\u001b[0m\u001b[0;34m(\u001b[0m\u001b[0me\u001b[0m\u001b[0;34m.\u001b[0m\u001b[0m__traceback__\u001b[0m\u001b[0;34m)\u001b[0m\u001b[0;34m\u001b[0m\u001b[0;34m\u001b[0m\u001b[0m\n",
            "\u001b[0;32m/usr/local/lib/python3.7/dist-packages/keras/engine/training.py\u001b[0m in \u001b[0;36mfit\u001b[0;34m(self, x, y, batch_size, epochs, verbose, callbacks, validation_split, validation_data, shuffle, class_weight, sample_weight, initial_epoch, steps_per_epoch, validation_steps, validation_batch_size, validation_freq, max_queue_size, workers, use_multiprocessing)\u001b[0m\n\u001b[1;32m   1382\u001b[0m                 _r=1):\n\u001b[1;32m   1383\u001b[0m               \u001b[0mcallbacks\u001b[0m\u001b[0;34m.\u001b[0m\u001b[0mon_train_batch_begin\u001b[0m\u001b[0;34m(\u001b[0m\u001b[0mstep\u001b[0m\u001b[0;34m)\u001b[0m\u001b[0;34m\u001b[0m\u001b[0;34m\u001b[0m\u001b[0m\n\u001b[0;32m-> 1384\u001b[0;31m               \u001b[0mtmp_logs\u001b[0m \u001b[0;34m=\u001b[0m \u001b[0mself\u001b[0m\u001b[0;34m.\u001b[0m\u001b[0mtrain_function\u001b[0m\u001b[0;34m(\u001b[0m\u001b[0miterator\u001b[0m\u001b[0;34m)\u001b[0m\u001b[0;34m\u001b[0m\u001b[0;34m\u001b[0m\u001b[0m\n\u001b[0m\u001b[1;32m   1385\u001b[0m               \u001b[0;32mif\u001b[0m \u001b[0mdata_handler\u001b[0m\u001b[0;34m.\u001b[0m\u001b[0mshould_sync\u001b[0m\u001b[0;34m:\u001b[0m\u001b[0;34m\u001b[0m\u001b[0;34m\u001b[0m\u001b[0m\n\u001b[1;32m   1386\u001b[0m                 \u001b[0mcontext\u001b[0m\u001b[0;34m.\u001b[0m\u001b[0masync_wait\u001b[0m\u001b[0;34m(\u001b[0m\u001b[0;34m)\u001b[0m\u001b[0;34m\u001b[0m\u001b[0;34m\u001b[0m\u001b[0m\n",
            "\u001b[0;32m/usr/local/lib/python3.7/dist-packages/tensorflow/python/util/traceback_utils.py\u001b[0m in \u001b[0;36merror_handler\u001b[0;34m(*args, **kwargs)\u001b[0m\n\u001b[1;32m    148\u001b[0m     \u001b[0mfiltered_tb\u001b[0m \u001b[0;34m=\u001b[0m \u001b[0;32mNone\u001b[0m\u001b[0;34m\u001b[0m\u001b[0;34m\u001b[0m\u001b[0m\n\u001b[1;32m    149\u001b[0m     \u001b[0;32mtry\u001b[0m\u001b[0;34m:\u001b[0m\u001b[0;34m\u001b[0m\u001b[0;34m\u001b[0m\u001b[0m\n\u001b[0;32m--> 150\u001b[0;31m       \u001b[0;32mreturn\u001b[0m \u001b[0mfn\u001b[0m\u001b[0;34m(\u001b[0m\u001b[0;34m*\u001b[0m\u001b[0margs\u001b[0m\u001b[0;34m,\u001b[0m \u001b[0;34m**\u001b[0m\u001b[0mkwargs\u001b[0m\u001b[0;34m)\u001b[0m\u001b[0;34m\u001b[0m\u001b[0;34m\u001b[0m\u001b[0m\n\u001b[0m\u001b[1;32m    151\u001b[0m     \u001b[0;32mexcept\u001b[0m \u001b[0mException\u001b[0m \u001b[0;32mas\u001b[0m \u001b[0me\u001b[0m\u001b[0;34m:\u001b[0m\u001b[0;34m\u001b[0m\u001b[0;34m\u001b[0m\u001b[0m\n\u001b[1;32m    152\u001b[0m       \u001b[0mfiltered_tb\u001b[0m \u001b[0;34m=\u001b[0m \u001b[0m_process_traceback_frames\u001b[0m\u001b[0;34m(\u001b[0m\u001b[0me\u001b[0m\u001b[0;34m.\u001b[0m\u001b[0m__traceback__\u001b[0m\u001b[0;34m)\u001b[0m\u001b[0;34m\u001b[0m\u001b[0;34m\u001b[0m\u001b[0m\n",
            "\u001b[0;32m/usr/local/lib/python3.7/dist-packages/tensorflow/python/eager/def_function.py\u001b[0m in \u001b[0;36m__call__\u001b[0;34m(self, *args, **kwds)\u001b[0m\n\u001b[1;32m    913\u001b[0m \u001b[0;34m\u001b[0m\u001b[0m\n\u001b[1;32m    914\u001b[0m       \u001b[0;32mwith\u001b[0m \u001b[0mOptionalXlaContext\u001b[0m\u001b[0;34m(\u001b[0m\u001b[0mself\u001b[0m\u001b[0;34m.\u001b[0m\u001b[0m_jit_compile\u001b[0m\u001b[0;34m)\u001b[0m\u001b[0;34m:\u001b[0m\u001b[0;34m\u001b[0m\u001b[0;34m\u001b[0m\u001b[0m\n\u001b[0;32m--> 915\u001b[0;31m         \u001b[0mresult\u001b[0m \u001b[0;34m=\u001b[0m \u001b[0mself\u001b[0m\u001b[0;34m.\u001b[0m\u001b[0m_call\u001b[0m\u001b[0;34m(\u001b[0m\u001b[0;34m*\u001b[0m\u001b[0margs\u001b[0m\u001b[0;34m,\u001b[0m \u001b[0;34m**\u001b[0m\u001b[0mkwds\u001b[0m\u001b[0;34m)\u001b[0m\u001b[0;34m\u001b[0m\u001b[0;34m\u001b[0m\u001b[0m\n\u001b[0m\u001b[1;32m    916\u001b[0m \u001b[0;34m\u001b[0m\u001b[0m\n\u001b[1;32m    917\u001b[0m       \u001b[0mnew_tracing_count\u001b[0m \u001b[0;34m=\u001b[0m \u001b[0mself\u001b[0m\u001b[0;34m.\u001b[0m\u001b[0mexperimental_get_tracing_count\u001b[0m\u001b[0;34m(\u001b[0m\u001b[0;34m)\u001b[0m\u001b[0;34m\u001b[0m\u001b[0;34m\u001b[0m\u001b[0m\n",
            "\u001b[0;32m/usr/local/lib/python3.7/dist-packages/tensorflow/python/eager/def_function.py\u001b[0m in \u001b[0;36m_call\u001b[0;34m(self, *args, **kwds)\u001b[0m\n\u001b[1;32m    945\u001b[0m       \u001b[0;31m# In this case we have created variables on the first call, so we run the\u001b[0m\u001b[0;34m\u001b[0m\u001b[0;34m\u001b[0m\u001b[0;34m\u001b[0m\u001b[0m\n\u001b[1;32m    946\u001b[0m       \u001b[0;31m# defunned version which is guaranteed to never create variables.\u001b[0m\u001b[0;34m\u001b[0m\u001b[0;34m\u001b[0m\u001b[0;34m\u001b[0m\u001b[0m\n\u001b[0;32m--> 947\u001b[0;31m       \u001b[0;32mreturn\u001b[0m \u001b[0mself\u001b[0m\u001b[0;34m.\u001b[0m\u001b[0m_stateless_fn\u001b[0m\u001b[0;34m(\u001b[0m\u001b[0;34m*\u001b[0m\u001b[0margs\u001b[0m\u001b[0;34m,\u001b[0m \u001b[0;34m**\u001b[0m\u001b[0mkwds\u001b[0m\u001b[0;34m)\u001b[0m  \u001b[0;31m# pylint: disable=not-callable\u001b[0m\u001b[0;34m\u001b[0m\u001b[0;34m\u001b[0m\u001b[0m\n\u001b[0m\u001b[1;32m    948\u001b[0m     \u001b[0;32melif\u001b[0m \u001b[0mself\u001b[0m\u001b[0;34m.\u001b[0m\u001b[0m_stateful_fn\u001b[0m \u001b[0;32mis\u001b[0m \u001b[0;32mnot\u001b[0m \u001b[0;32mNone\u001b[0m\u001b[0;34m:\u001b[0m\u001b[0;34m\u001b[0m\u001b[0;34m\u001b[0m\u001b[0m\n\u001b[1;32m    949\u001b[0m       \u001b[0;31m# Release the lock early so that multiple threads can perform the call\u001b[0m\u001b[0;34m\u001b[0m\u001b[0;34m\u001b[0m\u001b[0;34m\u001b[0m\u001b[0m\n",
            "\u001b[0;32m/usr/local/lib/python3.7/dist-packages/tensorflow/python/eager/function.py\u001b[0m in \u001b[0;36m__call__\u001b[0;34m(self, *args, **kwargs)\u001b[0m\n\u001b[1;32m   2955\u001b[0m        filtered_flat_args) = self._maybe_define_function(args, kwargs)\n\u001b[1;32m   2956\u001b[0m     return graph_function._call_flat(\n\u001b[0;32m-> 2957\u001b[0;31m         filtered_flat_args, captured_inputs=graph_function.captured_inputs)  # pylint: disable=protected-access\n\u001b[0m\u001b[1;32m   2958\u001b[0m \u001b[0;34m\u001b[0m\u001b[0m\n\u001b[1;32m   2959\u001b[0m   \u001b[0;34m@\u001b[0m\u001b[0mproperty\u001b[0m\u001b[0;34m\u001b[0m\u001b[0;34m\u001b[0m\u001b[0m\n",
            "\u001b[0;32m/usr/local/lib/python3.7/dist-packages/tensorflow/python/eager/function.py\u001b[0m in \u001b[0;36m_call_flat\u001b[0;34m(self, args, captured_inputs, cancellation_manager)\u001b[0m\n\u001b[1;32m   1852\u001b[0m       \u001b[0;31m# No tape is watching; skip to running the function.\u001b[0m\u001b[0;34m\u001b[0m\u001b[0;34m\u001b[0m\u001b[0;34m\u001b[0m\u001b[0m\n\u001b[1;32m   1853\u001b[0m       return self._build_call_outputs(self._inference_function.call(\n\u001b[0;32m-> 1854\u001b[0;31m           ctx, args, cancellation_manager=cancellation_manager))\n\u001b[0m\u001b[1;32m   1855\u001b[0m     forward_backward = self._select_forward_and_backward_functions(\n\u001b[1;32m   1856\u001b[0m         \u001b[0margs\u001b[0m\u001b[0;34m,\u001b[0m\u001b[0;34m\u001b[0m\u001b[0;34m\u001b[0m\u001b[0m\n",
            "\u001b[0;32m/usr/local/lib/python3.7/dist-packages/tensorflow/python/eager/function.py\u001b[0m in \u001b[0;36mcall\u001b[0;34m(self, ctx, args, cancellation_manager)\u001b[0m\n\u001b[1;32m    502\u001b[0m               \u001b[0minputs\u001b[0m\u001b[0;34m=\u001b[0m\u001b[0margs\u001b[0m\u001b[0;34m,\u001b[0m\u001b[0;34m\u001b[0m\u001b[0;34m\u001b[0m\u001b[0m\n\u001b[1;32m    503\u001b[0m               \u001b[0mattrs\u001b[0m\u001b[0;34m=\u001b[0m\u001b[0mattrs\u001b[0m\u001b[0;34m,\u001b[0m\u001b[0;34m\u001b[0m\u001b[0;34m\u001b[0m\u001b[0m\n\u001b[0;32m--> 504\u001b[0;31m               ctx=ctx)\n\u001b[0m\u001b[1;32m    505\u001b[0m         \u001b[0;32melse\u001b[0m\u001b[0;34m:\u001b[0m\u001b[0;34m\u001b[0m\u001b[0;34m\u001b[0m\u001b[0m\n\u001b[1;32m    506\u001b[0m           outputs = execute.execute_with_cancellation(\n",
            "\u001b[0;32m/usr/local/lib/python3.7/dist-packages/tensorflow/python/eager/execute.py\u001b[0m in \u001b[0;36mquick_execute\u001b[0;34m(op_name, num_outputs, inputs, attrs, ctx, name)\u001b[0m\n\u001b[1;32m     53\u001b[0m     \u001b[0mctx\u001b[0m\u001b[0;34m.\u001b[0m\u001b[0mensure_initialized\u001b[0m\u001b[0;34m(\u001b[0m\u001b[0;34m)\u001b[0m\u001b[0;34m\u001b[0m\u001b[0;34m\u001b[0m\u001b[0m\n\u001b[1;32m     54\u001b[0m     tensors = pywrap_tfe.TFE_Py_Execute(ctx._handle, device_name, op_name,\n\u001b[0;32m---> 55\u001b[0;31m                                         inputs, attrs, num_outputs)\n\u001b[0m\u001b[1;32m     56\u001b[0m   \u001b[0;32mexcept\u001b[0m \u001b[0mcore\u001b[0m\u001b[0;34m.\u001b[0m\u001b[0m_NotOkStatusException\u001b[0m \u001b[0;32mas\u001b[0m \u001b[0me\u001b[0m\u001b[0;34m:\u001b[0m\u001b[0;34m\u001b[0m\u001b[0;34m\u001b[0m\u001b[0m\n\u001b[1;32m     57\u001b[0m     \u001b[0;32mif\u001b[0m \u001b[0mname\u001b[0m \u001b[0;32mis\u001b[0m \u001b[0;32mnot\u001b[0m \u001b[0;32mNone\u001b[0m\u001b[0;34m:\u001b[0m\u001b[0;34m\u001b[0m\u001b[0;34m\u001b[0m\u001b[0m\n",
            "\u001b[0;31mKeyboardInterrupt\u001b[0m: "
          ]
        }
      ]
    },
    {
      "cell_type": "markdown",
      "source": [
        "![image.png](data:image/png;base64,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)"
      ],
      "metadata": {
        "id": "BGE0Oe8VV2FS"
      }
    },
    {
      "cell_type": "code",
      "source": [
        ""
      ],
      "metadata": {
        "id": "BbjX8WbdV3Yb"
      },
      "execution_count": null,
      "outputs": []
    },
    {
      "cell_type": "code",
      "source": [
        ""
      ],
      "metadata": {
        "id": "2URI7vtdRYEY"
      },
      "execution_count": null,
      "outputs": []
    },
    {
      "cell_type": "code",
      "source": [
        ""
      ],
      "metadata": {
        "id": "zQx-fO9hRX_-"
      },
      "execution_count": null,
      "outputs": []
    },
    {
      "cell_type": "markdown",
      "source": [
        "#Dump"
      ],
      "metadata": {
        "id": "K1jGcKBBHfbp"
      }
    },
    {
      "cell_type": "code",
      "source": [
        "#Start with Kmeans to determine optimal clustering patterns\n",
        "k_range = range(2, 10)\n",
        "sil_scores = []\n",
        "inertias = []\n",
        "\n",
        "for k in k_range:\n",
        "  kmeans = KMeans(n_clusters = k)\n",
        "  kmeans.fit(df_scaled)\n",
        "\n",
        "  sil_scores.append(silhouette_score(df_scaled, kmeans.labels_))\n",
        "  inertias.append(kmeans.inertia_)\n",
        "\n",
        "plt.plot(k_range, sil_scores)\n",
        "plt.title('Silhouette Scores')\n",
        "plt.show()\n",
        "\n",
        "plt.plot(k_range, inertias)\n",
        "plt.title('Inertias')\n",
        "plt.show();"
      ],
      "metadata": {
        "id": "Bc7nGQ1f12ms"
      },
      "execution_count": null,
      "outputs": []
    },
    {
      "cell_type": "code",
      "source": [
        "kmeans_final = KMeans(n_clusters = 4)\n",
        "kmeans_final.fit(df_scaled)\n",
        "\n",
        "df['cluster'] = kmeans_final.labels_"
      ],
      "metadata": {
        "id": "8ElZVFtT3jL2"
      },
      "execution_count": null,
      "outputs": []
    },
    {
      "cell_type": "code",
      "source": [
        "clusters_grouped = df.groupby('cluster').mean()\n",
        "clusters_grouped"
      ],
      "metadata": {
        "id": "ihd4qvou3pDy"
      },
      "execution_count": null,
      "outputs": []
    },
    {
      "cell_type": "code",
      "source": [
        "plt.bar(clusters_grouped.index, clusters_grouped['Obligation'])\n",
        "plt.title('How are the Obligations Distributed by Cluster')\n",
        "plt.ylabel('Obligations')\n",
        "plt.xlabel('Cluster')\n",
        "plt.xticks(clusters_grouped.index);"
      ],
      "metadata": {
        "id": "T7gnPtGg30C6"
      },
      "execution_count": null,
      "outputs": []
    },
    {
      "cell_type": "code",
      "source": [
        "plt.bar(clusters_grouped.index, clusters_grouped['ID Agency'])\n",
        "plt.title('How are the Agencies Distributed by Cluster')\n",
        "plt.ylabel('Agencies')\n",
        "plt.xlabel('Cluster')\n",
        "plt.xticks(clusters_grouped.index);"
      ],
      "metadata": {
        "id": "bcQD16mb4b01"
      },
      "execution_count": null,
      "outputs": []
    },
    {
      "cell_type": "code",
      "source": [
        "plt.bar(clusters_grouped.index, clusters_grouped['ID Geography'])\n",
        "plt.title('How are the Agencies Distributed by Cluster')\n",
        "plt.ylabel('Agencies')\n",
        "plt.xlabel('Cluster')\n",
        "plt.xticks(clusters_grouped.index);"
      ],
      "metadata": {
        "id": "-IiDmSM65TWK"
      },
      "execution_count": null,
      "outputs": []
    },
    {
      "cell_type": "code",
      "source": [
        "#Start your model\n",
        "\n",
        "X = df.drop(columns=['Obligation', 'cluster'])\n",
        "y = df['Obligation']\n",
        "\n",
        "X_train, X_test, y_train, y_test = train_test_split(X, y, random_state=42)"
      ],
      "metadata": {
        "id": "9NpwTPNf5eOp"
      },
      "execution_count": null,
      "outputs": []
    },
    {
      "cell_type": "code",
      "source": [
        "#Run PCA for reducing features\n",
        "\n",
        "scaler = StandardScaler()\n",
        "X_train_scaled = scaler.fit_transform(X_train)\n",
        "X_test_scaled = scaler.transform(X_test)\n",
        "\n",
        "pca = PCA()\n",
        "pca.fit(X_train_scaled)\n",
        "\n",
        "plt.plot(range(1, 3), pca.explained_variance_ratio_[:3], marker = '.')\n",
        "plt.xticks(ticks = range(1, 3))\n",
        "plt.xlabel('Principal Component')\n",
        "plt.ylabel('Proportion of Explained Variance')"
      ],
      "metadata": {
        "id": "rdepwF0j5rzN"
      },
      "execution_count": null,
      "outputs": []
    },
    {
      "cell_type": "code",
      "source": [
        "exp_var_pca = pca.explained_variance_ratio_ "
      ],
      "metadata": {
        "id": "V3T2XhwM65Zk"
      },
      "execution_count": null,
      "outputs": []
    },
    {
      "cell_type": "code",
      "source": [
        "exp_var_pca"
      ],
      "metadata": {
        "id": "31AONl8N67d1"
      },
      "execution_count": null,
      "outputs": []
    },
    {
      "cell_type": "code",
      "source": [
        "pca2 = PCA(n_components=2)\n",
        "X_train_pca = pca2.fit_transform(X_train_scaled)\n",
        "X_test_pca = pca2.transform(X_test_scaled)\n"
      ],
      "metadata": {
        "id": "b07TW_aI7TzA"
      },
      "execution_count": null,
      "outputs": []
    },
    {
      "cell_type": "code",
      "source": [
        "# Visualize the first 2 PCs\n",
        "plt.figure(figsize = (8, 4))\n",
        "plt.scatter(X_train_pca[:,0], X_train_pca[:,1])\n",
        "plt.title('Visualization of all of our data using the first two Principal Components')\n",
        "plt.xlabel('PC1')\n",
        "plt.ylabel('PC2');"
      ],
      "metadata": {
        "id": "vJp6ADQu82Bl"
      },
      "execution_count": null,
      "outputs": []
    },
    {
      "cell_type": "code",
      "source": [
        "difference = X_train.shape[1] - X_train_pca.shape[1]\n",
        "\n",
        "print(f'There are {difference} fewer columns after applying PCA')"
      ],
      "metadata": {
        "id": "mmU2XVQ-7bQ4"
      },
      "execution_count": null,
      "outputs": []
    },
    {
      "cell_type": "code",
      "source": [
        "variance = pca2.explained_variance_ratio_.sum()\n",
        "print(f'The pca explains {variance:.2f} percent of the variance of the original data')"
      ],
      "metadata": {
        "id": "bO4zVYEG7cKM"
      },
      "execution_count": null,
      "outputs": []
    },
    {
      "cell_type": "code",
      "source": [
        "# def plot_history(history, metrics=None):\n",
        "#   plt.plot(history.history['loss'], label='training')\n",
        "#   plt.plot(history.history['val_loss'], label='testing')\n",
        "#   plt.title('Loss')\n",
        "#   plt.legend()\n",
        "#   plt.show()\n",
        "#   if metrics:\n",
        "#     for metric in metrics:\n",
        "#       plt.plot(history.history[metric], label=f'training {metric}')\n",
        "#       plt.plot(history.history[f'val_{metric}'], label=f'testing {metric}')\n",
        "#       plt.legend()\n",
        "#       plt.title(metric)\n",
        "#       plt.show()\n",
        "\n",
        "\n",
        "# You can use this function to see how your model improves over time\n",
        "def plot_history(history, metric=None):\n",
        "  \"\"\"plot loss and passed metric.  metric is passed as string and must match 'metric'\n",
        "  argument in the compile step\"\"\"\n",
        "  fig, axes = plt.subplots(2,1, figsize = (5,10))\n",
        "  axes[0].plot(history.history['loss'], label = \"train\")\n",
        "  axes[0].plot(history.history['val_loss'], label='test')\n",
        "  axes[0].set_title('Loss')\n",
        "  axes[0].legend()\n",
        "  if metric:\n",
        "    axes[1].plot(history.history[metric], label = 'train')\n",
        "    axes[1].plot(history.history['val_' + metric], label = 'test')\n",
        "    axes[1].set_title(metric)\n",
        "    axes[1].legend()\n",
        "\n",
        "  plt.show()"
      ],
      "metadata": {
        "id": "RpYT2U0s7o9q"
      },
      "execution_count": null,
      "outputs": []
    },
    {
      "cell_type": "markdown",
      "source": [
        "## Model 1"
      ],
      "metadata": {
        "id": "htjWA2WBBqYF"
      }
    },
    {
      "cell_type": "code",
      "source": [
        "model1 = Sequential()\n",
        "\n",
        "model1.add(Dense(2, input_dim = X_train_pca.shape[1],\n",
        "                activation = 'relu'))\n",
        "model1.add(Dense(1, activation = 'linear'))\n",
        "\n",
        "model1.compile(loss='mse', optimizer='adam', metrics=['acc', 'mse'])"
      ],
      "metadata": {
        "id": "4hyRaWnY7u0J"
      },
      "execution_count": null,
      "outputs": []
    },
    {
      "cell_type": "code",
      "source": [
        "model1.summary()"
      ],
      "metadata": {
        "id": "TbFDNjxL_8rm"
      },
      "execution_count": null,
      "outputs": []
    },
    {
      "cell_type": "code",
      "source": [
        "history = model1.fit(X_train_pca, y_train,\n",
        "                    validation_data=(X_test_pca, y_test),\n",
        "                    epochs=30)"
      ],
      "metadata": {
        "id": "6zL0LJXIAVFw"
      },
      "execution_count": null,
      "outputs": []
    },
    {
      "cell_type": "code",
      "source": [
        "plot_history(history, metric='acc')"
      ],
      "metadata": {
        "id": "QBH40WCCAgEP"
      },
      "execution_count": null,
      "outputs": []
    },
    {
      "cell_type": "markdown",
      "source": [
        "## Model 2"
      ],
      "metadata": {
        "id": "NU1nlSpNbXSh"
      }
    },
    {
      "cell_type": "code",
      "source": [
        "model2 = Sequential()\n",
        "\n",
        "model2.add(Dense(2, input_dim = X_train_pca.shape[1],\n",
        "                activation = 'relu'))\n",
        "\n",
        "model2.add(Dense(10, input_dim = X_train_pca.shape[1],\n",
        "                activation = 'relu'))\n",
        "\n",
        "model2.add(Dense(1, activation = 'linear'))\n",
        "\n",
        "model2.compile(loss='mse', optimizer='adam', metrics=['acc', 'mse'])"
      ],
      "metadata": {
        "id": "P9GAsMGYE5VX"
      },
      "execution_count": null,
      "outputs": []
    },
    {
      "cell_type": "code",
      "source": [
        "model2.summary()"
      ],
      "metadata": {
        "id": "yfZz90T6bRnb"
      },
      "execution_count": null,
      "outputs": []
    },
    {
      "cell_type": "code",
      "source": [
        "history = model2.fit(X_train_pca, y_train,\n",
        "                    validation_data=(X_test_pca, y_test),\n",
        "                    epochs=30)"
      ],
      "metadata": {
        "id": "I5DS8EfYdgDc"
      },
      "execution_count": null,
      "outputs": []
    },
    {
      "cell_type": "code",
      "source": [
        "plot_history(history, metric='acc')"
      ],
      "metadata": {
        "id": "NeKjUzdhdv0X"
      },
      "execution_count": null,
      "outputs": []
    },
    {
      "cell_type": "markdown",
      "source": [
        "I'm going to keep working on this model.  I believe I will need to go back and change focus.  All of the features will have to encoded and run through that way.\n",
        "\n",
        "My hypothesis is as follows:  If I OHE the Geography feature, it'll create far more features to analyze across the model which we need considering how drastically underfit this model presently is.  This should improve the nuance of the model, allow for improved PCA, provide better clustering, and ultimately give improved acuracy to the model.\n",
        "\n",
        "As I've been coding for 36 hours straight now, in order to have everything in to unlock the exam, I am having difficulty maintaining the rate.  I will try and get the revamped model in ASAP, but I am getting concerned that the relentless pursuit of perfection required with the submission of all of these assignments it is also going to adversely impact my performance on the incredibly rigorous exams, which the class just learned is you miss just half a point it demotes you to some form of second class belt.  This setup is not very conducive to success in my opinion."
      ],
      "metadata": {
        "id": "GOdC7ObueDHz"
      }
    }
  ]
}